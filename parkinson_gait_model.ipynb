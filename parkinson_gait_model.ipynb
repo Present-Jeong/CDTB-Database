{
  "nbformat": 4,
  "nbformat_minor": 0,
  "metadata": {
    "colab": {
      "name": "parkinson_gait_model.ipynb",
      "provenance": [],
      "collapsed_sections": []
    },
    "kernelspec": {
      "display_name": "Python 3",
      "name": "python3"
    }
  },
  "cells": [
    {
      "cell_type": "code",
      "metadata": {
        "id": "K3v-WXfa0KFM"
      },
      "source": [
        "import pandas as pd\n",
        "import numpy as np\n",
        "import numpy.linalg as lin\n",
        "import seaborn as sns\n",
        "import matplotlib.pyplot as plt"
      ],
      "execution_count": null,
      "outputs": []
    },
    {
      "cell_type": "code",
      "metadata": {
        "id": "wWdZQWAO0NJI"
      },
      "source": [
        "from sklearn.tree import export_graphviz\n",
        "from six import StringIO\n",
        "from IPython.display import Image  \n",
        "import pydotplus\n",
        "import pickle"
      ],
      "execution_count": null,
      "outputs": []
    },
    {
      "cell_type": "code",
      "metadata": {
        "id": "B7NSPchi0OPC",
        "colab": {
          "base_uri": "https://localhost:8080/"
        },
        "outputId": "93f18195-b849-4a33-c7a1-39cfef15b310"
      },
      "source": [
        "from sklearn.externals.six import StringIO\n",
        "from sklearn.model_selection import GridSearchCV\n",
        "from sklearn import datasets\n",
        "from sklearn.pipeline import Pipeline\n",
        "from sklearn.preprocessing import StandardScaler\n",
        "from sklearn.svm import LinearSVC\n",
        "from sklearn.preprocessing import PolynomialFeatures\n",
        "import matplotlib.pyplot as plt\n",
        "from sklearn.metrics import roc_curve\n",
        "from sklearn.svm import SVC\n",
        "from sklearn.model_selection import train_test_split\n",
        "from sklearn.preprocessing import MinMaxScaler"
      ],
      "execution_count": null,
      "outputs": [
        {
          "output_type": "stream",
          "text": [
            "/usr/local/lib/python3.6/dist-packages/sklearn/externals/six.py:31: FutureWarning: The module is deprecated in version 0.21 and will be removed in version 0.23 since we've dropped support for Python 2.7. Please rely on the official version of six (https://pypi.org/project/six/).\n",
            "  \"(https://pypi.org/project/six/).\", FutureWarning)\n"
          ],
          "name": "stderr"
        }
      ]
    },
    {
      "cell_type": "code",
      "metadata": {
        "id": "lDMB0A3M0RRG",
        "colab": {
          "base_uri": "https://localhost:8080/"
        },
        "outputId": "a31eca99-70e1-4e3f-a0ef-cc3108d86e54"
      },
      "source": [
        "from google.colab import drive\n",
        "drive.mount('/content/drive')"
      ],
      "execution_count": null,
      "outputs": [
        {
          "output_type": "stream",
          "text": [
            "Mounted at /content/drive\n"
          ],
          "name": "stdout"
        }
      ]
    },
    {
      "cell_type": "code",
      "metadata": {
        "id": "wzJe06Gt0Snu"
      },
      "source": [
        "filename = '/content/drive/My Drive/Gait_Data___Arm_swing.csv'\n",
        "data = pd.read_csv(filename)"
      ],
      "execution_count": null,
      "outputs": []
    },
    {
      "cell_type": "code",
      "metadata": {
        "id": "XMqUc9mtEq45",
        "colab": {
          "base_uri": "https://localhost:8080/",
          "height": 439
        },
        "outputId": "c1442faf-b71b-404d-e799-bcf6888c44ae"
      },
      "source": [
        "data"
      ],
      "execution_count": null,
      "outputs": [
        {
          "output_type": "execute_result",
          "data": {
            "text/html": [
              "<div>\n",
              "<style scoped>\n",
              "    .dataframe tbody tr th:only-of-type {\n",
              "        vertical-align: middle;\n",
              "    }\n",
              "\n",
              "    .dataframe tbody tr th {\n",
              "        vertical-align: top;\n",
              "    }\n",
              "\n",
              "    .dataframe thead th {\n",
              "        text-align: right;\n",
              "    }\n",
              "</style>\n",
              "<table border=\"1\" class=\"dataframe\">\n",
              "  <thead>\n",
              "    <tr style=\"text-align: right;\">\n",
              "      <th></th>\n",
              "      <th>PATNO</th>\n",
              "      <th>EVENT_ID</th>\n",
              "      <th>INFODT</th>\n",
              "      <th>COHORT</th>\n",
              "      <th>SP_U</th>\n",
              "      <th>RA_AMP_U</th>\n",
              "      <th>LA_AMP_U</th>\n",
              "      <th>RA_STD_U</th>\n",
              "      <th>LA_STD_U</th>\n",
              "      <th>SYM_U</th>\n",
              "      <th>R_JERK_U</th>\n",
              "      <th>L_JERK_U</th>\n",
              "      <th>ASA_U</th>\n",
              "      <th>ASYM_IND_U</th>\n",
              "      <th>TRA_U</th>\n",
              "      <th>T_AMP_U</th>\n",
              "      <th>CAD_U</th>\n",
              "      <th>STR_T_U</th>\n",
              "      <th>STR_CV_U</th>\n",
              "      <th>STEP_REG_U</th>\n",
              "      <th>STEP_SYM_U</th>\n",
              "      <th>JERK_T_U</th>\n",
              "      <th>SP__DT</th>\n",
              "      <th>RA_AMP_DT</th>\n",
              "      <th>LA_AMP_DT</th>\n",
              "      <th>RA_STD_DT</th>\n",
              "      <th>LA_STD_DT</th>\n",
              "      <th>SYM_DT</th>\n",
              "      <th>R_JERK_DT</th>\n",
              "      <th>L_JERK_DT</th>\n",
              "      <th>ASA_DT</th>\n",
              "      <th>ASYM_IND_DT</th>\n",
              "      <th>TRA_DT</th>\n",
              "      <th>T_AMP_DT</th>\n",
              "      <th>CAD_DT</th>\n",
              "      <th>STR_T_DT</th>\n",
              "      <th>STR_CV_DT</th>\n",
              "      <th>STEP_REG_DT</th>\n",
              "      <th>STEP_SYM_DT</th>\n",
              "      <th>JERK_T_DT</th>\n",
              "      <th>SW_VEL_OP</th>\n",
              "      <th>SW_PATH_OP</th>\n",
              "      <th>SW_FREQ_OP</th>\n",
              "      <th>SW_JERK_OP</th>\n",
              "      <th>SW_VEL_CL</th>\n",
              "      <th>SW_PATH_CL</th>\n",
              "      <th>SW_FREQ_CL</th>\n",
              "      <th>SW_JERK_CL</th>\n",
              "      <th>TUG1_DUR</th>\n",
              "      <th>TUG1_STEP_NUM</th>\n",
              "      <th>TUG1_STRAIGHT_DUR</th>\n",
              "      <th>TUG1_TURNS_DUR</th>\n",
              "      <th>TUG1_STEP_REG</th>\n",
              "      <th>TUG1_STEP_SYM</th>\n",
              "      <th>TUG2_DUR</th>\n",
              "      <th>TUG2_STEP_NUM</th>\n",
              "      <th>TUG2_STRAIGHT_DUR</th>\n",
              "      <th>TUG2_TURNS_DUR</th>\n",
              "      <th>TUG2_STEP_REG</th>\n",
              "      <th>TUG2_STEP_SYM</th>\n",
              "    </tr>\n",
              "  </thead>\n",
              "  <tbody>\n",
              "    <tr>\n",
              "      <th>0</th>\n",
              "      <td>42443</td>\n",
              "      <td>V06</td>\n",
              "      <td>11/2018</td>\n",
              "      <td>1.0</td>\n",
              "      <td>1.445</td>\n",
              "      <td>42.787289</td>\n",
              "      <td>31.405978</td>\n",
              "      <td>2.783204</td>\n",
              "      <td>2.597315</td>\n",
              "      <td>0.369588</td>\n",
              "      <td>0.001618</td>\n",
              "      <td>0.002542</td>\n",
              "      <td>9.754631</td>\n",
              "      <td>15.460948</td>\n",
              "      <td>5.848241</td>\n",
              "      <td>1.515544</td>\n",
              "      <td>121.858032</td>\n",
              "      <td>2.086857</td>\n",
              "      <td>9.695562</td>\n",
              "      <td>0.895523</td>\n",
              "      <td>1.034529</td>\n",
              "      <td>0.308086</td>\n",
              "      <td>1.294</td>\n",
              "      <td>43.400615</td>\n",
              "      <td>28.585174</td>\n",
              "      <td>1.518266</td>\n",
              "      <td>2.730496</td>\n",
              "      <td>0.520676</td>\n",
              "      <td>0.001356</td>\n",
              "      <td>0.002647</td>\n",
              "      <td>12.948480</td>\n",
              "      <td>20.628904</td>\n",
              "      <td>8.854934</td>\n",
              "      <td>3.039683</td>\n",
              "      <td>110.765656</td>\n",
              "      <td>2.282169</td>\n",
              "      <td>9.107048</td>\n",
              "      <td>0.867668</td>\n",
              "      <td>1.128648</td>\n",
              "      <td>0.251367</td>\n",
              "      <td>0.002220</td>\n",
              "      <td>3.362521</td>\n",
              "      <td>0.606840</td>\n",
              "      <td>0.264631</td>\n",
              "      <td>0.001116</td>\n",
              "      <td>4.624927</td>\n",
              "      <td>0.911394</td>\n",
              "      <td>0.517390</td>\n",
              "      <td>10.679688</td>\n",
              "      <td>11.603516</td>\n",
              "      <td>0.554688</td>\n",
              "      <td>1.625000</td>\n",
              "      <td>0.612586</td>\n",
              "      <td>1.421568</td>\n",
              "      <td>10.390625</td>\n",
              "      <td>12.291016</td>\n",
              "      <td>0.546875</td>\n",
              "      <td>1.523438</td>\n",
              "      <td>0.565465</td>\n",
              "      <td>1.056312</td>\n",
              "    </tr>\n",
              "    <tr>\n",
              "      <th>1</th>\n",
              "      <td>42443</td>\n",
              "      <td>V04</td>\n",
              "      <td>11/2017</td>\n",
              "      <td>1.0</td>\n",
              "      <td>1.211</td>\n",
              "      <td>41.744432</td>\n",
              "      <td>42.194299</td>\n",
              "      <td>2.286481</td>\n",
              "      <td>2.235276</td>\n",
              "      <td>0.019062</td>\n",
              "      <td>0.002209</td>\n",
              "      <td>0.003016</td>\n",
              "      <td>0.612344</td>\n",
              "      <td>0.961927</td>\n",
              "      <td>4.495013</td>\n",
              "      <td>1.844470</td>\n",
              "      <td>124.932405</td>\n",
              "      <td>1.108796</td>\n",
              "      <td>18.204324</td>\n",
              "      <td>0.847616</td>\n",
              "      <td>1.096712</td>\n",
              "      <td>0.408350</td>\n",
              "      <td>1.083</td>\n",
              "      <td>40.461258</td>\n",
              "      <td>38.509009</td>\n",
              "      <td>2.889803</td>\n",
              "      <td>1.960981</td>\n",
              "      <td>0.094726</td>\n",
              "      <td>0.001300</td>\n",
              "      <td>0.003064</td>\n",
              "      <td>2.918529</td>\n",
              "      <td>4.589372</td>\n",
              "      <td>9.059862</td>\n",
              "      <td>1.318486</td>\n",
              "      <td>115.166740</td>\n",
              "      <td>2.127298</td>\n",
              "      <td>12.394186</td>\n",
              "      <td>0.821692</td>\n",
              "      <td>1.084477</td>\n",
              "      <td>0.238692</td>\n",
              "      <td>0.000739</td>\n",
              "      <td>3.987392</td>\n",
              "      <td>1.259718</td>\n",
              "      <td>0.352066</td>\n",
              "      <td>0.000491</td>\n",
              "      <td>4.656264</td>\n",
              "      <td>0.998160</td>\n",
              "      <td>0.579636</td>\n",
              "      <td>8.828125</td>\n",
              "      <td>10.854492</td>\n",
              "      <td>0.507812</td>\n",
              "      <td>1.312500</td>\n",
              "      <td>0.605626</td>\n",
              "      <td>1.284985</td>\n",
              "      <td>9.437500</td>\n",
              "      <td>11.674805</td>\n",
              "      <td>0.523438</td>\n",
              "      <td>1.441406</td>\n",
              "      <td>0.744995</td>\n",
              "      <td>1.209420</td>\n",
              "    </tr>\n",
              "    <tr>\n",
              "      <th>2</th>\n",
              "      <td>42438</td>\n",
              "      <td>V06</td>\n",
              "      <td>10/2018</td>\n",
              "      <td>3.0</td>\n",
              "      <td>1.131</td>\n",
              "      <td>30.357805</td>\n",
              "      <td>42.788477</td>\n",
              "      <td>5.422287</td>\n",
              "      <td>5.012269</td>\n",
              "      <td>0.289054</td>\n",
              "      <td>0.002742</td>\n",
              "      <td>0.008316</td>\n",
              "      <td>10.824114</td>\n",
              "      <td>17.230208</td>\n",
              "      <td>12.806257</td>\n",
              "      <td>3.555864</td>\n",
              "      <td>119.239701</td>\n",
              "      <td>1.709821</td>\n",
              "      <td>23.580869</td>\n",
              "      <td>0.171958</td>\n",
              "      <td>0.189310</td>\n",
              "      <td>0.079108</td>\n",
              "      <td>0.975</td>\n",
              "      <td>23.945266</td>\n",
              "      <td>54.069940</td>\n",
              "      <td>5.816408</td>\n",
              "      <td>3.961604</td>\n",
              "      <td>0.557285</td>\n",
              "      <td>0.001436</td>\n",
              "      <td>0.011285</td>\n",
              "      <td>23.498889</td>\n",
              "      <td>38.733138</td>\n",
              "      <td>17.197593</td>\n",
              "      <td>3.945442</td>\n",
              "      <td>108.706783</td>\n",
              "      <td>1.864720</td>\n",
              "      <td>20.781352</td>\n",
              "      <td>0.312550</td>\n",
              "      <td>0.436560</td>\n",
              "      <td>0.044208</td>\n",
              "      <td>0.002073</td>\n",
              "      <td>5.766604</td>\n",
              "      <td>0.921466</td>\n",
              "      <td>0.750949</td>\n",
              "      <td>0.002139</td>\n",
              "      <td>3.730654</td>\n",
              "      <td>0.297881</td>\n",
              "      <td>0.364307</td>\n",
              "      <td>15.398438</td>\n",
              "      <td>17.244141</td>\n",
              "      <td>0.593750</td>\n",
              "      <td>2.152344</td>\n",
              "      <td>0.741461</td>\n",
              "      <td>0.993754</td>\n",
              "      <td>13.781250</td>\n",
              "      <td>16.245117</td>\n",
              "      <td>0.554688</td>\n",
              "      <td>2.363281</td>\n",
              "      <td>0.713150</td>\n",
              "      <td>1.002639</td>\n",
              "    </tr>\n",
              "    <tr>\n",
              "      <th>3</th>\n",
              "      <td>42426</td>\n",
              "      <td>V06</td>\n",
              "      <td>12/2018</td>\n",
              "      <td>1.0</td>\n",
              "      <td>1.395</td>\n",
              "      <td>47.294965</td>\n",
              "      <td>34.610918</td>\n",
              "      <td>7.725009</td>\n",
              "      <td>7.838284</td>\n",
              "      <td>0.375873</td>\n",
              "      <td>0.003395</td>\n",
              "      <td>0.005928</td>\n",
              "      <td>9.854201</td>\n",
              "      <td>15.628248</td>\n",
              "      <td>12.864062</td>\n",
              "      <td>2.271845</td>\n",
              "      <td>115.152744</td>\n",
              "      <td>1.363281</td>\n",
              "      <td>17.422974</td>\n",
              "      <td>0.396836</td>\n",
              "      <td>0.455293</td>\n",
              "      <td>0.840399</td>\n",
              "      <td>1.374</td>\n",
              "      <td>50.526484</td>\n",
              "      <td>29.078187</td>\n",
              "      <td>9.154144</td>\n",
              "      <td>6.479747</td>\n",
              "      <td>0.796708</td>\n",
              "      <td>0.003321</td>\n",
              "      <td>0.004698</td>\n",
              "      <td>17.021137</td>\n",
              "      <td>27.560064</td>\n",
              "      <td>18.252199</td>\n",
              "      <td>2.924957</td>\n",
              "      <td>113.181701</td>\n",
              "      <td>2.063368</td>\n",
              "      <td>13.869136</td>\n",
              "      <td>0.796439</td>\n",
              "      <td>1.021863</td>\n",
              "      <td>0.753483</td>\n",
              "      <td>0.003168</td>\n",
              "      <td>3.488662</td>\n",
              "      <td>0.613927</td>\n",
              "      <td>0.268209</td>\n",
              "      <td>0.002861</td>\n",
              "      <td>2.600912</td>\n",
              "      <td>0.591471</td>\n",
              "      <td>0.151052</td>\n",
              "      <td>10.109375</td>\n",
              "      <td>10.029297</td>\n",
              "      <td>0.632812</td>\n",
              "      <td>1.804688</td>\n",
              "      <td>0.575304</td>\n",
              "      <td>1.137755</td>\n",
              "      <td>8.820312</td>\n",
              "      <td>8.132812</td>\n",
              "      <td>0.593750</td>\n",
              "      <td>1.500000</td>\n",
              "      <td>0.548270</td>\n",
              "      <td>3.290938</td>\n",
              "    </tr>\n",
              "    <tr>\n",
              "      <th>4</th>\n",
              "      <td>42426</td>\n",
              "      <td>BL</td>\n",
              "      <td>11/2016</td>\n",
              "      <td>1.0</td>\n",
              "      <td>0.982</td>\n",
              "      <td>51.516231</td>\n",
              "      <td>30.989870</td>\n",
              "      <td>7.412588</td>\n",
              "      <td>4.762775</td>\n",
              "      <td>0.672047</td>\n",
              "      <td>0.049690</td>\n",
              "      <td>0.059845</td>\n",
              "      <td>15.409553</td>\n",
              "      <td>24.756537</td>\n",
              "      <td>13.894265</td>\n",
              "      <td>5.489931</td>\n",
              "      <td>120.418284</td>\n",
              "      <td>1.167643</td>\n",
              "      <td>13.878575</td>\n",
              "      <td>0.506572</td>\n",
              "      <td>7.210779</td>\n",
              "      <td>0.759367</td>\n",
              "      <td>NaN</td>\n",
              "      <td>44.424253</td>\n",
              "      <td>29.342744</td>\n",
              "      <td>4.503914</td>\n",
              "      <td>4.267904</td>\n",
              "      <td>0.511943</td>\n",
              "      <td>0.028710</td>\n",
              "      <td>0.037304</td>\n",
              "      <td>12.664787</td>\n",
              "      <td>20.189786</td>\n",
              "      <td>17.450813</td>\n",
              "      <td>3.405127</td>\n",
              "      <td>104.749273</td>\n",
              "      <td>1.552649</td>\n",
              "      <td>18.687840</td>\n",
              "      <td>0.773912</td>\n",
              "      <td>1.215303</td>\n",
              "      <td>0.487108</td>\n",
              "      <td>0.001950</td>\n",
              "      <td>3.381051</td>\n",
              "      <td>0.610830</td>\n",
              "      <td>0.257746</td>\n",
              "      <td>0.002441</td>\n",
              "      <td>3.565628</td>\n",
              "      <td>0.669272</td>\n",
              "      <td>0.282145</td>\n",
              "      <td>8.875000</td>\n",
              "      <td>7.782227</td>\n",
              "      <td>0.632812</td>\n",
              "      <td>1.710938</td>\n",
              "      <td>0.509044</td>\n",
              "      <td>1.909214</td>\n",
              "      <td>8.609375</td>\n",
              "      <td>7.441406</td>\n",
              "      <td>0.640625</td>\n",
              "      <td>1.449219</td>\n",
              "      <td>0.667530</td>\n",
              "      <td>1.035053</td>\n",
              "    </tr>\n",
              "    <tr>\n",
              "      <th>...</th>\n",
              "      <td>...</td>\n",
              "      <td>...</td>\n",
              "      <td>...</td>\n",
              "      <td>...</td>\n",
              "      <td>...</td>\n",
              "      <td>...</td>\n",
              "      <td>...</td>\n",
              "      <td>...</td>\n",
              "      <td>...</td>\n",
              "      <td>...</td>\n",
              "      <td>...</td>\n",
              "      <td>...</td>\n",
              "      <td>...</td>\n",
              "      <td>...</td>\n",
              "      <td>...</td>\n",
              "      <td>...</td>\n",
              "      <td>...</td>\n",
              "      <td>...</td>\n",
              "      <td>...</td>\n",
              "      <td>...</td>\n",
              "      <td>...</td>\n",
              "      <td>...</td>\n",
              "      <td>...</td>\n",
              "      <td>...</td>\n",
              "      <td>...</td>\n",
              "      <td>...</td>\n",
              "      <td>...</td>\n",
              "      <td>...</td>\n",
              "      <td>...</td>\n",
              "      <td>...</td>\n",
              "      <td>...</td>\n",
              "      <td>...</td>\n",
              "      <td>...</td>\n",
              "      <td>...</td>\n",
              "      <td>...</td>\n",
              "      <td>...</td>\n",
              "      <td>...</td>\n",
              "      <td>...</td>\n",
              "      <td>...</td>\n",
              "      <td>...</td>\n",
              "      <td>...</td>\n",
              "      <td>...</td>\n",
              "      <td>...</td>\n",
              "      <td>...</td>\n",
              "      <td>...</td>\n",
              "      <td>...</td>\n",
              "      <td>...</td>\n",
              "      <td>...</td>\n",
              "      <td>...</td>\n",
              "      <td>...</td>\n",
              "      <td>...</td>\n",
              "      <td>...</td>\n",
              "      <td>...</td>\n",
              "      <td>...</td>\n",
              "      <td>...</td>\n",
              "      <td>...</td>\n",
              "      <td>...</td>\n",
              "      <td>...</td>\n",
              "      <td>...</td>\n",
              "      <td>...</td>\n",
              "    </tr>\n",
              "    <tr>\n",
              "      <th>188</th>\n",
              "      <td>60046</td>\n",
              "      <td>V12</td>\n",
              "      <td>05/2019</td>\n",
              "      <td>NaN</td>\n",
              "      <td>NaN</td>\n",
              "      <td>23.160092</td>\n",
              "      <td>27.543798</td>\n",
              "      <td>3.630631</td>\n",
              "      <td>3.522706</td>\n",
              "      <td>0.158126</td>\n",
              "      <td>0.024499</td>\n",
              "      <td>0.020238</td>\n",
              "      <td>5.585177</td>\n",
              "      <td>8.818220</td>\n",
              "      <td>5.807278</td>\n",
              "      <td>3.115074</td>\n",
              "      <td>109.882244</td>\n",
              "      <td>1.037598</td>\n",
              "      <td>1.037638</td>\n",
              "      <td>0.720560</td>\n",
              "      <td>0.766814</td>\n",
              "      <td>0.315659</td>\n",
              "      <td>NaN</td>\n",
              "      <td>13.969031</td>\n",
              "      <td>26.566523</td>\n",
              "      <td>5.298619</td>\n",
              "      <td>11.184046</td>\n",
              "      <td>0.441246</td>\n",
              "      <td>0.023170</td>\n",
              "      <td>0.022440</td>\n",
              "      <td>18.009327</td>\n",
              "      <td>29.496778</td>\n",
              "      <td>5.279186</td>\n",
              "      <td>3.769693</td>\n",
              "      <td>60.853459</td>\n",
              "      <td>1.171875</td>\n",
              "      <td>2.207358</td>\n",
              "      <td>0.646497</td>\n",
              "      <td>0.732742</td>\n",
              "      <td>0.214303</td>\n",
              "      <td>0.000406</td>\n",
              "      <td>2.679020</td>\n",
              "      <td>1.624821</td>\n",
              "      <td>0.160248</td>\n",
              "      <td>0.000479</td>\n",
              "      <td>3.796451</td>\n",
              "      <td>1.324485</td>\n",
              "      <td>0.345953</td>\n",
              "      <td>NaN</td>\n",
              "      <td>NaN</td>\n",
              "      <td>NaN</td>\n",
              "      <td>NaN</td>\n",
              "      <td>NaN</td>\n",
              "      <td>NaN</td>\n",
              "      <td>NaN</td>\n",
              "      <td>NaN</td>\n",
              "      <td>NaN</td>\n",
              "      <td>NaN</td>\n",
              "      <td>NaN</td>\n",
              "      <td>NaN</td>\n",
              "    </tr>\n",
              "    <tr>\n",
              "      <th>189</th>\n",
              "      <td>60057</td>\n",
              "      <td>V12</td>\n",
              "      <td>04/2019</td>\n",
              "      <td>NaN</td>\n",
              "      <td>NaN</td>\n",
              "      <td>29.782323</td>\n",
              "      <td>41.685751</td>\n",
              "      <td>9.155024</td>\n",
              "      <td>18.263038</td>\n",
              "      <td>0.811041</td>\n",
              "      <td>0.045715</td>\n",
              "      <td>0.098497</td>\n",
              "      <td>23.302793</td>\n",
              "      <td>39.168202</td>\n",
              "      <td>11.757230</td>\n",
              "      <td>6.751536</td>\n",
              "      <td>108.546419</td>\n",
              "      <td>2.120864</td>\n",
              "      <td>6.585785</td>\n",
              "      <td>0.820903</td>\n",
              "      <td>1.034726</td>\n",
              "      <td>0.309254</td>\n",
              "      <td>NaN</td>\n",
              "      <td>28.071737</td>\n",
              "      <td>53.900010</td>\n",
              "      <td>10.078923</td>\n",
              "      <td>8.635690</td>\n",
              "      <td>0.452272</td>\n",
              "      <td>0.047260</td>\n",
              "      <td>0.039858</td>\n",
              "      <td>19.239942</td>\n",
              "      <td>32.594631</td>\n",
              "      <td>12.652039</td>\n",
              "      <td>7.595296</td>\n",
              "      <td>107.476242</td>\n",
              "      <td>2.367188</td>\n",
              "      <td>4.538918</td>\n",
              "      <td>0.742530</td>\n",
              "      <td>0.995714</td>\n",
              "      <td>0.377547</td>\n",
              "      <td>0.002078</td>\n",
              "      <td>2.481412</td>\n",
              "      <td>0.585513</td>\n",
              "      <td>0.141116</td>\n",
              "      <td>0.001625</td>\n",
              "      <td>3.594133</td>\n",
              "      <td>0.976321</td>\n",
              "      <td>0.442248</td>\n",
              "      <td>10.500000</td>\n",
              "      <td>10.800781</td>\n",
              "      <td>0.601562</td>\n",
              "      <td>1.753906</td>\n",
              "      <td>0.641498</td>\n",
              "      <td>1.551368</td>\n",
              "      <td>9.789062</td>\n",
              "      <td>9.356445</td>\n",
              "      <td>0.585938</td>\n",
              "      <td>1.714844</td>\n",
              "      <td>0.638727</td>\n",
              "      <td>1.743030</td>\n",
              "    </tr>\n",
              "    <tr>\n",
              "      <th>190</th>\n",
              "      <td>60059</td>\n",
              "      <td>V12</td>\n",
              "      <td>05/2019</td>\n",
              "      <td>NaN</td>\n",
              "      <td>NaN</td>\n",
              "      <td>31.132878</td>\n",
              "      <td>33.728352</td>\n",
              "      <td>8.217441</td>\n",
              "      <td>3.558946</td>\n",
              "      <td>0.172383</td>\n",
              "      <td>0.046673</td>\n",
              "      <td>0.054011</td>\n",
              "      <td>5.789644</td>\n",
              "      <td>9.127906</td>\n",
              "      <td>17.451330</td>\n",
              "      <td>3.658255</td>\n",
              "      <td>121.667335</td>\n",
              "      <td>2.082813</td>\n",
              "      <td>1.694162</td>\n",
              "      <td>0.876329</td>\n",
              "      <td>1.053013</td>\n",
              "      <td>0.207036</td>\n",
              "      <td>NaN</td>\n",
              "      <td>23.005847</td>\n",
              "      <td>35.734374</td>\n",
              "      <td>5.080076</td>\n",
              "      <td>4.321613</td>\n",
              "      <td>0.357400</td>\n",
              "      <td>0.086437</td>\n",
              "      <td>0.098425</td>\n",
              "      <td>14.394802</td>\n",
              "      <td>23.539101</td>\n",
              "      <td>17.386432</td>\n",
              "      <td>3.465533</td>\n",
              "      <td>109.828316</td>\n",
              "      <td>2.232813</td>\n",
              "      <td>2.793531</td>\n",
              "      <td>0.789729</td>\n",
              "      <td>1.038360</td>\n",
              "      <td>0.212083</td>\n",
              "      <td>0.002530</td>\n",
              "      <td>4.623540</td>\n",
              "      <td>0.921666</td>\n",
              "      <td>0.480641</td>\n",
              "      <td>0.001598</td>\n",
              "      <td>5.730030</td>\n",
              "      <td>1.102432</td>\n",
              "      <td>0.830651</td>\n",
              "      <td>10.507812</td>\n",
              "      <td>10.664062</td>\n",
              "      <td>0.554688</td>\n",
              "      <td>2.171875</td>\n",
              "      <td>0.384698</td>\n",
              "      <td>1.049300</td>\n",
              "      <td>11.156250</td>\n",
              "      <td>10.600586</td>\n",
              "      <td>0.570312</td>\n",
              "      <td>1.917969</td>\n",
              "      <td>0.532902</td>\n",
              "      <td>1.168936</td>\n",
              "    </tr>\n",
              "    <tr>\n",
              "      <th>191</th>\n",
              "      <td>60060</td>\n",
              "      <td>V12</td>\n",
              "      <td>04/2019</td>\n",
              "      <td>NaN</td>\n",
              "      <td>NaN</td>\n",
              "      <td>16.501651</td>\n",
              "      <td>10.129571</td>\n",
              "      <td>2.696206</td>\n",
              "      <td>3.546745</td>\n",
              "      <td>0.723158</td>\n",
              "      <td>0.011081</td>\n",
              "      <td>0.006234</td>\n",
              "      <td>15.107436</td>\n",
              "      <td>24.518797</td>\n",
              "      <td>7.778901</td>\n",
              "      <td>4.440381</td>\n",
              "      <td>102.445750</td>\n",
              "      <td>2.222656</td>\n",
              "      <td>3.978491</td>\n",
              "      <td>0.868111</td>\n",
              "      <td>1.123785</td>\n",
              "      <td>0.098999</td>\n",
              "      <td>NaN</td>\n",
              "      <td>13.242126</td>\n",
              "      <td>5.786485</td>\n",
              "      <td>6.580923</td>\n",
              "      <td>2.641924</td>\n",
              "      <td>1.261494</td>\n",
              "      <td>0.140487</td>\n",
              "      <td>0.033387</td>\n",
              "      <td>21.812817</td>\n",
              "      <td>36.163853</td>\n",
              "      <td>7.409116</td>\n",
              "      <td>4.258296</td>\n",
              "      <td>97.077425</td>\n",
              "      <td>2.468750</td>\n",
              "      <td>2.696666</td>\n",
              "      <td>0.786619</td>\n",
              "      <td>1.170548</td>\n",
              "      <td>0.074830</td>\n",
              "      <td>0.002802</td>\n",
              "      <td>2.567144</td>\n",
              "      <td>0.475090</td>\n",
              "      <td>0.157511</td>\n",
              "      <td>0.000884</td>\n",
              "      <td>3.125612</td>\n",
              "      <td>0.944073</td>\n",
              "      <td>0.247873</td>\n",
              "      <td>NaN</td>\n",
              "      <td>NaN</td>\n",
              "      <td>NaN</td>\n",
              "      <td>NaN</td>\n",
              "      <td>NaN</td>\n",
              "      <td>NaN</td>\n",
              "      <td>NaN</td>\n",
              "      <td>NaN</td>\n",
              "      <td>NaN</td>\n",
              "      <td>NaN</td>\n",
              "      <td>NaN</td>\n",
              "      <td>NaN</td>\n",
              "    </tr>\n",
              "    <tr>\n",
              "      <th>192</th>\n",
              "      <td>40599</td>\n",
              "      <td>NaN</td>\n",
              "      <td>05/2019</td>\n",
              "      <td>NaN</td>\n",
              "      <td>1.600</td>\n",
              "      <td>76.991455</td>\n",
              "      <td>58.787344</td>\n",
              "      <td>8.665352</td>\n",
              "      <td>5.274961</td>\n",
              "      <td>0.309867</td>\n",
              "      <td>0.117540</td>\n",
              "      <td>0.070026</td>\n",
              "      <td>8.477615</td>\n",
              "      <td>13.397817</td>\n",
              "      <td>23.408373</td>\n",
              "      <td>8.549572</td>\n",
              "      <td>121.441657</td>\n",
              "      <td>1.138822</td>\n",
              "      <td>13.057111</td>\n",
              "      <td>0.305170</td>\n",
              "      <td>2.511896</td>\n",
              "      <td>2.011805</td>\n",
              "      <td>1.600</td>\n",
              "      <td>92.618817</td>\n",
              "      <td>79.056692</td>\n",
              "      <td>7.535239</td>\n",
              "      <td>4.728962</td>\n",
              "      <td>0.171902</td>\n",
              "      <td>0.990198</td>\n",
              "      <td>0.152284</td>\n",
              "      <td>5.023478</td>\n",
              "      <td>7.907788</td>\n",
              "      <td>3.216299</td>\n",
              "      <td>80.825493</td>\n",
              "      <td>120.968065</td>\n",
              "      <td>1.818257</td>\n",
              "      <td>11.760752</td>\n",
              "      <td>0.831765</td>\n",
              "      <td>1.054092</td>\n",
              "      <td>3.216031</td>\n",
              "      <td>0.001807</td>\n",
              "      <td>7.073713</td>\n",
              "      <td>0.793115</td>\n",
              "      <td>1.120560</td>\n",
              "      <td>0.001173</td>\n",
              "      <td>8.912589</td>\n",
              "      <td>1.487297</td>\n",
              "      <td>1.779316</td>\n",
              "      <td>8.726562</td>\n",
              "      <td>7.875000</td>\n",
              "      <td>0.546875</td>\n",
              "      <td>1.480469</td>\n",
              "      <td>0.536527</td>\n",
              "      <td>1.078863</td>\n",
              "      <td>7.664062</td>\n",
              "      <td>5.800781</td>\n",
              "      <td>0.554688</td>\n",
              "      <td>1.324219</td>\n",
              "      <td>0.392847</td>\n",
              "      <td>1.067558</td>\n",
              "    </tr>\n",
              "  </tbody>\n",
              "</table>\n",
              "<p>193 rows × 60 columns</p>\n",
              "</div>"
            ],
            "text/plain": [
              "     PATNO EVENT_ID   INFODT  ...  TUG2_TURNS_DUR  TUG2_STEP_REG  TUG2_STEP_SYM\n",
              "0    42443      V06  11/2018  ...        1.523438       0.565465       1.056312\n",
              "1    42443      V04  11/2017  ...        1.441406       0.744995       1.209420\n",
              "2    42438      V06  10/2018  ...        2.363281       0.713150       1.002639\n",
              "3    42426      V06  12/2018  ...        1.500000       0.548270       3.290938\n",
              "4    42426       BL  11/2016  ...        1.449219       0.667530       1.035053\n",
              "..     ...      ...      ...  ...             ...            ...            ...\n",
              "188  60046      V12  05/2019  ...             NaN            NaN            NaN\n",
              "189  60057      V12  04/2019  ...        1.714844       0.638727       1.743030\n",
              "190  60059      V12  05/2019  ...        1.917969       0.532902       1.168936\n",
              "191  60060      V12  04/2019  ...             NaN            NaN            NaN\n",
              "192  40599      NaN  05/2019  ...        1.324219       0.392847       1.067558\n",
              "\n",
              "[193 rows x 60 columns]"
            ]
          },
          "metadata": {
            "tags": []
          },
          "execution_count": 6
        }
      ]
    },
    {
      "cell_type": "code",
      "metadata": {
        "id": "1wX_QgQF0XSE"
      },
      "source": [
        "data = data.drop(['PATNO','EVENT_ID','INFODT'],axis = 1)"
      ],
      "execution_count": null,
      "outputs": []
    },
    {
      "cell_type": "code",
      "metadata": {
        "id": "HerBWMvl0Yu6"
      },
      "source": [
        "data = data.drop(['SW_PATH_CL','STEP_REG_U','TUG1_STEP_NUM','TRA_U','STEP_SYM_U','R_JERK_DT'],axis = 1)"
      ],
      "execution_count": null,
      "outputs": []
    },
    {
      "cell_type": "markdown",
      "metadata": {
        "id": "gSVwbM9D5EVP"
      },
      "source": [
        "# label값이 nan인거 제거"
      ]
    },
    {
      "cell_type": "code",
      "metadata": {
        "id": "ibmqSDBl5Hmk"
      },
      "source": [
        "data = data.dropna(subset=['COHORT'])"
      ],
      "execution_count": null,
      "outputs": []
    },
    {
      "cell_type": "markdown",
      "metadata": {
        "id": "3EluyU301MJa"
      },
      "source": [
        "# 결측치값 미리 제거"
      ]
    },
    {
      "cell_type": "code",
      "metadata": {
        "id": "oXI6-_rr1HNF"
      },
      "source": [
        "data_drop_first = data.dropna(how='any') # 55 NaN data"
      ],
      "execution_count": null,
      "outputs": []
    },
    {
      "cell_type": "code",
      "metadata": {
        "id": "hGMoyJkR8a2E"
      },
      "source": [
        "data_feature = data_drop_first.drop(['COHORT'],axis=1)\n",
        "data_label = data_drop_first['COHORT']"
      ],
      "execution_count": null,
      "outputs": []
    },
    {
      "cell_type": "code",
      "metadata": {
        "id": "E_OX5BhF-Lfi"
      },
      "source": [
        "data_label_1 = np.asarray(data_label)\n",
        "data_label = pd.DataFrame(data=data_label_1)"
      ],
      "execution_count": null,
      "outputs": []
    },
    {
      "cell_type": "code",
      "metadata": {
        "id": "vgHZYcYb8ewP"
      },
      "source": [
        "from sklearn.preprocessing import StandardScaler\n",
        "scaler = StandardScaler()\n",
        "scaler.fit(data_feature)\n",
        "data_scaled_drop_first = scaler.transform(data_feature)\n",
        "data_scaled_drop_first = pd.DataFrame(data = data_scaled_drop_first, columns = data_feature.columns)"
      ],
      "execution_count": null,
      "outputs": []
    },
    {
      "cell_type": "code",
      "metadata": {
        "id": "nIlk2Z9T9ud1"
      },
      "source": [
        "data_drop_first = pd.concat([data_label, data_scaled_drop_first],axis=1)"
      ],
      "execution_count": null,
      "outputs": []
    },
    {
      "cell_type": "code",
      "metadata": {
        "id": "nREOOdV72KPS"
      },
      "source": [
        "data_drop_first.rename(columns={0:\"COHORT\"}, inplace=True)"
      ],
      "execution_count": null,
      "outputs": []
    },
    {
      "cell_type": "markdown",
      "metadata": {
        "id": "OX71YHIy1XHE"
      },
      "source": [
        "# 결측치값 나중 제거\n"
      ]
    },
    {
      "cell_type": "code",
      "metadata": {
        "id": "rDcs4IgD1aWY"
      },
      "source": [
        "def get_outlier(df = None, column = None, weight = 1.5):\n",
        "  fraud = df[df['COHORT']==1][column]\n",
        "  quantile_25 = np.percentile(fraud.values, 25)\n",
        "  quantile_75 = np.percentile(fraud.values, 75)\n",
        "\n",
        "  iqr = quantile_75 - quantile_25\n",
        "  iqr_weight = iqr * weight\n",
        "  lowest_val = quantile_25 - iqr_weight\n",
        "  highest_val = quantile_75 + iqr_weight\n",
        "\n",
        "  outlier_index = fraud[(fraud < lowest_val) | (fraud > highest_val)].index\n",
        "  return outlier_index"
      ],
      "execution_count": null,
      "outputs": []
    },
    {
      "cell_type": "code",
      "metadata": {
        "id": "2yzFzKfW1dA4"
      },
      "source": [
        "columns = list(data)\n",
        "for i in range(1, len(columns) ,1):\n",
        "  outlier_index = get_outlier(df = data, column = columns[i], weight=1.5)\n",
        "  for j in range(1,len(outlier_index)+1, 1):\n",
        "    data = data.replace(data[columns[i]][outlier_index[j-1]],np.NaN)"
      ],
      "execution_count": null,
      "outputs": []
    },
    {
      "cell_type": "code",
      "metadata": {
        "id": "SEVpdhMo1eqd"
      },
      "source": [
        "from sklearn.impute import SimpleImputer\n",
        "\n",
        "imputer = SimpleImputer(strategy = \"median\")\n",
        "imputer.fit(data)\n",
        "imputer_num = imputer.transform(data)\n",
        "data = pd.DataFrame(imputer_num, columns = data.columns)"
      ],
      "execution_count": null,
      "outputs": []
    },
    {
      "cell_type": "code",
      "metadata": {
        "id": "hEqboAX_1ps1"
      },
      "source": [
        "imputer.fit(data)\n",
        "imputer_num2 = imputer.transform(data)\n",
        "data = pd.DataFrame(imputer_num2, columns = data.columns)"
      ],
      "execution_count": null,
      "outputs": []
    },
    {
      "cell_type": "code",
      "metadata": {
        "id": "bi9Tvmbv1rga"
      },
      "source": [
        "data = data.astype({'COHORT':'category'}) #나중에"
      ],
      "execution_count": null,
      "outputs": []
    },
    {
      "cell_type": "code",
      "metadata": {
        "id": "h1chi7ll6xXi"
      },
      "source": [
        "data_feature = data.drop(['COHORT'],axis=1)\n",
        "data_label = data['COHORT']"
      ],
      "execution_count": null,
      "outputs": []
    },
    {
      "cell_type": "code",
      "metadata": {
        "id": "h9d5iYun1wfY"
      },
      "source": [
        "from sklearn.preprocessing import StandardScaler\n",
        "scaler = StandardScaler()\n",
        "scaler.fit(data_feature)\n",
        "data_scaled = scaler.transform(data_feature)\n",
        "data_scaled = pd.DataFrame(data = data_scaled, columns = data_feature.columns)\n",
        "data = pd.concat([data_label, data_scaled],axis=1)"
      ],
      "execution_count": null,
      "outputs": []
    },
    {
      "cell_type": "markdown",
      "metadata": {
        "id": "OXenllN7AUW2"
      },
      "source": [
        "# 모델 훈련 및 테스트"
      ]
    },
    {
      "cell_type": "code",
      "metadata": {
        "id": "dQJRPYL8AcRY"
      },
      "source": [
        "y_drop_first = data_drop_first[['COHORT']]\n",
        "x_drop_first = data_drop_first.drop(columns=['COHORT'])\n",
        "y = data[['COHORT']]\n",
        "x = data.drop(columns=['COHORT'])"
      ],
      "execution_count": null,
      "outputs": []
    },
    {
      "cell_type": "code",
      "metadata": {
        "id": "e8zXno0dAXLE"
      },
      "source": [
        "from sklearn.model_selection import train_test_split\n",
        "\n",
        "x_drop_first_train, x_drop_first_test, y_drop_first_train, y_drop_first_test = train_test_split(x_drop_first,y_drop_first, test_size = 0.1, random_state = 33)\n",
        "x_train, x_test, y_train, y_test = train_test_split(x,y, test_size = 0.1, random_state = 33)"
      ],
      "execution_count": null,
      "outputs": []
    },
    {
      "cell_type": "markdown",
      "metadata": {
        "id": "_j16eOCCBBeA"
      },
      "source": [
        "# 결정트리 - data_drop_first"
      ]
    },
    {
      "cell_type": "code",
      "metadata": {
        "id": "imVD29kdA8Lz"
      },
      "source": [
        "from sklearn.tree import DecisionTreeClassifier\n",
        "from sklearn.model_selection import cross_val_score, cross_validate\n",
        "from sklearn.model_selection import GridSearchCV"
      ],
      "execution_count": null,
      "outputs": []
    },
    {
      "cell_type": "code",
      "metadata": {
        "id": "tSQfpoq_BDZF"
      },
      "source": [
        "#Find the most accurate value of k of max_depth\n",
        "def max_depth(k):\n",
        "  score = 0\n",
        "  scroe_k = 0\n",
        "  k_value = 0\n",
        "  for i in range(1,k+1,1):\n",
        "    globals()['max_depth_classifier_{}'.format(i+1)] = DecisionTreeClassifier(max_depth=i)\n",
        "    globals()['max_depth_classifier_{}'.format(i+1)].fit(x_train, y_train)\n",
        "    score_k = globals()['max_depth_classifier_{}'.format(i+1)].score(x_test, y_test)\n",
        "    if score_k >= score:\n",
        "      score = score_k\n",
        "      k_value = i\n",
        "  return k_value\n",
        "best_max_depth = max_depth(100)"
      ],
      "execution_count": null,
      "outputs": []
    },
    {
      "cell_type": "code",
      "metadata": {
        "id": "C8ORffGoBIJj"
      },
      "source": [
        "#Find the most accurate value of k in max_leaf_nodes\n",
        "def max_leaf_nodes(k):\n",
        "  score = 0\n",
        "  scroe_k = 0\n",
        "  k_value = 0\n",
        "  for i in range(2,k+1,1):\n",
        "    globals()['max_leaf_classifier_{}'.format(i+1)] = DecisionTreeClassifier(max_leaf_nodes=i)\n",
        "    globals()['max_leaf_classifier_{}'.format(i+1)].fit(x_train, y_train)\n",
        "    score_k = globals()['max_depth_classifier_{}'.format(i+1)].score(x_test, y_test)\n",
        "    if score_k >= score:\n",
        "      score = score_k\n",
        "      k_value = i\n",
        "  return k_value\n",
        "best_max_leaf_nodes = max_leaf_nodes(100)"
      ],
      "execution_count": null,
      "outputs": []
    },
    {
      "cell_type": "code",
      "metadata": {
        "id": "xUlWrjvFBKR_"
      },
      "source": [
        "#Find the most accurate value of k in min_samples_split\n",
        "def min_samples_split(k):\n",
        "  score = 0\n",
        "  scroe_k = 0\n",
        "  k_value = 0\n",
        "  for i in range(2,k+1,1):\n",
        "    globals()['min_samples_split_classifier_{}'.format(i+1)] = DecisionTreeClassifier(min_samples_split=i)\n",
        "    globals()['min_samples_split_classifier_{}'.format(i+1)].fit(x_train, y_train)\n",
        "    score_k = globals()['min_samples_split_classifier_{}'.format(i+1)].score(x_test, y_test)\n",
        "    if score_k >= score:\n",
        "      score = score_k\n",
        "      k_value = i\n",
        "  return k_value\n",
        "best_min_samples_split = min_samples_split(1000)"
      ],
      "execution_count": null,
      "outputs": []
    },
    {
      "cell_type": "code",
      "metadata": {
        "id": "S-3wIXeuBLs3"
      },
      "source": [
        "#Find the most accurate value of k in min_impurity_decrease\n",
        "def min_impurity_decrease(k):\n",
        "  score = 0\n",
        "  scroe_k = 0\n",
        "  k_value = 0\n",
        "  for i in np.arange(0,k,0.001):\n",
        "    globals()['min_impurity_decrease_classifier_{}'.format(i+1)] = DecisionTreeClassifier(min_impurity_decrease=i)\n",
        "    globals()['min_impurity_decrease_classifier_{}'.format(i+1)].fit(x_train, y_train)\n",
        "    score_k = globals()['min_impurity_decrease_classifier_{}'.format(i+1)].score(x_test, y_test)\n",
        "    if score_k >= score:\n",
        "      score = score_k\n",
        "      k_value = i\n",
        "  return k_value\n",
        "best_min_impurity_decrease = min_impurity_decrease(1)"
      ],
      "execution_count": null,
      "outputs": []
    },
    {
      "cell_type": "code",
      "metadata": {
        "id": "EUVE-DN_BNBw"
      },
      "source": [
        "#Find the most accurate value of k in min_samples_leaf\n",
        "def min_samples_leaf(k):\n",
        "  score = 0\n",
        "  scroe_k = 0\n",
        "  k_value = 0\n",
        "  for i in range(2,k+1,1):\n",
        "    globals()['min_samples_leaf_classifier_{}'.format(i+1)] = DecisionTreeClassifier(min_samples_leaf=i)\n",
        "    globals()['min_samples_leaf_classifier_{}'.format(i+1)].fit(x_train, y_train)\n",
        "    score_k = globals()['min_samples_leaf_classifier_{}'.format(i+1)].score(x_test, y_test)\n",
        "    if score_k >= score:\n",
        "      score = score_k\n",
        "      k_value = i\n",
        "  return k_value\n",
        "best_min_samples_leaf = min_samples_leaf(1000)"
      ],
      "execution_count": null,
      "outputs": []
    },
    {
      "cell_type": "code",
      "metadata": {
        "id": "U6LPgF0DBOgB"
      },
      "source": [
        "def best_decision_model(x, y, x_test, y_test, best_max_depth, best_max_leaf_nodes, best_min_samples_split, best_min_impurity_decrease, best_min_samples_leaf):\n",
        "  score = np.zeros(5)\n",
        "  max = 0\n",
        "  max_score_model = 0\n",
        "  classifier_0 = DecisionTreeClassifier(max_depth = best_max_depth)\n",
        "  classifier_0.fit(x_train, y_train)\n",
        "  score[0] = np.mean(cross_val_score(classifier_0, x, y, scoring = 'accuracy', cv = 10))\n",
        "  classifier_1 = DecisionTreeClassifier(max_leaf_nodes = best_max_leaf_nodes)\n",
        "  classifier_1.fit(x_train, y_train)\n",
        "  score[1] = np.mean(cross_val_score(classifier_1, x, y, scoring = 'accuracy', cv = 10))\n",
        "  classifier_2 = DecisionTreeClassifier(min_samples_split = best_min_samples_split)\n",
        "  classifier_2.fit(x_train, y_train)\n",
        "  score[2] = np.mean(cross_val_score(classifier_2, x, y, scoring = 'accuracy', cv = 10))\n",
        "  classifier_3 = DecisionTreeClassifier(min_impurity_decrease = best_min_impurity_decrease)\n",
        "  classifier_3.fit(x_train, y_train)\n",
        "  score[3] = np.mean(cross_val_score(classifier_3, x, y, scoring = 'accuracy', cv = 10))\n",
        "  classifier_4 = DecisionTreeClassifier(min_samples_leaf = best_min_samples_leaf)\n",
        "  classifier_4.fit(x_train, y_train)\n",
        "  score[4] = np.mean(cross_val_score(classifier_4, x, y, scoring = 'accuracy', cv = 10))\n",
        "  for i in range(0,4,1):\n",
        "    if max <= score[i]:\n",
        "      max = score[i]\n",
        "      max_score_model = i\n",
        "  if max_score_model == 0:\n",
        "    return classifier_0\n",
        "  if max_score_model == 1:\n",
        "    return classifier_1\n",
        "  if max_score_model == 2:\n",
        "    return classifier_2\n",
        "  if max_score_model == 3:\n",
        "    return classifier_3\n",
        "  if max_score_model == 4:\n",
        "    return classifier_4"
      ],
      "execution_count": null,
      "outputs": []
    },
    {
      "cell_type": "code",
      "metadata": {
        "id": "huGnN3ocBepd",
        "colab": {
          "base_uri": "https://localhost:8080/"
        },
        "outputId": "7cc7ebda-152e-4735-aec4-e4ce88cd903c"
      },
      "source": [
        "drop_first_dt = best_decision_model(x_drop_first, y_drop_first, x_drop_first_test, y_drop_first_test, best_max_depth, best_max_leaf_nodes, best_min_samples_split, best_min_impurity_decrease, best_min_samples_leaf)\n",
        "drop_first_dt"
      ],
      "execution_count": null,
      "outputs": [
        {
          "output_type": "execute_result",
          "data": {
            "text/plain": [
              "DecisionTreeClassifier(ccp_alpha=0.0, class_weight=None, criterion='gini',\n",
              "                       max_depth=None, max_features=None, max_leaf_nodes=3,\n",
              "                       min_impurity_decrease=0.0, min_impurity_split=None,\n",
              "                       min_samples_leaf=1, min_samples_split=2,\n",
              "                       min_weight_fraction_leaf=0.0, presort='deprecated',\n",
              "                       random_state=None, splitter='best')"
            ]
          },
          "metadata": {
            "tags": []
          },
          "execution_count": 30
        }
      ]
    },
    {
      "cell_type": "code",
      "metadata": {
        "colab": {
          "base_uri": "https://localhost:8080/"
        },
        "id": "Dj3TH7nXRUIp",
        "outputId": "639eaabd-bb5a-4d63-fbc6-64b35518d503"
      },
      "source": [
        "drop_first_dt = DecisionTreeClassifier(max_leaf_nodes = 9)\n",
        "drop_first_dt.fit(x_train, y_train)"
      ],
      "execution_count": null,
      "outputs": [
        {
          "output_type": "execute_result",
          "data": {
            "text/plain": [
              "DecisionTreeClassifier(ccp_alpha=0.0, class_weight=None, criterion='gini',\n",
              "                       max_depth=None, max_features=None, max_leaf_nodes=9,\n",
              "                       min_impurity_decrease=0.0, min_impurity_split=None,\n",
              "                       min_samples_leaf=1, min_samples_split=2,\n",
              "                       min_weight_fraction_leaf=0.0, presort='deprecated',\n",
              "                       random_state=None, splitter='best')"
            ]
          },
          "metadata": {
            "tags": []
          },
          "execution_count": 31
        }
      ]
    },
    {
      "cell_type": "code",
      "metadata": {
        "colab": {
          "base_uri": "https://localhost:8080/"
        },
        "id": "F8r19Tl4B4JG",
        "outputId": "8cf1dd5a-ad09-4110-90e1-6fe92e5d5d53"
      },
      "source": [
        "drop_first_dt_score = cross_val_score(drop_first_dt,x_drop_first,y_drop_first, cv=10)\n",
        "drop_first_dt_score = drop_first_dt_score.mean()\n",
        "drop_first_dt_score"
      ],
      "execution_count": null,
      "outputs": [
        {
          "output_type": "execute_result",
          "data": {
            "text/plain": [
              "0.7525641025641027"
            ]
          },
          "metadata": {
            "tags": []
          },
          "execution_count": 32
        }
      ]
    },
    {
      "cell_type": "code",
      "metadata": {
        "colab": {
          "base_uri": "https://localhost:8080/",
          "height": 376
        },
        "id": "KX1_8xDv3zvm",
        "outputId": "5d447c86-76f0-4a25-8af5-45113c34d485"
      },
      "source": [
        "# 아래 코드는 classifier 결정트리를 시각화한다.\n",
        "from sklearn.tree import export_graphviz\n",
        "from sklearn.externals.six import StringIO\n",
        "from IPython.display import Image  \n",
        "import pydotplus\n",
        "\n",
        "dot_data = StringIO()\n",
        "export_graphviz(drop_first_dt, feature_names=x_drop_first_train.columns, out_file=dot_data)\n",
        "graph = pydotplus.graph_from_dot_data(dot_data.getvalue())\n",
        "graph.write_png('/tree.png')\n",
        "Image(graph.create_png())"
      ],
      "execution_count": null,
      "outputs": [
        {
          "output_type": "execute_result",
          "data": {
            "image/png": "[encoded data removed]",
            "text/plain": [
              "<IPython.core.display.Image object>"
            ]
          },
          "metadata": {
            "tags": []
          },
          "execution_count": 56
        }
      ]
    },
    {
      "cell_type": "code",
      "metadata": {
        "id": "0hl686-xbNLu"
      },
      "source": [
        "y_pred = drop_first_dt.predict(x_drop_first_test)\n",
        "y_prob = drop_first_dt.predict_proba(x_drop_first_test)[:,1]"
      ],
      "execution_count": null,
      "outputs": []
    },
    {
      "cell_type": "code",
      "metadata": {
        "colab": {
          "base_uri": "https://localhost:8080/"
        },
        "id": "jN_Zsy-XbaWI",
        "outputId": "f576294d-2350-402d-e51f-33c1c6870b3f"
      },
      "source": [
        "from sklearn.metrics import classification_report\n",
        "print(classification_report(y_drop_first_test, y_pred))"
      ],
      "execution_count": null,
      "outputs": [
        {
          "output_type": "stream",
          "text": [
            "              precision    recall  f1-score   support\n",
            "\n",
            "         1.0       0.50      0.83      0.62         6\n",
            "         3.0       0.67      0.29      0.40         7\n",
            "\n",
            "    accuracy                           0.54        13\n",
            "   macro avg       0.58      0.56      0.51        13\n",
            "weighted avg       0.59      0.54      0.50        13\n",
            "\n"
          ],
          "name": "stdout"
        }
      ]
    },
    {
      "cell_type": "code",
      "metadata": {
        "colab": {
          "base_uri": "https://localhost:8080/",
          "height": 297
        },
        "id": "inbQzmr5fMUo",
        "outputId": "b0b6b0f0-cc38-45e9-ba99-958a3a7111a3"
      },
      "source": [
        "# TODO: confusion matrix를 시각화\n",
        "from sklearn.metrics import plot_confusion_matrix\n",
        "\n",
        "plot_confusion_matrix(drop_first_dt, x_drop_first_test, y_drop_first_test, normalize = 'all')"
      ],
      "execution_count": null,
      "outputs": [
        {
          "output_type": "execute_result",
          "data": {
            "text/plain": [
              "<sklearn.metrics._plot.confusion_matrix.ConfusionMatrixDisplay at 0x7f463408f208>"
            ]
          },
          "metadata": {
            "tags": []
          },
          "execution_count": 35
        },
        {
          "output_type": "display_data",
          "data": {
            "image/png": "[encoded data removed]",
            "text/plain": [
              "<Figure size 432x288 with 2 Axes>"
            ]
          },
          "metadata": {
            "tags": [],
            "needs_background": "light"
          }
        }
      ]
    },
    {
      "cell_type": "code",
      "metadata": {
        "colab": {
          "base_uri": "https://localhost:8080/",
          "height": 297
        },
        "id": "XrZSkZlbeZaV",
        "outputId": "2857c4f8-17a5-4c03-8e07-fa1b2d336901"
      },
      "source": [
        "# TODO: precision_recall curve를 시각화\n",
        "from sklearn.metrics import plot_precision_recall_curve\n",
        "\n",
        "plot_precision_recall_curve(drop_first_dt, x_drop_first_test, y_drop_first_test)"
      ],
      "execution_count": null,
      "outputs": [
        {
          "output_type": "execute_result",
          "data": {
            "text/plain": [
              "<sklearn.metrics._plot.precision_recall_curve.PrecisionRecallDisplay at 0x7f4633e27cc0>"
            ]
          },
          "metadata": {
            "tags": []
          },
          "execution_count": 36
        },
        {
          "output_type": "display_data",
          "data": {
            "image/png": "[encoded data removed]",
            "text/plain": [
              "<Figure size 432x288 with 1 Axes>"
            ]
          },
          "metadata": {
            "tags": [],
            "needs_background": "light"
          }
        }
      ]
    },
    {
      "cell_type": "code",
      "metadata": {
        "colab": {
          "base_uri": "https://localhost:8080/"
        },
        "id": "g50uOXg0d-Y9",
        "outputId": "3b0aaa95-dab7-45cf-b193-a65e14b675ce"
      },
      "source": [
        "from sklearn.metrics import roc_auc_score\n",
        "\n",
        "drop_first_dt_auc = roc_auc_score(y_drop_first_test, y_prob)\n",
        "print(drop_first_dt_auc)"
      ],
      "execution_count": null,
      "outputs": [
        {
          "output_type": "stream",
          "text": [
            "0.7023809523809524\n"
          ],
          "name": "stdout"
        }
      ]
    },
    {
      "cell_type": "markdown",
      "metadata": {
        "id": "Iyvh36rFC0XP"
      },
      "source": [
        "# 결정트리 - data"
      ]
    },
    {
      "cell_type": "code",
      "metadata": {
        "id": "s1Jpl1IpCOdK",
        "colab": {
          "base_uri": "https://localhost:8080/"
        },
        "outputId": "02363711-0043-4a4d-caef-1d4fb97ed152"
      },
      "source": [
        "data_dt = best_decision_model(x, y, x_test, y_test, best_max_depth, best_max_leaf_nodes, best_min_samples_split, best_min_impurity_decrease, best_min_samples_leaf)\n",
        "data_dt"
      ],
      "execution_count": null,
      "outputs": [
        {
          "output_type": "execute_result",
          "data": {
            "text/plain": [
              "DecisionTreeClassifier(ccp_alpha=0.0, class_weight=None, criterion='gini',\n",
              "                       max_depth=3, max_features=None, max_leaf_nodes=None,\n",
              "                       min_impurity_decrease=0.0, min_impurity_split=None,\n",
              "                       min_samples_leaf=1, min_samples_split=2,\n",
              "                       min_weight_fraction_leaf=0.0, presort='deprecated',\n",
              "                       random_state=None, splitter='best')"
            ]
          },
          "metadata": {
            "tags": []
          },
          "execution_count": 363
        }
      ]
    },
    {
      "cell_type": "code",
      "metadata": {
        "colab": {
          "base_uri": "https://localhost:8080/"
        },
        "id": "R7pzelaFC7NM",
        "outputId": "b0c7a761-8a31-4c86-e6e5-13cc490b1f43"
      },
      "source": [
        "data_dt_score = cross_val_score(data_dt,x,y, cv=10)\n",
        "data_dt_score = data_dt_score.mean()\n",
        "data_dt_score"
      ],
      "execution_count": null,
      "outputs": [
        {
          "output_type": "execute_result",
          "data": {
            "text/plain": [
              "0.7238970588235294"
            ]
          },
          "metadata": {
            "tags": []
          },
          "execution_count": 364
        }
      ]
    },
    {
      "cell_type": "code",
      "metadata": {
        "colab": {
          "base_uri": "https://localhost:8080/"
        },
        "id": "PUuEkrIy4A8F",
        "outputId": "d1788b19-6fe0-470b-a62d-74746c4c0706"
      },
      "source": [
        "# 아래 코드는 classifier 결정트리를 시각화한다.\n",
        "from sklearn.tree import export_graphviz\n",
        "from sklearn.externals.six import StringIO\n",
        "from IPython.display import Image  \n",
        "import pydotplus\n",
        "\n",
        "dot_data = StringIO()\n",
        "export_graphviz(data_dt, feature_names=x_train.columns, out_file=dot_data)\n",
        "graph = pydotplus.graph_from_dot_data(dot_data.getvalue())\n",
        "graph.write_png('/tree.png')\n",
        "Image(graph.create_png())"
      ],
      "execution_count": null,
      "outputs": [
        {
          "output_type": "execute_result",
          "data": {
            "image/png": "[encoded data removed]",
            "text/plain": [
              "<IPython.core.display.Image object>"
            ]
          },
          "metadata": {
            "tags": []
          },
          "execution_count": 41
        }
      ]
    },
    {
      "cell_type": "code",
      "metadata": {
        "id": "i49ooZDKbEn4"
      },
      "source": [
        "y_pred = data_dt.predict(x_test)\n",
        "y_prob = data_dt.predict_proba(x_test)[:,1]"
      ],
      "execution_count": null,
      "outputs": []
    },
    {
      "cell_type": "code",
      "metadata": {
        "colab": {
          "base_uri": "https://localhost:8080/"
        },
        "id": "Qn7EeQ4Nbe5T",
        "outputId": "4b5649f4-745e-4031-bbf1-93882ce637df"
      },
      "source": [
        "print(classification_report(y_test, y_pred))"
      ],
      "execution_count": null,
      "outputs": [
        {
          "output_type": "stream",
          "text": [
            "              precision    recall  f1-score   support\n",
            "\n",
            "         1.0       0.83      0.71      0.77         7\n",
            "         3.0       0.82      0.90      0.86        10\n",
            "\n",
            "    accuracy                           0.82        17\n",
            "   macro avg       0.83      0.81      0.81        17\n",
            "weighted avg       0.82      0.82      0.82        17\n",
            "\n"
          ],
          "name": "stdout"
        }
      ]
    },
    {
      "cell_type": "code",
      "metadata": {
        "colab": {
          "base_uri": "https://localhost:8080/"
        },
        "id": "yq1itPxcfjvj",
        "outputId": "7d478f98-0580-4397-d9da-52ed1b2618cd"
      },
      "source": [
        "# TODO: confusion matrix를 시각화한다.\n",
        "from sklearn.metrics import plot_confusion_matrix\n",
        "\n",
        "plot_confusion_matrix(data_dt, x_test, y_test, normalize = 'all')"
      ],
      "execution_count": null,
      "outputs": [
        {
          "output_type": "execute_result",
          "data": {
            "text/plain": [
              "<sklearn.metrics._plot.confusion_matrix.ConfusionMatrixDisplay at 0x7f60699e1f98>"
            ]
          },
          "metadata": {
            "tags": []
          },
          "execution_count": 44
        },
        {
          "output_type": "display_data",
          "data": {
            "image/png": "[encoded data removed]",
            "text/plain": [
              "<Figure size 432x288 with 2 Axes>"
            ]
          },
          "metadata": {
            "tags": [],
            "needs_background": "light"
          }
        }
      ]
    },
    {
      "cell_type": "code",
      "metadata": {
        "colab": {
          "base_uri": "https://localhost:8080/"
        },
        "id": "oMF3VO5vfwIx",
        "outputId": "8e1a805e-5756-4492-b24a-9412ea8ce21e"
      },
      "source": [
        "# TODO: precision_recall curve를 시각화한다.\n",
        "from sklearn.metrics import plot_precision_recall_curve\n",
        "\n",
        "plot_precision_recall_curve(data_dt, x_test, y_test)"
      ],
      "execution_count": null,
      "outputs": [
        {
          "output_type": "execute_result",
          "data": {
            "text/plain": [
              "<sklearn.metrics._plot.precision_recall_curve.PrecisionRecallDisplay at 0x7f60699d86a0>"
            ]
          },
          "metadata": {
            "tags": []
          },
          "execution_count": 45
        },
        {
          "output_type": "display_data",
          "data": {
            "image/png": "[encoded data removed]",
            "text/plain": [
              "<Figure size 432x288 with 1 Axes>"
            ]
          },
          "metadata": {
            "tags": [],
            "needs_background": "light"
          }
        }
      ]
    },
    {
      "cell_type": "code",
      "metadata": {
        "colab": {
          "base_uri": "https://localhost:8080/"
        },
        "id": "Or5YQdPQf1Zx",
        "outputId": "cabd1b80-57d9-4ac5-f0b4-29eaf891de3f"
      },
      "source": [
        "from sklearn.metrics import roc_auc_score\n",
        "\n",
        "data_dt_auc = roc_auc_score(y_test, y_prob)\n",
        "data_dt_auc\n",
        "print(data_dt_auc)"
      ],
      "execution_count": null,
      "outputs": [
        {
          "output_type": "stream",
          "text": [
            "0.7910714285742871\n"
          ],
          "name": "stdout"
        }
      ]
    },
    {
      "cell_type": "markdown",
      "metadata": {
        "id": "6oUYus0LXVc_"
      },
      "source": [
        "# randomforest - data_drop_first"
      ]
    },
    {
      "cell_type": "code",
      "metadata": {
        "id": "SzaWwszdXar2"
      },
      "source": [
        "from sklearn.metrics import accuracy_score\n",
        "from sklearn.ensemble import RandomForestClassifier\n",
        "from sklearn.metrics import accuracy_score\n",
        "from sklearn.metrics import classification_report"
      ],
      "execution_count": null,
      "outputs": []
    },
    {
      "cell_type": "code",
      "metadata": {
        "id": "9_31EupKXkNC"
      },
      "source": [
        "rfc =  RandomForestClassifier()\n",
        "rf_param_grid = {\n",
        "    'n_estimators' :[5,10,50,100,200],\n",
        "    'max_depth' : [3,4,5,6,8,10],\n",
        "    'min_samples_leaf' : [3,4,5,6,7,8,10],\n",
        "    'min_samples_split' : [5,6,7,8,9,10]\n",
        "}"
      ],
      "execution_count": null,
      "outputs": []
    },
    {
      "cell_type": "code",
      "metadata": {
        "colab": {
          "base_uri": "https://localhost:8080/"
        },
        "id": "QAagP6cRXlQd",
        "outputId": "58dedb83-22d7-4d93-a2f4-1160b35b494a"
      },
      "source": [
        "rf_grid =GridSearchCV(rfc, param_grid = rf_param_grid,scoring='roc_auc',n_jobs = -1, verbose=1)\n",
        "rf_grid.fit(x_drop_first_train, y_drop_first_train)"
      ],
      "execution_count": null,
      "outputs": [
        {
          "output_type": "stream",
          "text": [
            "Fitting 5 folds for each of 1260 candidates, totalling 6300 fits\n"
          ],
          "name": "stdout"
        },
        {
          "output_type": "stream",
          "text": [
            "[Parallel(n_jobs=-1)]: Using backend LokyBackend with 2 concurrent workers.\n",
            "[Parallel(n_jobs=-1)]: Done  46 tasks      | elapsed:    5.4s\n",
            "[Parallel(n_jobs=-1)]: Done 304 tasks      | elapsed:   30.7s\n",
            "[Parallel(n_jobs=-1)]: Done 804 tasks      | elapsed:  1.3min\n",
            "[Parallel(n_jobs=-1)]: Done 1504 tasks      | elapsed:  2.5min\n",
            "[Parallel(n_jobs=-1)]: Done 2404 tasks      | elapsed:  4.0min\n",
            "[Parallel(n_jobs=-1)]: Done 3504 tasks      | elapsed:  5.7min\n",
            "[Parallel(n_jobs=-1)]: Done 4804 tasks      | elapsed:  7.8min\n",
            "[Parallel(n_jobs=-1)]: Done 6300 out of 6300 | elapsed: 10.2min finished\n",
            "/usr/local/lib/python3.6/dist-packages/sklearn/model_selection/_search.py:739: DataConversionWarning: A column-vector y was passed when a 1d array was expected. Please change the shape of y to (n_samples,), for example using ravel().\n",
            "  self.best_estimator_.fit(X, y, **fit_params)\n"
          ],
          "name": "stderr"
        },
        {
          "output_type": "execute_result",
          "data": {
            "text/plain": [
              "GridSearchCV(cv=None, error_score=nan,\n",
              "             estimator=RandomForestClassifier(bootstrap=True, ccp_alpha=0.0,\n",
              "                                              class_weight=None,\n",
              "                                              criterion='gini', max_depth=None,\n",
              "                                              max_features='auto',\n",
              "                                              max_leaf_nodes=None,\n",
              "                                              max_samples=None,\n",
              "                                              min_impurity_decrease=0.0,\n",
              "                                              min_impurity_split=None,\n",
              "                                              min_samples_leaf=1,\n",
              "                                              min_samples_split=2,\n",
              "                                              min_weight_fraction_leaf=0.0,\n",
              "                                              n_estimators=100, n_jobs=None,\n",
              "                                              oob_score=False,\n",
              "                                              random_state=None, verbose=0,\n",
              "                                              warm_start=False),\n",
              "             iid='deprecated', n_jobs=-1,\n",
              "             param_grid={'max_depth': [3, 4, 5, 6, 8, 10],\n",
              "                         'min_samples_leaf': [3, 4, 5, 6, 7, 8, 10],\n",
              "                         'min_samples_split': [5, 6, 7, 8, 9, 10],\n",
              "                         'n_estimators': [5, 10, 50, 100, 200]},\n",
              "             pre_dispatch='2*n_jobs', refit=True, return_train_score=False,\n",
              "             scoring='roc_auc', verbose=1)"
            ]
          },
          "metadata": {
            "tags": []
          },
          "execution_count": 320
        }
      ]
    },
    {
      "cell_type": "code",
      "metadata": {
        "colab": {
          "base_uri": "https://localhost:8080/"
        },
        "id": "ejE_V8yuXmY2",
        "outputId": "dd835a30-8885-4ff3-ad5b-bee416d6d9cd"
      },
      "source": [
        "best_param = rf_grid.best_params_\n",
        "best_param"
      ],
      "execution_count": null,
      "outputs": [
        {
          "output_type": "execute_result",
          "data": {
            "text/plain": [
              "{'max_depth': 3,\n",
              " 'min_samples_leaf': 3,\n",
              " 'min_samples_split': 9,\n",
              " 'n_estimators': 100}"
            ]
          },
          "metadata": {
            "tags": []
          },
          "execution_count": 321
        }
      ]
    },
    {
      "cell_type": "code",
      "metadata": {
        "colab": {
          "base_uri": "https://localhost:8080/"
        },
        "id": "sYykixKeXnu1",
        "outputId": "a4fd8593-ebce-4679-e7a1-f3634d0ead06"
      },
      "source": [
        "rfc_drop_first = RandomForestClassifier(max_depth= 3,\n",
        " min_samples_leaf= 3,\n",
        " min_samples_split= 9,\n",
        " n_estimators= 100,\n",
        " random_state = 42)\n",
        "rfc_drop_first.fit(x_drop_first_train, y_drop_first_train)\n",
        "prediction = rfc_drop_first.predict(x_drop_first_test)\n",
        "rfc_drop_first_score = cross_val_score(rfc_drop_first,x_drop_first_train,y_drop_first_train, cv=5)"
      ],
      "execution_count": null,
      "outputs": [
        {
          "output_type": "stream",
          "text": [
            "/usr/local/lib/python3.6/dist-packages/ipykernel_launcher.py:6: DataConversionWarning: A column-vector y was passed when a 1d array was expected. Please change the shape of y to (n_samples,), for example using ravel().\n",
            "  \n",
            "/usr/local/lib/python3.6/dist-packages/sklearn/model_selection/_validation.py:515: DataConversionWarning: A column-vector y was passed when a 1d array was expected. Please change the shape of y to (n_samples,), for example using ravel().\n",
            "  estimator.fit(X_train, y_train, **fit_params)\n",
            "/usr/local/lib/python3.6/dist-packages/sklearn/model_selection/_validation.py:515: DataConversionWarning: A column-vector y was passed when a 1d array was expected. Please change the shape of y to (n_samples,), for example using ravel().\n",
            "  estimator.fit(X_train, y_train, **fit_params)\n",
            "/usr/local/lib/python3.6/dist-packages/sklearn/model_selection/_validation.py:515: DataConversionWarning: A column-vector y was passed when a 1d array was expected. Please change the shape of y to (n_samples,), for example using ravel().\n",
            "  estimator.fit(X_train, y_train, **fit_params)\n",
            "/usr/local/lib/python3.6/dist-packages/sklearn/model_selection/_validation.py:515: DataConversionWarning: A column-vector y was passed when a 1d array was expected. Please change the shape of y to (n_samples,), for example using ravel().\n",
            "  estimator.fit(X_train, y_train, **fit_params)\n",
            "/usr/local/lib/python3.6/dist-packages/sklearn/model_selection/_validation.py:515: DataConversionWarning: A column-vector y was passed when a 1d array was expected. Please change the shape of y to (n_samples,), for example using ravel().\n",
            "  estimator.fit(X_train, y_train, **fit_params)\n"
          ],
          "name": "stderr"
        }
      ]
    },
    {
      "cell_type": "code",
      "metadata": {
        "colab": {
          "base_uri": "https://localhost:8080/"
        },
        "id": "x2hQPc_QXov0",
        "outputId": "94b1a8b4-a0fd-4450-c41f-4bf742f0eead"
      },
      "source": [
        "drop_first_rfc_score = rfc_drop_first_score.mean()\n",
        "drop_first_rfc_score"
      ],
      "execution_count": null,
      "outputs": [
        {
          "output_type": "execute_result",
          "data": {
            "text/plain": [
              "0.7584980237154151"
            ]
          },
          "metadata": {
            "tags": []
          },
          "execution_count": 39
        }
      ]
    },
    {
      "cell_type": "code",
      "metadata": {
        "id": "DTyJnopCf7Pp"
      },
      "source": [
        "y_pred = rfc_drop_first.predict(x_drop_first_test)\n",
        "y_prob = rfc_drop_first.predict_proba(x_drop_first_test)[:,1]"
      ],
      "execution_count": null,
      "outputs": []
    },
    {
      "cell_type": "code",
      "metadata": {
        "colab": {
          "base_uri": "https://localhost:8080/"
        },
        "id": "pfAJYn_6gB6j",
        "outputId": "d3749c40-ac77-4ae7-a681-f961fbc90fde"
      },
      "source": [
        "print(classification_report(y_drop_first_test, y_pred))"
      ],
      "execution_count": null,
      "outputs": [
        {
          "output_type": "stream",
          "text": [
            "              precision    recall  f1-score   support\n",
            "\n",
            "         1.0       0.57      0.67      0.62         6\n",
            "         3.0       0.67      0.57      0.62         7\n",
            "\n",
            "    accuracy                           0.62        13\n",
            "   macro avg       0.62      0.62      0.62        13\n",
            "weighted avg       0.62      0.62      0.62        13\n",
            "\n"
          ],
          "name": "stdout"
        }
      ]
    },
    {
      "cell_type": "code",
      "metadata": {
        "colab": {
          "base_uri": "https://localhost:8080/",
          "height": 297
        },
        "id": "y4RsJv7fgE7f",
        "outputId": "51c6ed2f-c8d7-4f23-f5c7-ed30a5ec7e95"
      },
      "source": [
        "# TODO: confusion matrix를 시각화\n",
        "from sklearn.metrics import plot_confusion_matrix\n",
        "\n",
        "plot_confusion_matrix(rfc_drop_first, x_drop_first_test, y_drop_first_test, normalize = 'all')"
      ],
      "execution_count": null,
      "outputs": [
        {
          "output_type": "execute_result",
          "data": {
            "text/plain": [
              "<sklearn.metrics._plot.confusion_matrix.ConfusionMatrixDisplay at 0x7f46338f15c0>"
            ]
          },
          "metadata": {
            "tags": []
          },
          "execution_count": 41
        },
        {
          "output_type": "display_data",
          "data": {
            "image/png": "[encoded data removed]",
            "text/plain": [
              "<Figure size 432x288 with 2 Axes>"
            ]
          },
          "metadata": {
            "tags": [],
            "needs_background": "light"
          }
        }
      ]
    },
    {
      "cell_type": "code",
      "metadata": {
        "colab": {
          "base_uri": "https://localhost:8080/",
          "height": 297
        },
        "id": "phuYHpi1gKI7",
        "outputId": "696d4a8d-fea4-4d96-cf90-60b25bafc41e"
      },
      "source": [
        "# TODO: precision_recall curve를 시각화\n",
        "from sklearn.metrics import plot_precision_recall_curve\n",
        "\n",
        "plot_precision_recall_curve(rfc_drop_first, x_drop_first_test, y_drop_first_test)"
      ],
      "execution_count": null,
      "outputs": [
        {
          "output_type": "execute_result",
          "data": {
            "text/plain": [
              "<sklearn.metrics._plot.precision_recall_curve.PrecisionRecallDisplay at 0x7f46338f1630>"
            ]
          },
          "metadata": {
            "tags": []
          },
          "execution_count": 42
        },
        {
          "output_type": "display_data",
          "data": {
            "image/png": "[encoded data removed]",
            "text/plain": [
              "<Figure size 432x288 with 1 Axes>"
            ]
          },
          "metadata": {
            "tags": [],
            "needs_background": "light"
          }
        }
      ]
    },
    {
      "cell_type": "code",
      "metadata": {
        "colab": {
          "base_uri": "https://localhost:8080/"
        },
        "id": "LJK4EIPWgOwA",
        "outputId": "586060c6-9ef3-4753-c59c-13935ba1cb82"
      },
      "source": [
        "from sklearn.metrics import roc_auc_score\n",
        "\n",
        "drop_first_rfc_auc = roc_auc_score(y_drop_first_test, y_prob)\n",
        "print(drop_first_rfc_auc)"
      ],
      "execution_count": null,
      "outputs": [
        {
          "output_type": "stream",
          "text": [
            "0.7142857142857143\n"
          ],
          "name": "stdout"
        }
      ]
    },
    {
      "cell_type": "markdown",
      "metadata": {
        "id": "OckRPG5Ao0A4"
      },
      "source": [
        "# randomforest - data"
      ]
    },
    {
      "cell_type": "code",
      "metadata": {
        "id": "cvKd0-1ao3Nq"
      },
      "source": [
        "rfc =  RandomForestClassifier()\n",
        "rf_param_grid = {\n",
        "    'n_estimators' :[1,5,10,50,100],\n",
        "    'max_depth' : [3,4,5,6,8,10,12],\n",
        "    'min_samples_leaf' : [3,4,5,6,7,8,10],\n",
        "    'min_samples_split' : [3,5,6,7,8,9,10]\n",
        "}"
      ],
      "execution_count": null,
      "outputs": []
    },
    {
      "cell_type": "code",
      "metadata": {
        "colab": {
          "base_uri": "https://localhost:8080/"
        },
        "id": "pAUIDc9_o728",
        "outputId": "0c5dba36-42a2-4578-b7a7-99f5aea080e6"
      },
      "source": [
        "rf_grid =GridSearchCV(rfc, param_grid = rf_param_grid,scoring='accuracy',n_jobs = -1, verbose=1)\n",
        "rf_grid.fit(x_train, y_train)"
      ],
      "execution_count": null,
      "outputs": [
        {
          "output_type": "stream",
          "text": [
            "Fitting 5 folds for each of 1715 candidates, totalling 8575 fits\n"
          ],
          "name": "stdout"
        },
        {
          "output_type": "stream",
          "text": [
            "[Parallel(n_jobs=-1)]: Using backend LokyBackend with 2 concurrent workers.\n",
            "[Parallel(n_jobs=-1)]: Done  76 tasks      | elapsed:    4.4s\n",
            "[Parallel(n_jobs=-1)]: Done 376 tasks      | elapsed:   17.6s\n",
            "[Parallel(n_jobs=-1)]: Done 876 tasks      | elapsed:   40.3s\n",
            "[Parallel(n_jobs=-1)]: Done 2036 tasks      | elapsed:  1.5min\n",
            "[Parallel(n_jobs=-1)]: Done 3836 tasks      | elapsed:  2.8min\n",
            "[Parallel(n_jobs=-1)]: Done 6036 tasks      | elapsed:  4.4min\n",
            "[Parallel(n_jobs=-1)]: Done 8575 out of 8575 | elapsed:  6.3min finished\n",
            "/usr/local/lib/python3.6/dist-packages/sklearn/model_selection/_search.py:739: DataConversionWarning: A column-vector y was passed when a 1d array was expected. Please change the shape of y to (n_samples,), for example using ravel().\n",
            "  self.best_estimator_.fit(X, y, **fit_params)\n"
          ],
          "name": "stderr"
        },
        {
          "output_type": "execute_result",
          "data": {
            "text/plain": [
              "GridSearchCV(cv=None, error_score=nan,\n",
              "             estimator=RandomForestClassifier(bootstrap=True, ccp_alpha=0.0,\n",
              "                                              class_weight=None,\n",
              "                                              criterion='gini', max_depth=None,\n",
              "                                              max_features='auto',\n",
              "                                              max_leaf_nodes=None,\n",
              "                                              max_samples=None,\n",
              "                                              min_impurity_decrease=0.0,\n",
              "                                              min_impurity_split=None,\n",
              "                                              min_samples_leaf=1,\n",
              "                                              min_samples_split=2,\n",
              "                                              min_weight_fraction_leaf=0.0,\n",
              "                                              n_estimators=100, n_jobs=None,\n",
              "                                              oob_score=False,\n",
              "                                              random_state=None, verbose=0,\n",
              "                                              warm_start=False),\n",
              "             iid='deprecated', n_jobs=-1,\n",
              "             param_grid={'max_depth': [3, 4, 5, 6, 8, 10, 12],\n",
              "                         'min_samples_leaf': [3, 4, 5, 6, 7, 8, 10],\n",
              "                         'min_samples_split': [3, 5, 6, 7, 8, 9, 10],\n",
              "                         'n_estimators': [1, 5, 10, 50, 100]},\n",
              "             pre_dispatch='2*n_jobs', refit=True, return_train_score=False,\n",
              "             scoring='accuracy', verbose=1)"
            ]
          },
          "metadata": {
            "tags": []
          },
          "execution_count": 150
        }
      ]
    },
    {
      "cell_type": "code",
      "metadata": {
        "id": "oFUZR3UhpGNN"
      },
      "source": [
        "best_param = rf_grid.best_params_\n",
        "best_param"
      ],
      "execution_count": null,
      "outputs": []
    },
    {
      "cell_type": "code",
      "metadata": {
        "id": "8zsqwhF5pImQ",
        "colab": {
          "base_uri": "https://localhost:8080/"
        },
        "outputId": "d52d9a29-57c4-4a60-c2e5-9a9f7a8fd7ec"
      },
      "source": [
        "rfc_data = RandomForestClassifier(max_depth= 6,\n",
        " min_samples_leaf= 3,\n",
        " min_samples_split= 8,\n",
        " n_estimators= 10,\n",
        " random_state = 42)\n",
        "rfc_data.fit(x_train, y_train)\n",
        "rfc_score = cross_val_score(rfc_data,x_train,y_train, cv=5)"
      ],
      "execution_count": null,
      "outputs": [
        {
          "output_type": "stream",
          "text": [
            "/usr/local/lib/python3.6/dist-packages/ipykernel_launcher.py:6: DataConversionWarning: A column-vector y was passed when a 1d array was expected. Please change the shape of y to (n_samples,), for example using ravel().\n",
            "  \n",
            "/usr/local/lib/python3.6/dist-packages/sklearn/model_selection/_validation.py:515: DataConversionWarning: A column-vector y was passed when a 1d array was expected. Please change the shape of y to (n_samples,), for example using ravel().\n",
            "  estimator.fit(X_train, y_train, **fit_params)\n",
            "/usr/local/lib/python3.6/dist-packages/sklearn/model_selection/_validation.py:515: DataConversionWarning: A column-vector y was passed when a 1d array was expected. Please change the shape of y to (n_samples,), for example using ravel().\n",
            "  estimator.fit(X_train, y_train, **fit_params)\n",
            "/usr/local/lib/python3.6/dist-packages/sklearn/model_selection/_validation.py:515: DataConversionWarning: A column-vector y was passed when a 1d array was expected. Please change the shape of y to (n_samples,), for example using ravel().\n",
            "  estimator.fit(X_train, y_train, **fit_params)\n",
            "/usr/local/lib/python3.6/dist-packages/sklearn/model_selection/_validation.py:515: DataConversionWarning: A column-vector y was passed when a 1d array was expected. Please change the shape of y to (n_samples,), for example using ravel().\n",
            "  estimator.fit(X_train, y_train, **fit_params)\n",
            "/usr/local/lib/python3.6/dist-packages/sklearn/model_selection/_validation.py:515: DataConversionWarning: A column-vector y was passed when a 1d array was expected. Please change the shape of y to (n_samples,), for example using ravel().\n",
            "  estimator.fit(X_train, y_train, **fit_params)\n"
          ],
          "name": "stderr"
        }
      ]
    },
    {
      "cell_type": "code",
      "metadata": {
        "id": "XJveoofPpQ3Z",
        "colab": {
          "base_uri": "https://localhost:8080/"
        },
        "outputId": "fe3e4f84-c8aa-4061-ee63-8e0a3d357ee4"
      },
      "source": [
        "rfc_score = rfc_score.mean()\n",
        "rfc_score"
      ],
      "execution_count": null,
      "outputs": [
        {
          "output_type": "execute_result",
          "data": {
            "text/plain": [
              "0.7533333333333333"
            ]
          },
          "metadata": {
            "tags": []
          },
          "execution_count": 69
        }
      ]
    },
    {
      "cell_type": "code",
      "metadata": {
        "id": "zOEVOXedpUUk"
      },
      "source": [
        "y_pred = rfc_data.predict(x_test)\n",
        "y_prob = rfc_data.predict_proba(x_test)[:,1]"
      ],
      "execution_count": null,
      "outputs": []
    },
    {
      "cell_type": "code",
      "metadata": {
        "id": "uZxX0nGtpYC3",
        "colab": {
          "base_uri": "https://localhost:8080/"
        },
        "outputId": "fe277ad9-e8bf-46b5-ff56-aefe357012af"
      },
      "source": [
        "print(classification_report(y_test, y_pred))"
      ],
      "execution_count": null,
      "outputs": [
        {
          "output_type": "stream",
          "text": [
            "              precision    recall  f1-score   support\n",
            "\n",
            "         1.0       0.55      0.86      0.67         7\n",
            "         3.0       0.83      0.50      0.62        10\n",
            "\n",
            "    accuracy                           0.65        17\n",
            "   macro avg       0.69      0.68      0.65        17\n",
            "weighted avg       0.71      0.65      0.64        17\n",
            "\n"
          ],
          "name": "stdout"
        }
      ]
    },
    {
      "cell_type": "code",
      "metadata": {
        "id": "AKAhgsMypblP",
        "colab": {
          "base_uri": "https://localhost:8080/",
          "height": 299
        },
        "outputId": "73fc0f11-3599-487f-f7d9-c155612be735"
      },
      "source": [
        "# TODO: confusion matrix를 시각화\n",
        "from sklearn.metrics import plot_confusion_matrix\n",
        "\n",
        "plot_confusion_matrix(rfc_data, x_test, y_test, normalize = 'all')"
      ],
      "execution_count": null,
      "outputs": [
        {
          "output_type": "execute_result",
          "data": {
            "text/plain": [
              "<sklearn.metrics._plot.confusion_matrix.ConfusionMatrixDisplay at 0x7f3fb4d1c8d0>"
            ]
          },
          "metadata": {
            "tags": []
          },
          "execution_count": 85
        },
        {
          "output_type": "display_data",
          "data": {
            "image/png": "[encoded data removed]",
            "text/plain": [
              "<Figure size 432x288 with 2 Axes>"
            ]
          },
          "metadata": {
            "tags": [],
            "needs_background": "light"
          }
        }
      ]
    },
    {
      "cell_type": "code",
      "metadata": {
        "id": "0F8kWzuZpgDz",
        "colab": {
          "base_uri": "https://localhost:8080/",
          "height": 297
        },
        "outputId": "92c0f5da-a027-4a50-a334-c243046508c3"
      },
      "source": [
        "# TODO: precision_recall curve를 시각화\n",
        "from sklearn.metrics import plot_precision_recall_curve\n",
        "\n",
        "plot_precision_recall_curve(rfc_data, x_test, y_test)"
      ],
      "execution_count": null,
      "outputs": [
        {
          "output_type": "execute_result",
          "data": {
            "text/plain": [
              "<sklearn.metrics._plot.precision_recall_curve.PrecisionRecallDisplay at 0x7f3fb525deb8>"
            ]
          },
          "metadata": {
            "tags": []
          },
          "execution_count": 86
        },
        {
          "output_type": "display_data",
          "data": {
            "image/png": "[encoded data removed]",
            "text/plain": [
              "<Figure size 432x288 with 1 Axes>"
            ]
          },
          "metadata": {
            "tags": [],
            "needs_background": "light"
          }
        }
      ]
    },
    {
      "cell_type": "code",
      "metadata": {
        "id": "1zjvQbLSplha",
        "colab": {
          "base_uri": "https://localhost:8080/"
        },
        "outputId": "826408d6-4901-47df-bd66-76899ad0dde0"
      },
      "source": [
        "from sklearn.metrics import roc_auc_score\n",
        "\n",
        "data_rfc_auc = roc_auc_score(y_test, y_prob)\n",
        "print(data_rfc_auc)"
      ],
      "execution_count": null,
      "outputs": [
        {
          "output_type": "stream",
          "text": [
            "0.8285714285714285\n"
          ],
          "name": "stdout"
        }
      ]
    },
    {
      "cell_type": "markdown",
      "metadata": {
        "id": "VRwVn8qEDRjX"
      },
      "source": [
        "# knn - data_drop_first"
      ]
    },
    {
      "cell_type": "code",
      "metadata": {
        "id": "VpGP4xgiDt07"
      },
      "source": [
        "from sklearn.neighbors import KNeighborsClassifier"
      ],
      "execution_count": null,
      "outputs": []
    },
    {
      "cell_type": "code",
      "metadata": {
        "id": "itXZfLBQEQI-",
        "colab": {
          "base_uri": "https://localhost:8080/",
          "height": 981
        },
        "outputId": "b2e7312f-c6b1-4d66-dab2-a1a8d3f1589e"
      },
      "source": [
        "import matplotlib.pyplot as plt\n",
        "k_list = range(2,20)\n",
        "drop_first_knn_score = 0\n",
        "accuracies = []\n",
        "for k in k_list:\n",
        "  drop_first_knn = KNeighborsClassifier(n_neighbors = k)\n",
        "  drop_first_knn.fit(x_drop_first, y_drop_first)\n",
        "  accuracies.append(drop_first_knn.score(x_drop_first_test, y_drop_first_test))\n",
        "  if drop_first_knn.score(x_drop_first_test, y_drop_first_test) >= drop_first_knn_score:\n",
        "    drop_first_knn_score = drop_first_knn.score(x_drop_first_test, y_drop_first_test)\n",
        "    drop_first_knn_k = k\n",
        "plt.plot(k_list, accuracies)\n",
        "plt.xlabel(\"k\")\n",
        "plt.ylabel(\"Validation Accuracy\")\n",
        "plt.title(\"Breast Cancer drop_first_knn Accuracy\")\n",
        "plt.show()\n",
        "print(drop_first_knn_score, drop_first_knn_k)"
      ],
      "execution_count": null,
      "outputs": [
        {
          "output_type": "stream",
          "text": [
            "/usr/local/lib/python3.6/dist-packages/ipykernel_launcher.py:7: DataConversionWarning: A column-vector y was passed when a 1d array was expected. Please change the shape of y to (n_samples, ), for example using ravel().\n",
            "  import sys\n",
            "/usr/local/lib/python3.6/dist-packages/ipykernel_launcher.py:7: DataConversionWarning: A column-vector y was passed when a 1d array was expected. Please change the shape of y to (n_samples, ), for example using ravel().\n",
            "  import sys\n",
            "/usr/local/lib/python3.6/dist-packages/ipykernel_launcher.py:7: DataConversionWarning: A column-vector y was passed when a 1d array was expected. Please change the shape of y to (n_samples, ), for example using ravel().\n",
            "  import sys\n",
            "/usr/local/lib/python3.6/dist-packages/ipykernel_launcher.py:7: DataConversionWarning: A column-vector y was passed when a 1d array was expected. Please change the shape of y to (n_samples, ), for example using ravel().\n",
            "  import sys\n",
            "/usr/local/lib/python3.6/dist-packages/ipykernel_launcher.py:7: DataConversionWarning: A column-vector y was passed when a 1d array was expected. Please change the shape of y to (n_samples, ), for example using ravel().\n",
            "  import sys\n",
            "/usr/local/lib/python3.6/dist-packages/ipykernel_launcher.py:7: DataConversionWarning: A column-vector y was passed when a 1d array was expected. Please change the shape of y to (n_samples, ), for example using ravel().\n",
            "  import sys\n",
            "/usr/local/lib/python3.6/dist-packages/ipykernel_launcher.py:7: DataConversionWarning: A column-vector y was passed when a 1d array was expected. Please change the shape of y to (n_samples, ), for example using ravel().\n",
            "  import sys\n",
            "/usr/local/lib/python3.6/dist-packages/ipykernel_launcher.py:7: DataConversionWarning: A column-vector y was passed when a 1d array was expected. Please change the shape of y to (n_samples, ), for example using ravel().\n",
            "  import sys\n",
            "/usr/local/lib/python3.6/dist-packages/ipykernel_launcher.py:7: DataConversionWarning: A column-vector y was passed when a 1d array was expected. Please change the shape of y to (n_samples, ), for example using ravel().\n",
            "  import sys\n",
            "/usr/local/lib/python3.6/dist-packages/ipykernel_launcher.py:7: DataConversionWarning: A column-vector y was passed when a 1d array was expected. Please change the shape of y to (n_samples, ), for example using ravel().\n",
            "  import sys\n",
            "/usr/local/lib/python3.6/dist-packages/ipykernel_launcher.py:7: DataConversionWarning: A column-vector y was passed when a 1d array was expected. Please change the shape of y to (n_samples, ), for example using ravel().\n",
            "  import sys\n",
            "/usr/local/lib/python3.6/dist-packages/ipykernel_launcher.py:7: DataConversionWarning: A column-vector y was passed when a 1d array was expected. Please change the shape of y to (n_samples, ), for example using ravel().\n",
            "  import sys\n",
            "/usr/local/lib/python3.6/dist-packages/ipykernel_launcher.py:7: DataConversionWarning: A column-vector y was passed when a 1d array was expected. Please change the shape of y to (n_samples, ), for example using ravel().\n",
            "  import sys\n",
            "/usr/local/lib/python3.6/dist-packages/ipykernel_launcher.py:7: DataConversionWarning: A column-vector y was passed when a 1d array was expected. Please change the shape of y to (n_samples, ), for example using ravel().\n",
            "  import sys\n",
            "/usr/local/lib/python3.6/dist-packages/ipykernel_launcher.py:7: DataConversionWarning: A column-vector y was passed when a 1d array was expected. Please change the shape of y to (n_samples, ), for example using ravel().\n",
            "  import sys\n",
            "/usr/local/lib/python3.6/dist-packages/ipykernel_launcher.py:7: DataConversionWarning: A column-vector y was passed when a 1d array was expected. Please change the shape of y to (n_samples, ), for example using ravel().\n",
            "  import sys\n",
            "/usr/local/lib/python3.6/dist-packages/ipykernel_launcher.py:7: DataConversionWarning: A column-vector y was passed when a 1d array was expected. Please change the shape of y to (n_samples, ), for example using ravel().\n",
            "  import sys\n",
            "/usr/local/lib/python3.6/dist-packages/ipykernel_launcher.py:7: DataConversionWarning: A column-vector y was passed when a 1d array was expected. Please change the shape of y to (n_samples, ), for example using ravel().\n",
            "  import sys\n"
          ],
          "name": "stderr"
        },
        {
          "output_type": "display_data",
          "data": {
            "image/png": "[encoded data removed]",
            "text/plain": [
              "<Figure size 432x288 with 1 Axes>"
            ]
          },
          "metadata": {
            "tags": [],
            "needs_background": "light"
          }
        },
        {
          "output_type": "stream",
          "text": [
            "0.7692307692307693 3\n"
          ],
          "name": "stdout"
        }
      ]
    },
    {
      "cell_type": "code",
      "metadata": {
        "id": "8g_iVmZmHkkE",
        "colab": {
          "base_uri": "https://localhost:8080/"
        },
        "outputId": "6c4f8882-4254-4f3f-8b58-adfed26146be"
      },
      "source": [
        "drop_first_knn = KNeighborsClassifier(n_neighbors = 4)\n",
        "drop_first_knn.fit(x_drop_first_train, y_drop_first_train)\n",
        "drop_first_knn_score = cross_val_score(drop_first_knn,x_drop_first_train,y_drop_first_train, cv=10)"
      ],
      "execution_count": null,
      "outputs": [
        {
          "output_type": "stream",
          "text": [
            "/usr/local/lib/python3.6/dist-packages/ipykernel_launcher.py:2: DataConversionWarning: A column-vector y was passed when a 1d array was expected. Please change the shape of y to (n_samples, ), for example using ravel().\n",
            "  \n",
            "/usr/local/lib/python3.6/dist-packages/sklearn/model_selection/_validation.py:515: DataConversionWarning: A column-vector y was passed when a 1d array was expected. Please change the shape of y to (n_samples, ), for example using ravel().\n",
            "  estimator.fit(X_train, y_train, **fit_params)\n",
            "/usr/local/lib/python3.6/dist-packages/sklearn/model_selection/_validation.py:515: DataConversionWarning: A column-vector y was passed when a 1d array was expected. Please change the shape of y to (n_samples, ), for example using ravel().\n",
            "  estimator.fit(X_train, y_train, **fit_params)\n",
            "/usr/local/lib/python3.6/dist-packages/sklearn/model_selection/_validation.py:515: DataConversionWarning: A column-vector y was passed when a 1d array was expected. Please change the shape of y to (n_samples, ), for example using ravel().\n",
            "  estimator.fit(X_train, y_train, **fit_params)\n",
            "/usr/local/lib/python3.6/dist-packages/sklearn/model_selection/_validation.py:515: DataConversionWarning: A column-vector y was passed when a 1d array was expected. Please change the shape of y to (n_samples, ), for example using ravel().\n",
            "  estimator.fit(X_train, y_train, **fit_params)\n",
            "/usr/local/lib/python3.6/dist-packages/sklearn/model_selection/_validation.py:515: DataConversionWarning: A column-vector y was passed when a 1d array was expected. Please change the shape of y to (n_samples, ), for example using ravel().\n",
            "  estimator.fit(X_train, y_train, **fit_params)\n",
            "/usr/local/lib/python3.6/dist-packages/sklearn/model_selection/_validation.py:515: DataConversionWarning: A column-vector y was passed when a 1d array was expected. Please change the shape of y to (n_samples, ), for example using ravel().\n",
            "  estimator.fit(X_train, y_train, **fit_params)\n",
            "/usr/local/lib/python3.6/dist-packages/sklearn/model_selection/_validation.py:515: DataConversionWarning: A column-vector y was passed when a 1d array was expected. Please change the shape of y to (n_samples, ), for example using ravel().\n",
            "  estimator.fit(X_train, y_train, **fit_params)\n",
            "/usr/local/lib/python3.6/dist-packages/sklearn/model_selection/_validation.py:515: DataConversionWarning: A column-vector y was passed when a 1d array was expected. Please change the shape of y to (n_samples, ), for example using ravel().\n",
            "  estimator.fit(X_train, y_train, **fit_params)\n",
            "/usr/local/lib/python3.6/dist-packages/sklearn/model_selection/_validation.py:515: DataConversionWarning: A column-vector y was passed when a 1d array was expected. Please change the shape of y to (n_samples, ), for example using ravel().\n",
            "  estimator.fit(X_train, y_train, **fit_params)\n",
            "/usr/local/lib/python3.6/dist-packages/sklearn/model_selection/_validation.py:515: DataConversionWarning: A column-vector y was passed when a 1d array was expected. Please change the shape of y to (n_samples, ), for example using ravel().\n",
            "  estimator.fit(X_train, y_train, **fit_params)\n"
          ],
          "name": "stderr"
        }
      ]
    },
    {
      "cell_type": "code",
      "metadata": {
        "colab": {
          "base_uri": "https://localhost:8080/"
        },
        "id": "UFGVs7e1Hr_4",
        "outputId": "1b986489-7e36-4c4c-fd6d-dd2d3dd05313"
      },
      "source": [
        "drop_first_knn_score = drop_first_knn_score.mean()\n",
        "drop_first_knn_score"
      ],
      "execution_count": null,
      "outputs": [
        {
          "output_type": "execute_result",
          "data": {
            "text/plain": [
              "0.706060606060606"
            ]
          },
          "metadata": {
            "tags": []
          },
          "execution_count": 288
        }
      ]
    },
    {
      "cell_type": "code",
      "metadata": {
        "id": "YG2DH7ScbwR7"
      },
      "source": [
        "y_pred = drop_first_knn.predict(x_drop_first_test)\n",
        "y_prob = drop_first_knn.predict_proba(x_drop_first_test)[:,1]"
      ],
      "execution_count": null,
      "outputs": []
    },
    {
      "cell_type": "code",
      "metadata": {
        "colab": {
          "base_uri": "https://localhost:8080/"
        },
        "id": "6_hD3P8FgZKa",
        "outputId": "4c1bfaab-2955-4a0b-d6f1-89c126411d39"
      },
      "source": [
        "print(classification_report(y_drop_first_test, y_pred))"
      ],
      "execution_count": null,
      "outputs": [
        {
          "output_type": "stream",
          "text": [
            "              precision    recall  f1-score   support\n",
            "\n",
            "         1.0       0.62      0.83      0.71         6\n",
            "         3.0       0.80      0.57      0.67         7\n",
            "\n",
            "    accuracy                           0.69        13\n",
            "   macro avg       0.71      0.70      0.69        13\n",
            "weighted avg       0.72      0.69      0.69        13\n",
            "\n"
          ],
          "name": "stdout"
        }
      ]
    },
    {
      "cell_type": "code",
      "metadata": {
        "colab": {
          "base_uri": "https://localhost:8080/",
          "height": 297
        },
        "id": "WDsp8-u2bxCl",
        "outputId": "d0a7cffe-320b-47c4-af8a-ea937c680cfb"
      },
      "source": [
        "# TODO: confusion matrix를 시각화한다.\n",
        "from sklearn.metrics import plot_confusion_matrix\n",
        "\n",
        "plot_confusion_matrix(drop_first_knn, x_drop_first_test, y_drop_first_test, normalize = 'all')"
      ],
      "execution_count": null,
      "outputs": [
        {
          "output_type": "execute_result",
          "data": {
            "text/plain": [
              "<sklearn.metrics._plot.confusion_matrix.ConfusionMatrixDisplay at 0x7f3fb595c588>"
            ]
          },
          "metadata": {
            "tags": []
          },
          "execution_count": 94
        },
        {
          "output_type": "display_data",
          "data": {
            "image/png": "[encoded data removed]",
            "text/plain": [
              "<Figure size 432x288 with 2 Axes>"
            ]
          },
          "metadata": {
            "tags": [],
            "needs_background": "light"
          }
        }
      ]
    },
    {
      "cell_type": "code",
      "metadata": {
        "colab": {
          "base_uri": "https://localhost:8080/",
          "height": 297
        },
        "id": "-qg4Pk2rgpKf",
        "outputId": "bb4ee63c-2c7d-49f4-b12a-c75cc84dcb42"
      },
      "source": [
        "# TODO: precision_recall curve를 시각화한다.\n",
        "from sklearn.metrics import plot_precision_recall_curve\n",
        "\n",
        "plot_precision_recall_curve(drop_first_knn, x_drop_first_test, y_drop_first_test)"
      ],
      "execution_count": null,
      "outputs": [
        {
          "output_type": "execute_result",
          "data": {
            "text/plain": [
              "<sklearn.metrics._plot.precision_recall_curve.PrecisionRecallDisplay at 0x7f3fb4d54f98>"
            ]
          },
          "metadata": {
            "tags": []
          },
          "execution_count": 95
        },
        {
          "output_type": "display_data",
          "data": {
            "image/png": "[encoded data removed]",
            "text/plain": [
              "<Figure size 432x288 with 1 Axes>"
            ]
          },
          "metadata": {
            "tags": [],
            "needs_background": "light"
          }
        }
      ]
    },
    {
      "cell_type": "code",
      "metadata": {
        "id": "NJGO9N5TgsE6"
      },
      "source": [
        "from sklearn.metrics import roc_auc_score\n",
        "\n",
        "first_drop_knn_auc = roc_auc_score(y_drop_first_test, y_prob)\n",
        "first_drop_knn_auc"
      ],
      "execution_count": null,
      "outputs": []
    },
    {
      "cell_type": "markdown",
      "metadata": {
        "id": "Q1lhRczjFxCM"
      },
      "source": [
        "# knn - data"
      ]
    },
    {
      "cell_type": "code",
      "metadata": {
        "id": "XP9L4KiTEk4c",
        "colab": {
          "base_uri": "https://localhost:8080/",
          "height": 981
        },
        "outputId": "01d4592d-7614-4028-9f39-446008169b09"
      },
      "source": [
        "import matplotlib.pyplot as plt\n",
        "k_list = range(2,20)\n",
        "data_knn_score = 0\n",
        "accuracies = []\n",
        "for k in k_list:\n",
        "  data_knn = KNeighborsClassifier(n_neighbors = k)\n",
        "  data_knn.fit(x, y)\n",
        "  accuracies.append(data_knn.score(x_test, y_test))\n",
        "  if data_knn.score(x_test, y_test) >= data_knn_score:\n",
        "    data_knn_score = data_knn.score(x_test, y_test)\n",
        "    data_knn_k = k\n",
        "plt.plot(k_list, accuracies)\n",
        "plt.xlabel(\"k\")\n",
        "plt.ylabel(\"Validation Accuracy\")\n",
        "plt.title(\"Breast Cancer data_knn Accuracy\")\n",
        "plt.show()\n",
        "print(data_knn_score, data_knn_k)"
      ],
      "execution_count": null,
      "outputs": [
        {
          "output_type": "stream",
          "text": [
            "/usr/local/lib/python3.6/dist-packages/ipykernel_launcher.py:7: DataConversionWarning: A column-vector y was passed when a 1d array was expected. Please change the shape of y to (n_samples, ), for example using ravel().\n",
            "  import sys\n",
            "/usr/local/lib/python3.6/dist-packages/ipykernel_launcher.py:7: DataConversionWarning: A column-vector y was passed when a 1d array was expected. Please change the shape of y to (n_samples, ), for example using ravel().\n",
            "  import sys\n",
            "/usr/local/lib/python3.6/dist-packages/ipykernel_launcher.py:7: DataConversionWarning: A column-vector y was passed when a 1d array was expected. Please change the shape of y to (n_samples, ), for example using ravel().\n",
            "  import sys\n",
            "/usr/local/lib/python3.6/dist-packages/ipykernel_launcher.py:7: DataConversionWarning: A column-vector y was passed when a 1d array was expected. Please change the shape of y to (n_samples, ), for example using ravel().\n",
            "  import sys\n",
            "/usr/local/lib/python3.6/dist-packages/ipykernel_launcher.py:7: DataConversionWarning: A column-vector y was passed when a 1d array was expected. Please change the shape of y to (n_samples, ), for example using ravel().\n",
            "  import sys\n",
            "/usr/local/lib/python3.6/dist-packages/ipykernel_launcher.py:7: DataConversionWarning: A column-vector y was passed when a 1d array was expected. Please change the shape of y to (n_samples, ), for example using ravel().\n",
            "  import sys\n",
            "/usr/local/lib/python3.6/dist-packages/ipykernel_launcher.py:7: DataConversionWarning: A column-vector y was passed when a 1d array was expected. Please change the shape of y to (n_samples, ), for example using ravel().\n",
            "  import sys\n",
            "/usr/local/lib/python3.6/dist-packages/ipykernel_launcher.py:7: DataConversionWarning: A column-vector y was passed when a 1d array was expected. Please change the shape of y to (n_samples, ), for example using ravel().\n",
            "  import sys\n",
            "/usr/local/lib/python3.6/dist-packages/ipykernel_launcher.py:7: DataConversionWarning: A column-vector y was passed when a 1d array was expected. Please change the shape of y to (n_samples, ), for example using ravel().\n",
            "  import sys\n",
            "/usr/local/lib/python3.6/dist-packages/ipykernel_launcher.py:7: DataConversionWarning: A column-vector y was passed when a 1d array was expected. Please change the shape of y to (n_samples, ), for example using ravel().\n",
            "  import sys\n",
            "/usr/local/lib/python3.6/dist-packages/ipykernel_launcher.py:7: DataConversionWarning: A column-vector y was passed when a 1d array was expected. Please change the shape of y to (n_samples, ), for example using ravel().\n",
            "  import sys\n",
            "/usr/local/lib/python3.6/dist-packages/ipykernel_launcher.py:7: DataConversionWarning: A column-vector y was passed when a 1d array was expected. Please change the shape of y to (n_samples, ), for example using ravel().\n",
            "  import sys\n",
            "/usr/local/lib/python3.6/dist-packages/ipykernel_launcher.py:7: DataConversionWarning: A column-vector y was passed when a 1d array was expected. Please change the shape of y to (n_samples, ), for example using ravel().\n",
            "  import sys\n",
            "/usr/local/lib/python3.6/dist-packages/ipykernel_launcher.py:7: DataConversionWarning: A column-vector y was passed when a 1d array was expected. Please change the shape of y to (n_samples, ), for example using ravel().\n",
            "  import sys\n",
            "/usr/local/lib/python3.6/dist-packages/ipykernel_launcher.py:7: DataConversionWarning: A column-vector y was passed when a 1d array was expected. Please change the shape of y to (n_samples, ), for example using ravel().\n",
            "  import sys\n",
            "/usr/local/lib/python3.6/dist-packages/ipykernel_launcher.py:7: DataConversionWarning: A column-vector y was passed when a 1d array was expected. Please change the shape of y to (n_samples, ), for example using ravel().\n",
            "  import sys\n",
            "/usr/local/lib/python3.6/dist-packages/ipykernel_launcher.py:7: DataConversionWarning: A column-vector y was passed when a 1d array was expected. Please change the shape of y to (n_samples, ), for example using ravel().\n",
            "  import sys\n",
            "/usr/local/lib/python3.6/dist-packages/ipykernel_launcher.py:7: DataConversionWarning: A column-vector y was passed when a 1d array was expected. Please change the shape of y to (n_samples, ), for example using ravel().\n",
            "  import sys\n"
          ],
          "name": "stderr"
        },
        {
          "output_type": "display_data",
          "data": {
            "image/png": "[encoded data removed]",
            "text/plain": [
              "<Figure size 432x288 with 1 Axes>"
            ]
          },
          "metadata": {
            "tags": [],
            "needs_background": "light"
          }
        },
        {
          "output_type": "stream",
          "text": [
            "0.8823529411764706 3\n"
          ],
          "name": "stdout"
        }
      ]
    },
    {
      "cell_type": "code",
      "metadata": {
        "colab": {
          "base_uri": "https://localhost:8080/"
        },
        "id": "f43potKGFcnk",
        "outputId": "3f66d1c7-c373-41c3-eef8-253230b0fc3f"
      },
      "source": [
        "data_knn = KNeighborsClassifier(n_neighbors = 4)\n",
        "data_knn.fit(x_train, y_train)\n",
        "data_knn_score = cross_val_score(data_knn,x_train,y_train, cv=10)"
      ],
      "execution_count": null,
      "outputs": [
        {
          "output_type": "stream",
          "text": [
            "/usr/local/lib/python3.6/dist-packages/ipykernel_launcher.py:2: DataConversionWarning: A column-vector y was passed when a 1d array was expected. Please change the shape of y to (n_samples, ), for example using ravel().\n",
            "  \n",
            "/usr/local/lib/python3.6/dist-packages/sklearn/model_selection/_validation.py:515: DataConversionWarning: A column-vector y was passed when a 1d array was expected. Please change the shape of y to (n_samples, ), for example using ravel().\n",
            "  estimator.fit(X_train, y_train, **fit_params)\n",
            "/usr/local/lib/python3.6/dist-packages/sklearn/model_selection/_validation.py:515: DataConversionWarning: A column-vector y was passed when a 1d array was expected. Please change the shape of y to (n_samples, ), for example using ravel().\n",
            "  estimator.fit(X_train, y_train, **fit_params)\n",
            "/usr/local/lib/python3.6/dist-packages/sklearn/model_selection/_validation.py:515: DataConversionWarning: A column-vector y was passed when a 1d array was expected. Please change the shape of y to (n_samples, ), for example using ravel().\n",
            "  estimator.fit(X_train, y_train, **fit_params)\n",
            "/usr/local/lib/python3.6/dist-packages/sklearn/model_selection/_validation.py:515: DataConversionWarning: A column-vector y was passed when a 1d array was expected. Please change the shape of y to (n_samples, ), for example using ravel().\n",
            "  estimator.fit(X_train, y_train, **fit_params)\n",
            "/usr/local/lib/python3.6/dist-packages/sklearn/model_selection/_validation.py:515: DataConversionWarning: A column-vector y was passed when a 1d array was expected. Please change the shape of y to (n_samples, ), for example using ravel().\n",
            "  estimator.fit(X_train, y_train, **fit_params)\n",
            "/usr/local/lib/python3.6/dist-packages/sklearn/model_selection/_validation.py:515: DataConversionWarning: A column-vector y was passed when a 1d array was expected. Please change the shape of y to (n_samples, ), for example using ravel().\n",
            "  estimator.fit(X_train, y_train, **fit_params)\n",
            "/usr/local/lib/python3.6/dist-packages/sklearn/model_selection/_validation.py:515: DataConversionWarning: A column-vector y was passed when a 1d array was expected. Please change the shape of y to (n_samples, ), for example using ravel().\n",
            "  estimator.fit(X_train, y_train, **fit_params)\n",
            "/usr/local/lib/python3.6/dist-packages/sklearn/model_selection/_validation.py:515: DataConversionWarning: A column-vector y was passed when a 1d array was expected. Please change the shape of y to (n_samples, ), for example using ravel().\n",
            "  estimator.fit(X_train, y_train, **fit_params)\n",
            "/usr/local/lib/python3.6/dist-packages/sklearn/model_selection/_validation.py:515: DataConversionWarning: A column-vector y was passed when a 1d array was expected. Please change the shape of y to (n_samples, ), for example using ravel().\n",
            "  estimator.fit(X_train, y_train, **fit_params)\n",
            "/usr/local/lib/python3.6/dist-packages/sklearn/model_selection/_validation.py:515: DataConversionWarning: A column-vector y was passed when a 1d array was expected. Please change the shape of y to (n_samples, ), for example using ravel().\n",
            "  estimator.fit(X_train, y_train, **fit_params)\n"
          ],
          "name": "stderr"
        }
      ]
    },
    {
      "cell_type": "code",
      "metadata": {
        "colab": {
          "base_uri": "https://localhost:8080/"
        },
        "id": "ZljQeYmXGXKO",
        "outputId": "b74a44bf-3a3d-46bd-ec00-57279fa11ff3"
      },
      "source": [
        "data_knn_score = data_knn_score.mean()\n",
        "data_knn_score"
      ],
      "execution_count": null,
      "outputs": [
        {
          "output_type": "execute_result",
          "data": {
            "text/plain": [
              "0.64"
            ]
          },
          "metadata": {
            "tags": []
          },
          "execution_count": 142
        }
      ]
    },
    {
      "cell_type": "code",
      "metadata": {
        "id": "XuKdfKLkF_Lj"
      },
      "source": [
        "y_pred = data_knn.predict(x_test)\n",
        "y_prob = data_knn.predict_proba(x_test)[:,1]"
      ],
      "execution_count": null,
      "outputs": []
    },
    {
      "cell_type": "code",
      "metadata": {
        "colab": {
          "base_uri": "https://localhost:8080/"
        },
        "id": "3nDJO_y8g9fx",
        "outputId": "00b34538-20f9-4339-f86a-36cd69bd1efb"
      },
      "source": [
        "print(classification_report(y_test, y_pred))"
      ],
      "execution_count": null,
      "outputs": [
        {
          "output_type": "stream",
          "text": [
            "              precision    recall  f1-score   support\n",
            "\n",
            "         1.0       0.83      0.71      0.77         7\n",
            "         3.0       0.82      0.90      0.86        10\n",
            "\n",
            "    accuracy                           0.82        17\n",
            "   macro avg       0.83      0.81      0.81        17\n",
            "weighted avg       0.82      0.82      0.82        17\n",
            "\n"
          ],
          "name": "stdout"
        }
      ]
    },
    {
      "cell_type": "code",
      "metadata": {
        "colab": {
          "base_uri": "https://localhost:8080/",
          "height": 297
        },
        "id": "2c38-vd-g_YF",
        "outputId": "d9924020-04d5-4f50-b596-817b43d6d004"
      },
      "source": [
        "# TODO: confusion matrix를 시각화한다.\n",
        "from sklearn.metrics import plot_confusion_matrix\n",
        "\n",
        "plot_confusion_matrix(data_knn, x_test, y_test, normalize = 'all')"
      ],
      "execution_count": null,
      "outputs": [
        {
          "output_type": "execute_result",
          "data": {
            "text/plain": [
              "<sklearn.metrics._plot.confusion_matrix.ConfusionMatrixDisplay at 0x7f3fb4b107b8>"
            ]
          },
          "metadata": {
            "tags": []
          },
          "execution_count": 102
        },
        {
          "output_type": "display_data",
          "data": {
            "image/png": "[encoded data removed]",
            "text/plain": [
              "<Figure size 432x288 with 2 Axes>"
            ]
          },
          "metadata": {
            "tags": [],
            "needs_background": "light"
          }
        }
      ]
    },
    {
      "cell_type": "code",
      "metadata": {
        "colab": {
          "base_uri": "https://localhost:8080/",
          "height": 297
        },
        "id": "fni9fWeChETB",
        "outputId": "98627485-502f-497e-efb9-1f7461ef0caa"
      },
      "source": [
        "# TODO: precision_recall curve를 시각화한다.\n",
        "from sklearn.metrics import plot_precision_recall_curve\n",
        "\n",
        "plot_precision_recall_curve(data_knn, x_test, y_test)"
      ],
      "execution_count": null,
      "outputs": [
        {
          "output_type": "execute_result",
          "data": {
            "text/plain": [
              "<sklearn.metrics._plot.precision_recall_curve.PrecisionRecallDisplay at 0x7f60680c4358>"
            ]
          },
          "metadata": {
            "tags": []
          },
          "execution_count": 76
        },
        {
          "output_type": "display_data",
          "data": {
            "image/png": "[encoded data removed]",
            "text/plain": [
              "<Figure size 432x288 with 1 Axes>"
            ]
          },
          "metadata": {
            "tags": [],
            "needs_background": "light"
          }
        }
      ]
    },
    {
      "cell_type": "code",
      "metadata": {
        "colab": {
          "base_uri": "https://localhost:8080/"
        },
        "id": "25g0byxdhF9H",
        "outputId": "41f23651-eafa-49a3-e709-e333dc82f9b9"
      },
      "source": [
        "from sklearn.metrics import roc_auc_score\n",
        "\n",
        "data_knn_auc = roc_auc_score(y_test, y_prob)\n",
        "data_knn_auc"
      ],
      "execution_count": null,
      "outputs": [
        {
          "output_type": "execute_result",
          "data": {
            "text/plain": [
              "0.7857142857142857"
            ]
          },
          "metadata": {
            "tags": []
          },
          "execution_count": 144
        }
      ]
    },
    {
      "cell_type": "markdown",
      "metadata": {
        "id": "SaNcYVIoGe0K"
      },
      "source": [
        "# svm - data_drop_first"
      ]
    },
    {
      "cell_type": "code",
      "metadata": {
        "id": "yhYRFHU4G_AP",
        "colab": {
          "base_uri": "https://localhost:8080/",
          "height": 1000
        },
        "outputId": "2af4c781-0c61-43e1-a1fd-453b12213f3c"
      },
      "source": [
        "import sklearn.svm as svm\n",
        "import sklearn.metrics as mt\n",
        "from sklearn.model_selection import cross_val_score, cross_validate\n",
        "\n",
        "# SVM, kernel = 'linear'로 선형분리 진행\n",
        " \n",
        "drop_first_svm =svm.SVC(kernel = 'linear')\n",
        "\n",
        "# 교차검증\n",
        "\n",
        "drop_first_svm_score = cross_val_score(drop_first_svm, x_drop_first, y_drop_first, cv = 10)\n",
        "drop_first_svm_score\n",
        "\n",
        "pd.DataFrame(cross_validate(drop_first_svm, x_drop_first, y_drop_first, cv =10))"
      ],
      "execution_count": null,
      "outputs": [
        {
          "output_type": "stream",
          "text": [
            "/usr/local/lib/python3.6/dist-packages/sklearn/utils/validation.py:760: DataConversionWarning: A column-vector y was passed when a 1d array was expected. Please change the shape of y to (n_samples, ), for example using ravel().\n",
            "  y = column_or_1d(y, warn=True)\n",
            "/usr/local/lib/python3.6/dist-packages/sklearn/utils/validation.py:760: DataConversionWarning: A column-vector y was passed when a 1d array was expected. Please change the shape of y to (n_samples, ), for example using ravel().\n",
            "  y = column_or_1d(y, warn=True)\n",
            "/usr/local/lib/python3.6/dist-packages/sklearn/utils/validation.py:760: DataConversionWarning: A column-vector y was passed when a 1d array was expected. Please change the shape of y to (n_samples, ), for example using ravel().\n",
            "  y = column_or_1d(y, warn=True)\n",
            "/usr/local/lib/python3.6/dist-packages/sklearn/utils/validation.py:760: DataConversionWarning: A column-vector y was passed when a 1d array was expected. Please change the shape of y to (n_samples, ), for example using ravel().\n",
            "  y = column_or_1d(y, warn=True)\n",
            "/usr/local/lib/python3.6/dist-packages/sklearn/utils/validation.py:760: DataConversionWarning: A column-vector y was passed when a 1d array was expected. Please change the shape of y to (n_samples, ), for example using ravel().\n",
            "  y = column_or_1d(y, warn=True)\n",
            "/usr/local/lib/python3.6/dist-packages/sklearn/utils/validation.py:760: DataConversionWarning: A column-vector y was passed when a 1d array was expected. Please change the shape of y to (n_samples, ), for example using ravel().\n",
            "  y = column_or_1d(y, warn=True)\n",
            "/usr/local/lib/python3.6/dist-packages/sklearn/utils/validation.py:760: DataConversionWarning: A column-vector y was passed when a 1d array was expected. Please change the shape of y to (n_samples, ), for example using ravel().\n",
            "  y = column_or_1d(y, warn=True)\n",
            "/usr/local/lib/python3.6/dist-packages/sklearn/utils/validation.py:760: DataConversionWarning: A column-vector y was passed when a 1d array was expected. Please change the shape of y to (n_samples, ), for example using ravel().\n",
            "  y = column_or_1d(y, warn=True)\n",
            "/usr/local/lib/python3.6/dist-packages/sklearn/utils/validation.py:760: DataConversionWarning: A column-vector y was passed when a 1d array was expected. Please change the shape of y to (n_samples, ), for example using ravel().\n",
            "  y = column_or_1d(y, warn=True)\n",
            "/usr/local/lib/python3.6/dist-packages/sklearn/utils/validation.py:760: DataConversionWarning: A column-vector y was passed when a 1d array was expected. Please change the shape of y to (n_samples, ), for example using ravel().\n",
            "  y = column_or_1d(y, warn=True)\n",
            "/usr/local/lib/python3.6/dist-packages/sklearn/utils/validation.py:760: DataConversionWarning: A column-vector y was passed when a 1d array was expected. Please change the shape of y to (n_samples, ), for example using ravel().\n",
            "  y = column_or_1d(y, warn=True)\n",
            "/usr/local/lib/python3.6/dist-packages/sklearn/utils/validation.py:760: DataConversionWarning: A column-vector y was passed when a 1d array was expected. Please change the shape of y to (n_samples, ), for example using ravel().\n",
            "  y = column_or_1d(y, warn=True)\n",
            "/usr/local/lib/python3.6/dist-packages/sklearn/utils/validation.py:760: DataConversionWarning: A column-vector y was passed when a 1d array was expected. Please change the shape of y to (n_samples, ), for example using ravel().\n",
            "  y = column_or_1d(y, warn=True)\n",
            "/usr/local/lib/python3.6/dist-packages/sklearn/utils/validation.py:760: DataConversionWarning: A column-vector y was passed when a 1d array was expected. Please change the shape of y to (n_samples, ), for example using ravel().\n",
            "  y = column_or_1d(y, warn=True)\n",
            "/usr/local/lib/python3.6/dist-packages/sklearn/utils/validation.py:760: DataConversionWarning: A column-vector y was passed when a 1d array was expected. Please change the shape of y to (n_samples, ), for example using ravel().\n",
            "  y = column_or_1d(y, warn=True)\n",
            "/usr/local/lib/python3.6/dist-packages/sklearn/utils/validation.py:760: DataConversionWarning: A column-vector y was passed when a 1d array was expected. Please change the shape of y to (n_samples, ), for example using ravel().\n",
            "  y = column_or_1d(y, warn=True)\n",
            "/usr/local/lib/python3.6/dist-packages/sklearn/utils/validation.py:760: DataConversionWarning: A column-vector y was passed when a 1d array was expected. Please change the shape of y to (n_samples, ), for example using ravel().\n",
            "  y = column_or_1d(y, warn=True)\n",
            "/usr/local/lib/python3.6/dist-packages/sklearn/utils/validation.py:760: DataConversionWarning: A column-vector y was passed when a 1d array was expected. Please change the shape of y to (n_samples, ), for example using ravel().\n",
            "  y = column_or_1d(y, warn=True)\n",
            "/usr/local/lib/python3.6/dist-packages/sklearn/utils/validation.py:760: DataConversionWarning: A column-vector y was passed when a 1d array was expected. Please change the shape of y to (n_samples, ), for example using ravel().\n",
            "  y = column_or_1d(y, warn=True)\n",
            "/usr/local/lib/python3.6/dist-packages/sklearn/utils/validation.py:760: DataConversionWarning: A column-vector y was passed when a 1d array was expected. Please change the shape of y to (n_samples, ), for example using ravel().\n",
            "  y = column_or_1d(y, warn=True)\n"
          ],
          "name": "stderr"
        },
        {
          "output_type": "execute_result",
          "data": {
            "text/html": [
              "<div>\n",
              "<style scoped>\n",
              "    .dataframe tbody tr th:only-of-type {\n",
              "        vertical-align: middle;\n",
              "    }\n",
              "\n",
              "    .dataframe tbody tr th {\n",
              "        vertical-align: top;\n",
              "    }\n",
              "\n",
              "    .dataframe thead th {\n",
              "        text-align: right;\n",
              "    }\n",
              "</style>\n",
              "<table border=\"1\" class=\"dataframe\">\n",
              "  <thead>\n",
              "    <tr style=\"text-align: right;\">\n",
              "      <th></th>\n",
              "      <th>fit_time</th>\n",
              "      <th>score_time</th>\n",
              "      <th>test_score</th>\n",
              "    </tr>\n",
              "  </thead>\n",
              "  <tbody>\n",
              "    <tr>\n",
              "      <th>0</th>\n",
              "      <td>0.004936</td>\n",
              "      <td>0.001482</td>\n",
              "      <td>0.846154</td>\n",
              "    </tr>\n",
              "    <tr>\n",
              "      <th>1</th>\n",
              "      <td>0.007891</td>\n",
              "      <td>0.001912</td>\n",
              "      <td>0.615385</td>\n",
              "    </tr>\n",
              "    <tr>\n",
              "      <th>2</th>\n",
              "      <td>0.005277</td>\n",
              "      <td>0.001602</td>\n",
              "      <td>0.307692</td>\n",
              "    </tr>\n",
              "    <tr>\n",
              "      <th>3</th>\n",
              "      <td>0.005466</td>\n",
              "      <td>0.001956</td>\n",
              "      <td>0.692308</td>\n",
              "    </tr>\n",
              "    <tr>\n",
              "      <th>4</th>\n",
              "      <td>0.008941</td>\n",
              "      <td>0.001468</td>\n",
              "      <td>0.538462</td>\n",
              "    </tr>\n",
              "    <tr>\n",
              "      <th>5</th>\n",
              "      <td>0.004889</td>\n",
              "      <td>0.001496</td>\n",
              "      <td>0.583333</td>\n",
              "    </tr>\n",
              "    <tr>\n",
              "      <th>6</th>\n",
              "      <td>0.006321</td>\n",
              "      <td>0.001379</td>\n",
              "      <td>0.666667</td>\n",
              "    </tr>\n",
              "    <tr>\n",
              "      <th>7</th>\n",
              "      <td>0.007433</td>\n",
              "      <td>0.001413</td>\n",
              "      <td>0.583333</td>\n",
              "    </tr>\n",
              "    <tr>\n",
              "      <th>8</th>\n",
              "      <td>0.005033</td>\n",
              "      <td>0.001198</td>\n",
              "      <td>0.833333</td>\n",
              "    </tr>\n",
              "    <tr>\n",
              "      <th>9</th>\n",
              "      <td>0.005543</td>\n",
              "      <td>0.001215</td>\n",
              "      <td>0.500000</td>\n",
              "    </tr>\n",
              "  </tbody>\n",
              "</table>\n",
              "</div>"
            ],
            "text/plain": [
              "   fit_time  score_time  test_score\n",
              "0  0.004936    0.001482    0.846154\n",
              "1  0.007891    0.001912    0.615385\n",
              "2  0.005277    0.001602    0.307692\n",
              "3  0.005466    0.001956    0.692308\n",
              "4  0.008941    0.001468    0.538462\n",
              "5  0.004889    0.001496    0.583333\n",
              "6  0.006321    0.001379    0.666667\n",
              "7  0.007433    0.001413    0.583333\n",
              "8  0.005033    0.001198    0.833333\n",
              "9  0.005543    0.001215    0.500000"
            ]
          },
          "metadata": {
            "tags": []
          },
          "execution_count": 173
        }
      ]
    },
    {
      "cell_type": "code",
      "metadata": {
        "colab": {
          "base_uri": "https://localhost:8080/"
        },
        "id": "TGCMMcrS7s2A",
        "outputId": "62a6fe24-c9e9-4b9b-b0b7-21e138bdaa9a"
      },
      "source": [
        "drop_first_svm_score = drop_first_svm_score.mean()\n",
        "drop_first_svm_score"
      ],
      "execution_count": null,
      "outputs": [
        {
          "output_type": "execute_result",
          "data": {
            "text/plain": [
              "0.6166666666666667"
            ]
          },
          "metadata": {
            "tags": []
          },
          "execution_count": 81
        }
      ]
    },
    {
      "cell_type": "code",
      "metadata": {
        "id": "fDWGKCEI77YR"
      },
      "source": [
        "# SVM, kernel = 'rbf'로 비선형분리 진행\n",
        " \n",
        "drop_first_svm =svm.SVC(kernel = 'rbf')\n",
        "\n",
        "# 교차검증\n",
        "\n",
        "drop_first_svm_score = cross_val_score(drop_first_svm, x_drop_first, y_drop_first, cv = 10)\n",
        "drop_first_svm_score\n",
        "\n",
        "pd.DataFrame(cross_validate(drop_first_svm, x_drop_first, y_drop_first, cv =5))\n"
      ],
      "execution_count": null,
      "outputs": []
    },
    {
      "cell_type": "code",
      "metadata": {
        "colab": {
          "base_uri": "https://localhost:8080/"
        },
        "id": "3f6qUXSE8OTh",
        "outputId": "f9277823-c234-4a1b-d277-e24f70dd88ab"
      },
      "source": [
        "drop_first_svm_score = drop_first_svm_score.mean()\n",
        "drop_first_svm_score"
      ],
      "execution_count": null,
      "outputs": [
        {
          "output_type": "execute_result",
          "data": {
            "text/plain": [
              "0.7288461538461538"
            ]
          },
          "metadata": {
            "tags": []
          },
          "execution_count": 109
        }
      ]
    },
    {
      "cell_type": "code",
      "metadata": {
        "id": "-C_RMl_g9ela",
        "colab": {
          "base_uri": "https://localhost:8080/",
          "height": 1000
        },
        "outputId": "2c45cd7d-98f2-4d04-bd43-40a5b4978ffd"
      },
      "source": [
        "from sklearn.model_selection import GridSearchCV\n",
        "\n",
        "# 테스트하고자 하는 파라미터 값들을 사전타입으로 정의\n",
        "\n",
        "svm_clf = svm.SVC(kernel = 'linear',random_state=100,probability = True)\n",
        "parameters = {'C': [0.001, 0.01, 0.1, 1, 10, 25, 50, 100]}\n",
        "\n",
        "grid_svm = GridSearchCV(svm_clf,\n",
        "                      param_grid = parameters, cv = 5)\n",
        "\n",
        "grid_svm.fit(x_drop_first, y_drop_first)\n",
        "\n",
        "result = pd.DataFrame(grid_svm.cv_results_['params'])\n",
        "result['mean_test_score'] = grid_svm.cv_results_['mean_test_score']\n",
        "result.sort_values(by='mean_test_score', ascending=False)"
      ],
      "execution_count": null,
      "outputs": [
        {
          "output_type": "stream",
          "text": [
            "/usr/local/lib/python3.6/dist-packages/sklearn/utils/validation.py:760: DataConversionWarning: A column-vector y was passed when a 1d array was expected. Please change the shape of y to (n_samples, ), for example using ravel().\n",
            "  y = column_or_1d(y, warn=True)\n",
            "/usr/local/lib/python3.6/dist-packages/sklearn/utils/validation.py:760: DataConversionWarning: A column-vector y was passed when a 1d array was expected. Please change the shape of y to (n_samples, ), for example using ravel().\n",
            "  y = column_or_1d(y, warn=True)\n",
            "/usr/local/lib/python3.6/dist-packages/sklearn/utils/validation.py:760: DataConversionWarning: A column-vector y was passed when a 1d array was expected. Please change the shape of y to (n_samples, ), for example using ravel().\n",
            "  y = column_or_1d(y, warn=True)\n",
            "/usr/local/lib/python3.6/dist-packages/sklearn/utils/validation.py:760: DataConversionWarning: A column-vector y was passed when a 1d array was expected. Please change the shape of y to (n_samples, ), for example using ravel().\n",
            "  y = column_or_1d(y, warn=True)\n",
            "/usr/local/lib/python3.6/dist-packages/sklearn/utils/validation.py:760: DataConversionWarning: A column-vector y was passed when a 1d array was expected. Please change the shape of y to (n_samples, ), for example using ravel().\n",
            "  y = column_or_1d(y, warn=True)\n",
            "/usr/local/lib/python3.6/dist-packages/sklearn/utils/validation.py:760: DataConversionWarning: A column-vector y was passed when a 1d array was expected. Please change the shape of y to (n_samples, ), for example using ravel().\n",
            "  y = column_or_1d(y, warn=True)\n",
            "/usr/local/lib/python3.6/dist-packages/sklearn/utils/validation.py:760: DataConversionWarning: A column-vector y was passed when a 1d array was expected. Please change the shape of y to (n_samples, ), for example using ravel().\n",
            "  y = column_or_1d(y, warn=True)\n",
            "/usr/local/lib/python3.6/dist-packages/sklearn/utils/validation.py:760: DataConversionWarning: A column-vector y was passed when a 1d array was expected. Please change the shape of y to (n_samples, ), for example using ravel().\n",
            "  y = column_or_1d(y, warn=True)\n",
            "/usr/local/lib/python3.6/dist-packages/sklearn/utils/validation.py:760: DataConversionWarning: A column-vector y was passed when a 1d array was expected. Please change the shape of y to (n_samples, ), for example using ravel().\n",
            "  y = column_or_1d(y, warn=True)\n",
            "/usr/local/lib/python3.6/dist-packages/sklearn/utils/validation.py:760: DataConversionWarning: A column-vector y was passed when a 1d array was expected. Please change the shape of y to (n_samples, ), for example using ravel().\n",
            "  y = column_or_1d(y, warn=True)\n",
            "/usr/local/lib/python3.6/dist-packages/sklearn/utils/validation.py:760: DataConversionWarning: A column-vector y was passed when a 1d array was expected. Please change the shape of y to (n_samples, ), for example using ravel().\n",
            "  y = column_or_1d(y, warn=True)\n",
            "/usr/local/lib/python3.6/dist-packages/sklearn/utils/validation.py:760: DataConversionWarning: A column-vector y was passed when a 1d array was expected. Please change the shape of y to (n_samples, ), for example using ravel().\n",
            "  y = column_or_1d(y, warn=True)\n",
            "/usr/local/lib/python3.6/dist-packages/sklearn/utils/validation.py:760: DataConversionWarning: A column-vector y was passed when a 1d array was expected. Please change the shape of y to (n_samples, ), for example using ravel().\n",
            "  y = column_or_1d(y, warn=True)\n",
            "/usr/local/lib/python3.6/dist-packages/sklearn/utils/validation.py:760: DataConversionWarning: A column-vector y was passed when a 1d array was expected. Please change the shape of y to (n_samples, ), for example using ravel().\n",
            "  y = column_or_1d(y, warn=True)\n",
            "/usr/local/lib/python3.6/dist-packages/sklearn/utils/validation.py:760: DataConversionWarning: A column-vector y was passed when a 1d array was expected. Please change the shape of y to (n_samples, ), for example using ravel().\n",
            "  y = column_or_1d(y, warn=True)\n",
            "/usr/local/lib/python3.6/dist-packages/sklearn/utils/validation.py:760: DataConversionWarning: A column-vector y was passed when a 1d array was expected. Please change the shape of y to (n_samples, ), for example using ravel().\n",
            "  y = column_or_1d(y, warn=True)\n",
            "/usr/local/lib/python3.6/dist-packages/sklearn/utils/validation.py:760: DataConversionWarning: A column-vector y was passed when a 1d array was expected. Please change the shape of y to (n_samples, ), for example using ravel().\n",
            "  y = column_or_1d(y, warn=True)\n",
            "/usr/local/lib/python3.6/dist-packages/sklearn/utils/validation.py:760: DataConversionWarning: A column-vector y was passed when a 1d array was expected. Please change the shape of y to (n_samples, ), for example using ravel().\n",
            "  y = column_or_1d(y, warn=True)\n",
            "/usr/local/lib/python3.6/dist-packages/sklearn/utils/validation.py:760: DataConversionWarning: A column-vector y was passed when a 1d array was expected. Please change the shape of y to (n_samples, ), for example using ravel().\n",
            "  y = column_or_1d(y, warn=True)\n",
            "/usr/local/lib/python3.6/dist-packages/sklearn/utils/validation.py:760: DataConversionWarning: A column-vector y was passed when a 1d array was expected. Please change the shape of y to (n_samples, ), for example using ravel().\n",
            "  y = column_or_1d(y, warn=True)\n",
            "/usr/local/lib/python3.6/dist-packages/sklearn/utils/validation.py:760: DataConversionWarning: A column-vector y was passed when a 1d array was expected. Please change the shape of y to (n_samples, ), for example using ravel().\n",
            "  y = column_or_1d(y, warn=True)\n",
            "/usr/local/lib/python3.6/dist-packages/sklearn/utils/validation.py:760: DataConversionWarning: A column-vector y was passed when a 1d array was expected. Please change the shape of y to (n_samples, ), for example using ravel().\n",
            "  y = column_or_1d(y, warn=True)\n",
            "/usr/local/lib/python3.6/dist-packages/sklearn/utils/validation.py:760: DataConversionWarning: A column-vector y was passed when a 1d array was expected. Please change the shape of y to (n_samples, ), for example using ravel().\n",
            "  y = column_or_1d(y, warn=True)\n",
            "/usr/local/lib/python3.6/dist-packages/sklearn/utils/validation.py:760: DataConversionWarning: A column-vector y was passed when a 1d array was expected. Please change the shape of y to (n_samples, ), for example using ravel().\n",
            "  y = column_or_1d(y, warn=True)\n",
            "/usr/local/lib/python3.6/dist-packages/sklearn/utils/validation.py:760: DataConversionWarning: A column-vector y was passed when a 1d array was expected. Please change the shape of y to (n_samples, ), for example using ravel().\n",
            "  y = column_or_1d(y, warn=True)\n",
            "/usr/local/lib/python3.6/dist-packages/sklearn/utils/validation.py:760: DataConversionWarning: A column-vector y was passed when a 1d array was expected. Please change the shape of y to (n_samples, ), for example using ravel().\n",
            "  y = column_or_1d(y, warn=True)\n",
            "/usr/local/lib/python3.6/dist-packages/sklearn/utils/validation.py:760: DataConversionWarning: A column-vector y was passed when a 1d array was expected. Please change the shape of y to (n_samples, ), for example using ravel().\n",
            "  y = column_or_1d(y, warn=True)\n",
            "/usr/local/lib/python3.6/dist-packages/sklearn/utils/validation.py:760: DataConversionWarning: A column-vector y was passed when a 1d array was expected. Please change the shape of y to (n_samples, ), for example using ravel().\n",
            "  y = column_or_1d(y, warn=True)\n",
            "/usr/local/lib/python3.6/dist-packages/sklearn/utils/validation.py:760: DataConversionWarning: A column-vector y was passed when a 1d array was expected. Please change the shape of y to (n_samples, ), for example using ravel().\n",
            "  y = column_or_1d(y, warn=True)\n",
            "/usr/local/lib/python3.6/dist-packages/sklearn/utils/validation.py:760: DataConversionWarning: A column-vector y was passed when a 1d array was expected. Please change the shape of y to (n_samples, ), for example using ravel().\n",
            "  y = column_or_1d(y, warn=True)\n",
            "/usr/local/lib/python3.6/dist-packages/sklearn/utils/validation.py:760: DataConversionWarning: A column-vector y was passed when a 1d array was expected. Please change the shape of y to (n_samples, ), for example using ravel().\n",
            "  y = column_or_1d(y, warn=True)\n",
            "/usr/local/lib/python3.6/dist-packages/sklearn/utils/validation.py:760: DataConversionWarning: A column-vector y was passed when a 1d array was expected. Please change the shape of y to (n_samples, ), for example using ravel().\n",
            "  y = column_or_1d(y, warn=True)\n",
            "/usr/local/lib/python3.6/dist-packages/sklearn/utils/validation.py:760: DataConversionWarning: A column-vector y was passed when a 1d array was expected. Please change the shape of y to (n_samples, ), for example using ravel().\n",
            "  y = column_or_1d(y, warn=True)\n",
            "/usr/local/lib/python3.6/dist-packages/sklearn/utils/validation.py:760: DataConversionWarning: A column-vector y was passed when a 1d array was expected. Please change the shape of y to (n_samples, ), for example using ravel().\n",
            "  y = column_or_1d(y, warn=True)\n",
            "/usr/local/lib/python3.6/dist-packages/sklearn/utils/validation.py:760: DataConversionWarning: A column-vector y was passed when a 1d array was expected. Please change the shape of y to (n_samples, ), for example using ravel().\n",
            "  y = column_or_1d(y, warn=True)\n",
            "/usr/local/lib/python3.6/dist-packages/sklearn/utils/validation.py:760: DataConversionWarning: A column-vector y was passed when a 1d array was expected. Please change the shape of y to (n_samples, ), for example using ravel().\n",
            "  y = column_or_1d(y, warn=True)\n",
            "/usr/local/lib/python3.6/dist-packages/sklearn/utils/validation.py:760: DataConversionWarning: A column-vector y was passed when a 1d array was expected. Please change the shape of y to (n_samples, ), for example using ravel().\n",
            "  y = column_or_1d(y, warn=True)\n",
            "/usr/local/lib/python3.6/dist-packages/sklearn/utils/validation.py:760: DataConversionWarning: A column-vector y was passed when a 1d array was expected. Please change the shape of y to (n_samples, ), for example using ravel().\n",
            "  y = column_or_1d(y, warn=True)\n",
            "/usr/local/lib/python3.6/dist-packages/sklearn/utils/validation.py:760: DataConversionWarning: A column-vector y was passed when a 1d array was expected. Please change the shape of y to (n_samples, ), for example using ravel().\n",
            "  y = column_or_1d(y, warn=True)\n",
            "/usr/local/lib/python3.6/dist-packages/sklearn/utils/validation.py:760: DataConversionWarning: A column-vector y was passed when a 1d array was expected. Please change the shape of y to (n_samples, ), for example using ravel().\n",
            "  y = column_or_1d(y, warn=True)\n",
            "/usr/local/lib/python3.6/dist-packages/sklearn/utils/validation.py:760: DataConversionWarning: A column-vector y was passed when a 1d array was expected. Please change the shape of y to (n_samples, ), for example using ravel().\n",
            "  y = column_or_1d(y, warn=True)\n"
          ],
          "name": "stderr"
        },
        {
          "output_type": "execute_result",
          "data": {
            "text/html": [
              "<div>\n",
              "<style scoped>\n",
              "    .dataframe tbody tr th:only-of-type {\n",
              "        vertical-align: middle;\n",
              "    }\n",
              "\n",
              "    .dataframe tbody tr th {\n",
              "        vertical-align: top;\n",
              "    }\n",
              "\n",
              "    .dataframe thead th {\n",
              "        text-align: right;\n",
              "    }\n",
              "</style>\n",
              "<table border=\"1\" class=\"dataframe\">\n",
              "  <thead>\n",
              "    <tr style=\"text-align: right;\">\n",
              "      <th></th>\n",
              "      <th>C</th>\n",
              "      <th>mean_test_score</th>\n",
              "    </tr>\n",
              "  </thead>\n",
              "  <tbody>\n",
              "    <tr>\n",
              "      <th>1</th>\n",
              "      <td>0.010</td>\n",
              "      <td>0.728</td>\n",
              "    </tr>\n",
              "    <tr>\n",
              "      <th>2</th>\n",
              "      <td>0.100</td>\n",
              "      <td>0.688</td>\n",
              "    </tr>\n",
              "    <tr>\n",
              "      <th>3</th>\n",
              "      <td>1.000</td>\n",
              "      <td>0.616</td>\n",
              "    </tr>\n",
              "    <tr>\n",
              "      <th>7</th>\n",
              "      <td>100.000</td>\n",
              "      <td>0.592</td>\n",
              "    </tr>\n",
              "    <tr>\n",
              "      <th>0</th>\n",
              "      <td>0.001</td>\n",
              "      <td>0.584</td>\n",
              "    </tr>\n",
              "    <tr>\n",
              "      <th>4</th>\n",
              "      <td>10.000</td>\n",
              "      <td>0.584</td>\n",
              "    </tr>\n",
              "    <tr>\n",
              "      <th>5</th>\n",
              "      <td>25.000</td>\n",
              "      <td>0.584</td>\n",
              "    </tr>\n",
              "    <tr>\n",
              "      <th>6</th>\n",
              "      <td>50.000</td>\n",
              "      <td>0.584</td>\n",
              "    </tr>\n",
              "  </tbody>\n",
              "</table>\n",
              "</div>"
            ],
            "text/plain": [
              "         C  mean_test_score\n",
              "1  0.010    0.728          \n",
              "2  0.100    0.688          \n",
              "3  1.000    0.616          \n",
              "7  100.000  0.592          \n",
              "0  0.001    0.584          \n",
              "4  10.000   0.584          \n",
              "5  25.000   0.584          \n",
              "6  50.000   0.584          "
            ]
          },
          "metadata": {
            "tags": []
          },
          "execution_count": 158
        }
      ]
    },
    {
      "cell_type": "code",
      "metadata": {
        "id": "Oj1FtdEL8Z-z"
      },
      "source": [
        "from sklearn.model_selection import GridSearchCV\n",
        "\n",
        "# 테스트하고자 하는 파라미터 값들을 사전타입으로 정의\n",
        "\n",
        "drop_first_svm = svm.SVC(kernel = 'rbf',random_state=100)\n",
        "parameters = {'C': [0.001, 0.01, 0.1, 1, 10, 25, 50, 100],\n",
        "             'gamma':[0.001, 0.01, 0.1, 1, 10, 25, 50, 100]}\n",
        "\n",
        "drop_first_svm = GridSearchCV(drop_first_svm,\n",
        "                      param_grid = parameters, cv = 10)\n",
        "\n",
        "drop_first_svm.fit(x_drop_first_train, y_drop_first_train)\n",
        "\n",
        "result = pd.DataFrame(drop_first_svm.cv_results_['params'])\n",
        "result['mean_test_score'] = drop_first_svm.cv_results_['mean_test_score']"
      ],
      "execution_count": null,
      "outputs": []
    },
    {
      "cell_type": "code",
      "metadata": {
        "id": "FA376-Au85m4"
      },
      "source": [
        "result.sort_values(by='mean_test_score', ascending=False)"
      ],
      "execution_count": null,
      "outputs": []
    },
    {
      "cell_type": "code",
      "metadata": {
        "id": "xls_BDxL8-Sw",
        "colab": {
          "base_uri": "https://localhost:8080/",
          "height": 1000
        },
        "outputId": "ec651226-196c-41b0-d4d5-8859f73e3916"
      },
      "source": [
        "drop_first_svm =svm.SVC(kernel = 'rbf',C=5, gamma=0.01,probability = True)\n",
        "drop_first_svm.fit(x_drop_first_train, y_drop_first_train)\n",
        "drop_first_svm_score = cross_val_score(drop_first_svm, x_drop_first_train, y_drop_first_train, cv = 10)\n",
        "drop_first_svm_score\n",
        "\n",
        "pd.DataFrame(cross_validate(drop_first_svm, x_drop_first_train, y_drop_first_train, cv =10))"
      ],
      "execution_count": null,
      "outputs": [
        {
          "output_type": "stream",
          "text": [
            "/usr/local/lib/python3.6/dist-packages/sklearn/utils/validation.py:760: DataConversionWarning: A column-vector y was passed when a 1d array was expected. Please change the shape of y to (n_samples, ), for example using ravel().\n",
            "  y = column_or_1d(y, warn=True)\n",
            "/usr/local/lib/python3.6/dist-packages/sklearn/utils/validation.py:760: DataConversionWarning: A column-vector y was passed when a 1d array was expected. Please change the shape of y to (n_samples, ), for example using ravel().\n",
            "  y = column_or_1d(y, warn=True)\n",
            "/usr/local/lib/python3.6/dist-packages/sklearn/utils/validation.py:760: DataConversionWarning: A column-vector y was passed when a 1d array was expected. Please change the shape of y to (n_samples, ), for example using ravel().\n",
            "  y = column_or_1d(y, warn=True)\n",
            "/usr/local/lib/python3.6/dist-packages/sklearn/utils/validation.py:760: DataConversionWarning: A column-vector y was passed when a 1d array was expected. Please change the shape of y to (n_samples, ), for example using ravel().\n",
            "  y = column_or_1d(y, warn=True)\n",
            "/usr/local/lib/python3.6/dist-packages/sklearn/utils/validation.py:760: DataConversionWarning: A column-vector y was passed when a 1d array was expected. Please change the shape of y to (n_samples, ), for example using ravel().\n",
            "  y = column_or_1d(y, warn=True)\n",
            "/usr/local/lib/python3.6/dist-packages/sklearn/utils/validation.py:760: DataConversionWarning: A column-vector y was passed when a 1d array was expected. Please change the shape of y to (n_samples, ), for example using ravel().\n",
            "  y = column_or_1d(y, warn=True)\n",
            "/usr/local/lib/python3.6/dist-packages/sklearn/utils/validation.py:760: DataConversionWarning: A column-vector y was passed when a 1d array was expected. Please change the shape of y to (n_samples, ), for example using ravel().\n",
            "  y = column_or_1d(y, warn=True)\n",
            "/usr/local/lib/python3.6/dist-packages/sklearn/utils/validation.py:760: DataConversionWarning: A column-vector y was passed when a 1d array was expected. Please change the shape of y to (n_samples, ), for example using ravel().\n",
            "  y = column_or_1d(y, warn=True)\n",
            "/usr/local/lib/python3.6/dist-packages/sklearn/utils/validation.py:760: DataConversionWarning: A column-vector y was passed when a 1d array was expected. Please change the shape of y to (n_samples, ), for example using ravel().\n",
            "  y = column_or_1d(y, warn=True)\n",
            "/usr/local/lib/python3.6/dist-packages/sklearn/utils/validation.py:760: DataConversionWarning: A column-vector y was passed when a 1d array was expected. Please change the shape of y to (n_samples, ), for example using ravel().\n",
            "  y = column_or_1d(y, warn=True)\n",
            "/usr/local/lib/python3.6/dist-packages/sklearn/utils/validation.py:760: DataConversionWarning: A column-vector y was passed when a 1d array was expected. Please change the shape of y to (n_samples, ), for example using ravel().\n",
            "  y = column_or_1d(y, warn=True)\n",
            "/usr/local/lib/python3.6/dist-packages/sklearn/utils/validation.py:760: DataConversionWarning: A column-vector y was passed when a 1d array was expected. Please change the shape of y to (n_samples, ), for example using ravel().\n",
            "  y = column_or_1d(y, warn=True)\n",
            "/usr/local/lib/python3.6/dist-packages/sklearn/utils/validation.py:760: DataConversionWarning: A column-vector y was passed when a 1d array was expected. Please change the shape of y to (n_samples, ), for example using ravel().\n",
            "  y = column_or_1d(y, warn=True)\n",
            "/usr/local/lib/python3.6/dist-packages/sklearn/utils/validation.py:760: DataConversionWarning: A column-vector y was passed when a 1d array was expected. Please change the shape of y to (n_samples, ), for example using ravel().\n",
            "  y = column_or_1d(y, warn=True)\n",
            "/usr/local/lib/python3.6/dist-packages/sklearn/utils/validation.py:760: DataConversionWarning: A column-vector y was passed when a 1d array was expected. Please change the shape of y to (n_samples, ), for example using ravel().\n",
            "  y = column_or_1d(y, warn=True)\n",
            "/usr/local/lib/python3.6/dist-packages/sklearn/utils/validation.py:760: DataConversionWarning: A column-vector y was passed when a 1d array was expected. Please change the shape of y to (n_samples, ), for example using ravel().\n",
            "  y = column_or_1d(y, warn=True)\n",
            "/usr/local/lib/python3.6/dist-packages/sklearn/utils/validation.py:760: DataConversionWarning: A column-vector y was passed when a 1d array was expected. Please change the shape of y to (n_samples, ), for example using ravel().\n",
            "  y = column_or_1d(y, warn=True)\n",
            "/usr/local/lib/python3.6/dist-packages/sklearn/utils/validation.py:760: DataConversionWarning: A column-vector y was passed when a 1d array was expected. Please change the shape of y to (n_samples, ), for example using ravel().\n",
            "  y = column_or_1d(y, warn=True)\n",
            "/usr/local/lib/python3.6/dist-packages/sklearn/utils/validation.py:760: DataConversionWarning: A column-vector y was passed when a 1d array was expected. Please change the shape of y to (n_samples, ), for example using ravel().\n",
            "  y = column_or_1d(y, warn=True)\n",
            "/usr/local/lib/python3.6/dist-packages/sklearn/utils/validation.py:760: DataConversionWarning: A column-vector y was passed when a 1d array was expected. Please change the shape of y to (n_samples, ), for example using ravel().\n",
            "  y = column_or_1d(y, warn=True)\n",
            "/usr/local/lib/python3.6/dist-packages/sklearn/utils/validation.py:760: DataConversionWarning: A column-vector y was passed when a 1d array was expected. Please change the shape of y to (n_samples, ), for example using ravel().\n",
            "  y = column_or_1d(y, warn=True)\n"
          ],
          "name": "stderr"
        },
        {
          "output_type": "execute_result",
          "data": {
            "text/html": [
              "<div>\n",
              "<style scoped>\n",
              "    .dataframe tbody tr th:only-of-type {\n",
              "        vertical-align: middle;\n",
              "    }\n",
              "\n",
              "    .dataframe tbody tr th {\n",
              "        vertical-align: top;\n",
              "    }\n",
              "\n",
              "    .dataframe thead th {\n",
              "        text-align: right;\n",
              "    }\n",
              "</style>\n",
              "<table border=\"1\" class=\"dataframe\">\n",
              "  <thead>\n",
              "    <tr style=\"text-align: right;\">\n",
              "      <th></th>\n",
              "      <th>fit_time</th>\n",
              "      <th>score_time</th>\n",
              "      <th>test_score</th>\n",
              "    </tr>\n",
              "  </thead>\n",
              "  <tbody>\n",
              "    <tr>\n",
              "      <th>0</th>\n",
              "      <td>0.008394</td>\n",
              "      <td>0.001371</td>\n",
              "      <td>0.750000</td>\n",
              "    </tr>\n",
              "    <tr>\n",
              "      <th>1</th>\n",
              "      <td>0.008330</td>\n",
              "      <td>0.001348</td>\n",
              "      <td>0.583333</td>\n",
              "    </tr>\n",
              "    <tr>\n",
              "      <th>2</th>\n",
              "      <td>0.008262</td>\n",
              "      <td>0.001395</td>\n",
              "      <td>0.636364</td>\n",
              "    </tr>\n",
              "    <tr>\n",
              "      <th>3</th>\n",
              "      <td>0.008500</td>\n",
              "      <td>0.001630</td>\n",
              "      <td>0.636364</td>\n",
              "    </tr>\n",
              "    <tr>\n",
              "      <th>4</th>\n",
              "      <td>0.009074</td>\n",
              "      <td>0.001658</td>\n",
              "      <td>0.727273</td>\n",
              "    </tr>\n",
              "    <tr>\n",
              "      <th>5</th>\n",
              "      <td>0.009060</td>\n",
              "      <td>0.001616</td>\n",
              "      <td>0.727273</td>\n",
              "    </tr>\n",
              "    <tr>\n",
              "      <th>6</th>\n",
              "      <td>0.009154</td>\n",
              "      <td>0.002090</td>\n",
              "      <td>0.636364</td>\n",
              "    </tr>\n",
              "    <tr>\n",
              "      <th>7</th>\n",
              "      <td>0.009138</td>\n",
              "      <td>0.001316</td>\n",
              "      <td>0.545455</td>\n",
              "    </tr>\n",
              "    <tr>\n",
              "      <th>8</th>\n",
              "      <td>0.008493</td>\n",
              "      <td>0.001453</td>\n",
              "      <td>0.909091</td>\n",
              "    </tr>\n",
              "    <tr>\n",
              "      <th>9</th>\n",
              "      <td>0.008452</td>\n",
              "      <td>0.001765</td>\n",
              "      <td>0.727273</td>\n",
              "    </tr>\n",
              "  </tbody>\n",
              "</table>\n",
              "</div>"
            ],
            "text/plain": [
              "   fit_time  score_time  test_score\n",
              "0  0.008394    0.001371    0.750000\n",
              "1  0.008330    0.001348    0.583333\n",
              "2  0.008262    0.001395    0.636364\n",
              "3  0.008500    0.001630    0.636364\n",
              "4  0.009074    0.001658    0.727273\n",
              "5  0.009060    0.001616    0.727273\n",
              "6  0.009154    0.002090    0.636364\n",
              "7  0.009138    0.001316    0.545455\n",
              "8  0.008493    0.001453    0.909091\n",
              "9  0.008452    0.001765    0.727273"
            ]
          },
          "metadata": {
            "tags": []
          },
          "execution_count": 178
        }
      ]
    },
    {
      "cell_type": "code",
      "metadata": {
        "colab": {
          "base_uri": "https://localhost:8080/"
        },
        "id": "VicxeWgg9Lhc",
        "outputId": "2598f47a-364b-4f94-b5a1-82afc2663983"
      },
      "source": [
        "drop_first_svm_score = drop_first_svm_score.mean()\n",
        "drop_first_svm_score"
      ],
      "execution_count": null,
      "outputs": [
        {
          "output_type": "execute_result",
          "data": {
            "text/plain": [
              "0.6878787878787879"
            ]
          },
          "metadata": {
            "tags": []
          },
          "execution_count": 179
        }
      ]
    },
    {
      "cell_type": "code",
      "metadata": {
        "id": "DIh9wL44iLXG"
      },
      "source": [
        "y_pred = drop_first_svm.predict(x_drop_first_test)\n",
        "y_prob = drop_first_svm.predict_proba(x_drop_first_test)[:,1]"
      ],
      "execution_count": null,
      "outputs": []
    },
    {
      "cell_type": "code",
      "metadata": {
        "colab": {
          "base_uri": "https://localhost:8080/"
        },
        "id": "8Hn0GG1xiTyI",
        "outputId": "a55cc277-7332-4b51-afdf-65b35e45c8df"
      },
      "source": [
        "print(classification_report(y_drop_first_test, y_pred))"
      ],
      "execution_count": null,
      "outputs": [
        {
          "output_type": "stream",
          "text": [
            "              precision    recall  f1-score   support\n",
            "\n",
            "         1.0       0.62      0.83      0.71         6\n",
            "         3.0       0.80      0.57      0.67         7\n",
            "\n",
            "    accuracy                           0.69        13\n",
            "   macro avg       0.71      0.70      0.69        13\n",
            "weighted avg       0.72      0.69      0.69        13\n",
            "\n"
          ],
          "name": "stdout"
        }
      ]
    },
    {
      "cell_type": "code",
      "metadata": {
        "colab": {
          "base_uri": "https://localhost:8080/",
          "height": 297
        },
        "id": "7obuhiPMiWFJ",
        "outputId": "52aa8198-b2bc-44ba-915b-4c200be022a2"
      },
      "source": [
        "# TODO: confusion matrix를 시각화한다.\n",
        "from sklearn.metrics import plot_confusion_matrix\n",
        "\n",
        "plot_confusion_matrix(drop_first_svm, x_drop_first_test, y_drop_first_test, normalize = 'all')"
      ],
      "execution_count": null,
      "outputs": [
        {
          "output_type": "execute_result",
          "data": {
            "text/plain": [
              "<sklearn.metrics._plot.confusion_matrix.ConfusionMatrixDisplay at 0x7f3fb49c1320>"
            ]
          },
          "metadata": {
            "tags": []
          },
          "execution_count": 118
        },
        {
          "output_type": "display_data",
          "data": {
            "image/png": "[encoded data removed]",
            "text/plain": [
              "<Figure size 432x288 with 2 Axes>"
            ]
          },
          "metadata": {
            "tags": [],
            "needs_background": "light"
          }
        }
      ]
    },
    {
      "cell_type": "code",
      "metadata": {
        "colab": {
          "base_uri": "https://localhost:8080/",
          "height": 297
        },
        "id": "XeHWFgbQibED",
        "outputId": "fa589101-2c21-42bd-bfdd-d114123bdf23"
      },
      "source": [
        "# TODO: precision_recall curve를 시각화한다.\n",
        "from sklearn.metrics import plot_precision_recall_curve\n",
        "\n",
        "plot_precision_recall_curve(drop_first_svm, x_drop_first_test, y_drop_first_test)"
      ],
      "execution_count": null,
      "outputs": [
        {
          "output_type": "execute_result",
          "data": {
            "text/plain": [
              "<sklearn.metrics._plot.precision_recall_curve.PrecisionRecallDisplay at 0x7ff6c5ab4b38>"
            ]
          },
          "metadata": {
            "tags": []
          },
          "execution_count": 126
        },
        {
          "output_type": "display_data",
          "data": {
            "image/png": "[encoded data removed]",
            "text/plain": [
              "<Figure size 432x288 with 1 Axes>"
            ]
          },
          "metadata": {
            "tags": [],
            "needs_background": "light"
          }
        }
      ]
    },
    {
      "cell_type": "code",
      "metadata": {
        "colab": {
          "base_uri": "https://localhost:8080/"
        },
        "id": "hT0mDiKKyin2",
        "outputId": "08d6cc9c-3678-463a-c23f-7c99ce0277ba"
      },
      "source": [
        "from sklearn.metrics import roc_auc_score\n",
        "\n",
        "first_drop_svm_auc = roc_auc_score(y_drop_first_test, y_prob)\n",
        "first_drop_svm_auc"
      ],
      "execution_count": null,
      "outputs": [
        {
          "output_type": "execute_result",
          "data": {
            "text/plain": [
              "0.7380952380952381"
            ]
          },
          "metadata": {
            "tags": []
          },
          "execution_count": 181
        }
      ]
    },
    {
      "cell_type": "markdown",
      "metadata": {
        "id": "_1Te2iifHkAg"
      },
      "source": [
        "# svm - data"
      ]
    },
    {
      "cell_type": "code",
      "metadata": {
        "id": "B8toe3pK9-ha"
      },
      "source": [
        "import sklearn.svm as svm\n",
        "import sklearn.metrics as mt\n",
        "from sklearn.model_selection import cross_val_score, cross_validate\n",
        "\n",
        "# SVM, kernel = 'linear'로 선형분리 진행\n",
        " \n",
        "data_svm =svm.SVC(kernel = 'linear')\n",
        "\n",
        "# 교차검증\n",
        "\n",
        "data_svm_score = cross_val_score(data_svm, x, y, cv = 5)\n",
        "data_svm_score\n",
        "\n",
        "pd.DataFrame(cross_validate(data_svm, x, y, cv =5))"
      ],
      "execution_count": null,
      "outputs": []
    },
    {
      "cell_type": "code",
      "metadata": {
        "colab": {
          "base_uri": "https://localhost:8080/"
        },
        "id": "S8sF3fOf-zT2",
        "outputId": "95b8140b-ae10-4e04-bdf9-c24061d64501"
      },
      "source": [
        "data_svm_score = data_svm_score.mean()\n",
        "data_svm_score"
      ],
      "execution_count": null,
      "outputs": [
        {
          "output_type": "execute_result",
          "data": {
            "text/plain": [
              "0.6169340463458111"
            ]
          },
          "metadata": {
            "tags": []
          },
          "execution_count": 104
        }
      ]
    },
    {
      "cell_type": "code",
      "metadata": {
        "id": "qlPAhkFP-352"
      },
      "source": [
        "from sklearn.model_selection import GridSearchCV\n",
        "\n",
        "# 테스트하고자 하는 파라미터 값들을 사전타입으로 정의\n",
        "\n",
        "data_svm = svm.SVC(kernel = 'rbf',random_state=100)\n",
        "parameters = {'C': [0.001, 0.01, 0.1, 1, 10, 25, 50, 100],\n",
        "             'gamma':[0.001, 0.01, 0.1, 1, 10, 25, 50, 100]}\n",
        "\n",
        "data_svm = GridSearchCV(data_svm,\n",
        "                      param_grid = parameters, cv = 10)\n",
        "\n",
        "data_svm.fit(x_train, y_train)\n",
        "\n",
        "result = pd.DataFrame(data_svm.cv_results_['params'])\n",
        "result['mean_test_score'] = data_svm.cv_results_['mean_test_score']"
      ],
      "execution_count": null,
      "outputs": []
    },
    {
      "cell_type": "code",
      "metadata": {
        "id": "-WGd0wUs_C3-"
      },
      "source": [
        "result.sort_values(by='mean_test_score', ascending=False)"
      ],
      "execution_count": null,
      "outputs": []
    },
    {
      "cell_type": "code",
      "metadata": {
        "id": "tO4OqOMg_RfS",
        "colab": {
          "base_uri": "https://localhost:8080/",
          "height": 1000
        },
        "outputId": "fbaa0418-44bd-4549-9fb4-5e950dd80301"
      },
      "source": [
        "data_svm =svm.SVC(kernel = 'rbf',C=1, gamma=0.03,probability = True)\n",
        "data_svm.fit(x_train, y_train)\n",
        "data_svm_score = cross_val_score(data_svm, x_train, y_train, cv = 10)\n",
        "data_svm_score\n",
        "\n",
        "pd.DataFrame(cross_validate(data_svm, x_train, y_train, cv =10))"
      ],
      "execution_count": null,
      "outputs": [
        {
          "output_type": "stream",
          "text": [
            "/usr/local/lib/python3.6/dist-packages/sklearn/utils/validation.py:760: DataConversionWarning: A column-vector y was passed when a 1d array was expected. Please change the shape of y to (n_samples, ), for example using ravel().\n",
            "  y = column_or_1d(y, warn=True)\n",
            "/usr/local/lib/python3.6/dist-packages/sklearn/utils/validation.py:760: DataConversionWarning: A column-vector y was passed when a 1d array was expected. Please change the shape of y to (n_samples, ), for example using ravel().\n",
            "  y = column_or_1d(y, warn=True)\n",
            "/usr/local/lib/python3.6/dist-packages/sklearn/utils/validation.py:760: DataConversionWarning: A column-vector y was passed when a 1d array was expected. Please change the shape of y to (n_samples, ), for example using ravel().\n",
            "  y = column_or_1d(y, warn=True)\n",
            "/usr/local/lib/python3.6/dist-packages/sklearn/utils/validation.py:760: DataConversionWarning: A column-vector y was passed when a 1d array was expected. Please change the shape of y to (n_samples, ), for example using ravel().\n",
            "  y = column_or_1d(y, warn=True)\n",
            "/usr/local/lib/python3.6/dist-packages/sklearn/utils/validation.py:760: DataConversionWarning: A column-vector y was passed when a 1d array was expected. Please change the shape of y to (n_samples, ), for example using ravel().\n",
            "  y = column_or_1d(y, warn=True)\n",
            "/usr/local/lib/python3.6/dist-packages/sklearn/utils/validation.py:760: DataConversionWarning: A column-vector y was passed when a 1d array was expected. Please change the shape of y to (n_samples, ), for example using ravel().\n",
            "  y = column_or_1d(y, warn=True)\n",
            "/usr/local/lib/python3.6/dist-packages/sklearn/utils/validation.py:760: DataConversionWarning: A column-vector y was passed when a 1d array was expected. Please change the shape of y to (n_samples, ), for example using ravel().\n",
            "  y = column_or_1d(y, warn=True)\n",
            "/usr/local/lib/python3.6/dist-packages/sklearn/utils/validation.py:760: DataConversionWarning: A column-vector y was passed when a 1d array was expected. Please change the shape of y to (n_samples, ), for example using ravel().\n",
            "  y = column_or_1d(y, warn=True)\n",
            "/usr/local/lib/python3.6/dist-packages/sklearn/utils/validation.py:760: DataConversionWarning: A column-vector y was passed when a 1d array was expected. Please change the shape of y to (n_samples, ), for example using ravel().\n",
            "  y = column_or_1d(y, warn=True)\n",
            "/usr/local/lib/python3.6/dist-packages/sklearn/utils/validation.py:760: DataConversionWarning: A column-vector y was passed when a 1d array was expected. Please change the shape of y to (n_samples, ), for example using ravel().\n",
            "  y = column_or_1d(y, warn=True)\n",
            "/usr/local/lib/python3.6/dist-packages/sklearn/utils/validation.py:760: DataConversionWarning: A column-vector y was passed when a 1d array was expected. Please change the shape of y to (n_samples, ), for example using ravel().\n",
            "  y = column_or_1d(y, warn=True)\n",
            "/usr/local/lib/python3.6/dist-packages/sklearn/utils/validation.py:760: DataConversionWarning: A column-vector y was passed when a 1d array was expected. Please change the shape of y to (n_samples, ), for example using ravel().\n",
            "  y = column_or_1d(y, warn=True)\n",
            "/usr/local/lib/python3.6/dist-packages/sklearn/utils/validation.py:760: DataConversionWarning: A column-vector y was passed when a 1d array was expected. Please change the shape of y to (n_samples, ), for example using ravel().\n",
            "  y = column_or_1d(y, warn=True)\n",
            "/usr/local/lib/python3.6/dist-packages/sklearn/utils/validation.py:760: DataConversionWarning: A column-vector y was passed when a 1d array was expected. Please change the shape of y to (n_samples, ), for example using ravel().\n",
            "  y = column_or_1d(y, warn=True)\n",
            "/usr/local/lib/python3.6/dist-packages/sklearn/utils/validation.py:760: DataConversionWarning: A column-vector y was passed when a 1d array was expected. Please change the shape of y to (n_samples, ), for example using ravel().\n",
            "  y = column_or_1d(y, warn=True)\n",
            "/usr/local/lib/python3.6/dist-packages/sklearn/utils/validation.py:760: DataConversionWarning: A column-vector y was passed when a 1d array was expected. Please change the shape of y to (n_samples, ), for example using ravel().\n",
            "  y = column_or_1d(y, warn=True)\n",
            "/usr/local/lib/python3.6/dist-packages/sklearn/utils/validation.py:760: DataConversionWarning: A column-vector y was passed when a 1d array was expected. Please change the shape of y to (n_samples, ), for example using ravel().\n",
            "  y = column_or_1d(y, warn=True)\n",
            "/usr/local/lib/python3.6/dist-packages/sklearn/utils/validation.py:760: DataConversionWarning: A column-vector y was passed when a 1d array was expected. Please change the shape of y to (n_samples, ), for example using ravel().\n",
            "  y = column_or_1d(y, warn=True)\n",
            "/usr/local/lib/python3.6/dist-packages/sklearn/utils/validation.py:760: DataConversionWarning: A column-vector y was passed when a 1d array was expected. Please change the shape of y to (n_samples, ), for example using ravel().\n",
            "  y = column_or_1d(y, warn=True)\n",
            "/usr/local/lib/python3.6/dist-packages/sklearn/utils/validation.py:760: DataConversionWarning: A column-vector y was passed when a 1d array was expected. Please change the shape of y to (n_samples, ), for example using ravel().\n",
            "  y = column_or_1d(y, warn=True)\n",
            "/usr/local/lib/python3.6/dist-packages/sklearn/utils/validation.py:760: DataConversionWarning: A column-vector y was passed when a 1d array was expected. Please change the shape of y to (n_samples, ), for example using ravel().\n",
            "  y = column_or_1d(y, warn=True)\n"
          ],
          "name": "stderr"
        },
        {
          "output_type": "execute_result",
          "data": {
            "text/html": [
              "<div>\n",
              "<style scoped>\n",
              "    .dataframe tbody tr th:only-of-type {\n",
              "        vertical-align: middle;\n",
              "    }\n",
              "\n",
              "    .dataframe tbody tr th {\n",
              "        vertical-align: top;\n",
              "    }\n",
              "\n",
              "    .dataframe thead th {\n",
              "        text-align: right;\n",
              "    }\n",
              "</style>\n",
              "<table border=\"1\" class=\"dataframe\">\n",
              "  <thead>\n",
              "    <tr style=\"text-align: right;\">\n",
              "      <th></th>\n",
              "      <th>fit_time</th>\n",
              "      <th>score_time</th>\n",
              "      <th>test_score</th>\n",
              "    </tr>\n",
              "  </thead>\n",
              "  <tbody>\n",
              "    <tr>\n",
              "      <th>0</th>\n",
              "      <td>0.014160</td>\n",
              "      <td>0.002059</td>\n",
              "      <td>0.800000</td>\n",
              "    </tr>\n",
              "    <tr>\n",
              "      <th>1</th>\n",
              "      <td>0.014310</td>\n",
              "      <td>0.001744</td>\n",
              "      <td>0.800000</td>\n",
              "    </tr>\n",
              "    <tr>\n",
              "      <th>2</th>\n",
              "      <td>0.013358</td>\n",
              "      <td>0.001943</td>\n",
              "      <td>0.733333</td>\n",
              "    </tr>\n",
              "    <tr>\n",
              "      <th>3</th>\n",
              "      <td>0.013721</td>\n",
              "      <td>0.001723</td>\n",
              "      <td>0.666667</td>\n",
              "    </tr>\n",
              "    <tr>\n",
              "      <th>4</th>\n",
              "      <td>0.012657</td>\n",
              "      <td>0.001713</td>\n",
              "      <td>0.866667</td>\n",
              "    </tr>\n",
              "    <tr>\n",
              "      <th>5</th>\n",
              "      <td>0.012765</td>\n",
              "      <td>0.001727</td>\n",
              "      <td>0.800000</td>\n",
              "    </tr>\n",
              "    <tr>\n",
              "      <th>6</th>\n",
              "      <td>0.013247</td>\n",
              "      <td>0.001943</td>\n",
              "      <td>0.733333</td>\n",
              "    </tr>\n",
              "    <tr>\n",
              "      <th>7</th>\n",
              "      <td>0.013981</td>\n",
              "      <td>0.001718</td>\n",
              "      <td>0.800000</td>\n",
              "    </tr>\n",
              "    <tr>\n",
              "      <th>8</th>\n",
              "      <td>0.014593</td>\n",
              "      <td>0.001926</td>\n",
              "      <td>0.800000</td>\n",
              "    </tr>\n",
              "    <tr>\n",
              "      <th>9</th>\n",
              "      <td>0.015577</td>\n",
              "      <td>0.001787</td>\n",
              "      <td>0.733333</td>\n",
              "    </tr>\n",
              "  </tbody>\n",
              "</table>\n",
              "</div>"
            ],
            "text/plain": [
              "   fit_time  score_time  test_score\n",
              "0  0.014160    0.002059    0.800000\n",
              "1  0.014310    0.001744    0.800000\n",
              "2  0.013358    0.001943    0.733333\n",
              "3  0.013721    0.001723    0.666667\n",
              "4  0.012657    0.001713    0.866667\n",
              "5  0.012765    0.001727    0.800000\n",
              "6  0.013247    0.001943    0.733333\n",
              "7  0.013981    0.001718    0.800000\n",
              "8  0.014593    0.001926    0.800000\n",
              "9  0.015577    0.001787    0.733333"
            ]
          },
          "metadata": {
            "tags": []
          },
          "execution_count": 182
        }
      ]
    },
    {
      "cell_type": "code",
      "metadata": {
        "colab": {
          "base_uri": "https://localhost:8080/"
        },
        "id": "iU-E2i4hAVhd",
        "outputId": "3a6b8658-f1fb-4bd5-a076-c2ce5b057a78"
      },
      "source": [
        "data_svm_score = data_svm_score.mean()\n",
        "data_svm_score"
      ],
      "execution_count": null,
      "outputs": [
        {
          "output_type": "execute_result",
          "data": {
            "text/plain": [
              "0.7733333333333333"
            ]
          },
          "metadata": {
            "tags": []
          },
          "execution_count": 184
        }
      ]
    },
    {
      "cell_type": "code",
      "metadata": {
        "id": "A8GSoJ7NAkjp"
      },
      "source": [
        "y_pred = data_svm.predict(x_test)\n",
        "y_prob = data_svm.predict_proba(x_test)[:,1]"
      ],
      "execution_count": null,
      "outputs": []
    },
    {
      "cell_type": "code",
      "metadata": {
        "colab": {
          "base_uri": "https://localhost:8080/"
        },
        "id": "4DpwyNnzhup3",
        "outputId": "d0174254-1384-43c3-9a09-010324841d51"
      },
      "source": [
        "print(classification_report(y_test, y_pred))"
      ],
      "execution_count": null,
      "outputs": [
        {
          "output_type": "stream",
          "text": [
            "              precision    recall  f1-score   support\n",
            "\n",
            "         1.0       0.67      0.86      0.75         7\n",
            "         3.0       0.88      0.70      0.78        10\n",
            "\n",
            "    accuracy                           0.76        17\n",
            "   macro avg       0.77      0.78      0.76        17\n",
            "weighted avg       0.79      0.76      0.77        17\n",
            "\n"
          ],
          "name": "stdout"
        }
      ]
    },
    {
      "cell_type": "code",
      "metadata": {
        "colab": {
          "base_uri": "https://localhost:8080/",
          "height": 297
        },
        "id": "KDL4n-NqhxXT",
        "outputId": "a14466f3-83f5-4db8-a7b3-115124ff2f1f"
      },
      "source": [
        "# TODO: confusion matrix를 시각화\n",
        "from sklearn.metrics import plot_confusion_matrix\n",
        "\n",
        "plot_confusion_matrix(data_svm, x_test, y_test, normalize = 'all')"
      ],
      "execution_count": null,
      "outputs": [
        {
          "output_type": "execute_result",
          "data": {
            "text/plain": [
              "<sklearn.metrics._plot.confusion_matrix.ConfusionMatrixDisplay at 0x7f3fa96e0940>"
            ]
          },
          "metadata": {
            "tags": []
          },
          "execution_count": 265
        },
        {
          "output_type": "display_data",
          "data": {
            "image/png": "[encoded data removed]",
            "text/plain": [
              "<Figure size 432x288 with 2 Axes>"
            ]
          },
          "metadata": {
            "tags": [],
            "needs_background": "light"
          }
        }
      ]
    },
    {
      "cell_type": "code",
      "metadata": {
        "colab": {
          "base_uri": "https://localhost:8080/",
          "height": 297
        },
        "id": "PCOsQZXPh0dn",
        "outputId": "2cd5c445-9360-40c9-bce9-295ae137ae71"
      },
      "source": [
        "# TODO: precision_recall curve를 시각화\n",
        "from sklearn.metrics import plot_precision_recall_curve\n",
        "\n",
        "plot_precision_recall_curve(data_svm, x_test, y_test)"
      ],
      "execution_count": null,
      "outputs": [
        {
          "output_type": "execute_result",
          "data": {
            "text/plain": [
              "<sklearn.metrics._plot.precision_recall_curve.PrecisionRecallDisplay at 0x7f3fa9535588>"
            ]
          },
          "metadata": {
            "tags": []
          },
          "execution_count": 266
        },
        {
          "output_type": "display_data",
          "data": {
            "image/png": "[encoded data removed]",
            "text/plain": [
              "<Figure size 432x288 with 1 Axes>"
            ]
          },
          "metadata": {
            "tags": [],
            "needs_background": "light"
          }
        }
      ]
    },
    {
      "cell_type": "code",
      "metadata": {
        "colab": {
          "base_uri": "https://localhost:8080/"
        },
        "id": "3qtmxiGLh4f-",
        "outputId": "e5775c37-bab9-4976-ecfd-23cfe335a29a"
      },
      "source": [
        "from sklearn.metrics import roc_auc_score\n",
        "\n",
        "data_svm_auc = roc_auc_score(y_test, y_prob)\n",
        "print(data_svm_auc)"
      ],
      "execution_count": null,
      "outputs": [
        {
          "output_type": "stream",
          "text": [
            "0.8142857142857143\n"
          ],
          "name": "stdout"
        }
      ]
    },
    {
      "cell_type": "markdown",
      "metadata": {
        "id": "wRHZ8RHgJ5q0"
      },
      "source": [
        "# XGBoost - data_first_drop"
      ]
    },
    {
      "cell_type": "code",
      "metadata": {
        "colab": {
          "base_uri": "https://localhost:8080/"
        },
        "id": "guyO61IzJ8YS",
        "outputId": "fa01a7f7-f5d6-4f3b-e34f-12c07fbf21c0"
      },
      "source": [
        "!pip install xgboost"
      ],
      "execution_count": null,
      "outputs": [
        {
          "output_type": "stream",
          "text": [
            "Requirement already satisfied: xgboost in /usr/local/lib/python3.6/dist-packages (0.90)\n",
            "Requirement already satisfied: scipy in /usr/local/lib/python3.6/dist-packages (from xgboost) (1.4.1)\n",
            "Requirement already satisfied: numpy in /usr/local/lib/python3.6/dist-packages (from xgboost) (1.18.5)\n"
          ],
          "name": "stdout"
        }
      ]
    },
    {
      "cell_type": "code",
      "metadata": {
        "id": "l1ZTu6W2KGm1"
      },
      "source": [
        "from xgboost import plot_importance\n",
        "from xgboost import XGBClassifier"
      ],
      "execution_count": null,
      "outputs": []
    },
    {
      "cell_type": "code",
      "metadata": {
        "id": "T6560FMnMojK"
      },
      "source": [
        "xgb=XGBClassifier()"
      ],
      "execution_count": null,
      "outputs": []
    },
    {
      "cell_type": "code",
      "metadata": {
        "colab": {
          "base_uri": "https://localhost:8080/"
        },
        "id": "rXc1yewrKbb7",
        "outputId": "7a637e84-b1a3-4919-a589-640a75917050"
      },
      "source": [
        "xgb_param_grid = {'n_estimators' : [1,10,20,50,100,200],\n",
        "                  'learning_rate' : [0.01,0.02,0.03,0.05,0.1,0.15,0.2],\n",
        "                  'max_depth' : [2,3,4]}\n",
        "xgb_grid = GridSearchCV(xgb, param_grid=xgb_param_grid, scoring='accuracy',n_jobs=-1,verbose=1)\n",
        "xgb_grid.fit(x_drop_first_train, y_drop_first_train)"
      ],
      "execution_count": null,
      "outputs": [
        {
          "output_type": "stream",
          "text": [
            "Fitting 5 folds for each of 126 candidates, totalling 630 fits\n"
          ],
          "name": "stdout"
        },
        {
          "output_type": "stream",
          "text": [
            "[Parallel(n_jobs=-1)]: Using backend LokyBackend with 2 concurrent workers.\n",
            "[Parallel(n_jobs=-1)]: Done 128 tasks      | elapsed:    4.2s\n",
            "[Parallel(n_jobs=-1)]: Done 630 out of 630 | elapsed:   15.9s finished\n",
            "/usr/local/lib/python3.6/dist-packages/sklearn/preprocessing/_label.py:235: DataConversionWarning: A column-vector y was passed when a 1d array was expected. Please change the shape of y to (n_samples, ), for example using ravel().\n",
            "  y = column_or_1d(y, warn=True)\n",
            "/usr/local/lib/python3.6/dist-packages/sklearn/preprocessing/_label.py:268: DataConversionWarning: A column-vector y was passed when a 1d array was expected. Please change the shape of y to (n_samples, ), for example using ravel().\n",
            "  y = column_or_1d(y, warn=True)\n"
          ],
          "name": "stderr"
        },
        {
          "output_type": "execute_result",
          "data": {
            "text/plain": [
              "GridSearchCV(cv=None, error_score=nan,\n",
              "             estimator=XGBClassifier(base_score=0.5, booster='gbtree',\n",
              "                                     colsample_bylevel=1, colsample_bynode=1,\n",
              "                                     colsample_bytree=1, gamma=0,\n",
              "                                     learning_rate=0.1, max_delta_step=0,\n",
              "                                     max_depth=3, min_child_weight=1,\n",
              "                                     missing=None, n_estimators=100, n_jobs=1,\n",
              "                                     nthread=None, objective='binary:logistic',\n",
              "                                     random_state=0, reg_alpha=0, reg_lambda=1,\n",
              "                                     scale_pos_weight=1, seed=None, silent=None,\n",
              "                                     subsample=1, verbosity=1),\n",
              "             iid='deprecated', n_jobs=-1,\n",
              "             param_grid={'learning_rate': [0.01, 0.02, 0.03, 0.05, 0.1, 0.15,\n",
              "                                           0.2],\n",
              "                         'max_depth': [2, 3, 4],\n",
              "                         'n_estimators': [1, 10, 20, 50, 100, 200]},\n",
              "             pre_dispatch='2*n_jobs', refit=True, return_train_score=False,\n",
              "             scoring='accuracy', verbose=1)"
            ]
          },
          "metadata": {
            "tags": []
          },
          "execution_count": 129
        }
      ]
    },
    {
      "cell_type": "code",
      "metadata": {
        "colab": {
          "base_uri": "https://localhost:8080/",
          "height": 208
        },
        "id": "DfA85AWuLQ6V",
        "outputId": "df81e60f-7995-47b3-9b1b-84c83d5539c6"
      },
      "source": [
        "first_drop_xgb_df = pd.DataFrame(xgb_grid.cv_results_)\n",
        "first_drop_xgb_df.sort_values(by=['rank_test_score'], inplace=True)\n",
        "pd.set_option('display.max_colwidth', -1)\n"
      ],
      "execution_count": null,
      "outputs": [
        {
          "output_type": "error",
          "ename": "NameError",
          "evalue": "ignored",
          "traceback": [
            "\u001b[0;31m---------------------------------------------------------------------------\u001b[0m",
            "\u001b[0;31mNameError\u001b[0m                                 Traceback (most recent call last)",
            "\u001b[0;32m<ipython-input-133-f04ed02e5ec1>\u001b[0m in \u001b[0;36m<module>\u001b[0;34m()\u001b[0m\n\u001b[0;32m----> 1\u001b[0;31m \u001b[0mfirst_drop_xgb_df\u001b[0m \u001b[0;34m=\u001b[0m \u001b[0mpd\u001b[0m\u001b[0;34m.\u001b[0m\u001b[0mDataFrame\u001b[0m\u001b[0;34m(\u001b[0m\u001b[0mxgb_grid\u001b[0m\u001b[0;34m.\u001b[0m\u001b[0mcv_results_\u001b[0m\u001b[0;34m)\u001b[0m\u001b[0;34m\u001b[0m\u001b[0;34m\u001b[0m\u001b[0m\n\u001b[0m\u001b[1;32m      2\u001b[0m \u001b[0mfirst_drop_xgb_df\u001b[0m\u001b[0;34m.\u001b[0m\u001b[0msort_values\u001b[0m\u001b[0;34m(\u001b[0m\u001b[0mby\u001b[0m\u001b[0;34m=\u001b[0m\u001b[0;34m[\u001b[0m\u001b[0;34m'rank_test_score'\u001b[0m\u001b[0;34m]\u001b[0m\u001b[0;34m,\u001b[0m \u001b[0minplace\u001b[0m\u001b[0;34m=\u001b[0m\u001b[0;32mTrue\u001b[0m\u001b[0;34m)\u001b[0m\u001b[0;34m\u001b[0m\u001b[0;34m\u001b[0m\u001b[0m\n\u001b[1;32m      3\u001b[0m \u001b[0mpd\u001b[0m\u001b[0;34m.\u001b[0m\u001b[0mset_option\u001b[0m\u001b[0;34m(\u001b[0m\u001b[0;34m'display.max_colwidth'\u001b[0m\u001b[0;34m,\u001b[0m \u001b[0;34m-\u001b[0m\u001b[0;36m1\u001b[0m\u001b[0;34m)\u001b[0m\u001b[0;34m\u001b[0m\u001b[0;34m\u001b[0m\u001b[0m\n",
            "\u001b[0;31mNameError\u001b[0m: name 'xgb_grid' is not defined"
          ]
        }
      ]
    },
    {
      "cell_type": "code",
      "metadata": {
        "colab": {
          "base_uri": "https://localhost:8080/",
          "height": 204
        },
        "id": "lvAJH4B4Ldwx",
        "outputId": "7db32cb9-b801-4d12-b9c3-5077ea926b42"
      },
      "source": [
        "first_drop_xgb_df[['params','mean_test_score', 'rank_test_score']].head()"
      ],
      "execution_count": null,
      "outputs": [
        {
          "output_type": "execute_result",
          "data": {
            "text/html": [
              "<div>\n",
              "<style scoped>\n",
              "    .dataframe tbody tr th:only-of-type {\n",
              "        vertical-align: middle;\n",
              "    }\n",
              "\n",
              "    .dataframe tbody tr th {\n",
              "        vertical-align: top;\n",
              "    }\n",
              "\n",
              "    .dataframe thead th {\n",
              "        text-align: right;\n",
              "    }\n",
              "</style>\n",
              "<table border=\"1\" class=\"dataframe\">\n",
              "  <thead>\n",
              "    <tr style=\"text-align: right;\">\n",
              "      <th></th>\n",
              "      <th>params</th>\n",
              "      <th>mean_test_score</th>\n",
              "      <th>rank_test_score</th>\n",
              "    </tr>\n",
              "  </thead>\n",
              "  <tbody>\n",
              "    <tr>\n",
              "      <th>91</th>\n",
              "      <td>{'learning_rate': 0.15, 'max_depth': 2, 'n_estimators': 10}</td>\n",
              "      <td>0.802767</td>\n",
              "      <td>1</td>\n",
              "    </tr>\n",
              "    <tr>\n",
              "      <th>57</th>\n",
              "      <td>{'learning_rate': 0.05, 'max_depth': 2, 'n_estimators': 50}</td>\n",
              "      <td>0.802767</td>\n",
              "      <td>1</td>\n",
              "    </tr>\n",
              "    <tr>\n",
              "      <th>39</th>\n",
              "      <td>{'learning_rate': 0.03, 'max_depth': 2, 'n_estimators': 50}</td>\n",
              "      <td>0.802372</td>\n",
              "      <td>3</td>\n",
              "    </tr>\n",
              "    <tr>\n",
              "      <th>38</th>\n",
              "      <td>{'learning_rate': 0.03, 'max_depth': 2, 'n_estimators': 20}</td>\n",
              "      <td>0.793676</td>\n",
              "      <td>4</td>\n",
              "    </tr>\n",
              "    <tr>\n",
              "      <th>92</th>\n",
              "      <td>{'learning_rate': 0.15, 'max_depth': 2, 'n_estimators': 20}</td>\n",
              "      <td>0.793676</td>\n",
              "      <td>4</td>\n",
              "    </tr>\n",
              "  </tbody>\n",
              "</table>\n",
              "</div>"
            ],
            "text/plain": [
              "                                                         params  ...  rank_test_score\n",
              "91  {'learning_rate': 0.15, 'max_depth': 2, 'n_estimators': 10}  ...  1              \n",
              "57  {'learning_rate': 0.05, 'max_depth': 2, 'n_estimators': 50}  ...  1              \n",
              "39  {'learning_rate': 0.03, 'max_depth': 2, 'n_estimators': 50}  ...  3              \n",
              "38  {'learning_rate': 0.03, 'max_depth': 2, 'n_estimators': 20}  ...  4              \n",
              "92  {'learning_rate': 0.15, 'max_depth': 2, 'n_estimators': 20}  ...  4              \n",
              "\n",
              "[5 rows x 3 columns]"
            ]
          },
          "metadata": {
            "tags": []
          },
          "execution_count": 131
        }
      ]
    },
    {
      "cell_type": "code",
      "metadata": {
        "colab": {
          "base_uri": "https://localhost:8080/"
        },
        "id": "1VWBu5UQM_1y",
        "outputId": "e7abcf78-f3fc-4c1e-fbc1-7eb847c6a234"
      },
      "source": [
        "first_drop_xgb = XGBClassifier(n_estimators=10, learning_rate=0.15,max_depth=2, random_state=42)\n",
        "first_drop_xgb.fit(x_train, y_train)"
      ],
      "execution_count": null,
      "outputs": [
        {
          "output_type": "stream",
          "text": [
            "/usr/local/lib/python3.6/dist-packages/sklearn/preprocessing/_label.py:235: DataConversionWarning: A column-vector y was passed when a 1d array was expected. Please change the shape of y to (n_samples, ), for example using ravel().\n",
            "  y = column_or_1d(y, warn=True)\n",
            "/usr/local/lib/python3.6/dist-packages/sklearn/preprocessing/_label.py:268: DataConversionWarning: A column-vector y was passed when a 1d array was expected. Please change the shape of y to (n_samples, ), for example using ravel().\n",
            "  y = column_or_1d(y, warn=True)\n"
          ],
          "name": "stderr"
        },
        {
          "output_type": "execute_result",
          "data": {
            "text/plain": [
              "XGBClassifier(base_score=0.5, booster='gbtree', colsample_bylevel=1,\n",
              "              colsample_bynode=1, colsample_bytree=1, gamma=0,\n",
              "              learning_rate=0.15, max_delta_step=0, max_depth=2,\n",
              "              min_child_weight=1, missing=None, n_estimators=10, n_jobs=1,\n",
              "              nthread=None, objective='binary:logistic', random_state=42,\n",
              "              reg_alpha=0, reg_lambda=1, scale_pos_weight=1, seed=None,\n",
              "              silent=None, subsample=1, verbosity=1)"
            ]
          },
          "metadata": {
            "tags": []
          },
          "execution_count": 147
        }
      ]
    },
    {
      "cell_type": "code",
      "metadata": {
        "colab": {
          "base_uri": "https://localhost:8080/"
        },
        "id": "qfj8kQikPaHI",
        "outputId": "7cf3f7b8-c104-4798-a88a-12da3731e8fb"
      },
      "source": [
        "first_drop_xgb_score = cross_val_score(first_drop_xgb,x_drop_first,y_drop_first, cv=10)\n",
        "first_drop_xgb_score = first_drop_xgb_score.mean()\n",
        "first_drop_xgb_score"
      ],
      "execution_count": null,
      "outputs": [
        {
          "output_type": "stream",
          "text": [
            "/usr/local/lib/python3.6/dist-packages/sklearn/preprocessing/_label.py:235: DataConversionWarning: A column-vector y was passed when a 1d array was expected. Please change the shape of y to (n_samples, ), for example using ravel().\n",
            "  y = column_or_1d(y, warn=True)\n",
            "/usr/local/lib/python3.6/dist-packages/sklearn/preprocessing/_label.py:268: DataConversionWarning: A column-vector y was passed when a 1d array was expected. Please change the shape of y to (n_samples, ), for example using ravel().\n",
            "  y = column_or_1d(y, warn=True)\n"
          ],
          "name": "stderr"
        },
        {
          "output_type": "execute_result",
          "data": {
            "text/plain": [
              "0.7448717948717949"
            ]
          },
          "metadata": {
            "tags": []
          },
          "execution_count": 148
        }
      ]
    },
    {
      "cell_type": "code",
      "metadata": {
        "colab": {
          "base_uri": "https://localhost:8080/",
          "height": 313
        },
        "id": "oF9tpDIWMYOm",
        "outputId": "33561e08-0f2f-4c96-f6d9-92309b3f7540"
      },
      "source": [
        "fig,ax = plt.subplots()\n",
        "plot_importance(first_drop_xgb, ax=ax)"
      ],
      "execution_count": null,
      "outputs": [
        {
          "output_type": "execute_result",
          "data": {
            "text/plain": [
              "<matplotlib.axes._subplots.AxesSubplot at 0x7f3fa9469470>"
            ]
          },
          "metadata": {
            "tags": []
          },
          "execution_count": 284
        },
        {
          "output_type": "display_data",
          "data": {
            "image/png": "[encoded data removed]",
            "text/plain": [
              "<Figure size 432x288 with 1 Axes>"
            ]
          },
          "metadata": {
            "tags": [],
            "needs_background": "light"
          }
        }
      ]
    },
    {
      "cell_type": "code",
      "metadata": {
        "id": "UFAZvQzaiySz"
      },
      "source": [
        "y_pred = first_drop_xgb.predict(x_drop_first_test)\n",
        "y_prob = first_drop_xgb.predict_proba(x_drop_first_test)[:,1]"
      ],
      "execution_count": null,
      "outputs": []
    },
    {
      "cell_type": "code",
      "metadata": {
        "colab": {
          "base_uri": "https://localhost:8080/"
        },
        "id": "gL0JR7wxi4tT",
        "outputId": "bc7062a8-b899-49ad-84ba-9e75b8d88d70"
      },
      "source": [
        "print(classification_report(y_drop_first_test, y_pred))"
      ],
      "execution_count": null,
      "outputs": [
        {
          "output_type": "stream",
          "text": [
            "              precision    recall  f1-score   support\n",
            "\n",
            "         1.0       0.62      0.83      0.71         6\n",
            "         3.0       0.80      0.57      0.67         7\n",
            "\n",
            "    accuracy                           0.69        13\n",
            "   macro avg       0.71      0.70      0.69        13\n",
            "weighted avg       0.72      0.69      0.69        13\n",
            "\n"
          ],
          "name": "stdout"
        }
      ]
    },
    {
      "cell_type": "code",
      "metadata": {
        "colab": {
          "base_uri": "https://localhost:8080/",
          "height": 297
        },
        "id": "NvXEuHxPi8zO",
        "outputId": "fed0eadf-8804-40ed-b20a-966126db0b80"
      },
      "source": [
        "# TODO: confusion matrix를 시각화한다.\n",
        "from sklearn.metrics import plot_confusion_matrix\n",
        "\n",
        "plot_confusion_matrix(first_drop_xgb, x_drop_first_test, y_drop_first_test, normalize = 'all')"
      ],
      "execution_count": null,
      "outputs": [
        {
          "output_type": "execute_result",
          "data": {
            "text/plain": [
              "<sklearn.metrics._plot.confusion_matrix.ConfusionMatrixDisplay at 0x7f3fa9434128>"
            ]
          },
          "metadata": {
            "tags": []
          },
          "execution_count": 287
        },
        {
          "output_type": "display_data",
          "data": {
            "image/png": "[encoded data removed]",
            "text/plain": [
              "<Figure size 432x288 with 2 Axes>"
            ]
          },
          "metadata": {
            "tags": [],
            "needs_background": "light"
          }
        }
      ]
    },
    {
      "cell_type": "code",
      "metadata": {
        "colab": {
          "base_uri": "https://localhost:8080/",
          "height": 297
        },
        "id": "lvc9UEEBi-eN",
        "outputId": "25ef4fa3-cc93-4467-84c8-560fea1d848f"
      },
      "source": [
        "# TODO: precision_recall curve를 시각화한다.\n",
        "from sklearn.metrics import plot_precision_recall_curve\n",
        "\n",
        "plot_precision_recall_curve(first_drop_xgb, x_drop_first_test, y_drop_first_test)"
      ],
      "execution_count": null,
      "outputs": [
        {
          "output_type": "execute_result",
          "data": {
            "text/plain": [
              "<sklearn.metrics._plot.precision_recall_curve.PrecisionRecallDisplay at 0x7f3fa9312ac8>"
            ]
          },
          "metadata": {
            "tags": []
          },
          "execution_count": 288
        },
        {
          "output_type": "display_data",
          "data": {
            "image/png": "[encoded data removed]",
            "text/plain": [
              "<Figure size 432x288 with 1 Axes>"
            ]
          },
          "metadata": {
            "tags": [],
            "needs_background": "light"
          }
        }
      ]
    },
    {
      "cell_type": "code",
      "metadata": {
        "colab": {
          "base_uri": "https://localhost:8080/"
        },
        "id": "S4cfwzK8jDqT",
        "outputId": "424a5edd-551b-4581-8e59-1af4b1ce61bf"
      },
      "source": [
        "from sklearn.metrics import roc_auc_score\n",
        "\n",
        "first_drop_xgb_auc = roc_auc_score(y_drop_first_test, y_prob)\n",
        "first_drop_xgb_auc"
      ],
      "execution_count": null,
      "outputs": [
        {
          "output_type": "execute_result",
          "data": {
            "text/plain": [
              "0.8571428571428572"
            ]
          },
          "metadata": {
            "tags": []
          },
          "execution_count": 150
        }
      ]
    },
    {
      "cell_type": "markdown",
      "metadata": {
        "id": "EHPfwezGL6t7"
      },
      "source": [
        "# XGBoost - data"
      ]
    },
    {
      "cell_type": "code",
      "metadata": {
        "colab": {
          "base_uri": "https://localhost:8080/"
        },
        "id": "UPzpLZsJL2ji",
        "outputId": "32948a31-579c-4dad-ccb9-d8b898989e12"
      },
      "source": [
        "xgb_param_grid = {'n_estimators' : [1,10,20,50,100,200],\n",
        "                  'learning_rate' : [0.01,0.02,0.03,0.05,0.1,0.15,0.2],\n",
        "                  'max_depth' : [2,3,4]}\n",
        "xgb_grid = GridSearchCV(xgb, param_grid=xgb_param_grid, scoring='accuracy',n_jobs=-1,verbose=1)\n",
        "xgb_grid.fit(x_train, y_train)"
      ],
      "execution_count": null,
      "outputs": [
        {
          "output_type": "stream",
          "text": [
            "Fitting 5 folds for each of 126 candidates, totalling 630 fits\n"
          ],
          "name": "stdout"
        },
        {
          "output_type": "stream",
          "text": [
            "[Parallel(n_jobs=-1)]: Using backend LokyBackend with 2 concurrent workers.\n",
            "[Parallel(n_jobs=-1)]: Done 122 tasks      | elapsed:    5.4s\n",
            "[Parallel(n_jobs=-1)]: Done 630 out of 630 | elapsed:   21.0s finished\n",
            "/usr/local/lib/python3.6/dist-packages/sklearn/preprocessing/_label.py:235: DataConversionWarning: A column-vector y was passed when a 1d array was expected. Please change the shape of y to (n_samples, ), for example using ravel().\n",
            "  y = column_or_1d(y, warn=True)\n",
            "/usr/local/lib/python3.6/dist-packages/sklearn/preprocessing/_label.py:268: DataConversionWarning: A column-vector y was passed when a 1d array was expected. Please change the shape of y to (n_samples, ), for example using ravel().\n",
            "  y = column_or_1d(y, warn=True)\n"
          ],
          "name": "stderr"
        },
        {
          "output_type": "execute_result",
          "data": {
            "text/plain": [
              "GridSearchCV(cv=None, error_score=nan,\n",
              "             estimator=XGBClassifier(base_score=0.5, booster='gbtree',\n",
              "                                     colsample_bylevel=1, colsample_bynode=1,\n",
              "                                     colsample_bytree=1, gamma=0,\n",
              "                                     learning_rate=0.1, max_delta_step=0,\n",
              "                                     max_depth=3, min_child_weight=1,\n",
              "                                     missing=None, n_estimators=100, n_jobs=1,\n",
              "                                     nthread=None, objective='binary:logistic',\n",
              "                                     random_state=0, reg_alpha=0, reg_lambda=1,\n",
              "                                     scale_pos_weight=1, seed=None, silent=None,\n",
              "                                     subsample=1, verbosity=1),\n",
              "             iid='deprecated', n_jobs=-1,\n",
              "             param_grid={'learning_rate': [0.01, 0.02, 0.03, 0.05, 0.1, 0.15,\n",
              "                                           0.2],\n",
              "                         'max_depth': [2, 3, 4],\n",
              "                         'n_estimators': [1, 10, 20, 50, 100, 200]},\n",
              "             pre_dispatch='2*n_jobs', refit=True, return_train_score=False,\n",
              "             scoring='accuracy', verbose=1)"
            ]
          },
          "metadata": {
            "tags": []
          },
          "execution_count": 299
        }
      ]
    },
    {
      "cell_type": "code",
      "metadata": {
        "colab": {
          "base_uri": "https://localhost:8080/",
          "height": 260
        },
        "id": "fCkc-3vKMDul",
        "outputId": "bbb78650-ecb4-4090-8e44-21f47993fd50"
      },
      "source": [
        "data_xgb_df = pd.DataFrame(xgb_grid.cv_results_)\n",
        "data_xgb_df.sort_values(by=['rank_test_score'], inplace=True)\n",
        "pd.set_option('display.max_colwidth', -1)\n",
        "data_xgb_df[['params','mean_test_score', 'rank_test_score']].head()"
      ],
      "execution_count": null,
      "outputs": [
        {
          "output_type": "stream",
          "text": [
            "/usr/local/lib/python3.6/dist-packages/ipykernel_launcher.py:3: FutureWarning: Passing a negative integer is deprecated in version 1.0 and will not be supported in future version. Instead, use None to not limit the column width.\n",
            "  This is separate from the ipykernel package so we can avoid doing imports until\n"
          ],
          "name": "stderr"
        },
        {
          "output_type": "execute_result",
          "data": {
            "text/html": [
              "<div>\n",
              "<style scoped>\n",
              "    .dataframe tbody tr th:only-of-type {\n",
              "        vertical-align: middle;\n",
              "    }\n",
              "\n",
              "    .dataframe tbody tr th {\n",
              "        vertical-align: top;\n",
              "    }\n",
              "\n",
              "    .dataframe thead th {\n",
              "        text-align: right;\n",
              "    }\n",
              "</style>\n",
              "<table border=\"1\" class=\"dataframe\">\n",
              "  <thead>\n",
              "    <tr style=\"text-align: right;\">\n",
              "      <th></th>\n",
              "      <th>params</th>\n",
              "      <th>mean_test_score</th>\n",
              "      <th>rank_test_score</th>\n",
              "    </tr>\n",
              "  </thead>\n",
              "  <tbody>\n",
              "    <tr>\n",
              "      <th>9</th>\n",
              "      <td>{'learning_rate': 0.01, 'max_depth': 3, 'n_estimators': 50}</td>\n",
              "      <td>0.753333</td>\n",
              "      <td>1</td>\n",
              "    </tr>\n",
              "    <tr>\n",
              "      <th>93</th>\n",
              "      <td>{'learning_rate': 0.15, 'max_depth': 2, 'n_estimators': 50}</td>\n",
              "      <td>0.753333</td>\n",
              "      <td>2</td>\n",
              "    </tr>\n",
              "    <tr>\n",
              "      <th>61</th>\n",
              "      <td>{'learning_rate': 0.05, 'max_depth': 3, 'n_estimators': 10}</td>\n",
              "      <td>0.746667</td>\n",
              "      <td>3</td>\n",
              "    </tr>\n",
              "    <tr>\n",
              "      <th>122</th>\n",
              "      <td>{'learning_rate': 0.2, 'max_depth': 4, 'n_estimators': 20}</td>\n",
              "      <td>0.746667</td>\n",
              "      <td>4</td>\n",
              "    </tr>\n",
              "    <tr>\n",
              "      <th>41</th>\n",
              "      <td>{'learning_rate': 0.03, 'max_depth': 2, 'n_estimators': 200}</td>\n",
              "      <td>0.740000</td>\n",
              "      <td>5</td>\n",
              "    </tr>\n",
              "  </tbody>\n",
              "</table>\n",
              "</div>"
            ],
            "text/plain": [
              "                                                           params  ...  rank_test_score\n",
              "9    {'learning_rate': 0.01, 'max_depth': 3, 'n_estimators': 50}   ...  1              \n",
              "93   {'learning_rate': 0.15, 'max_depth': 2, 'n_estimators': 50}   ...  2              \n",
              "61   {'learning_rate': 0.05, 'max_depth': 3, 'n_estimators': 10}   ...  3              \n",
              "122  {'learning_rate': 0.2, 'max_depth': 4, 'n_estimators': 20}    ...  4              \n",
              "41   {'learning_rate': 0.03, 'max_depth': 2, 'n_estimators': 200}  ...  5              \n",
              "\n",
              "[5 rows x 3 columns]"
            ]
          },
          "metadata": {
            "tags": []
          },
          "execution_count": 309
        }
      ]
    },
    {
      "cell_type": "code",
      "metadata": {
        "colab": {
          "base_uri": "https://localhost:8080/"
        },
        "id": "DHR5zmDwMSjD",
        "outputId": "a51cd3f8-d7d0-4921-df4f-3dab539c6a46"
      },
      "source": [
        "data_xgb = XGBClassifier(n_estimators=50, learning_rate=0.3,max_depth=3,random_state=42)\n",
        "data_xgb.fit(x_train, y_train)"
      ],
      "execution_count": null,
      "outputs": [
        {
          "output_type": "stream",
          "text": [
            "/usr/local/lib/python3.6/dist-packages/sklearn/preprocessing/_label.py:235: DataConversionWarning: A column-vector y was passed when a 1d array was expected. Please change the shape of y to (n_samples, ), for example using ravel().\n",
            "  y = column_or_1d(y, warn=True)\n",
            "/usr/local/lib/python3.6/dist-packages/sklearn/preprocessing/_label.py:268: DataConversionWarning: A column-vector y was passed when a 1d array was expected. Please change the shape of y to (n_samples, ), for example using ravel().\n",
            "  y = column_or_1d(y, warn=True)\n"
          ],
          "name": "stderr"
        },
        {
          "output_type": "execute_result",
          "data": {
            "text/plain": [
              "XGBClassifier(base_score=0.5, booster='gbtree', colsample_bylevel=1,\n",
              "              colsample_bynode=1, colsample_bytree=1, gamma=0,\n",
              "              learning_rate=0.3, max_delta_step=0, max_depth=3,\n",
              "              min_child_weight=1, missing=None, n_estimators=50, n_jobs=1,\n",
              "              nthread=None, objective='binary:logistic', random_state=42,\n",
              "              reg_alpha=0, reg_lambda=1, scale_pos_weight=1, seed=None,\n",
              "              silent=None, subsample=1, verbosity=1)"
            ]
          },
          "metadata": {
            "tags": []
          },
          "execution_count": 167
        }
      ]
    },
    {
      "cell_type": "code",
      "metadata": {
        "colab": {
          "base_uri": "https://localhost:8080/"
        },
        "id": "yjcVAUe7m5Zz",
        "outputId": "be26e2d9-d2d7-4101-cfd9-348f542460e2"
      },
      "source": [
        "data_xgb_score = data_xgb.score(x_test, y_test)\n",
        "print(data_xgb_score)"
      ],
      "execution_count": null,
      "outputs": [
        {
          "output_type": "stream",
          "text": [
            "0.7647058823529411\n"
          ],
          "name": "stdout"
        }
      ]
    },
    {
      "cell_type": "code",
      "metadata": {
        "colab": {
          "base_uri": "https://localhost:8080/",
          "height": 313
        },
        "id": "CUh8agbDPELK",
        "outputId": "3a3aac12-e776-451c-9b7a-70e3c2dd27f6"
      },
      "source": [
        "fig,ax = plt.subplots()\n",
        "plot_importance(first_drop_xgb, ax=ax)"
      ],
      "execution_count": null,
      "outputs": [
        {
          "output_type": "execute_result",
          "data": {
            "text/plain": [
              "<matplotlib.axes._subplots.AxesSubplot at 0x7f3fa7e0eac8>"
            ]
          },
          "metadata": {
            "tags": []
          },
          "execution_count": 340
        },
        {
          "output_type": "display_data",
          "data": {
            "image/png": "[encoded data removed]",
            "text/plain": [
              "<Figure size 432x288 with 1 Axes>"
            ]
          },
          "metadata": {
            "tags": [],
            "needs_background": "light"
          }
        }
      ]
    },
    {
      "cell_type": "code",
      "metadata": {
        "id": "rCmsic6cjI_m"
      },
      "source": [
        "y_pred = data_xgb.predict(x_test)\n",
        "y_prob = data_xgb.predict_proba(x_test)[:,1]"
      ],
      "execution_count": null,
      "outputs": []
    },
    {
      "cell_type": "code",
      "metadata": {
        "colab": {
          "base_uri": "https://localhost:8080/"
        },
        "id": "dMhYwd2LjPXq",
        "outputId": "4a9c03da-d926-4165-95bd-ec16ee90d42e"
      },
      "source": [
        "print(classification_report(y_test, y_pred))"
      ],
      "execution_count": null,
      "outputs": [
        {
          "output_type": "stream",
          "text": [
            "              precision    recall  f1-score   support\n",
            "\n",
            "         1.0       0.75      0.86      0.80         7\n",
            "         3.0       0.89      0.80      0.84        10\n",
            "\n",
            "    accuracy                           0.82        17\n",
            "   macro avg       0.82      0.83      0.82        17\n",
            "weighted avg       0.83      0.82      0.82        17\n",
            "\n"
          ],
          "name": "stdout"
        }
      ]
    },
    {
      "cell_type": "code",
      "metadata": {
        "colab": {
          "base_uri": "https://localhost:8080/",
          "height": 297
        },
        "id": "WOwi9ojZjVBe",
        "outputId": "867cf75c-c846-4f51-9300-0bf4a6f1a3fb"
      },
      "source": [
        "# TODO: confusion matrix를 시각화한다.\n",
        "from sklearn.metrics import plot_confusion_matrix\n",
        "\n",
        "plot_confusion_matrix(data_xgb, x_test, y_test, normalize = 'all')"
      ],
      "execution_count": null,
      "outputs": [
        {
          "output_type": "execute_result",
          "data": {
            "text/plain": [
              "<sklearn.metrics._plot.confusion_matrix.ConfusionMatrixDisplay at 0x7f3fb4c1a320>"
            ]
          },
          "metadata": {
            "tags": []
          },
          "execution_count": 343
        },
        {
          "output_type": "display_data",
          "data": {
            "image/png": "[encoded data removed]",
            "text/plain": [
              "<Figure size 432x288 with 2 Axes>"
            ]
          },
          "metadata": {
            "tags": [],
            "needs_background": "light"
          }
        }
      ]
    },
    {
      "cell_type": "code",
      "metadata": {
        "colab": {
          "base_uri": "https://localhost:8080/",
          "height": 297
        },
        "id": "3iuK4nk9jYGw",
        "outputId": "3b434ed1-da61-485d-ca75-0d0b41e058d6"
      },
      "source": [
        "# TODO: precision_recall curve를 시각화한다.\n",
        "from sklearn.metrics import plot_precision_recall_curve\n",
        "\n",
        "plot_precision_recall_curve(data_xgb, x_test, y_test)"
      ],
      "execution_count": null,
      "outputs": [
        {
          "output_type": "execute_result",
          "data": {
            "text/plain": [
              "<sklearn.metrics._plot.precision_recall_curve.PrecisionRecallDisplay at 0x7f3fb4c40668>"
            ]
          },
          "metadata": {
            "tags": []
          },
          "execution_count": 344
        },
        {
          "output_type": "display_data",
          "data": {
            "image/png": "[encoded data removed]",
            "text/plain": [
              "<Figure size 432x288 with 1 Axes>"
            ]
          },
          "metadata": {
            "tags": [],
            "needs_background": "light"
          }
        }
      ]
    },
    {
      "cell_type": "code",
      "metadata": {
        "colab": {
          "base_uri": "https://localhost:8080/"
        },
        "id": "lifH_ZOhjbib",
        "outputId": "48fe3d17-3d82-4749-89c4-e48dd496fdd7"
      },
      "source": [
        "from sklearn.metrics import roc_auc_score\n",
        "\n",
        "data_xgb_auc = roc_auc_score(y_test, y_prob)\n",
        "data_xgb_auc"
      ],
      "execution_count": null,
      "outputs": [
        {
          "output_type": "execute_result",
          "data": {
            "text/plain": [
              "0.8857142857142858"
            ]
          },
          "metadata": {
            "tags": []
          },
          "execution_count": 170
        }
      ]
    },
    {
      "cell_type": "markdown",
      "metadata": {
        "id": "QQXe33ZSzP8-"
      },
      "source": [
        "# score 비교"
      ]
    },
    {
      "cell_type": "code",
      "metadata": {
        "id": "qqwIQhGxnDUy"
      },
      "source": [
        "final_score = {'drop_first_dt_auc': [drop_first_dt_auc],\n",
        "            'data_dt_auc': [data_dt_auc],\n",
        "            'drop_first_rfc_auc': [drop_first_rfc_auc],\n",
        "            'data_rfc_auc':[data_rfc_auc],\n",
        "            'drop_first_knn_auc':[first_drop_knn_auc],\n",
        "            'data_knn_auc':[data_knn_auc],\n",
        "            'drop_first_svm_auc':[first_drop_svm_auc],\n",
        "            'data_svm_auc':[data_svm_auc],\n",
        "            'drop_first_xgb_auc':[first_drop_xgb_auc],\n",
        "            'data_xgb_auc':[data_xgb_auc]}"
      ],
      "execution_count": null,
      "outputs": []
    },
    {
      "cell_type": "code",
      "metadata": {
        "id": "9t80hF470Dp7"
      },
      "source": [
        "final_score = pd.DataFrame.from_dict(final_score,orient = 'index',columns=['roc_auc_score'])"
      ],
      "execution_count": null,
      "outputs": []
    },
    {
      "cell_type": "code",
      "metadata": {
        "colab": {
          "base_uri": "https://localhost:8080/",
          "height": 359
        },
        "id": "TNT37jkG0HDF",
        "outputId": "1cf61116-34a9-4375-bb36-7ca13eccac91"
      },
      "source": [
        "final_score.sort_values(by=['roc_auc_score'],ascending=False)"
      ],
      "execution_count": null,
      "outputs": [
        {
          "output_type": "execute_result",
          "data": {
            "text/html": [
              "<div>\n",
              "<style scoped>\n",
              "    .dataframe tbody tr th:only-of-type {\n",
              "        vertical-align: middle;\n",
              "    }\n",
              "\n",
              "    .dataframe tbody tr th {\n",
              "        vertical-align: top;\n",
              "    }\n",
              "\n",
              "    .dataframe thead th {\n",
              "        text-align: right;\n",
              "    }\n",
              "</style>\n",
              "<table border=\"1\" class=\"dataframe\">\n",
              "  <thead>\n",
              "    <tr style=\"text-align: right;\">\n",
              "      <th></th>\n",
              "      <th>roc_auc_score</th>\n",
              "    </tr>\n",
              "  </thead>\n",
              "  <tbody>\n",
              "    <tr>\n",
              "      <th>data_xgb_auc</th>\n",
              "      <td>0.885714</td>\n",
              "    </tr>\n",
              "    <tr>\n",
              "      <th>drop_first_xgb_auc</th>\n",
              "      <td>0.857143</td>\n",
              "    </tr>\n",
              "    <tr>\n",
              "      <th>data_rfc_auc</th>\n",
              "      <td>0.828571</td>\n",
              "    </tr>\n",
              "    <tr>\n",
              "      <th>data_svm_auc</th>\n",
              "      <td>0.814286</td>\n",
              "    </tr>\n",
              "    <tr>\n",
              "      <th>data_dt_auc</th>\n",
              "      <td>0.791071</td>\n",
              "    </tr>\n",
              "    <tr>\n",
              "      <th>data_knn_auc</th>\n",
              "      <td>0.785714</td>\n",
              "    </tr>\n",
              "    <tr>\n",
              "      <th>drop_first_svm_auc</th>\n",
              "      <td>0.738095</td>\n",
              "    </tr>\n",
              "    <tr>\n",
              "      <th>drop_first_rfc_auc</th>\n",
              "      <td>0.714286</td>\n",
              "    </tr>\n",
              "    <tr>\n",
              "      <th>drop_first_dt_auc</th>\n",
              "      <td>0.702381</td>\n",
              "    </tr>\n",
              "    <tr>\n",
              "      <th>drop_first_knn_auc</th>\n",
              "      <td>0.700872</td>\n",
              "    </tr>\n",
              "  </tbody>\n",
              "</table>\n",
              "</div>"
            ],
            "text/plain": [
              "                    roc_auc_score\n",
              "data_xgb_auc             0.885714\n",
              "drop_first_xgb_auc       0.857143\n",
              "data_rfc_auc             0.828571\n",
              "data_svm_auc             0.814286\n",
              "data_dt_auc              0.791071\n",
              "data_knn_auc             0.785714\n",
              "drop_first_svm_auc       0.738095\n",
              "drop_first_rfc_auc       0.714286\n",
              "drop_first_dt_auc        0.702381\n",
              "drop_first_knn_auc       0.700872"
            ]
          },
          "metadata": {
            "tags": []
          },
          "execution_count": 370
        }
      ]
    },
    {
      "cell_type": "code",
      "metadata": {
        "id": "vfvo65ME0IX5"
      },
      "source": [
        "final_score_2 = {'drop_first_dt_auc': [drop_first_dt_score],\n",
        "            'data_dt_auc': [data_dt_score],\n",
        "            'drop_first_rfc_auc': [drop_first_rfc_score],\n",
        "            'data_rfc_auc':[rfc_score],\n",
        "            'drop_first_knn_auc':[drop_first_knn_score],\n",
        "            'data_knn_auc':[data_knn_score],\n",
        "            'drop_first_svm_auc':[drop_first_svm_score],\n",
        "            'data_svm_auc':[data_svm_score],\n",
        "            'drop_first_xgb_auc':[first_drop_xgb_score],\n",
        "            'data_xgb_auc':[data_xgb_score]}"
      ],
      "execution_count": null,
      "outputs": []
    },
    {
      "cell_type": "code",
      "metadata": {
        "id": "EUXPG_dk50sw"
      },
      "source": [
        "final_score_2 = pd.DataFrame.from_dict(final_score_2,orient = 'index',columns=['accuracy'])"
      ],
      "execution_count": null,
      "outputs": []
    },
    {
      "cell_type": "code",
      "metadata": {
        "colab": {
          "base_uri": "https://localhost:8080/",
          "height": 359
        },
        "id": "p_ehLXdN6EZr",
        "outputId": "abf0da49-e9f5-479b-d80e-119676ee270b"
      },
      "source": [
        "final_score_2.sort_values(by=['accuracy'],ascending=False)"
      ],
      "execution_count": null,
      "outputs": [
        {
          "output_type": "execute_result",
          "data": {
            "text/html": [
              "<div>\n",
              "<style scoped>\n",
              "    .dataframe tbody tr th:only-of-type {\n",
              "        vertical-align: middle;\n",
              "    }\n",
              "\n",
              "    .dataframe tbody tr th {\n",
              "        vertical-align: top;\n",
              "    }\n",
              "\n",
              "    .dataframe thead th {\n",
              "        text-align: right;\n",
              "    }\n",
              "</style>\n",
              "<table border=\"1\" class=\"dataframe\">\n",
              "  <thead>\n",
              "    <tr style=\"text-align: right;\">\n",
              "      <th></th>\n",
              "      <th>accuracy</th>\n",
              "    </tr>\n",
              "  </thead>\n",
              "  <tbody>\n",
              "    <tr>\n",
              "      <th>drop_first_dt_auc</th>\n",
              "      <td>0.782692</td>\n",
              "    </tr>\n",
              "    <tr>\n",
              "      <th>data_svm_auc</th>\n",
              "      <td>0.773333</td>\n",
              "    </tr>\n",
              "    <tr>\n",
              "      <th>data_xgb_auc</th>\n",
              "      <td>0.764706</td>\n",
              "    </tr>\n",
              "    <tr>\n",
              "      <th>drop_first_rfc_auc</th>\n",
              "      <td>0.759684</td>\n",
              "    </tr>\n",
              "    <tr>\n",
              "      <th>data_rfc_auc</th>\n",
              "      <td>0.753333</td>\n",
              "    </tr>\n",
              "    <tr>\n",
              "      <th>drop_first_xgb_auc</th>\n",
              "      <td>0.744872</td>\n",
              "    </tr>\n",
              "    <tr>\n",
              "      <th>data_dt_auc</th>\n",
              "      <td>0.718015</td>\n",
              "    </tr>\n",
              "    <tr>\n",
              "      <th>drop_first_knn_auc</th>\n",
              "      <td>0.706061</td>\n",
              "    </tr>\n",
              "    <tr>\n",
              "      <th>drop_first_svm_auc</th>\n",
              "      <td>0.687879</td>\n",
              "    </tr>\n",
              "    <tr>\n",
              "      <th>data_knn_auc</th>\n",
              "      <td>0.640000</td>\n",
              "    </tr>\n",
              "  </tbody>\n",
              "</table>\n",
              "</div>"
            ],
            "text/plain": [
              "                    accuracy\n",
              "drop_first_dt_auc   0.782692\n",
              "data_svm_auc        0.773333\n",
              "data_xgb_auc        0.764706\n",
              "drop_first_rfc_auc  0.759684\n",
              "data_rfc_auc        0.753333\n",
              "drop_first_xgb_auc  0.744872\n",
              "data_dt_auc         0.718015\n",
              "drop_first_knn_auc  0.706061\n",
              "drop_first_svm_auc  0.687879\n",
              "data_knn_auc        0.640000"
            ]
          },
          "metadata": {
            "tags": []
          },
          "execution_count": 203
        }
      ]
    },
    {
      "cell_type": "code",
      "metadata": {
        "id": "Xk1CJgokPv0C"
      },
      "source": [
        ""
      ],
      "execution_count": null,
      "outputs": []
    }
  ]
}