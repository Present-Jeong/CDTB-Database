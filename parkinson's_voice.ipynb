{
  "nbformat": 4,
  "nbformat_minor": 0,
  "metadata": {
    "colab": {
      "name": "parkinson's voice.ipynb",
      "provenance": [],
      "collapsed_sections": [
        "k3wI9fEM1onQ",
        "I9GTVAXhFzp9",
        "XY3KHFTYEmrV"
      ],
      "toc_visible": true
    },
    "kernelspec": {
      "display_name": "Python 3",
      "language": "python",
      "name": "python3"
    },
    "language_info": {
      "codemirror_mode": {
        "name": "ipython",
        "version": 3
      },
      "file_extension": ".py",
      "mimetype": "text/x-python",
      "name": "python",
      "nbconvert_exporter": "python",
      "pygments_lexer": "ipython3",
      "version": "3.7.6"
    }
  },
  "cells": [
    {
      "cell_type": "markdown",
      "metadata": {
        "id": "k3wI9fEM1onQ"
      },
      "source": [
        "# 데이터 불러오기"
      ]
    },
    {
      "cell_type": "code",
      "metadata": {
        "ExecuteTime": {
          "end_time": "2020-12-05T00:34:20.532538Z",
          "start_time": "2020-12-05T00:34:20.344825Z"
        },
        "id": "-Sl85Twmdc-y"
      },
      "source": [
        "import pandas as pd\n",
        "import numpy as np\n",
        "import os"
      ],
      "execution_count": null,
      "outputs": []
    },
    {
      "cell_type": "code",
      "metadata": {
        "ExecuteTime": {
          "end_time": "2020-12-05T00:34:20.607852Z",
          "start_time": "2020-12-05T00:34:20.533400Z"
        },
        "id": "43Xd_mGndh24",
        "colab": {
          "base_uri": "https://localhost:8080/"
        },
        "outputId": "0885a27d-06e0-4154-b7a0-68b226e738d6"
      },
      "source": [
        "from google.colab import drive\n",
        "drive.mount('/content/drive/')"
      ],
      "execution_count": null,
      "outputs": [
        {
          "output_type": "stream",
          "text": [
            "Drive already mounted at /content/drive/; to attempt to forcibly remount, call drive.mount(\"/content/drive/\", force_remount=True).\n"
          ],
          "name": "stdout"
        }
      ]
    },
    {
      "cell_type": "code",
      "metadata": {
        "id": "3-FKMZAe558F"
      },
      "source": [
        "speech = pd.read_csv('/content/drive/My Drive/MLtutoring/Final/pd_speech_features_modified.csv')"
      ],
      "execution_count": null,
      "outputs": []
    },
    {
      "cell_type": "code",
      "metadata": {
        "ExecuteTime": {
          "end_time": "2020-12-05T00:34:20.614691Z",
          "start_time": "2020-12-05T00:34:20.608781Z"
        },
        "colab": {
          "base_uri": "https://localhost:8080/"
        },
        "id": "BSOlwjna1etO",
        "outputId": "8903287c-0200-4c89-e39e-e7b1bea08629"
      },
      "source": [
        "speech['class'].value_counts()"
      ],
      "execution_count": null,
      "outputs": [
        {
          "output_type": "execute_result",
          "data": {
            "text/plain": [
              "1    564\n",
              "0    192\n",
              "Name: class, dtype: int64"
            ]
          },
          "metadata": {
            "tags": []
          },
          "execution_count": 3
        }
      ]
    },
    {
      "cell_type": "code",
      "metadata": {
        "ExecuteTime": {
          "end_time": "2020-12-05T00:34:20.856742Z",
          "start_time": "2020-12-05T00:34:20.839446Z"
        },
        "id": "sQVY4xdxF4S5"
      },
      "source": [
        "df = speech.copy()"
      ],
      "execution_count": null,
      "outputs": []
    },
    {
      "cell_type": "code",
      "metadata": {
        "colab": {
          "base_uri": "https://localhost:8080/",
          "height": 422
        },
        "id": "k6nzWKaf5-_o",
        "outputId": "e04c5c1b-f5fc-41da-cc63-41d87bf3a317"
      },
      "source": [
        "df"
      ],
      "execution_count": null,
      "outputs": [
        {
          "output_type": "execute_result",
          "data": {
            "text/html": [
              "<div>\n",
              "<style scoped>\n",
              "    .dataframe tbody tr th:only-of-type {\n",
              "        vertical-align: middle;\n",
              "    }\n",
              "\n",
              "    .dataframe tbody tr th {\n",
              "        vertical-align: top;\n",
              "    }\n",
              "\n",
              "    .dataframe thead th {\n",
              "        text-align: right;\n",
              "    }\n",
              "</style>\n",
              "<table border=\"1\" class=\"dataframe\">\n",
              "  <thead>\n",
              "    <tr style=\"text-align: right;\">\n",
              "      <th></th>\n",
              "      <th>id</th>\n",
              "      <th>gender</th>\n",
              "      <th>PPE</th>\n",
              "      <th>DFA</th>\n",
              "      <th>RPDE</th>\n",
              "      <th>numPulses</th>\n",
              "      <th>numPeriodsPulses</th>\n",
              "      <th>meanPeriodPulses</th>\n",
              "      <th>stdDevPeriodPulses</th>\n",
              "      <th>locPctJitter</th>\n",
              "      <th>locAbsJitter</th>\n",
              "      <th>rapJitter</th>\n",
              "      <th>ppq5Jitter</th>\n",
              "      <th>ddpJitter</th>\n",
              "      <th>locShimmer</th>\n",
              "      <th>locDbShimmer</th>\n",
              "      <th>apq3Shimmer</th>\n",
              "      <th>apq5Shimmer</th>\n",
              "      <th>apq11Shimmer</th>\n",
              "      <th>ddaShimmer</th>\n",
              "      <th>meanAutoCorrHarmonicity</th>\n",
              "      <th>meanNoiseToHarmHarmonicity</th>\n",
              "      <th>meanHarmToNoiseHarmonicity</th>\n",
              "      <th>minIntensity</th>\n",
              "      <th>maxIntensity</th>\n",
              "      <th>meanIntensity</th>\n",
              "      <th>f1</th>\n",
              "      <th>f2</th>\n",
              "      <th>f3</th>\n",
              "      <th>f4</th>\n",
              "      <th>b1</th>\n",
              "      <th>b2</th>\n",
              "      <th>b3</th>\n",
              "      <th>b4</th>\n",
              "      <th>GQ_prc5_95</th>\n",
              "      <th>GQ_std_cycle_open</th>\n",
              "      <th>GQ_std_cycle_closed</th>\n",
              "      <th>GNE_mean</th>\n",
              "      <th>GNE_std</th>\n",
              "      <th>GNE_SNR_TKEO</th>\n",
              "      <th>...</th>\n",
              "      <th>tqwt_skewnessValue_dec_34</th>\n",
              "      <th>tqwt_skewnessValue_dec_35</th>\n",
              "      <th>tqwt_skewnessValue_dec_36</th>\n",
              "      <th>tqwt_kurtosisValue_dec_1</th>\n",
              "      <th>tqwt_kurtosisValue_dec_2</th>\n",
              "      <th>tqwt_kurtosisValue_dec_3</th>\n",
              "      <th>tqwt_kurtosisValue_dec_4</th>\n",
              "      <th>tqwt_kurtosisValue_dec_5</th>\n",
              "      <th>tqwt_kurtosisValue_dec_6</th>\n",
              "      <th>tqwt_kurtosisValue_dec_7</th>\n",
              "      <th>tqwt_kurtosisValue_dec_8</th>\n",
              "      <th>tqwt_kurtosisValue_dec_9</th>\n",
              "      <th>tqwt_kurtosisValue_dec_10</th>\n",
              "      <th>tqwt_kurtosisValue_dec_11</th>\n",
              "      <th>tqwt_kurtosisValue_dec_12</th>\n",
              "      <th>tqwt_kurtosisValue_dec_13</th>\n",
              "      <th>tqwt_kurtosisValue_dec_14</th>\n",
              "      <th>tqwt_kurtosisValue_dec_15</th>\n",
              "      <th>tqwt_kurtosisValue_dec_16</th>\n",
              "      <th>tqwt_kurtosisValue_dec_17</th>\n",
              "      <th>tqwt_kurtosisValue_dec_18</th>\n",
              "      <th>tqwt_kurtosisValue_dec_19</th>\n",
              "      <th>tqwt_kurtosisValue_dec_20</th>\n",
              "      <th>tqwt_kurtosisValue_dec_21</th>\n",
              "      <th>tqwt_kurtosisValue_dec_22</th>\n",
              "      <th>tqwt_kurtosisValue_dec_23</th>\n",
              "      <th>tqwt_kurtosisValue_dec_24</th>\n",
              "      <th>tqwt_kurtosisValue_dec_25</th>\n",
              "      <th>tqwt_kurtosisValue_dec_26</th>\n",
              "      <th>tqwt_kurtosisValue_dec_27</th>\n",
              "      <th>tqwt_kurtosisValue_dec_28</th>\n",
              "      <th>tqwt_kurtosisValue_dec_29</th>\n",
              "      <th>tqwt_kurtosisValue_dec_30</th>\n",
              "      <th>tqwt_kurtosisValue_dec_31</th>\n",
              "      <th>tqwt_kurtosisValue_dec_32</th>\n",
              "      <th>tqwt_kurtosisValue_dec_33</th>\n",
              "      <th>tqwt_kurtosisValue_dec_34</th>\n",
              "      <th>tqwt_kurtosisValue_dec_35</th>\n",
              "      <th>tqwt_kurtosisValue_dec_36</th>\n",
              "      <th>class</th>\n",
              "    </tr>\n",
              "  </thead>\n",
              "  <tbody>\n",
              "    <tr>\n",
              "      <th>0</th>\n",
              "      <td>0</td>\n",
              "      <td>1</td>\n",
              "      <td>0.85247</td>\n",
              "      <td>0.71826</td>\n",
              "      <td>0.57227</td>\n",
              "      <td>240</td>\n",
              "      <td>239</td>\n",
              "      <td>0.008064</td>\n",
              "      <td>0.000087</td>\n",
              "      <td>0.00218</td>\n",
              "      <td>0.000018</td>\n",
              "      <td>0.00067</td>\n",
              "      <td>0.00129</td>\n",
              "      <td>0.00200</td>\n",
              "      <td>0.05883</td>\n",
              "      <td>0.517</td>\n",
              "      <td>0.03011</td>\n",
              "      <td>0.03496</td>\n",
              "      <td>0.04828</td>\n",
              "      <td>0.09034</td>\n",
              "      <td>0.970805</td>\n",
              "      <td>0.036223</td>\n",
              "      <td>18.995</td>\n",
              "      <td>69.997496</td>\n",
              "      <td>76.088046</td>\n",
              "      <td>72.465512</td>\n",
              "      <td>539.342735</td>\n",
              "      <td>1031.849040</td>\n",
              "      <td>2447.162183</td>\n",
              "      <td>3655.054806</td>\n",
              "      <td>101.092218</td>\n",
              "      <td>83.147440</td>\n",
              "      <td>255.214830</td>\n",
              "      <td>396.643631</td>\n",
              "      <td>0.77778</td>\n",
              "      <td>11.7245</td>\n",
              "      <td>2.8277</td>\n",
              "      <td>1.17300</td>\n",
              "      <td>0.265120</td>\n",
              "      <td>0.083127</td>\n",
              "      <td>...</td>\n",
              "      <td>0.071728</td>\n",
              "      <td>0.010352</td>\n",
              "      <td>-2.730300</td>\n",
              "      <td>66.5007</td>\n",
              "      <td>36.9934</td>\n",
              "      <td>26.3508</td>\n",
              "      <td>51.9577</td>\n",
              "      <td>21.5451</td>\n",
              "      <td>8.2488</td>\n",
              "      <td>8.0024</td>\n",
              "      <td>6.9635</td>\n",
              "      <td>6.9189</td>\n",
              "      <td>5.0622</td>\n",
              "      <td>4.6068</td>\n",
              "      <td>7.7218</td>\n",
              "      <td>2.7224</td>\n",
              "      <td>2.4171</td>\n",
              "      <td>2.9383</td>\n",
              "      <td>4.2077</td>\n",
              "      <td>3.1541</td>\n",
              "      <td>2.8531</td>\n",
              "      <td>2.7496</td>\n",
              "      <td>2.1550</td>\n",
              "      <td>2.9457</td>\n",
              "      <td>2.1993</td>\n",
              "      <td>1.9830</td>\n",
              "      <td>1.8314</td>\n",
              "      <td>2.0062</td>\n",
              "      <td>1.6058</td>\n",
              "      <td>1.5466</td>\n",
              "      <td>1.5620</td>\n",
              "      <td>2.6445</td>\n",
              "      <td>3.8686</td>\n",
              "      <td>4.2105</td>\n",
              "      <td>5.1221</td>\n",
              "      <td>4.4625</td>\n",
              "      <td>2.6202</td>\n",
              "      <td>3.0004</td>\n",
              "      <td>18.9405</td>\n",
              "      <td>1</td>\n",
              "    </tr>\n",
              "    <tr>\n",
              "      <th>1</th>\n",
              "      <td>0</td>\n",
              "      <td>1</td>\n",
              "      <td>0.76686</td>\n",
              "      <td>0.69481</td>\n",
              "      <td>0.53966</td>\n",
              "      <td>234</td>\n",
              "      <td>233</td>\n",
              "      <td>0.008258</td>\n",
              "      <td>0.000073</td>\n",
              "      <td>0.00195</td>\n",
              "      <td>0.000016</td>\n",
              "      <td>0.00052</td>\n",
              "      <td>0.00112</td>\n",
              "      <td>0.00157</td>\n",
              "      <td>0.05516</td>\n",
              "      <td>0.502</td>\n",
              "      <td>0.02320</td>\n",
              "      <td>0.03675</td>\n",
              "      <td>0.06195</td>\n",
              "      <td>0.06961</td>\n",
              "      <td>0.984322</td>\n",
              "      <td>0.017974</td>\n",
              "      <td>21.497</td>\n",
              "      <td>67.415903</td>\n",
              "      <td>73.046374</td>\n",
              "      <td>71.528945</td>\n",
              "      <td>564.363614</td>\n",
              "      <td>1016.367294</td>\n",
              "      <td>2383.565201</td>\n",
              "      <td>3498.681572</td>\n",
              "      <td>58.465428</td>\n",
              "      <td>86.487292</td>\n",
              "      <td>248.357127</td>\n",
              "      <td>218.229722</td>\n",
              "      <td>0.81250</td>\n",
              "      <td>13.8284</td>\n",
              "      <td>2.8908</td>\n",
              "      <td>1.02210</td>\n",
              "      <td>0.220040</td>\n",
              "      <td>0.127410</td>\n",
              "      <td>...</td>\n",
              "      <td>0.729330</td>\n",
              "      <td>0.780410</td>\n",
              "      <td>5.229400</td>\n",
              "      <td>8643.9860</td>\n",
              "      <td>3962.0554</td>\n",
              "      <td>2976.2411</td>\n",
              "      <td>4329.0607</td>\n",
              "      <td>4005.1329</td>\n",
              "      <td>1127.6762</td>\n",
              "      <td>116.5331</td>\n",
              "      <td>20.2332</td>\n",
              "      <td>13.6395</td>\n",
              "      <td>12.5514</td>\n",
              "      <td>13.6965</td>\n",
              "      <td>60.8974</td>\n",
              "      <td>6.2958</td>\n",
              "      <td>3.0323</td>\n",
              "      <td>3.4039</td>\n",
              "      <td>4.3794</td>\n",
              "      <td>2.4329</td>\n",
              "      <td>2.0585</td>\n",
              "      <td>2.1839</td>\n",
              "      <td>2.2061</td>\n",
              "      <td>3.0999</td>\n",
              "      <td>1.9824</td>\n",
              "      <td>1.6227</td>\n",
              "      <td>1.5783</td>\n",
              "      <td>2.0470</td>\n",
              "      <td>1.5772</td>\n",
              "      <td>1.5530</td>\n",
              "      <td>1.5589</td>\n",
              "      <td>3.6107</td>\n",
              "      <td>23.5155</td>\n",
              "      <td>14.1962</td>\n",
              "      <td>11.0261</td>\n",
              "      <td>9.5082</td>\n",
              "      <td>6.5245</td>\n",
              "      <td>6.3431</td>\n",
              "      <td>45.1780</td>\n",
              "      <td>1</td>\n",
              "    </tr>\n",
              "    <tr>\n",
              "      <th>2</th>\n",
              "      <td>0</td>\n",
              "      <td>1</td>\n",
              "      <td>0.85083</td>\n",
              "      <td>0.67604</td>\n",
              "      <td>0.58982</td>\n",
              "      <td>232</td>\n",
              "      <td>231</td>\n",
              "      <td>0.008340</td>\n",
              "      <td>0.000060</td>\n",
              "      <td>0.00176</td>\n",
              "      <td>0.000015</td>\n",
              "      <td>0.00057</td>\n",
              "      <td>0.00111</td>\n",
              "      <td>0.00171</td>\n",
              "      <td>0.09902</td>\n",
              "      <td>0.897</td>\n",
              "      <td>0.05094</td>\n",
              "      <td>0.06497</td>\n",
              "      <td>0.07772</td>\n",
              "      <td>0.15282</td>\n",
              "      <td>0.974846</td>\n",
              "      <td>0.026313</td>\n",
              "      <td>17.651</td>\n",
              "      <td>62.661706</td>\n",
              "      <td>71.633549</td>\n",
              "      <td>68.086583</td>\n",
              "      <td>548.444604</td>\n",
              "      <td>1032.406341</td>\n",
              "      <td>2357.826954</td>\n",
              "      <td>3678.128717</td>\n",
              "      <td>160.387771</td>\n",
              "      <td>54.685168</td>\n",
              "      <td>151.694847</td>\n",
              "      <td>84.240339</td>\n",
              "      <td>0.81818</td>\n",
              "      <td>26.9273</td>\n",
              "      <td>2.6975</td>\n",
              "      <td>0.84951</td>\n",
              "      <td>0.157560</td>\n",
              "      <td>0.116890</td>\n",
              "      <td>...</td>\n",
              "      <td>0.269510</td>\n",
              "      <td>-0.005522</td>\n",
              "      <td>0.350540</td>\n",
              "      <td>29.2717</td>\n",
              "      <td>32.4971</td>\n",
              "      <td>38.9453</td>\n",
              "      <td>85.1480</td>\n",
              "      <td>62.5132</td>\n",
              "      <td>9.7308</td>\n",
              "      <td>6.8890</td>\n",
              "      <td>6.1357</td>\n",
              "      <td>5.4926</td>\n",
              "      <td>3.9078</td>\n",
              "      <td>4.0864</td>\n",
              "      <td>6.9828</td>\n",
              "      <td>3.4411</td>\n",
              "      <td>3.5173</td>\n",
              "      <td>3.7204</td>\n",
              "      <td>4.2212</td>\n",
              "      <td>3.4881</td>\n",
              "      <td>3.4851</td>\n",
              "      <td>3.3007</td>\n",
              "      <td>2.0427</td>\n",
              "      <td>3.1436</td>\n",
              "      <td>2.1203</td>\n",
              "      <td>1.6627</td>\n",
              "      <td>1.6731</td>\n",
              "      <td>3.2597</td>\n",
              "      <td>1.5921</td>\n",
              "      <td>1.5399</td>\n",
              "      <td>1.5643</td>\n",
              "      <td>2.3308</td>\n",
              "      <td>9.4959</td>\n",
              "      <td>10.7458</td>\n",
              "      <td>11.0177</td>\n",
              "      <td>4.8066</td>\n",
              "      <td>2.9199</td>\n",
              "      <td>3.1495</td>\n",
              "      <td>4.7666</td>\n",
              "      <td>1</td>\n",
              "    </tr>\n",
              "    <tr>\n",
              "      <th>3</th>\n",
              "      <td>1</td>\n",
              "      <td>0</td>\n",
              "      <td>0.41121</td>\n",
              "      <td>0.79672</td>\n",
              "      <td>0.59257</td>\n",
              "      <td>178</td>\n",
              "      <td>177</td>\n",
              "      <td>0.010858</td>\n",
              "      <td>0.000183</td>\n",
              "      <td>0.00419</td>\n",
              "      <td>0.000046</td>\n",
              "      <td>0.00149</td>\n",
              "      <td>0.00268</td>\n",
              "      <td>0.00446</td>\n",
              "      <td>0.05451</td>\n",
              "      <td>0.527</td>\n",
              "      <td>0.02395</td>\n",
              "      <td>0.02857</td>\n",
              "      <td>0.04462</td>\n",
              "      <td>0.07185</td>\n",
              "      <td>0.968343</td>\n",
              "      <td>0.042003</td>\n",
              "      <td>19.865</td>\n",
              "      <td>76.306989</td>\n",
              "      <td>81.000749</td>\n",
              "      <td>79.190593</td>\n",
              "      <td>819.529588</td>\n",
              "      <td>1201.813897</td>\n",
              "      <td>3154.035654</td>\n",
              "      <td>4122.163933</td>\n",
              "      <td>238.667052</td>\n",
              "      <td>191.984916</td>\n",
              "      <td>573.752909</td>\n",
              "      <td>526.147599</td>\n",
              "      <td>0.98548</td>\n",
              "      <td>139.5744</td>\n",
              "      <td>1.6961</td>\n",
              "      <td>0.83405</td>\n",
              "      <td>0.172950</td>\n",
              "      <td>0.147370</td>\n",
              "      <td>...</td>\n",
              "      <td>0.366920</td>\n",
              "      <td>-0.492650</td>\n",
              "      <td>0.191640</td>\n",
              "      <td>591.0116</td>\n",
              "      <td>65.3827</td>\n",
              "      <td>53.9852</td>\n",
              "      <td>45.4458</td>\n",
              "      <td>34.6650</td>\n",
              "      <td>88.3259</td>\n",
              "      <td>46.6869</td>\n",
              "      <td>23.2911</td>\n",
              "      <td>19.2022</td>\n",
              "      <td>42.3957</td>\n",
              "      <td>100.3649</td>\n",
              "      <td>7.1967</td>\n",
              "      <td>6.3892</td>\n",
              "      <td>6.5496</td>\n",
              "      <td>6.0264</td>\n",
              "      <td>4.7656</td>\n",
              "      <td>4.8909</td>\n",
              "      <td>4.2531</td>\n",
              "      <td>3.0295</td>\n",
              "      <td>2.0362</td>\n",
              "      <td>1.8478</td>\n",
              "      <td>2.5776</td>\n",
              "      <td>2.2064</td>\n",
              "      <td>1.9491</td>\n",
              "      <td>1.9120</td>\n",
              "      <td>1.8829</td>\n",
              "      <td>6.9761</td>\n",
              "      <td>3.7805</td>\n",
              "      <td>3.5664</td>\n",
              "      <td>5.2558</td>\n",
              "      <td>14.0403</td>\n",
              "      <td>4.2235</td>\n",
              "      <td>4.6857</td>\n",
              "      <td>4.8460</td>\n",
              "      <td>6.2650</td>\n",
              "      <td>4.0603</td>\n",
              "      <td>1</td>\n",
              "    </tr>\n",
              "    <tr>\n",
              "      <th>4</th>\n",
              "      <td>1</td>\n",
              "      <td>0</td>\n",
              "      <td>0.32790</td>\n",
              "      <td>0.79782</td>\n",
              "      <td>0.53028</td>\n",
              "      <td>236</td>\n",
              "      <td>235</td>\n",
              "      <td>0.008162</td>\n",
              "      <td>0.002669</td>\n",
              "      <td>0.00535</td>\n",
              "      <td>0.000044</td>\n",
              "      <td>0.00166</td>\n",
              "      <td>0.00227</td>\n",
              "      <td>0.00499</td>\n",
              "      <td>0.05610</td>\n",
              "      <td>0.497</td>\n",
              "      <td>0.02909</td>\n",
              "      <td>0.03327</td>\n",
              "      <td>0.05278</td>\n",
              "      <td>0.08728</td>\n",
              "      <td>0.975754</td>\n",
              "      <td>0.027139</td>\n",
              "      <td>19.557</td>\n",
              "      <td>76.645686</td>\n",
              "      <td>80.937258</td>\n",
              "      <td>79.183495</td>\n",
              "      <td>846.796144</td>\n",
              "      <td>1215.346469</td>\n",
              "      <td>3201.513132</td>\n",
              "      <td>4085.456839</td>\n",
              "      <td>402.216738</td>\n",
              "      <td>210.061394</td>\n",
              "      <td>203.637106</td>\n",
              "      <td>384.611697</td>\n",
              "      <td>0.97847</td>\n",
              "      <td>102.0549</td>\n",
              "      <td>15.4045</td>\n",
              "      <td>0.83556</td>\n",
              "      <td>0.162100</td>\n",
              "      <td>0.151990</td>\n",
              "      <td>...</td>\n",
              "      <td>-0.378360</td>\n",
              "      <td>-0.035805</td>\n",
              "      <td>0.265960</td>\n",
              "      <td>32.0393</td>\n",
              "      <td>7.2343</td>\n",
              "      <td>6.5540</td>\n",
              "      <td>6.4520</td>\n",
              "      <td>6.9274</td>\n",
              "      <td>10.2265</td>\n",
              "      <td>14.2579</td>\n",
              "      <td>10.6181</td>\n",
              "      <td>8.6143</td>\n",
              "      <td>9.5822</td>\n",
              "      <td>34.0835</td>\n",
              "      <td>4.1139</td>\n",
              "      <td>3.6718</td>\n",
              "      <td>4.4360</td>\n",
              "      <td>4.5793</td>\n",
              "      <td>3.9447</td>\n",
              "      <td>4.1253</td>\n",
              "      <td>3.4869</td>\n",
              "      <td>2.4627</td>\n",
              "      <td>2.1073</td>\n",
              "      <td>1.9056</td>\n",
              "      <td>2.2214</td>\n",
              "      <td>2.0588</td>\n",
              "      <td>1.8157</td>\n",
              "      <td>1.7577</td>\n",
              "      <td>1.8821</td>\n",
              "      <td>7.8832</td>\n",
              "      <td>6.1727</td>\n",
              "      <td>5.8416</td>\n",
              "      <td>6.0805</td>\n",
              "      <td>5.7621</td>\n",
              "      <td>7.7817</td>\n",
              "      <td>11.6891</td>\n",
              "      <td>8.2103</td>\n",
              "      <td>5.0559</td>\n",
              "      <td>6.1164</td>\n",
              "      <td>1</td>\n",
              "    </tr>\n",
              "    <tr>\n",
              "      <th>...</th>\n",
              "      <td>...</td>\n",
              "      <td>...</td>\n",
              "      <td>...</td>\n",
              "      <td>...</td>\n",
              "      <td>...</td>\n",
              "      <td>...</td>\n",
              "      <td>...</td>\n",
              "      <td>...</td>\n",
              "      <td>...</td>\n",
              "      <td>...</td>\n",
              "      <td>...</td>\n",
              "      <td>...</td>\n",
              "      <td>...</td>\n",
              "      <td>...</td>\n",
              "      <td>...</td>\n",
              "      <td>...</td>\n",
              "      <td>...</td>\n",
              "      <td>...</td>\n",
              "      <td>...</td>\n",
              "      <td>...</td>\n",
              "      <td>...</td>\n",
              "      <td>...</td>\n",
              "      <td>...</td>\n",
              "      <td>...</td>\n",
              "      <td>...</td>\n",
              "      <td>...</td>\n",
              "      <td>...</td>\n",
              "      <td>...</td>\n",
              "      <td>...</td>\n",
              "      <td>...</td>\n",
              "      <td>...</td>\n",
              "      <td>...</td>\n",
              "      <td>...</td>\n",
              "      <td>...</td>\n",
              "      <td>...</td>\n",
              "      <td>...</td>\n",
              "      <td>...</td>\n",
              "      <td>...</td>\n",
              "      <td>...</td>\n",
              "      <td>...</td>\n",
              "      <td>...</td>\n",
              "      <td>...</td>\n",
              "      <td>...</td>\n",
              "      <td>...</td>\n",
              "      <td>...</td>\n",
              "      <td>...</td>\n",
              "      <td>...</td>\n",
              "      <td>...</td>\n",
              "      <td>...</td>\n",
              "      <td>...</td>\n",
              "      <td>...</td>\n",
              "      <td>...</td>\n",
              "      <td>...</td>\n",
              "      <td>...</td>\n",
              "      <td>...</td>\n",
              "      <td>...</td>\n",
              "      <td>...</td>\n",
              "      <td>...</td>\n",
              "      <td>...</td>\n",
              "      <td>...</td>\n",
              "      <td>...</td>\n",
              "      <td>...</td>\n",
              "      <td>...</td>\n",
              "      <td>...</td>\n",
              "      <td>...</td>\n",
              "      <td>...</td>\n",
              "      <td>...</td>\n",
              "      <td>...</td>\n",
              "      <td>...</td>\n",
              "      <td>...</td>\n",
              "      <td>...</td>\n",
              "      <td>...</td>\n",
              "      <td>...</td>\n",
              "      <td>...</td>\n",
              "      <td>...</td>\n",
              "      <td>...</td>\n",
              "      <td>...</td>\n",
              "      <td>...</td>\n",
              "      <td>...</td>\n",
              "      <td>...</td>\n",
              "      <td>...</td>\n",
              "    </tr>\n",
              "    <tr>\n",
              "      <th>751</th>\n",
              "      <td>250</td>\n",
              "      <td>0</td>\n",
              "      <td>0.80903</td>\n",
              "      <td>0.56355</td>\n",
              "      <td>0.28385</td>\n",
              "      <td>417</td>\n",
              "      <td>416</td>\n",
              "      <td>0.004627</td>\n",
              "      <td>0.000052</td>\n",
              "      <td>0.00064</td>\n",
              "      <td>0.000003</td>\n",
              "      <td>0.00008</td>\n",
              "      <td>0.00022</td>\n",
              "      <td>0.00024</td>\n",
              "      <td>0.01947</td>\n",
              "      <td>0.171</td>\n",
              "      <td>0.01068</td>\n",
              "      <td>0.01260</td>\n",
              "      <td>0.01547</td>\n",
              "      <td>0.03204</td>\n",
              "      <td>0.997438</td>\n",
              "      <td>0.002571</td>\n",
              "      <td>26.813</td>\n",
              "      <td>79.991789</td>\n",
              "      <td>82.239447</td>\n",
              "      <td>81.244436</td>\n",
              "      <td>881.915768</td>\n",
              "      <td>1395.398812</td>\n",
              "      <td>2862.850072</td>\n",
              "      <td>3285.426385</td>\n",
              "      <td>88.521045</td>\n",
              "      <td>80.283013</td>\n",
              "      <td>836.862497</td>\n",
              "      <td>2954.030296</td>\n",
              "      <td>1.00000</td>\n",
              "      <td>58.5451</td>\n",
              "      <td>0.0000</td>\n",
              "      <td>1.17130</td>\n",
              "      <td>0.129530</td>\n",
              "      <td>0.139260</td>\n",
              "      <td>...</td>\n",
              "      <td>0.077731</td>\n",
              "      <td>0.138020</td>\n",
              "      <td>0.992540</td>\n",
              "      <td>766.6022</td>\n",
              "      <td>92.3168</td>\n",
              "      <td>58.8803</td>\n",
              "      <td>43.6169</td>\n",
              "      <td>18.5289</td>\n",
              "      <td>7.5735</td>\n",
              "      <td>5.2459</td>\n",
              "      <td>5.0495</td>\n",
              "      <td>5.0089</td>\n",
              "      <td>7.5061</td>\n",
              "      <td>5.1805</td>\n",
              "      <td>2.2514</td>\n",
              "      <td>2.2220</td>\n",
              "      <td>2.1739</td>\n",
              "      <td>2.1970</td>\n",
              "      <td>1.6902</td>\n",
              "      <td>1.6711</td>\n",
              "      <td>2.4098</td>\n",
              "      <td>2.2003</td>\n",
              "      <td>1.6249</td>\n",
              "      <td>1.6752</td>\n",
              "      <td>2.3686</td>\n",
              "      <td>1.6420</td>\n",
              "      <td>1.6785</td>\n",
              "      <td>1.7601</td>\n",
              "      <td>10.1906</td>\n",
              "      <td>3.4394</td>\n",
              "      <td>3.0706</td>\n",
              "      <td>3.0190</td>\n",
              "      <td>3.1212</td>\n",
              "      <td>2.4921</td>\n",
              "      <td>3.5844</td>\n",
              "      <td>3.5400</td>\n",
              "      <td>3.3805</td>\n",
              "      <td>3.2003</td>\n",
              "      <td>6.8671</td>\n",
              "      <td>0</td>\n",
              "    </tr>\n",
              "    <tr>\n",
              "      <th>752</th>\n",
              "      <td>250</td>\n",
              "      <td>0</td>\n",
              "      <td>0.16084</td>\n",
              "      <td>0.56499</td>\n",
              "      <td>0.59194</td>\n",
              "      <td>415</td>\n",
              "      <td>413</td>\n",
              "      <td>0.004550</td>\n",
              "      <td>0.000220</td>\n",
              "      <td>0.00143</td>\n",
              "      <td>0.000006</td>\n",
              "      <td>0.00016</td>\n",
              "      <td>0.00041</td>\n",
              "      <td>0.00047</td>\n",
              "      <td>0.04291</td>\n",
              "      <td>0.482</td>\n",
              "      <td>0.02307</td>\n",
              "      <td>0.02626</td>\n",
              "      <td>0.03272</td>\n",
              "      <td>0.06920</td>\n",
              "      <td>0.976867</td>\n",
              "      <td>0.025519</td>\n",
              "      <td>17.802</td>\n",
              "      <td>70.191330</td>\n",
              "      <td>81.606291</td>\n",
              "      <td>79.423824</td>\n",
              "      <td>907.787590</td>\n",
              "      <td>1406.737344</td>\n",
              "      <td>2958.433790</td>\n",
              "      <td>3819.231665</td>\n",
              "      <td>31.238251</td>\n",
              "      <td>38.919082</td>\n",
              "      <td>5913.036193</td>\n",
              "      <td>472.403606</td>\n",
              "      <td>1.00000</td>\n",
              "      <td>14.5816</td>\n",
              "      <td>0.0000</td>\n",
              "      <td>1.19440</td>\n",
              "      <td>0.267640</td>\n",
              "      <td>0.113530</td>\n",
              "      <td>...</td>\n",
              "      <td>0.255650</td>\n",
              "      <td>-0.595620</td>\n",
              "      <td>2.115100</td>\n",
              "      <td>34.9777</td>\n",
              "      <td>19.5854</td>\n",
              "      <td>18.6791</td>\n",
              "      <td>13.2161</td>\n",
              "      <td>10.2285</td>\n",
              "      <td>6.6010</td>\n",
              "      <td>5.8541</td>\n",
              "      <td>5.8743</td>\n",
              "      <td>6.0817</td>\n",
              "      <td>6.6246</td>\n",
              "      <td>5.3809</td>\n",
              "      <td>2.7024</td>\n",
              "      <td>2.6653</td>\n",
              "      <td>2.8792</td>\n",
              "      <td>2.6471</td>\n",
              "      <td>2.1520</td>\n",
              "      <td>2.0307</td>\n",
              "      <td>2.8916</td>\n",
              "      <td>2.8527</td>\n",
              "      <td>2.0698</td>\n",
              "      <td>2.0290</td>\n",
              "      <td>4.8587</td>\n",
              "      <td>3.7826</td>\n",
              "      <td>2.6391</td>\n",
              "      <td>3.3455</td>\n",
              "      <td>22.4043</td>\n",
              "      <td>19.6733</td>\n",
              "      <td>1.9704</td>\n",
              "      <td>1.7451</td>\n",
              "      <td>1.8277</td>\n",
              "      <td>2.4976</td>\n",
              "      <td>5.2981</td>\n",
              "      <td>4.2616</td>\n",
              "      <td>6.3042</td>\n",
              "      <td>10.9058</td>\n",
              "      <td>28.4170</td>\n",
              "      <td>0</td>\n",
              "    </tr>\n",
              "    <tr>\n",
              "      <th>753</th>\n",
              "      <td>251</td>\n",
              "      <td>0</td>\n",
              "      <td>0.88389</td>\n",
              "      <td>0.72335</td>\n",
              "      <td>0.46815</td>\n",
              "      <td>381</td>\n",
              "      <td>380</td>\n",
              "      <td>0.005069</td>\n",
              "      <td>0.000103</td>\n",
              "      <td>0.00076</td>\n",
              "      <td>0.000004</td>\n",
              "      <td>0.00011</td>\n",
              "      <td>0.00030</td>\n",
              "      <td>0.00034</td>\n",
              "      <td>0.02978</td>\n",
              "      <td>0.263</td>\n",
              "      <td>0.01597</td>\n",
              "      <td>0.01916</td>\n",
              "      <td>0.02271</td>\n",
              "      <td>0.04790</td>\n",
              "      <td>0.995544</td>\n",
              "      <td>0.004480</td>\n",
              "      <td>24.005</td>\n",
              "      <td>75.091300</td>\n",
              "      <td>77.612498</td>\n",
              "      <td>76.485859</td>\n",
              "      <td>687.046383</td>\n",
              "      <td>1382.653498</td>\n",
              "      <td>2189.489101</td>\n",
              "      <td>3344.351359</td>\n",
              "      <td>250.727258</td>\n",
              "      <td>2566.530343</td>\n",
              "      <td>149.117330</td>\n",
              "      <td>232.686866</td>\n",
              "      <td>1.00000</td>\n",
              "      <td>6.6615</td>\n",
              "      <td>0.0000</td>\n",
              "      <td>0.97851</td>\n",
              "      <td>0.131880</td>\n",
              "      <td>0.132760</td>\n",
              "      <td>...</td>\n",
              "      <td>-0.029656</td>\n",
              "      <td>0.092881</td>\n",
              "      <td>0.086911</td>\n",
              "      <td>403.7367</td>\n",
              "      <td>21.0751</td>\n",
              "      <td>6.6428</td>\n",
              "      <td>5.2851</td>\n",
              "      <td>5.3273</td>\n",
              "      <td>5.5593</td>\n",
              "      <td>4.0632</td>\n",
              "      <td>4.0856</td>\n",
              "      <td>4.6471</td>\n",
              "      <td>5.0046</td>\n",
              "      <td>3.4505</td>\n",
              "      <td>3.0544</td>\n",
              "      <td>3.1043</td>\n",
              "      <td>4.5741</td>\n",
              "      <td>3.6070</td>\n",
              "      <td>2.6502</td>\n",
              "      <td>2.5333</td>\n",
              "      <td>2.1353</td>\n",
              "      <td>2.1454</td>\n",
              "      <td>1.9942</td>\n",
              "      <td>1.7190</td>\n",
              "      <td>2.6232</td>\n",
              "      <td>1.6892</td>\n",
              "      <td>1.6263</td>\n",
              "      <td>1.6380</td>\n",
              "      <td>2.3279</td>\n",
              "      <td>137.3126</td>\n",
              "      <td>51.5607</td>\n",
              "      <td>44.4641</td>\n",
              "      <td>26.1586</td>\n",
              "      <td>6.3076</td>\n",
              "      <td>2.8601</td>\n",
              "      <td>2.5361</td>\n",
              "      <td>3.5377</td>\n",
              "      <td>3.3545</td>\n",
              "      <td>5.0424</td>\n",
              "      <td>0</td>\n",
              "    </tr>\n",
              "    <tr>\n",
              "      <th>754</th>\n",
              "      <td>251</td>\n",
              "      <td>0</td>\n",
              "      <td>0.83782</td>\n",
              "      <td>0.74890</td>\n",
              "      <td>0.49823</td>\n",
              "      <td>340</td>\n",
              "      <td>339</td>\n",
              "      <td>0.005679</td>\n",
              "      <td>0.000055</td>\n",
              "      <td>0.00092</td>\n",
              "      <td>0.000005</td>\n",
              "      <td>0.00017</td>\n",
              "      <td>0.00041</td>\n",
              "      <td>0.00052</td>\n",
              "      <td>0.03552</td>\n",
              "      <td>0.311</td>\n",
              "      <td>0.01791</td>\n",
              "      <td>0.02348</td>\n",
              "      <td>0.02648</td>\n",
              "      <td>0.05373</td>\n",
              "      <td>0.988241</td>\n",
              "      <td>0.011931</td>\n",
              "      <td>19.706</td>\n",
              "      <td>76.168804</td>\n",
              "      <td>79.266058</td>\n",
              "      <td>77.870915</td>\n",
              "      <td>771.948334</td>\n",
              "      <td>1657.021811</td>\n",
              "      <td>2914.862553</td>\n",
              "      <td>3789.033261</td>\n",
              "      <td>148.537987</td>\n",
              "      <td>107.101663</td>\n",
              "      <td>194.220698</td>\n",
              "      <td>339.805353</td>\n",
              "      <td>1.00000</td>\n",
              "      <td>6.2636</td>\n",
              "      <td>0.0000</td>\n",
              "      <td>0.87012</td>\n",
              "      <td>0.134290</td>\n",
              "      <td>0.152170</td>\n",
              "      <td>...</td>\n",
              "      <td>-0.185180</td>\n",
              "      <td>-0.170720</td>\n",
              "      <td>0.009233</td>\n",
              "      <td>4168.7112</td>\n",
              "      <td>288.4453</td>\n",
              "      <td>148.1733</td>\n",
              "      <td>63.1895</td>\n",
              "      <td>33.9632</td>\n",
              "      <td>12.4309</td>\n",
              "      <td>4.7000</td>\n",
              "      <td>5.0041</td>\n",
              "      <td>5.4431</td>\n",
              "      <td>5.2706</td>\n",
              "      <td>3.7900</td>\n",
              "      <td>3.0156</td>\n",
              "      <td>2.9225</td>\n",
              "      <td>4.7477</td>\n",
              "      <td>3.7193</td>\n",
              "      <td>3.0540</td>\n",
              "      <td>2.4262</td>\n",
              "      <td>2.2441</td>\n",
              "      <td>2.0722</td>\n",
              "      <td>2.3155</td>\n",
              "      <td>1.5696</td>\n",
              "      <td>1.6265</td>\n",
              "      <td>1.6850</td>\n",
              "      <td>1.5701</td>\n",
              "      <td>1.5692</td>\n",
              "      <td>1.6052</td>\n",
              "      <td>5.4425</td>\n",
              "      <td>19.1607</td>\n",
              "      <td>12.8312</td>\n",
              "      <td>8.9434</td>\n",
              "      <td>2.2044</td>\n",
              "      <td>1.9496</td>\n",
              "      <td>1.9664</td>\n",
              "      <td>2.6801</td>\n",
              "      <td>2.8332</td>\n",
              "      <td>3.7131</td>\n",
              "      <td>0</td>\n",
              "    </tr>\n",
              "    <tr>\n",
              "      <th>755</th>\n",
              "      <td>251</td>\n",
              "      <td>0</td>\n",
              "      <td>0.81304</td>\n",
              "      <td>0.76471</td>\n",
              "      <td>0.46374</td>\n",
              "      <td>340</td>\n",
              "      <td>339</td>\n",
              "      <td>0.005676</td>\n",
              "      <td>0.000037</td>\n",
              "      <td>0.00078</td>\n",
              "      <td>0.000004</td>\n",
              "      <td>0.00014</td>\n",
              "      <td>0.00033</td>\n",
              "      <td>0.00042</td>\n",
              "      <td>0.03702</td>\n",
              "      <td>0.326</td>\n",
              "      <td>0.01940</td>\n",
              "      <td>0.02332</td>\n",
              "      <td>0.02765</td>\n",
              "      <td>0.05820</td>\n",
              "      <td>0.996402</td>\n",
              "      <td>0.003615</td>\n",
              "      <td>25.276</td>\n",
              "      <td>76.076331</td>\n",
              "      <td>79.670177</td>\n",
              "      <td>77.995949</td>\n",
              "      <td>706.567000</td>\n",
              "      <td>1612.140356</td>\n",
              "      <td>2892.932567</td>\n",
              "      <td>4012.558775</td>\n",
              "      <td>253.002448</td>\n",
              "      <td>118.148822</td>\n",
              "      <td>374.755472</td>\n",
              "      <td>315.624916</td>\n",
              "      <td>1.00000</td>\n",
              "      <td>5.4399</td>\n",
              "      <td>0.0000</td>\n",
              "      <td>0.81328</td>\n",
              "      <td>0.086543</td>\n",
              "      <td>0.143040</td>\n",
              "      <td>...</td>\n",
              "      <td>-0.405800</td>\n",
              "      <td>-0.016577</td>\n",
              "      <td>-0.011918</td>\n",
              "      <td>1350.6498</td>\n",
              "      <td>39.6924</td>\n",
              "      <td>88.7012</td>\n",
              "      <td>78.8415</td>\n",
              "      <td>59.5400</td>\n",
              "      <td>168.2406</td>\n",
              "      <td>38.1243</td>\n",
              "      <td>12.1613</td>\n",
              "      <td>7.0117</td>\n",
              "      <td>7.0698</td>\n",
              "      <td>4.0836</td>\n",
              "      <td>3.1870</td>\n",
              "      <td>3.1537</td>\n",
              "      <td>5.0089</td>\n",
              "      <td>4.3831</td>\n",
              "      <td>3.2761</td>\n",
              "      <td>2.8148</td>\n",
              "      <td>2.7033</td>\n",
              "      <td>2.0727</td>\n",
              "      <td>2.3956</td>\n",
              "      <td>1.6540</td>\n",
              "      <td>1.6975</td>\n",
              "      <td>1.9123</td>\n",
              "      <td>1.7320</td>\n",
              "      <td>1.7050</td>\n",
              "      <td>1.6820</td>\n",
              "      <td>11.1487</td>\n",
              "      <td>62.9927</td>\n",
              "      <td>21.8152</td>\n",
              "      <td>9.2457</td>\n",
              "      <td>4.8555</td>\n",
              "      <td>3.0551</td>\n",
              "      <td>3.0415</td>\n",
              "      <td>4.0116</td>\n",
              "      <td>2.6217</td>\n",
              "      <td>3.1527</td>\n",
              "      <td>0</td>\n",
              "    </tr>\n",
              "  </tbody>\n",
              "</table>\n",
              "<p>756 rows × 755 columns</p>\n",
              "</div>"
            ],
            "text/plain": [
              "      id  gender  ...  tqwt_kurtosisValue_dec_36  class\n",
              "0      0       1  ...                    18.9405      1\n",
              "1      0       1  ...                    45.1780      1\n",
              "2      0       1  ...                     4.7666      1\n",
              "3      1       0  ...                     4.0603      1\n",
              "4      1       0  ...                     6.1164      1\n",
              "..   ...     ...  ...                        ...    ...\n",
              "751  250       0  ...                     6.8671      0\n",
              "752  250       0  ...                    28.4170      0\n",
              "753  251       0  ...                     5.0424      0\n",
              "754  251       0  ...                     3.7131      0\n",
              "755  251       0  ...                     3.1527      0\n",
              "\n",
              "[756 rows x 755 columns]"
            ]
          },
          "metadata": {
            "tags": []
          },
          "execution_count": 97
        }
      ]
    },
    {
      "cell_type": "markdown",
      "metadata": {
        "id": "TSerj_naCC1A"
      },
      "source": [
        "# Scaling"
      ]
    },
    {
      "cell_type": "markdown",
      "metadata": {
        "ExecuteTime": {
          "end_time": "2020-10-22T10:47:20.420987Z",
          "start_time": "2020-10-22T10:47:20.401791Z"
        },
        "id": "XY3KHFTYEmrV"
      },
      "source": [
        "### Scaling에는 2가지 방법\n",
        "- Normalization (min-max scaling / 0~1)\n",
        "- Standardization (mean/std)"
      ]
    },
    {
      "cell_type": "code",
      "metadata": {
        "ExecuteTime": {
          "end_time": "2020-12-05T00:34:23.515252Z",
          "start_time": "2020-12-05T00:34:23.513411Z"
        },
        "id": "neeRL7ZWEmrW"
      },
      "source": [
        "from sklearn.preprocessing import MinMaxScaler, StandardScaler"
      ],
      "execution_count": null,
      "outputs": []
    },
    {
      "cell_type": "code",
      "metadata": {
        "ExecuteTime": {
          "end_time": "2020-12-05T00:36:01.640683Z",
          "start_time": "2020-12-05T00:36:01.638371Z"
        },
        "id": "17gY1YEMEmrp"
      },
      "source": [
        "mms = MinMaxScaler()\n",
        "sds = StandardScaler()"
      ],
      "execution_count": null,
      "outputs": []
    },
    {
      "cell_type": "markdown",
      "metadata": {
        "id": "XAGhbkijBywb"
      },
      "source": [
        "# 10 fold"
      ]
    },
    {
      "cell_type": "code",
      "metadata": {
        "ExecuteTime": {
          "end_time": "2020-12-05T00:34:33.326102Z",
          "start_time": "2020-12-05T00:34:33.323966Z"
        },
        "id": "0EsuKHJQ1q_q"
      },
      "source": [
        "# StratifiedKFold guerantees uniform proportion of target values for each fold\n",
        "from sklearn.model_selection import StratifiedKFold\n",
        "\n",
        "RS = 1234\n",
        "# shuffle: random shuffle data, random_state: key of random shuffle\n",
        "kfold = StratifiedKFold(n_splits=10, shuffle=True, random_state=RS)"
      ],
      "execution_count": null,
      "outputs": []
    },
    {
      "cell_type": "code",
      "metadata": {
        "ExecuteTime": {
          "end_time": "2020-12-05T00:34:33.461260Z",
          "start_time": "2020-12-05T00:34:33.459718Z"
        },
        "id": "-P8NXo02Aky-"
      },
      "source": [
        "target_col = 'class'\n",
        "unused_cols = ['id']"
      ],
      "execution_count": null,
      "outputs": []
    },
    {
      "cell_type": "code",
      "metadata": {
        "ExecuteTime": {
          "end_time": "2020-12-05T00:34:33.646520Z",
          "start_time": "2020-12-05T00:34:33.641305Z"
        },
        "id": "0Zm2YR8I5OtO"
      },
      "source": [
        "X = df[[col for col in df.columns if col not in unused_cols + [target_col]]].values\n",
        "y = df[target_col].values"
      ],
      "execution_count": null,
      "outputs": []
    },
    {
      "cell_type": "code",
      "metadata": {
        "ExecuteTime": {
          "end_time": "2020-12-05T00:34:35.228190Z",
          "start_time": "2020-12-05T00:34:35.226110Z"
        },
        "id": "Re9ZlZqI5OtO"
      },
      "source": [
        "ids = df.loc[::3, 'id'].values\n",
        "classes = df.loc[::3, 'class'].values"
      ],
      "execution_count": null,
      "outputs": []
    },
    {
      "cell_type": "code",
      "metadata": {
        "colab": {
          "base_uri": "https://localhost:8080/"
        },
        "id": "Nagqpjt2UBKC",
        "outputId": "4992e7d6-d532-4598-cfa8-07d4cf7b508e"
      },
      "source": [
        "ids"
      ],
      "execution_count": null,
      "outputs": [
        {
          "output_type": "execute_result",
          "data": {
            "text/plain": [
              "array([  0,   1,   2,   3,   4,   5,   6,   7,   8,   9,  10,  11,  12,\n",
              "        13,  14,  15,  16,  17,  18,  19,  20,  21,  22,  23,  24,  25,\n",
              "        26,  27,  28,  29,  30,  31,  32,  33,  34,  35,  36,  37,  38,\n",
              "        39,  40,  41,  42,  43,  44,  45,  46,  47,  48,  49,  50,  51,\n",
              "        52,  53,  54,  55,  56,  57,  58,  59,  60,  61,  62,  63,  64,\n",
              "        65,  66,  67,  68,  69,  70,  71,  72,  73,  74,  75,  76,  77,\n",
              "        78,  79,  80,  81,  82,  83,  84,  85,  86,  87,  88,  89,  90,\n",
              "        91,  92,  93,  94,  95,  96,  97,  98,  99, 100, 101, 102, 103,\n",
              "       104, 105, 106, 107, 108, 109, 110, 111, 112, 113, 114, 115, 116,\n",
              "       117, 118, 119, 120, 121, 122, 123, 124, 125, 126, 127, 128, 129,\n",
              "       130, 131, 132, 133, 134, 135, 136, 137, 138, 139, 140, 141, 142,\n",
              "       143, 144, 145, 146, 147, 148, 149, 150, 151, 152, 153, 154, 155,\n",
              "       156, 157, 158, 159, 160, 161, 162, 163, 164, 165, 166, 167, 168,\n",
              "       169, 170, 171, 172, 173, 174, 175, 176, 177, 178, 179, 180, 181,\n",
              "       182, 183, 184, 185, 186, 187, 188, 189, 190, 191, 192, 193, 194,\n",
              "       195, 196, 197, 198, 199, 200, 201, 202, 203, 204, 205, 206, 207,\n",
              "       208, 209, 210, 211, 212, 213, 214, 215, 216, 217, 218, 219, 220,\n",
              "       221, 222, 223, 224, 225, 226, 227, 228, 229, 230, 231, 232, 233,\n",
              "       234, 235, 236, 237, 238, 239, 240, 241, 242, 243, 244, 245, 246,\n",
              "       247, 248, 249, 250, 251])"
            ]
          },
          "metadata": {
            "tags": []
          },
          "execution_count": 113
        }
      ]
    },
    {
      "cell_type": "code",
      "metadata": {
        "id": "B5cRuX3bRjnu"
      },
      "source": [
        "model = DecisionTreeClassifier(random_state=RS)\n",
        "\n",
        "aucs = []\n",
        "\n",
        "for fold, (train_indice, test_indice) in enumerate(kfold.split(ids, classes)):\n",
        "    print(train_indice, test_indice)"
      ],
      "execution_count": null,
      "outputs": []
    },
    {
      "cell_type": "code",
      "metadata": {
        "colab": {
          "base_uri": "https://localhost:8080/"
        },
        "id": "aXoskmObSArm",
        "outputId": "3f6b9e76-9ebf-4eb6-c647-16f497b0164e"
      },
      "source": [
        "ids[train_indice]"
      ],
      "execution_count": null,
      "outputs": [
        {
          "output_type": "execute_result",
          "data": {
            "text/plain": [
              "array([  0,   1,   2,   4,   5,   6,   7,   8,   9,  10,  11,  12,  13,\n",
              "        14,  15,  16,  17,  18,  19,  20,  22,  23,  24,  25,  26,  27,\n",
              "        28,  30,  31,  32,  33,  34,  35,  36,  37,  38,  39,  40,  41,\n",
              "        42,  43,  45,  46,  47,  48,  49,  50,  51,  52,  53,  54,  55,\n",
              "        56,  57,  58,  59,  60,  61,  62,  63,  64,  65,  66,  67,  68,\n",
              "        69,  70,  71,  73,  74,  75,  76,  77,  78,  79,  80,  81,  82,\n",
              "        83,  84,  85,  86,  87,  88,  89,  90,  91,  92,  93,  95,  96,\n",
              "        97,  98,  99, 100, 102, 103, 104, 105, 106, 107, 108, 109, 110,\n",
              "       111, 112, 115, 116, 117, 119, 120, 121, 122, 123, 124, 126, 127,\n",
              "       128, 129, 130, 131, 132, 133, 134, 135, 137, 138, 139, 140, 141,\n",
              "       142, 143, 144, 145, 146, 148, 149, 150, 151, 153, 154, 155, 156,\n",
              "       157, 158, 159, 160, 161, 162, 163, 164, 166, 168, 169, 170, 171,\n",
              "       173, 174, 175, 176, 177, 178, 179, 180, 181, 182, 183, 184, 185,\n",
              "       186, 187, 189, 190, 191, 192, 193, 195, 198, 199, 200, 201, 202,\n",
              "       204, 205, 206, 207, 208, 209, 210, 211, 212, 213, 214, 215, 216,\n",
              "       217, 218, 219, 220, 221, 222, 223, 224, 225, 226, 227, 228, 229,\n",
              "       230, 232, 233, 234, 235, 236, 237, 238, 240, 241, 242, 243, 244,\n",
              "       245, 246, 247, 248, 249, 251])"
            ]
          },
          "metadata": {
            "tags": []
          },
          "execution_count": 110
        }
      ]
    },
    {
      "cell_type": "markdown",
      "metadata": {
        "id": "b9IBPY5lUvJo"
      },
      "source": [
        "# Baseline Models"
      ]
    },
    {
      "cell_type": "code",
      "metadata": {
        "ExecuteTime": {
          "end_time": "2020-12-05T00:34:34.574684Z",
          "start_time": "2020-12-05T00:34:34.572980Z"
        },
        "id": "sImll2YtZUXt"
      },
      "source": [
        "from sklearn.metrics import roc_auc_score  # for printing score"
      ],
      "execution_count": null,
      "outputs": []
    },
    {
      "cell_type": "markdown",
      "metadata": {
        "id": "4r3wzl93U_Q6"
      },
      "source": [
        "## Decision tree(0.6565)"
      ]
    },
    {
      "cell_type": "code",
      "metadata": {
        "ExecuteTime": {
          "end_time": "2020-12-05T00:34:35.118459Z",
          "start_time": "2020-12-05T00:34:35.078634Z"
        },
        "id": "GnQhzKnVVKVl"
      },
      "source": [
        "from sklearn.tree import DecisionTreeClassifier"
      ],
      "execution_count": null,
      "outputs": []
    },
    {
      "cell_type": "code",
      "metadata": {
        "ExecuteTime": {
          "end_time": "2020-12-05T00:34:39.063776Z",
          "start_time": "2020-12-05T00:34:35.935355Z"
        },
        "id": "yQq-PFp5VOHO",
        "colab": {
          "base_uri": "https://localhost:8080/"
        },
        "outputId": "dee17458-c46f-4557-969e-f2a0782d0394"
      },
      "source": [
        "model = DecisionTreeClassifier(random_state=RS)\n",
        "\n",
        "aucs = []\n",
        "\n",
        "for fold, (train_indice, test_indice) in enumerate(kfold.split(ids, classes)):\n",
        "    train_df = df[df['id'].isin(ids[train_indice])]\n",
        "    test_df = df[df['id'].isin(ids[test_indice])]\n",
        "    \n",
        "    X_train = train_df[[col for col in df.columns if col not in unused_cols + [target_col]]].values\n",
        "    y_train = train_df[target_col].values\n",
        "    X_test = test_df[[col for col in df.columns if col not in unused_cols + [target_col]]].values\n",
        "    y_test = test_df[target_col].values\n",
        "    \n",
        "    model.fit(X_train, y_train)\n",
        "    y_pred = model.predict(X_test)\n",
        "    auc = roc_auc_score(y_test, y_pred)\n",
        "    aucs.append(auc)\n",
        "    print(\"[Fold {}] AUC : {}\".format(fold, aucs[fold]))\n",
        "\n",
        "print('Mean AUC : {}'.format(np.mean(aucs)))"
      ],
      "execution_count": null,
      "outputs": [
        {
          "output_type": "stream",
          "text": [
            "[Fold 0] AUC : 0.6228070175438596\n",
            "[Fold 1] AUC : 0.6027568922305764\n",
            "[Fold 2] AUC : 0.5862573099415205\n",
            "[Fold 3] AUC : 0.682748538011696\n",
            "[Fold 4] AUC : 0.6257309941520467\n",
            "[Fold 5] AUC : 0.605263157894737\n",
            "[Fold 6] AUC : 0.8099415204678363\n",
            "[Fold 7] AUC : 0.5994152046783625\n",
            "[Fold 8] AUC : 0.7592592592592593\n",
            "[Fold 9] AUC : 0.6706349206349207\n",
            "Mean AUC : 0.6564814814814814\n"
          ],
          "name": "stdout"
        }
      ]
    },
    {
      "cell_type": "markdown",
      "metadata": {
        "id": "QdG2gv0aEmsa"
      },
      "source": [
        "## Random Forest(0.7239)"
      ]
    },
    {
      "cell_type": "code",
      "metadata": {
        "ExecuteTime": {
          "end_time": "2020-10-22T11:06:18.701164Z",
          "start_time": "2020-10-22T11:06:18.695720Z"
        },
        "id": "H0zIRgbaEmsb"
      },
      "source": [
        "from sklearn.ensemble import RandomForestClassifier"
      ],
      "execution_count": null,
      "outputs": []
    },
    {
      "cell_type": "code",
      "metadata": {
        "ExecuteTime": {
          "end_time": "2020-10-22T11:08:13.767065Z",
          "start_time": "2020-10-22T11:08:07.606359Z"
        },
        "id": "Q4VDDeG3Emsj",
        "scrolled": false,
        "colab": {
          "base_uri": "https://localhost:8080/"
        },
        "outputId": "ec941934-f695-4bde-ff88-13bf041b32fb"
      },
      "source": [
        "model = RandomForestClassifier(random_state=RS)\n",
        "\n",
        "aucs = []\n",
        "\n",
        "for fold, (train_indice, test_indice) in enumerate(kfold.split(ids, classes)):\n",
        "    train_df = df[df['id'].isin(ids[train_indice])]\n",
        "    test_df = df[df['id'].isin(ids[test_indice])]\n",
        "    \n",
        "    X_train = train_df[[col for col in df.columns if col not in unused_cols + [target_col]]].values\n",
        "    y_train = train_df[target_col].values\n",
        "    X_test = test_df[[col for col in df.columns if col not in unused_cols + [target_col]]].values\n",
        "    y_test = test_df[target_col].values\n",
        "    \n",
        "    model.fit(X_train, y_train)\n",
        "    y_pred = model.predict(X_test)\n",
        "    auc = roc_auc_score(y_test, y_pred)\n",
        "    aucs.append(auc)\n",
        "    print(\"[Fold {}] AUC : {}\".format(fold, aucs[fold]))\n",
        "\n",
        "print('Mean AUC : {}'.format(np.mean(aucs)))    "
      ],
      "execution_count": null,
      "outputs": [
        {
          "output_type": "stream",
          "text": [
            "[Fold 0] AUC : 0.6578947368421053\n",
            "[Fold 1] AUC : 0.5664160401002507\n",
            "[Fold 2] AUC : 0.7222222222222222\n",
            "[Fold 3] AUC : 0.7529239766081872\n",
            "[Fold 4] AUC : 0.685672514619883\n",
            "[Fold 5] AUC : 0.6125730994152045\n",
            "[Fold 6] AUC : 0.8523391812865496\n",
            "[Fold 7] AUC : 0.8157894736842106\n",
            "[Fold 8] AUC : 0.7579365079365078\n",
            "[Fold 9] AUC : 0.8148148148148149\n",
            "Mean AUC : 0.7238582567529936\n"
          ],
          "name": "stdout"
        }
      ]
    },
    {
      "cell_type": "markdown",
      "metadata": {
        "id": "C4OuRSzAVVJ-"
      },
      "source": [
        "## KNN(mms: 0.6650)"
      ]
    },
    {
      "cell_type": "code",
      "metadata": {
        "ExecuteTime": {
          "end_time": "2020-12-05T00:34:48.828682Z",
          "start_time": "2020-12-05T00:34:48.826956Z"
        },
        "id": "tP333IO-VWmD"
      },
      "source": [
        "from sklearn.neighbors import KNeighborsClassifier"
      ],
      "execution_count": null,
      "outputs": []
    },
    {
      "cell_type": "code",
      "metadata": {
        "ExecuteTime": {
          "end_time": "2020-12-05T00:36:39.559983Z",
          "start_time": "2020-12-05T00:36:39.260793Z"
        },
        "id": "vITd3e7JVW2U",
        "scrolled": false,
        "colab": {
          "base_uri": "https://localhost:8080/"
        },
        "outputId": "3360244c-ac2f-4e23-a350-98cd9d391d5a"
      },
      "source": [
        "# Choose one scaler from below\n",
        "trs = mms\n",
        "# trs = sds\n",
        "model = KNeighborsClassifier()\n",
        "# 주변에서 가까운 것 선택하는 거라 랜덤성을 부여할 수 없다. \n",
        "aucs = []\n",
        "\n",
        "\n",
        "\n",
        "for fold, (train_indice, test_indice) in enumerate(kfold.split(ids, classes)):\n",
        "    train_df = df[df['id'].isin(ids[train_indice])]\n",
        "    test_df = df[df['id'].isin(ids[test_indice])]\n",
        "    \n",
        "    X_train = train_df[[col for col in df.columns if col not in unused_cols + [target_col]]].values\n",
        "    y_train = train_df[target_col].values\n",
        "    X_test = test_df[[col for col in df.columns if col not in unused_cols + [target_col]]].values\n",
        "    y_test = test_df[target_col].values\n",
        "\n",
        "    # Use these to apply scaling\n",
        "    X_train_scaled = trs.fit_transform(X_train)\n",
        "    X_test_scaled = trs.transform(X_test)\n",
        "    \n",
        "    model.fit(X_train_scaled, y_train)\n",
        "    y_pred = model.predict(X_test_scaled)\n",
        "    auc = roc_auc_score(y_test, y_pred)\n",
        "    aucs.append(auc)\n",
        "    print(\"[Fold {}] AUC : {}\".format(fold, aucs[fold]))\n",
        "\n",
        "print('Mean AUC : {}'.format(np.mean(aucs)))  "
      ],
      "execution_count": null,
      "outputs": [
        {
          "output_type": "stream",
          "text": [
            "[Fold 0] AUC : 0.605263157894737\n",
            "[Fold 1] AUC : 0.5576441102756893\n",
            "[Fold 2] AUC : 0.7324561403508771\n",
            "[Fold 3] AUC : 0.6198830409356725\n",
            "[Fold 4] AUC : 0.6403508771929824\n",
            "[Fold 5] AUC : 0.6125730994152045\n",
            "[Fold 6] AUC : 0.77046783625731\n",
            "[Fold 7] AUC : 0.6403508771929824\n",
            "[Fold 8] AUC : 0.6600529100529101\n",
            "[Fold 9] AUC : 0.816137566137566\n",
            "Mean AUC : 0.6655179615705931\n"
          ],
          "name": "stdout"
        }
      ]
    },
    {
      "cell_type": "markdown",
      "metadata": {
        "id": "39KtBK9gFJ4T"
      },
      "source": [
        "## svm (mms: 0.7108)"
      ]
    },
    {
      "cell_type": "code",
      "metadata": {
        "id": "koFeNqXHFLt-"
      },
      "source": [
        "import sklearn.svm as svm"
      ],
      "execution_count": null,
      "outputs": []
    },
    {
      "cell_type": "code",
      "metadata": {
        "colab": {
          "base_uri": "https://localhost:8080/"
        },
        "id": "RQ2lR-odFUrY",
        "outputId": "24b3ce0d-0e7d-4f16-a16a-08828eb97df6"
      },
      "source": [
        "# Choose one scaler from below\n",
        "trs = mms\n",
        "# trs = sds\n",
        "\n",
        "model = svm.SVC(kernel='rbf', random_state=RS)\n",
        "\n",
        "aucs = []\n",
        "\n",
        "for fold, (train_indice, test_indice) in enumerate(kfold.split(ids, classes)):\n",
        "    train_df = df[df['id'].isin(ids[train_indice])]\n",
        "    test_df = df[df['id'].isin(ids[test_indice])]\n",
        "    \n",
        "    X_train = train_df[[col for col in df.columns if col not in unused_cols + [target_col]]].values\n",
        "    y_train = train_df[target_col].values\n",
        "    X_test = test_df[[col for col in df.columns if col not in unused_cols + [target_col]]].values\n",
        "    y_test = test_df[target_col].values\n",
        "\n",
        "    # Use these to apply scaling\n",
        "    X_train_scaled = trs.fit_transform(X_train)\n",
        "    X_test_scaled = trs.transform(X_test)\n",
        "    \n",
        "    model.fit(X_train_scaled, y_train)\n",
        "    y_pred = model.predict(X_test_scaled)\n",
        "    auc = roc_auc_score(y_test, y_pred)\n",
        "    aucs.append(auc)\n",
        "    print(\"[Fold {}] AUC : {}\".format(fold, aucs[fold]))\n",
        "\n",
        "print('Mean AUC : {}'.format(np.mean(aucs)))    "
      ],
      "execution_count": null,
      "outputs": [
        {
          "output_type": "stream",
          "text": [
            "[Fold 0] AUC : 0.6015037593984962\n",
            "[Fold 1] AUC : 0.7117794486215538\n",
            "[Fold 2] AUC : 0.6944444444444444\n",
            "[Fold 3] AUC : 0.7426900584795322\n",
            "[Fold 4] AUC : 0.6769005847953216\n",
            "[Fold 5] AUC : 0.6125730994152045\n",
            "[Fold 6] AUC : 0.7792397660818714\n",
            "[Fold 7] AUC : 0.7690058479532164\n",
            "[Fold 8] AUC : 0.7195767195767195\n",
            "[Fold 9] AUC : 0.8002645502645502\n",
            "Mean AUC : 0.7107978279030911\n"
          ],
          "name": "stdout"
        }
      ]
    },
    {
      "cell_type": "markdown",
      "metadata": {
        "id": "QKSRPQfdahL6"
      },
      "source": [
        "## XGBoost(0.7011)"
      ]
    },
    {
      "cell_type": "code",
      "metadata": {
        "id": "CEbtakfAcb7c"
      },
      "source": [
        "from xgboost import XGBRFClassifier"
      ],
      "execution_count": null,
      "outputs": []
    },
    {
      "cell_type": "code",
      "metadata": {
        "id": "5ggqkNu6ccGs",
        "colab": {
          "base_uri": "https://localhost:8080/"
        },
        "outputId": "bb33ca6d-2e37-4776-901a-fcee6a962c89"
      },
      "source": [
        "model = XGBRFClassifier(random_state=RS)\n",
        "\n",
        "aucs = []\n",
        "\n",
        "for fold, (train_indice, test_indice) in enumerate(kfold.split(ids, classes)):\n",
        "    train_df = df[df['id'].isin(ids[train_indice])]\n",
        "    test_df = df[df['id'].isin(ids[test_indice])]\n",
        "    \n",
        "    X_train = train_df[[col for col in df.columns if col not in unused_cols + [target_col]]].values\n",
        "    y_train = train_df[target_col].values\n",
        "    X_test = test_df[[col for col in df.columns if col not in unused_cols + [target_col]]].values\n",
        "    y_test = test_df[target_col].values\n",
        "    \n",
        "    model.fit(X_train, y_train)\n",
        "    y_pred = model.predict(X_test)\n",
        "    auc = roc_auc_score(y_test, y_pred)\n",
        "    aucs.append(auc)\n",
        "    print(\"[Fold {}] AUC : {}\".format(fold, aucs[fold]))\n",
        "\n",
        "print('Mean AUC : {}'.format(np.mean(aucs)))    "
      ],
      "execution_count": null,
      "outputs": [
        {
          "output_type": "stream",
          "text": [
            "[Fold 0] AUC : 0.6015037593984962\n",
            "[Fold 1] AUC : 0.6140350877192983\n",
            "[Fold 2] AUC : 0.7134502923976608\n",
            "[Fold 3] AUC : 0.7339181286549707\n",
            "[Fold 4] AUC : 0.6769005847953216\n",
            "[Fold 5] AUC : 0.6403508771929824\n",
            "[Fold 6] AUC : 0.9078947368421053\n",
            "[Fold 7] AUC : 0.6695906432748537\n",
            "[Fold 8] AUC : 0.7341269841269842\n",
            "[Fold 9] AUC : 0.7195767195767195\n",
            "Mean AUC : 0.7011347813979393\n"
          ],
          "name": "stdout"
        }
      ]
    },
    {
      "cell_type": "markdown",
      "metadata": {
        "id": "T5ZiMCQSc3Xq"
      },
      "source": [
        "# Hyperparameter Tuning\n",
        "BorutaShap: https://pypi.org/project/BorutaShap/"
      ]
    },
    {
      "cell_type": "code",
      "metadata": {
        "ExecuteTime": {
          "end_time": "2020-12-05T00:39:37.440135Z",
          "start_time": "2020-12-05T00:39:37.438225Z"
        },
        "id": "ma7ov0NWiKbv"
      },
      "source": [
        "from sklearn.metrics import roc_auc_score  # for printing score\n",
        "RS = 1234"
      ],
      "execution_count": null,
      "outputs": []
    },
    {
      "cell_type": "markdown",
      "metadata": {
        "id": "3Tgnd4QLiKbv"
      },
      "source": [
        "## Decision tree(0.6948)"
      ]
    },
    {
      "cell_type": "markdown",
      "metadata": {
        "id": "kCz0AdzeIu0g"
      },
      "source": [
        "### Shap\n",
        "Shap은 그냥 피쳐 중요도 보는거라 10fold까지 할 필요는 없다. 다만 같은 id가 train과 test셋 모두에 들어가게 하는 것만 방지해주자."
      ]
    },
    {
      "cell_type": "code",
      "metadata": {
        "ExecuteTime": {
          "end_time": "2020-12-05T00:45:42.984989Z",
          "start_time": "2020-12-05T00:45:42.983143Z"
        },
        "id": "Wqu5KxzLIu0h"
      },
      "source": [
        "from sklearn.tree import DecisionTreeClassifier\n",
        "from sklearn.model_selection import train_test_split"
      ],
      "execution_count": null,
      "outputs": []
    },
    {
      "cell_type": "code",
      "metadata": {
        "ExecuteTime": {
          "end_time": "2020-12-05T00:34:22.132228Z",
          "start_time": "2020-12-05T00:34:21.813356Z"
        },
        "id": "6lZEtcN4ku_N"
      },
      "source": [
        "RS = 1234\n",
        "\n",
        "train, test = train_test_split(range(252),\n",
        "                               stratify=df[['id', 'class']].drop_duplicates()['class'].tolist(),\n",
        "                               random_state=RS,\n",
        "                               test_size=0.2) # train:test = 8:2"
      ],
      "execution_count": null,
      "outputs": []
    },
    {
      "cell_type": "code",
      "metadata": {
        "ExecuteTime": {
          "end_time": "2020-12-05T00:34:22.355369Z",
          "start_time": "2020-12-05T00:34:22.345763Z"
        },
        "id": "mg60q-GMtGCT"
      },
      "source": [
        "df_train = df[df['id'].isin(train)]\n",
        "df_test = df[df['id'].isin(test)]"
      ],
      "execution_count": null,
      "outputs": []
    },
    {
      "cell_type": "code",
      "metadata": {
        "ExecuteTime": {
          "end_time": "2020-12-05T00:34:22.518284Z",
          "start_time": "2020-12-05T00:34:22.512970Z"
        },
        "id": "pu3BIx3utPnY"
      },
      "source": [
        "df_train = df_train.drop(columns=['id'])\n",
        "df_test = df_test.drop(columns=['id'])"
      ],
      "execution_count": null,
      "outputs": []
    },
    {
      "cell_type": "code",
      "metadata": {
        "ExecuteTime": {
          "end_time": "2020-12-05T00:34:22.685390Z",
          "start_time": "2020-12-05T00:34:22.681814Z"
        },
        "id": "DOlPOwmgsxsS"
      },
      "source": [
        "X_train = df_train.iloc[:, :-1]\n",
        "X_test = df_test.iloc[:, :-1]\n",
        "y_train = df_train.iloc[:, -1]\n",
        "y_test = df_test.iloc[:, -1]"
      ],
      "execution_count": null,
      "outputs": []
    },
    {
      "cell_type": "code",
      "metadata": {
        "ExecuteTime": {
          "end_time": "2020-12-05T00:45:55.614808Z",
          "start_time": "2020-12-05T00:45:49.606670Z"
        },
        "colab": {
          "base_uri": "https://localhost:8080/"
        },
        "scrolled": true,
        "id": "OghtRjIFIu0i",
        "outputId": "0537ba6a-5870-40ac-b14b-9b28169de729"
      },
      "source": [
        "model = DecisionTreeClassifier(random_state=RS)\n",
        "\n",
        "model.fit(X_train, y_train)\n",
        "model.score(X_test, y_test) # accuracy일거다"
      ],
      "execution_count": null,
      "outputs": [
        {
          "output_type": "execute_result",
          "data": {
            "text/plain": [
              "0.7254901960784313"
            ]
          },
          "metadata": {
            "tags": []
          },
          "execution_count": 10
        }
      ]
    },
    {
      "cell_type": "code",
      "metadata": {
        "colab": {
          "base_uri": "https://localhost:8080/"
        },
        "id": "cqJnjTSxKIbk",
        "outputId": "7b9839f6-d101-456f-c223-d8065d0e02d3"
      },
      "source": [
        "!pip install shap"
      ],
      "execution_count": null,
      "outputs": [
        {
          "output_type": "stream",
          "text": [
            "Collecting shap\n",
            "\u001b[?25l  Downloading https://files.pythonhosted.org/packages/85/a3/c0eab9dd6a894165e2cb87504ff5b2710ac5ede3447d9138620b7341b6a2/shap-0.37.0.tar.gz (326kB)\n",
            "\r\u001b[K     |█                               | 10kB 16.6MB/s eta 0:00:01\r\u001b[K     |██                              | 20kB 21.1MB/s eta 0:00:01\r\u001b[K     |███                             | 30kB 11.6MB/s eta 0:00:01\r\u001b[K     |████                            | 40kB 10.1MB/s eta 0:00:01\r\u001b[K     |█████                           | 51kB 8.2MB/s eta 0:00:01\r\u001b[K     |██████                          | 61kB 7.9MB/s eta 0:00:01\r\u001b[K     |███████                         | 71kB 7.8MB/s eta 0:00:01\r\u001b[K     |████████                        | 81kB 8.3MB/s eta 0:00:01\r\u001b[K     |█████████                       | 92kB 7.6MB/s eta 0:00:01\r\u001b[K     |██████████                      | 102kB 8.0MB/s eta 0:00:01\r\u001b[K     |███████████                     | 112kB 8.0MB/s eta 0:00:01\r\u001b[K     |████████████                    | 122kB 8.0MB/s eta 0:00:01\r\u001b[K     |█████████████                   | 133kB 8.0MB/s eta 0:00:01\r\u001b[K     |██████████████                  | 143kB 8.0MB/s eta 0:00:01\r\u001b[K     |███████████████                 | 153kB 8.0MB/s eta 0:00:01\r\u001b[K     |████████████████                | 163kB 8.0MB/s eta 0:00:01\r\u001b[K     |█████████████████               | 174kB 8.0MB/s eta 0:00:01\r\u001b[K     |██████████████████              | 184kB 8.0MB/s eta 0:00:01\r\u001b[K     |███████████████████             | 194kB 8.0MB/s eta 0:00:01\r\u001b[K     |████████████████████            | 204kB 8.0MB/s eta 0:00:01\r\u001b[K     |█████████████████████           | 215kB 8.0MB/s eta 0:00:01\r\u001b[K     |██████████████████████          | 225kB 8.0MB/s eta 0:00:01\r\u001b[K     |███████████████████████         | 235kB 8.0MB/s eta 0:00:01\r\u001b[K     |████████████████████████        | 245kB 8.0MB/s eta 0:00:01\r\u001b[K     |█████████████████████████       | 256kB 8.0MB/s eta 0:00:01\r\u001b[K     |██████████████████████████      | 266kB 8.0MB/s eta 0:00:01\r\u001b[K     |███████████████████████████     | 276kB 8.0MB/s eta 0:00:01\r\u001b[K     |████████████████████████████    | 286kB 8.0MB/s eta 0:00:01\r\u001b[K     |█████████████████████████████   | 296kB 8.0MB/s eta 0:00:01\r\u001b[K     |██████████████████████████████  | 307kB 8.0MB/s eta 0:00:01\r\u001b[K     |███████████████████████████████ | 317kB 8.0MB/s eta 0:00:01\r\u001b[K     |████████████████████████████████| 327kB 8.0MB/s \n",
            "\u001b[?25hRequirement already satisfied: numpy in /usr/local/lib/python3.6/dist-packages (from shap) (1.18.5)\n",
            "Requirement already satisfied: scipy in /usr/local/lib/python3.6/dist-packages (from shap) (1.4.1)\n",
            "Requirement already satisfied: scikit-learn in /usr/local/lib/python3.6/dist-packages (from shap) (0.22.2.post1)\n",
            "Requirement already satisfied: pandas in /usr/local/lib/python3.6/dist-packages (from shap) (1.1.4)\n",
            "Requirement already satisfied: tqdm>4.25.0 in /usr/local/lib/python3.6/dist-packages (from shap) (4.41.1)\n",
            "Collecting slicer==0.0.3\n",
            "  Downloading https://files.pythonhosted.org/packages/02/a6/c708c5a0f338e99cfbcb6288b88794525548e4fc1b8457feec2c552a81a4/slicer-0.0.3-py3-none-any.whl\n",
            "Requirement already satisfied: numba in /usr/local/lib/python3.6/dist-packages (from shap) (0.48.0)\n",
            "Requirement already satisfied: joblib>=0.11 in /usr/local/lib/python3.6/dist-packages (from scikit-learn->shap) (0.17.0)\n",
            "Requirement already satisfied: pytz>=2017.2 in /usr/local/lib/python3.6/dist-packages (from pandas->shap) (2018.9)\n",
            "Requirement already satisfied: python-dateutil>=2.7.3 in /usr/local/lib/python3.6/dist-packages (from pandas->shap) (2.8.1)\n",
            "Requirement already satisfied: setuptools in /usr/local/lib/python3.6/dist-packages (from numba->shap) (50.3.2)\n",
            "Requirement already satisfied: llvmlite<0.32.0,>=0.31.0dev0 in /usr/local/lib/python3.6/dist-packages (from numba->shap) (0.31.0)\n",
            "Requirement already satisfied: six>=1.5 in /usr/local/lib/python3.6/dist-packages (from python-dateutil>=2.7.3->pandas->shap) (1.15.0)\n",
            "Building wheels for collected packages: shap\n",
            "  Building wheel for shap (setup.py) ... \u001b[?25l\u001b[?25hdone\n",
            "  Created wheel for shap: filename=shap-0.37.0-cp36-cp36m-linux_x86_64.whl size=463915 sha256=351c028e972ec8ace792ba93ee15c40f413642694a40edf7c48ed2ac3e1adf01\n",
            "  Stored in directory: /root/.cache/pip/wheels/df/ad/b0/aa7815ec68850d66551ef618095eccb962c8f6022f1d3dd989\n",
            "Successfully built shap\n",
            "Installing collected packages: slicer, shap\n",
            "Successfully installed shap-0.37.0 slicer-0.0.3\n"
          ],
          "name": "stdout"
        }
      ]
    },
    {
      "cell_type": "code",
      "metadata": {
        "ExecuteTime": {
          "end_time": "2020-12-05T00:46:05.694982Z",
          "start_time": "2020-12-05T00:46:04.672530Z"
        },
        "colab": {
          "base_uri": "https://localhost:8080/"
        },
        "id": "PMp2GFDzIu0k",
        "outputId": "3442785b-cda4-42f6-ae73-bb7d7e7702ac"
      },
      "source": [
        "import shap\n",
        "import skimage\n",
        "\n",
        "explainer = shap.Explainer(model)\n",
        "shap_values = explainer.shap_values(X_train)\n",
        "shap.summary_plot(shap_values, X_train, plot_type=\"bar\", max_display=100)"
      ],
      "execution_count": null,
      "outputs": [
        {
          "output_type": "display_data",
          "data": {
            "image/png": "[encoded data removed]",
            "text/plain": [
              "<Figure size 576x2988 with 1 Axes>"
            ]
          },
          "metadata": {
            "tags": [],
            "needs_background": "light"
          }
        }
      ]
    },
    {
      "cell_type": "code",
      "metadata": {
        "colab": {
          "base_uri": "https://localhost:8080/"
        },
        "id": "CMlnVqrbKwyM",
        "outputId": "64e144df-2627-4265-91d0-a0fcce752a53"
      },
      "source": [
        "# https://github.com/slundberg/shap/issues/632\n",
        "vals= np.abs(shap_values[1]).mean(0)\n",
        "feature_importance = pd.DataFrame(list(zip(X_train.columns,vals)),columns=['col_name','feature_importance_vals'])\n",
        "feature_importance.sort_values(by=['feature_importance_vals'], ascending=False,inplace=True)\n",
        "feature_importance.head()"
      ],
      "execution_count": null,
      "outputs": [
        {
          "output_type": "execute_result",
          "data": {
            "text/html": [
              "<div>\n",
              "<style scoped>\n",
              "    .dataframe tbody tr th:only-of-type {\n",
              "        vertical-align: middle;\n",
              "    }\n",
              "\n",
              "    .dataframe tbody tr th {\n",
              "        vertical-align: top;\n",
              "    }\n",
              "\n",
              "    .dataframe thead th {\n",
              "        text-align: right;\n",
              "    }\n",
              "</style>\n",
              "<table border=\"1\" class=\"dataframe\">\n",
              "  <thead>\n",
              "    <tr style=\"text-align: right;\">\n",
              "      <th></th>\n",
              "      <th>col_name</th>\n",
              "      <th>feature_importance_vals</th>\n",
              "    </tr>\n",
              "  </thead>\n",
              "  <tbody>\n",
              "    <tr>\n",
              "      <th>125</th>\n",
              "      <td>std_delta_delta_log_energy</td>\n",
              "      <td>0.112626</td>\n",
              "    </tr>\n",
              "    <tr>\n",
              "      <th>583</th>\n",
              "      <td>tqwt_stdValue_dec_11</td>\n",
              "      <td>0.100684</td>\n",
              "    </tr>\n",
              "    <tr>\n",
              "      <th>621</th>\n",
              "      <td>tqwt_minValue_dec_13</td>\n",
              "      <td>0.037526</td>\n",
              "    </tr>\n",
              "    <tr>\n",
              "      <th>706</th>\n",
              "      <td>tqwt_skewnessValue_dec_26</td>\n",
              "      <td>0.028847</td>\n",
              "    </tr>\n",
              "    <tr>\n",
              "      <th>739</th>\n",
              "      <td>tqwt_kurtosisValue_dec_23</td>\n",
              "      <td>0.023333</td>\n",
              "    </tr>\n",
              "  </tbody>\n",
              "</table>\n",
              "</div>"
            ],
            "text/plain": [
              "                       col_name  feature_importance_vals\n",
              "125  std_delta_delta_log_energy                 0.112626\n",
              "583        tqwt_stdValue_dec_11                 0.100684\n",
              "621        tqwt_minValue_dec_13                 0.037526\n",
              "706   tqwt_skewnessValue_dec_26                 0.028847\n",
              "739   tqwt_kurtosisValue_dec_23                 0.023333"
            ]
          },
          "metadata": {
            "tags": []
          },
          "execution_count": 13
        }
      ]
    },
    {
      "cell_type": "code",
      "metadata": {
        "id": "VapTCTdHQemf"
      },
      "source": [
        "important_features = feature_importance['col_name'].tolist()"
      ],
      "execution_count": null,
      "outputs": []
    },
    {
      "cell_type": "code",
      "metadata": {
        "colab": {
          "base_uri": "https://localhost:8080/"
        },
        "id": "_XEJi0iliRjW",
        "outputId": "cb8fc9b1-acd7-421d-c7e4-b2916248a68a"
      },
      "source": [
        "important_features.index('tqwt_entropy_log_dec_5')"
      ],
      "execution_count": null,
      "outputs": [
        {
          "output_type": "execute_result",
          "data": {
            "text/plain": [
              "36"
            ]
          },
          "metadata": {
            "tags": []
          },
          "execution_count": 15
        }
      ]
    },
    {
      "cell_type": "code",
      "metadata": {
        "id": "H8ekAxAPivpT"
      },
      "source": [
        "most_important_features = important_features[:37]"
      ],
      "execution_count": null,
      "outputs": []
    },
    {
      "cell_type": "markdown",
      "metadata": {
        "id": "_j16eOCCBBeA"
      },
      "source": [
        "### 다음과정"
      ]
    },
    {
      "cell_type": "markdown",
      "metadata": {
        "id": "wIsKynjekqPK"
      },
      "source": [
        "#### 함수 빌드"
      ]
    },
    {
      "cell_type": "code",
      "metadata": {
        "id": "imVD29kdA8Lz"
      },
      "source": [
        "from sklearn.tree import DecisionTreeClassifier\n",
        "from sklearn.metrics import accuracy_score, roc_auc_score\n",
        "from sklearn.model_selection import cross_val_score, cross_validate\n",
        "from sklearn.model_selection import GridSearchCV"
      ],
      "execution_count": null,
      "outputs": []
    },
    {
      "cell_type": "code",
      "metadata": {
        "id": "tSQfpoq_BDZF"
      },
      "source": [
        "#Find the most accurate value of k of max_depth\n",
        "def max_depth(k):\n",
        "  score = 0\n",
        "  scroe_k = 0\n",
        "  k_value = 0\n",
        "  for i in range(1,k+1,1):\n",
        "    globals()['max_depth_classifier_{}'.format(i+1)] = DecisionTreeClassifier(max_depth=i)\n",
        "    globals()['max_depth_classifier_{}'.format(i+1)].fit(X_train, y_train)\n",
        "    score_k = globals()['max_depth_classifier_{}'.format(i+1)].score(X_test, y_test)\n",
        "    if score_k >= score:\n",
        "      score = score_k\n",
        "      k_value = i\n",
        "  return k_value\n",
        "best_max_depth = max_depth(100)"
      ],
      "execution_count": null,
      "outputs": []
    },
    {
      "cell_type": "code",
      "metadata": {
        "id": "C8ORffGoBIJj"
      },
      "source": [
        "#Find the most accurate value of k in max_leaf_nodes\n",
        "def max_leaf_nodes(k):\n",
        "    score = 0\n",
        "    scroe_k = 0\n",
        "    k_value = 0\n",
        "    for i in range(2,k+1,1):\n",
        "        globals()['max_leaf_classifier_{}'.format(i+1)] = DecisionTreeClassifier(max_leaf_nodes=i)\n",
        "        globals()['max_leaf_classifier_{}'.format(i+1)].fit(X_train, y_train)\n",
        "        score_k = globals()['max_depth_classifier_{}'.format(i+1)].score(X_test, y_test)\n",
        "        if score_k >= score:\n",
        "            score = score_k\n",
        "            k_value = i\n",
        "    return k_value\n",
        "best_max_leaf_nodes = max_leaf_nodes(100)"
      ],
      "execution_count": null,
      "outputs": []
    },
    {
      "cell_type": "code",
      "metadata": {
        "id": "xUlWrjvFBKR_"
      },
      "source": [
        "#Find the most accurate value of k in min_samples_split\n",
        "def min_samples_split(k):\n",
        "  score = 0\n",
        "  scroe_k = 0\n",
        "  k_value = 0\n",
        "  for i in range(2,k+1,1):\n",
        "    globals()['min_samples_split_classifier_{}'.format(i+1)] = DecisionTreeClassifier(min_samples_split=i)\n",
        "    globals()['min_samples_split_classifier_{}'.format(i+1)].fit(X_train, y_train)\n",
        "    score_k = globals()['min_samples_split_classifier_{}'.format(i+1)].score(X_test, y_test)\n",
        "    if score_k >= score:\n",
        "      score = score_k\n",
        "      k_value = i\n",
        "  return k_value\n",
        "best_min_samples_split = min_samples_split(1000)"
      ],
      "execution_count": null,
      "outputs": []
    },
    {
      "cell_type": "code",
      "metadata": {
        "id": "S-3wIXeuBLs3"
      },
      "source": [
        "#Find the most accurate value of k in min_impurity_decrease\n",
        "def min_impurity_decrease(k):\n",
        "  score = 0\n",
        "  scroe_k = 0\n",
        "  k_value = 0\n",
        "  for i in np.arange(0,k,0.001):\n",
        "    globals()['min_impurity_decrease_classifier_{}'.format(i+1)] = DecisionTreeClassifier(min_impurity_decrease=i)\n",
        "    globals()['min_impurity_decrease_classifier_{}'.format(i+1)].fit(X_train, y_train)\n",
        "    score_k = globals()['min_impurity_decrease_classifier_{}'.format(i+1)].score(X_test, y_test)\n",
        "    if score_k >= score:\n",
        "      score = score_k\n",
        "      k_value = i\n",
        "  return k_value\n",
        "best_min_impurity_decrease = min_impurity_decrease(1)"
      ],
      "execution_count": null,
      "outputs": []
    },
    {
      "cell_type": "code",
      "metadata": {
        "id": "EUVE-DN_BNBw"
      },
      "source": [
        "#Find the most accurate value of k in min_samples_leaf\n",
        "def min_samples_leaf(k):\n",
        "  score = 0\n",
        "  scroe_k = 0\n",
        "  k_value = 0\n",
        "  for i in range(2,k+1,1):\n",
        "    globals()['min_samples_leaf_classifier_{}'.format(i+1)] = DecisionTreeClassifier(min_samples_leaf=i)\n",
        "    globals()['min_samples_leaf_classifier_{}'.format(i+1)].fit(X_train, y_train)\n",
        "    score_k = globals()['min_samples_leaf_classifier_{}'.format(i+1)].score(X_test, y_test)\n",
        "    if score_k >= score:\n",
        "      score = score_k\n",
        "      k_value = i\n",
        "  return k_value\n",
        "best_min_samples_leaf = min_samples_leaf(1000)"
      ],
      "execution_count": null,
      "outputs": []
    },
    {
      "cell_type": "code",
      "metadata": {
        "id": "U6LPgF0DBOgB"
      },
      "source": [
        "def best_decision_model(x, y, X_test, y_test, best_max_depth, best_max_leaf_nodes, best_min_samples_split, best_min_impurity_decrease, best_min_samples_leaf):\n",
        "  score = np.zeros(5)\n",
        "  max = 0\n",
        "  max_score_model = 0\n",
        "  classifier_0 = DecisionTreeClassifier(max_depth = best_max_depth)\n",
        "  classifier_0.fit(X_train, y_train)\n",
        "  score[0] = np.mean(cross_val_score(classifier_0, x, y, scoring = 'roc_auc', cv = 10))\n",
        "  classifier_1 = DecisionTreeClassifier(max_leaf_nodes = best_max_leaf_nodes)\n",
        "  classifier_1.fit(X_train, y_train)\n",
        "  score[1] = np.mean(cross_val_score(classifier_1, x, y, scoring = 'roc_auc', cv = 10))\n",
        "  classifier_2 = DecisionTreeClassifier(min_samples_split = best_min_samples_split)\n",
        "  classifier_2.fit(X_train, y_train)\n",
        "  score[2] = np.mean(cross_val_score(classifier_2, x, y, scoring = 'roc_auc', cv = 10))\n",
        "  classifier_3 = DecisionTreeClassifier(min_impurity_decrease = best_min_impurity_decrease)\n",
        "  classifier_3.fit(X_train, y_train)\n",
        "  score[3] = np.mean(cross_val_score(classifier_3, x, y, scoring = 'roc_auc', cv = 10))\n",
        "  classifier_4 = DecisionTreeClassifier(min_samples_leaf = best_min_samples_leaf)\n",
        "  classifier_4.fit(X_train, y_train)\n",
        "  score[4] = np.mean(cross_val_score(classifier_4, x, y, scoring = 'roc_auc', cv = 10))\n",
        "  for i in range(0,4,1):\n",
        "    if max <= score[i]:\n",
        "      max = score[i]\n",
        "      max_score_model = i\n",
        "  if max_score_model == 0:\n",
        "    return classifier_0\n",
        "  if max_score_model == 1:\n",
        "    return classifier_1\n",
        "  if max_score_model == 2:\n",
        "    return classifier_2\n",
        "  if max_score_model == 3:\n",
        "    return classifier_3\n",
        "  if max_score_model == 4:\n",
        "    return classifier_4"
      ],
      "execution_count": null,
      "outputs": []
    },
    {
      "cell_type": "markdown",
      "metadata": {
        "id": "P4fzU0ZAklc5"
      },
      "source": [
        "#### 함수 적용"
      ]
    },
    {
      "cell_type": "code",
      "metadata": {
        "colab": {
          "base_uri": "https://localhost:8080/"
        },
        "id": "huGnN3ocBepd",
        "outputId": "dd7891fa-1bf7-4e09-9ada-31ccc6d76d3e"
      },
      "source": [
        "drop_first_dt = best_decision_model(X_train, y_train, X_test, y_test, best_max_depth, best_max_leaf_nodes, best_min_samples_split, best_min_impurity_decrease, best_min_samples_leaf)\n",
        "drop_first_dt"
      ],
      "execution_count": null,
      "outputs": [
        {
          "output_type": "execute_result",
          "data": {
            "text/plain": [
              "DecisionTreeClassifier(ccp_alpha=0.0, class_weight=None, criterion='gini',\n",
              "                       max_depth=None, max_features=None, max_leaf_nodes=3,\n",
              "                       min_impurity_decrease=0.0, min_impurity_split=None,\n",
              "                       min_samples_leaf=1, min_samples_split=2,\n",
              "                       min_weight_fraction_leaf=0.0, presort='deprecated',\n",
              "                       random_state=None, splitter='best')"
            ]
          },
          "metadata": {
            "tags": []
          },
          "execution_count": 25
        }
      ]
    },
    {
      "cell_type": "markdown",
      "metadata": {
        "id": "moXl0swBx1iH"
      },
      "source": [
        "#### 하이퍼파라미터 & 피쳐 적용"
      ]
    },
    {
      "cell_type": "code",
      "metadata": {
        "id": "etdW_mn_ymhM"
      },
      "source": [
        "from sklearn.tree import DecisionTreeClassifier\n",
        "# StratifiedKFold guerantees uniform proportion of target values for each fold\n",
        "from sklearn.model_selection import StratifiedKFold\n",
        "\n",
        "RS = 1234\n",
        "# shuffle: random shuffle data, random_state: key of random shuffle\n",
        "kfold = StratifiedKFold(n_splits=10, shuffle=True, random_state=RS)\n",
        "\n",
        "target_col = 'class'\n",
        "unused_cols = ['id']\n",
        "\n",
        "X = df[most_important_features].values\n",
        "y = df[target_col].values\n",
        "\n",
        "ids = df.loc[::3, 'id'].values\n",
        "classes = df.loc[::3, 'class'].values"
      ],
      "execution_count": null,
      "outputs": []
    },
    {
      "cell_type": "code",
      "metadata": {
        "ExecuteTime": {
          "end_time": "2020-12-05T00:34:39.063776Z",
          "start_time": "2020-12-05T00:34:35.935355Z"
        },
        "colab": {
          "base_uri": "https://localhost:8080/"
        },
        "id": "UvscBVXsx1iK",
        "outputId": "5efa311a-0302-45f4-e6ba-26f647da3cd4"
      },
      "source": [
        "model = DecisionTreeClassifier(ccp_alpha=0.0, class_weight=None, criterion='gini',\n",
        "                       max_depth=None, max_features=None, max_leaf_nodes=3,\n",
        "                       min_impurity_decrease=0.0, min_impurity_split=None,\n",
        "                       min_samples_leaf=1, min_samples_split=2,\n",
        "                       min_weight_fraction_leaf=0.0, presort='deprecated',\n",
        "                       random_state=RS, splitter='best')\n",
        "\n",
        "aucs = []\n",
        "\n",
        "for fold, (train_indice, test_indice) in enumerate(kfold.split(ids, classes)):\n",
        "    train_df = df[df['id'].isin(ids[train_indice])]\n",
        "    test_df = df[df['id'].isin(ids[test_indice])]\n",
        "    \n",
        "    X_train = train_df[most_important_features].values\n",
        "    y_train = train_df[target_col].values\n",
        "    X_test = test_df[most_important_features].values\n",
        "    y_test = test_df[target_col].values\n",
        "    \n",
        "    model.fit(X_train, y_train)\n",
        "    y_pred = model.predict(X_test)\n",
        "    auc = roc_auc_score(y_test, y_pred)\n",
        "    aucs.append(auc)\n",
        "    print(\"[Fold {}] AUC : {}\".format(fold, aucs[fold]))\n",
        "\n",
        "print('Mean AUC : {}'.format(np.mean(aucs)))"
      ],
      "execution_count": null,
      "outputs": [
        {
          "output_type": "stream",
          "text": [
            "[Fold 0] AUC : 0.5451127819548872\n",
            "[Fold 1] AUC : 0.593984962406015\n",
            "[Fold 2] AUC : 0.7339181286549707\n",
            "[Fold 3] AUC : 0.7543859649122807\n",
            "[Fold 4] AUC : 0.6973684210526316\n",
            "[Fold 5] AUC : 0.6798245614035088\n",
            "[Fold 6] AUC : 0.8903508771929824\n",
            "[Fold 7] AUC : 0.6023391812865497\n",
            "[Fold 8] AUC : 0.7063492063492063\n",
            "[Fold 9] AUC : 0.7447089947089947\n",
            "Mean AUC : 0.6948343079922028\n"
          ],
          "name": "stdout"
        }
      ]
    },
    {
      "cell_type": "markdown",
      "metadata": {
        "id": "xJLTTpLLiKbv"
      },
      "source": [
        "## Random Forest(0.7456)"
      ]
    },
    {
      "cell_type": "markdown",
      "metadata": {
        "id": "OUuNeO2wztMI"
      },
      "source": [
        "### Shap\n",
        "Shap은 그냥 피쳐 중요도 보는거라 10fold까지 할 필요는 없다. 다만 같은 id가 train과 test셋 모두에 들어가게 하는 것만 방지해주자."
      ]
    },
    {
      "cell_type": "code",
      "metadata": {
        "ExecuteTime": {
          "end_time": "2020-12-05T00:45:42.984989Z",
          "start_time": "2020-12-05T00:45:42.983143Z"
        },
        "id": "w9wjfcHWztMJ"
      },
      "source": [
        "from sklearn.ensemble import RandomForestClassifier\n",
        "from sklearn.model_selection import train_test_split"
      ],
      "execution_count": null,
      "outputs": []
    },
    {
      "cell_type": "code",
      "metadata": {
        "ExecuteTime": {
          "end_time": "2020-12-05T00:34:22.132228Z",
          "start_time": "2020-12-05T00:34:21.813356Z"
        },
        "id": "SyjKrttPztMJ"
      },
      "source": [
        "RS = 1234\n",
        "\n",
        "train, test = train_test_split(range(252),\n",
        "                               stratify=df[['id', 'class']].drop_duplicates()['class'].tolist(),\n",
        "                               random_state=RS,\n",
        "                               test_size=0.2) # train:test = 8:2"
      ],
      "execution_count": null,
      "outputs": []
    },
    {
      "cell_type": "code",
      "metadata": {
        "ExecuteTime": {
          "end_time": "2020-12-05T00:34:22.355369Z",
          "start_time": "2020-12-05T00:34:22.345763Z"
        },
        "id": "yzENxGfUztMJ"
      },
      "source": [
        "df_train = df[df['id'].isin(train)]\n",
        "df_test = df[df['id'].isin(test)]"
      ],
      "execution_count": null,
      "outputs": []
    },
    {
      "cell_type": "code",
      "metadata": {
        "ExecuteTime": {
          "end_time": "2020-12-05T00:34:22.518284Z",
          "start_time": "2020-12-05T00:34:22.512970Z"
        },
        "id": "FWmRnufuztMK"
      },
      "source": [
        "df_train = df_train.drop(columns=['id'])\n",
        "df_test = df_test.drop(columns=['id'])"
      ],
      "execution_count": null,
      "outputs": []
    },
    {
      "cell_type": "code",
      "metadata": {
        "ExecuteTime": {
          "end_time": "2020-12-05T00:34:22.685390Z",
          "start_time": "2020-12-05T00:34:22.681814Z"
        },
        "id": "mtuEdkQKztMK"
      },
      "source": [
        "X_train = df_train.iloc[:, :-1]\n",
        "X_test = df_test.iloc[:, :-1]\n",
        "y_train = df_train.iloc[:, -1]\n",
        "y_test = df_test.iloc[:, -1]"
      ],
      "execution_count": null,
      "outputs": []
    },
    {
      "cell_type": "code",
      "metadata": {
        "ExecuteTime": {
          "end_time": "2020-12-05T00:45:55.614808Z",
          "start_time": "2020-12-05T00:45:49.606670Z"
        },
        "colab": {
          "base_uri": "https://localhost:8080/"
        },
        "scrolled": true,
        "id": "dhE5QV-AztMK",
        "outputId": "fd9fde5b-a313-4ea3-9d84-b61bfab0e203"
      },
      "source": [
        "model = RandomForestClassifier(random_state=RS)\n",
        "\n",
        "model.fit(X_train, y_train)\n",
        "model.score(X_test, y_test) # accuracy일거다"
      ],
      "execution_count": null,
      "outputs": [
        {
          "output_type": "execute_result",
          "data": {
            "text/plain": [
              "0.8300653594771242"
            ]
          },
          "metadata": {
            "tags": []
          },
          "execution_count": 62
        }
      ]
    },
    {
      "cell_type": "code",
      "metadata": {
        "ExecuteTime": {
          "end_time": "2020-12-05T00:46:05.694982Z",
          "start_time": "2020-12-05T00:46:04.672530Z"
        },
        "colab": {
          "base_uri": "https://localhost:8080/"
        },
        "id": "2nXlrztmztMo",
        "outputId": "c3447c2f-439b-4fcd-ae3a-b43edf4aa443"
      },
      "source": [
        "import shap\n",
        "import skimage\n",
        "\n",
        "explainer = shap.Explainer(model)\n",
        "shap_values = explainer.shap_values(X_train)\n",
        "shap.summary_plot(shap_values, X_train, plot_type=\"bar\", max_display=100)"
      ],
      "execution_count": null,
      "outputs": [
        {
          "output_type": "display_data",
          "data": {
            "image/png": "[encoded data removed]",
            "text/plain": [
              "<Figure size 576x2988 with 1 Axes>"
            ]
          },
          "metadata": {
            "tags": [],
            "needs_background": "light"
          }
        }
      ]
    },
    {
      "cell_type": "code",
      "metadata": {
        "id": "ltF992-itTj6"
      },
      "source": [
        "vals= np.abs(shap_values[1]).mean(0)"
      ],
      "execution_count": null,
      "outputs": []
    },
    {
      "cell_type": "code",
      "metadata": {
        "colab": {
          "base_uri": "https://localhost:8080/"
        },
        "id": "CImZHO8vuMEV",
        "outputId": "7ed3ccdb-9888-43b2-aa81-af9c20d54a1f"
      },
      "source": [
        "vals"
      ],
      "execution_count": null,
      "outputs": [
        {
          "output_type": "execute_result",
          "data": {
            "text/plain": [
              "array([0.00000000e+00, 5.40571358e-04, 1.66782467e-03, 6.22501381e-04,\n",
              "       3.71308141e-04, 6.88470477e-04, 5.13335382e-04, 5.87446629e-04,\n",
              "       1.07908623e-03, 6.01980255e-04, 3.36871386e-04, 1.86587419e-04,\n",
              "       1.40215650e-03, 2.25766269e-04, 1.56446577e-04, 1.35653005e-04,\n",
              "       2.84702975e-04, 3.22829205e-03, 5.51935257e-04, 4.21940744e-04,\n",
              "       9.83698557e-04, 7.82161831e-04, 3.90095348e-03, 7.15690675e-04,\n",
              "       3.80107916e-04, 6.09741062e-04, 7.69133319e-04, 5.70786462e-04,\n",
              "       6.26549566e-04, 6.03795802e-04, 5.06316740e-04, 4.08699637e-04,\n",
              "       3.70959538e-04, 3.64296325e-04, 4.73872136e-03, 1.96442202e-04,\n",
              "       7.36406509e-04, 6.40589970e-04, 3.67655116e-04, 4.21479144e-04,\n",
              "       3.82058436e-04, 1.27289094e-03, 3.52305629e-04, 7.00214968e-04,\n",
              "       2.37339070e-04, 1.06802613e-03, 2.60985284e-04, 2.47142949e-04,\n",
              "       6.46518649e-04, 6.16514174e-04, 4.77728816e-04, 5.40190716e-04,\n",
              "       5.59305505e-04, 5.73317642e-04, 5.94672586e-04, 9.33318052e-04,\n",
              "       0.00000000e+00, 2.36001598e-04, 6.23101583e-03, 1.57177095e-03,\n",
              "       1.82767148e-04, 9.04755055e-04, 1.20687070e-03, 2.11389574e-04,\n",
              "       2.29053901e-04, 2.60778515e-04, 8.14029810e-04, 3.55976676e-04,\n",
              "       6.62474366e-04, 4.28477482e-04, 6.99813083e-04, 1.99570197e-04,\n",
              "       1.16086771e-03, 1.26608360e-04, 2.53262021e-04, 5.34604435e-04,\n",
              "       3.20972271e-04, 2.82018743e-04, 2.08306189e-04, 1.74778379e-04,\n",
              "       4.66675480e-04, 3.31772775e-04, 4.18213321e-04, 1.00745590e-03,\n",
              "       2.15939672e-04, 1.17161433e-04, 1.87778170e-04, 1.47970756e-04,\n",
              "       2.14331470e-04, 5.08747368e-04, 5.24516777e-04, 3.20334120e-04,\n",
              "       6.28111337e-04, 2.63194215e-04, 2.66792183e-04, 9.04383617e-04,\n",
              "       3.79171756e-04, 5.11720980e-03, 6.96569051e-05, 2.76609088e-04,\n",
              "       6.17561342e-04, 2.88835853e-04, 7.78532762e-04, 6.02822125e-04,\n",
              "       1.73857361e-03, 1.43981789e-03, 5.00986168e-04, 1.29852503e-04,\n",
              "       2.52026685e-04, 6.99330399e-04, 3.39845158e-04, 1.17715064e-02,\n",
              "       2.26908180e-04, 7.12355143e-04, 1.47707118e-03, 5.57643397e-04,\n",
              "       8.12682150e-04, 3.83159633e-04, 3.02858525e-03, 3.06223547e-03,\n",
              "       2.00732156e-03, 2.45864814e-03, 2.48508890e-03, 1.47230998e-03,\n",
              "       5.04652311e-04, 1.17853390e-02, 1.75680822e-04, 5.48259272e-04,\n",
              "       4.23238824e-04, 8.92691528e-04, 6.72212975e-04, 4.09072332e-04,\n",
              "       3.28127491e-03, 4.56521613e-03, 4.91572883e-04, 5.95218629e-03,\n",
              "       4.00512643e-03, 9.79609733e-04, 9.67341462e-04, 3.11405036e-04,\n",
              "       6.24962109e-05, 1.20100498e-04, 1.44020870e-03, 4.55480163e-04,\n",
              "       7.55909453e-04, 1.23279389e-03, 8.23811380e-04, 1.52419042e-04,\n",
              "       2.01998759e-04, 2.14657825e-04, 1.32968156e-04, 9.73320317e-05,\n",
              "       1.93405968e-04, 1.26787707e-04, 7.31684673e-04, 1.10183404e-04,\n",
              "       7.98512497e-04, 2.38122239e-04, 0.00000000e+00, 4.04103945e-04,\n",
              "       9.76489387e-04, 1.46964656e-04, 4.71341347e-04, 4.89961735e-04,\n",
              "       2.03254938e-04, 1.77373080e-04, 1.94972417e-04, 1.34377268e-04,\n",
              "       4.64106502e-04, 2.47281203e-04, 5.49685346e-04, 5.83534882e-04,\n",
              "       4.00498726e-04, 2.62761979e-04, 2.17871792e-04, 6.85588538e-04,\n",
              "       7.95142441e-05, 2.46773047e-04, 0.00000000e+00, 5.82076564e-05,\n",
              "       7.29073326e-04, 3.65889309e-04, 1.44887150e-03, 3.90921895e-04,\n",
              "       6.64082948e-04, 2.54239991e-04, 3.78066322e-04, 5.75317704e-04,\n",
              "       4.90624010e-04, 0.00000000e+00, 7.58604617e-04, 1.19411083e-04,\n",
              "       1.49155076e-04, 1.65537631e-04, 1.28937086e-03, 0.00000000e+00,\n",
              "       9.79154091e-04, 1.74799153e-04, 2.69385954e-04, 5.41270543e-05,\n",
              "       9.28641360e-04, 3.20306076e-04, 1.65141871e-04, 2.85426458e-04,\n",
              "       1.27124635e-03, 2.10435258e-05, 3.96771725e-04, 2.45708617e-04,\n",
              "       5.03949579e-05, 1.18997435e-04, 5.31088919e-04, 8.65462552e-04,\n",
              "       6.43182185e-04, 6.29489563e-04, 7.80636579e-04, 1.61716661e-04,\n",
              "       1.75639727e-04, 2.82330399e-04, 7.39126110e-04, 2.81552093e-04,\n",
              "       1.54117627e-04, 2.35117576e-04, 5.28329778e-04, 2.79069125e-05,\n",
              "       2.62039082e-04, 4.72136659e-04, 1.38086100e-04, 1.45812705e-04,\n",
              "       1.70766922e-04, 3.73920684e-04, 4.98867790e-05, 2.02280651e-04,\n",
              "       7.26136212e-05, 0.00000000e+00, 1.13965556e-03, 1.28954120e-04,\n",
              "       2.64520648e-04, 1.31658693e-04, 7.85842014e-05, 2.75028450e-04,\n",
              "       2.77805800e-04, 1.58807069e-04, 4.44726193e-04, 3.26523608e-04,\n",
              "       4.81276208e-04, 0.00000000e+00, 3.31201331e-04, 6.99285810e-04,\n",
              "       4.16598044e-04, 3.20953446e-04, 0.00000000e+00, 1.12622623e-03,\n",
              "       2.46716309e-04, 5.66432655e-04, 1.80808023e-04, 3.59701740e-04,\n",
              "       2.06227187e-04, 1.39194957e-04, 2.57412803e-04, 3.40254016e-04,\n",
              "       0.00000000e+00, 1.94479061e-04, 5.13027928e-04, 9.78077586e-05,\n",
              "       3.10627455e-04, 9.95659467e-04, 8.56080405e-04, 1.34116785e-04,\n",
              "       4.57051458e-04, 2.44243804e-04, 2.46099163e-04, 3.23675390e-04,\n",
              "       2.37468064e-04, 4.31768202e-04, 6.43580883e-04, 4.42889962e-04,\n",
              "       5.65373138e-04, 7.88053918e-05, 2.53551612e-04, 4.98141286e-04,\n",
              "       2.49017565e-04, 6.37337076e-04, 3.04613515e-04, 8.05472482e-04,\n",
              "       3.31942438e-04, 8.72404087e-04, 4.11941383e-04, 3.06378130e-04,\n",
              "       2.45574372e-04, 1.61435544e-04, 2.06441465e-04, 3.50949966e-04,\n",
              "       2.35909080e-04, 2.49979521e-04, 2.68275611e-05, 3.02683438e-04,\n",
              "       1.28049127e-04, 7.11401586e-04, 6.71624848e-04, 3.65020937e-04,\n",
              "       8.05338816e-04, 4.17771482e-04, 7.95195296e-04, 5.90263281e-04,\n",
              "       4.58448425e-04, 3.89294382e-05, 8.27332314e-04, 3.54413354e-04,\n",
              "       2.30146751e-04, 7.12188084e-05, 3.18435677e-04, 6.05160888e-04,\n",
              "       4.01526709e-04, 1.34397721e-04, 4.16845294e-04, 8.36885424e-05,\n",
              "       4.68798361e-04, 2.97144518e-04, 8.91270490e-04, 5.12264210e-04,\n",
              "       1.10509479e-04, 4.88095622e-04, 2.72431430e-04, 2.66903624e-04,\n",
              "       8.15454600e-04, 2.32944911e-04, 6.88584744e-04, 5.66722209e-04,\n",
              "       5.18748104e-04, 3.59481183e-04, 1.45783708e-03, 1.52336639e-03,\n",
              "       3.04540339e-03, 1.86180911e-04, 9.72820974e-04, 9.45370748e-04,\n",
              "       8.98365901e-04, 8.89987884e-04, 7.89431023e-04, 5.55747703e-04,\n",
              "       1.43458258e-04, 8.64427247e-04, 5.40634399e-04, 4.20764302e-04,\n",
              "       1.82495396e-04, 5.34475881e-04, 2.73193102e-03, 2.98384004e-03,\n",
              "       9.79602182e-04, 3.23642492e-04, 4.31059932e-04, 5.22983809e-04,\n",
              "       2.88080379e-04, 5.82782711e-04, 5.67534284e-04, 2.71050569e-04,\n",
              "       4.52901136e-04, 3.23139476e-04, 2.22776296e-04, 6.04009172e-04,\n",
              "       1.13001191e-04, 4.09371914e-04, 2.07392295e-03, 3.84866683e-04,\n",
              "       3.30133726e-04, 0.00000000e+00, 4.90971343e-04, 1.00962353e-03,\n",
              "       2.76448901e-03, 2.20674047e-03, 2.95750895e-04, 3.38758523e-03,\n",
              "       1.78947945e-03, 2.89606042e-04, 1.82523387e-04, 1.80754653e-03,\n",
              "       3.34653478e-04, 6.14463183e-04, 5.06862286e-04, 1.06336195e-04,\n",
              "       4.08728390e-04, 3.50423785e-04, 1.25297869e-03, 1.52787953e-04,\n",
              "       2.85763579e-04, 2.67864197e-04, 2.89354794e-05, 3.76382065e-04,\n",
              "       7.98048853e-04, 2.99841109e-04, 2.07969983e-03, 1.30707037e-03,\n",
              "       1.17606797e-04, 1.10912297e-03, 2.96309795e-04, 4.94900093e-04,\n",
              "       4.12882241e-04, 6.10311746e-04, 3.46405633e-04, 1.90200853e-03,\n",
              "       2.62067341e-03, 1.33086296e-03, 1.10633499e-03, 7.29169848e-03,\n",
              "       6.98161492e-03, 3.39916249e-03, 4.76639739e-04, 3.46506559e-03,\n",
              "       2.85170461e-03, 3.86797657e-03, 5.83362421e-04, 1.43867182e-03,\n",
              "       6.17840578e-05, 2.83892713e-04, 2.53140113e-04, 1.93239575e-03,\n",
              "       1.90176530e-04, 7.48219885e-04, 1.30749989e-03, 1.19553269e-03,\n",
              "       1.14565794e-04, 3.56667555e-04, 3.84089386e-04, 8.54442615e-04,\n",
              "       3.63577696e-04, 1.82721067e-03, 1.85136347e-03, 5.92654295e-03,\n",
              "       6.53965814e-04, 2.75467851e-04, 6.42610856e-05, 4.08108982e-04,\n",
              "       2.52710443e-04, 1.57899949e-04, 2.31609059e-03, 1.94667174e-04,\n",
              "       1.11759563e-03, 3.04800128e-04, 1.92820893e-03, 3.43756746e-03,\n",
              "       4.36901857e-03, 1.70425381e-03, 4.31393097e-03, 2.66008200e-04,\n",
              "       2.30440371e-03, 1.28941364e-03, 8.62840805e-04, 1.92823151e-03,\n",
              "       2.16590872e-04, 3.49420579e-04, 7.86228689e-04, 4.93595898e-04,\n",
              "       4.36632784e-04, 8.44991531e-04, 7.62547441e-04, 5.82946672e-04,\n",
              "       8.46553522e-04, 1.70611196e-04, 2.17813380e-04, 3.40292298e-04,\n",
              "       7.26498490e-04, 4.55661126e-04, 8.21677622e-05, 1.25154299e-03,\n",
              "       1.69161250e-03, 2.76944356e-04, 1.23940047e-04, 3.21081371e-05,\n",
              "       9.04134065e-05, 3.76268074e-04, 7.90367319e-05, 1.85062302e-03,\n",
              "       1.54232287e-03, 7.41002417e-04, 1.63114433e-03, 2.16328009e-03,\n",
              "       3.24795705e-03, 4.16525065e-03, 1.84976520e-03, 5.00098645e-04,\n",
              "       1.49051074e-03, 7.23747498e-04, 1.25847015e-03, 1.48603589e-03,\n",
              "       4.76380436e-04, 8.88424069e-04, 4.40387152e-04, 3.72309576e-04,\n",
              "       2.60060267e-04, 3.25552519e-04, 1.44326025e-03, 7.28413908e-04,\n",
              "       3.66515952e-04, 3.54913512e-04, 1.79794376e-04, 3.35690143e-04,\n",
              "       5.35803041e-05, 6.55048657e-04, 3.52598415e-04, 8.88560972e-04,\n",
              "       1.95770079e-04, 4.73124032e-04, 2.28058996e-04, 9.04206251e-04,\n",
              "       2.40909967e-04, 3.48975045e-04, 4.54056190e-04, 3.40401096e-04,\n",
              "       5.67918053e-04, 2.60591276e-04, 5.97126185e-04, 1.38878236e-04,\n",
              "       2.77752860e-04, 5.61814579e-04, 4.56164711e-04, 7.98434920e-04,\n",
              "       1.65423839e-03, 2.61421966e-04, 4.50458345e-04, 4.09295601e-04,\n",
              "       4.68632682e-04, 1.10231631e-03, 6.45541351e-04, 3.73746200e-04,\n",
              "       6.62264180e-04, 2.19790783e-04, 6.61024195e-05, 2.86536050e-04,\n",
              "       2.19320854e-04, 2.83029496e-04, 8.69763705e-04, 1.12063296e-03,\n",
              "       2.73731861e-04, 4.47107834e-04, 6.66662166e-04, 4.15538229e-04,\n",
              "       1.47249842e-03, 0.00000000e+00, 0.00000000e+00, 0.00000000e+00,\n",
              "       0.00000000e+00, 0.00000000e+00, 0.00000000e+00, 0.00000000e+00,\n",
              "       0.00000000e+00, 0.00000000e+00, 0.00000000e+00, 0.00000000e+00,\n",
              "       0.00000000e+00, 0.00000000e+00, 0.00000000e+00, 0.00000000e+00,\n",
              "       0.00000000e+00, 0.00000000e+00, 0.00000000e+00, 0.00000000e+00,\n",
              "       0.00000000e+00, 0.00000000e+00, 0.00000000e+00, 0.00000000e+00,\n",
              "       0.00000000e+00, 0.00000000e+00, 0.00000000e+00, 0.00000000e+00,\n",
              "       0.00000000e+00, 0.00000000e+00, 0.00000000e+00, 0.00000000e+00,\n",
              "       0.00000000e+00, 0.00000000e+00, 0.00000000e+00, 0.00000000e+00,\n",
              "       6.49444524e-04, 5.84928385e-04, 3.71751881e-04, 1.68054481e-04,\n",
              "       4.83455934e-04, 7.00013193e-04, 1.12735879e-03, 3.11566759e-04,\n",
              "       1.29083084e-03, 8.07085431e-04, 2.00406576e-03, 4.38410423e-03,\n",
              "       4.11205479e-03, 2.41046393e-03, 5.64703650e-05, 1.04153358e-03,\n",
              "       1.88134312e-03, 1.02627539e-03, 7.35195977e-04, 1.53190365e-03,\n",
              "       3.24528389e-04, 1.17100339e-03, 1.10021597e-04, 3.70270863e-04,\n",
              "       4.03260436e-04, 2.14266423e-04, 3.99502354e-04, 4.68506440e-04,\n",
              "       1.61056921e-04, 2.72210580e-04, 2.83110471e-04, 2.16686114e-04,\n",
              "       5.17637491e-04, 8.49816754e-04, 1.38083861e-03, 9.80858311e-04,\n",
              "       1.71556131e-03, 2.78410807e-04, 3.93205886e-04, 3.15463251e-04,\n",
              "       6.41558129e-04, 4.35025248e-04, 1.50598988e-04, 9.95298367e-04,\n",
              "       1.71391236e-03, 2.45146852e-04, 1.34773346e-03, 1.53107078e-03,\n",
              "       3.36303743e-03, 2.19623848e-03, 1.07754808e-03, 4.70279537e-04,\n",
              "       0.00000000e+00, 8.90525118e-04, 2.85982825e-04, 5.58441412e-04,\n",
              "       8.04803764e-05, 8.61644369e-04, 1.70587615e-04, 2.10635860e-04,\n",
              "       2.30802141e-04, 4.80092634e-04, 1.38334076e-03, 1.92988828e-04,\n",
              "       1.28839108e-04, 5.04019452e-04, 3.94934965e-05, 3.09944871e-04,\n",
              "       4.80729673e-04, 1.12389851e-03, 3.93603473e-04, 3.57812584e-04,\n",
              "       3.37983204e-04, 2.45744228e-04, 2.72820173e-04, 2.96401977e-04,\n",
              "       2.33075317e-04, 4.61471424e-04, 2.53870746e-04, 2.50921019e-03,\n",
              "       2.22395190e-04, 2.87473162e-04, 1.39767400e-03, 6.01038428e-03,\n",
              "       1.43461407e-03, 5.65584351e-03, 3.19561380e-04, 5.10406333e-04,\n",
              "       1.89808267e-04, 9.70992241e-04, 1.56760889e-04, 3.48717866e-04,\n",
              "       5.67224376e-04, 8.06001484e-04, 1.25417302e-04, 3.52839830e-04,\n",
              "       3.37741319e-04, 5.78177759e-04, 7.60164904e-04, 1.45930045e-04,\n",
              "       8.69121312e-05, 1.87234415e-04, 1.50207778e-04, 3.87076574e-04,\n",
              "       2.32912597e-04, 3.42799132e-04, 6.91081393e-04, 5.66007472e-04,\n",
              "       8.26712407e-04, 2.33393836e-04, 1.20106346e-04, 3.68396684e-04,\n",
              "       4.28783322e-04, 2.38851765e-05, 5.00775052e-04, 4.95270430e-04,\n",
              "       6.46336598e-05, 4.27785768e-04, 2.59219588e-04, 4.26788943e-04,\n",
              "       2.00846903e-04, 2.82408016e-04, 2.88924490e-04, 2.70405413e-04,\n",
              "       7.41426725e-04, 1.22278330e-04, 3.86600574e-04, 1.29797907e-04,\n",
              "       5.00908351e-04, 2.07093008e-04, 1.07771550e-04, 3.08737403e-04,\n",
              "       2.44401940e-04, 2.04149515e-04, 5.10734849e-04, 7.95649044e-04,\n",
              "       9.10045509e-04, 2.48064885e-04, 1.14029920e-03, 5.30161648e-04,\n",
              "       1.08534674e-04, 1.64885098e-04, 8.89994282e-05, 2.93728733e-04,\n",
              "       2.88121703e-04, 2.60113451e-04, 3.28156366e-04, 1.87905736e-04,\n",
              "       5.87564618e-04, 2.65609478e-04, 3.14092203e-04, 9.14023616e-04,\n",
              "       3.99020930e-04, 1.14858812e-04, 6.60974161e-04, 3.38178299e-04,\n",
              "       8.23765806e-04, 2.62994095e-04, 5.58427047e-04, 2.26706673e-03,\n",
              "       1.99542071e-03, 3.17524904e-03, 4.48529777e-04, 5.65944048e-04,\n",
              "       1.61749836e-03, 2.48562931e-04, 7.41522898e-04, 1.16610352e-03,\n",
              "       1.04266543e-03, 2.64352082e-04, 4.73035565e-04, 9.45716375e-04,\n",
              "       1.31611571e-03, 3.39197394e-04, 8.12428096e-04, 4.38116119e-04,\n",
              "       7.94223221e-04, 8.11423075e-04, 1.81310819e-03, 4.11868981e-04,\n",
              "       3.90579297e-03])"
            ]
          },
          "metadata": {
            "tags": []
          },
          "execution_count": 66
        }
      ]
    },
    {
      "cell_type": "code",
      "metadata": {
        "colab": {
          "base_uri": "https://localhost:8080/"
        },
        "id": "a_JCFRb0tVuL",
        "outputId": "1c1033ac-4e67-4eae-af07-877a57828bea"
      },
      "source": [
        "type(vals)"
      ],
      "execution_count": null,
      "outputs": [
        {
          "output_type": "execute_result",
          "data": {
            "text/plain": [
              "numpy.ndarray"
            ]
          },
          "metadata": {
            "tags": []
          },
          "execution_count": 65
        }
      ]
    },
    {
      "cell_type": "code",
      "metadata": {
        "colab": {
          "base_uri": "https://localhost:8080/"
        },
        "id": "JqU42w_LztMp",
        "outputId": "92531be0-60e6-4b23-bb70-52f75ced72db"
      },
      "source": [
        "# https://github.com/slundberg/shap/issues/632\n",
        "vals= np.abs(shap_values[1]).mean(0)\n",
        "feature_importance = pd.DataFrame(list(zip(X_train.columns,vals)),columns=['col_name','feature_importance_vals'])\n",
        "feature_importance.sort_values(by=['feature_importance_vals'], ascending=False,inplace=True)\n",
        "feature_importance.head()"
      ],
      "execution_count": null,
      "outputs": [
        {
          "output_type": "execute_result",
          "data": {
            "text/html": [
              "<div>\n",
              "<style scoped>\n",
              "    .dataframe tbody tr th:only-of-type {\n",
              "        vertical-align: middle;\n",
              "    }\n",
              "\n",
              "    .dataframe tbody tr th {\n",
              "        vertical-align: top;\n",
              "    }\n",
              "\n",
              "    .dataframe thead th {\n",
              "        text-align: right;\n",
              "    }\n",
              "</style>\n",
              "<table border=\"1\" class=\"dataframe\">\n",
              "  <thead>\n",
              "    <tr style=\"text-align: right;\">\n",
              "      <th></th>\n",
              "      <th>col_name</th>\n",
              "      <th>feature_importance_vals</th>\n",
              "    </tr>\n",
              "  </thead>\n",
              "  <tbody>\n",
              "    <tr>\n",
              "      <th>125</th>\n",
              "      <td>std_delta_delta_log_energy</td>\n",
              "      <td>0.011785</td>\n",
              "    </tr>\n",
              "    <tr>\n",
              "      <th>111</th>\n",
              "      <td>std_delta_log_energy</td>\n",
              "      <td>0.011772</td>\n",
              "    </tr>\n",
              "    <tr>\n",
              "      <th>403</th>\n",
              "      <td>tqwt_entropy_log_dec_11</td>\n",
              "      <td>0.007292</td>\n",
              "    </tr>\n",
              "    <tr>\n",
              "      <th>404</th>\n",
              "      <td>tqwt_entropy_log_dec_12</td>\n",
              "      <td>0.006982</td>\n",
              "    </tr>\n",
              "    <tr>\n",
              "      <th>58</th>\n",
              "      <td>mean_MFCC_2nd_coef</td>\n",
              "      <td>0.006231</td>\n",
              "    </tr>\n",
              "  </tbody>\n",
              "</table>\n",
              "</div>"
            ],
            "text/plain": [
              "                       col_name  feature_importance_vals\n",
              "125  std_delta_delta_log_energy                 0.011785\n",
              "111        std_delta_log_energy                 0.011772\n",
              "403     tqwt_entropy_log_dec_11                 0.007292\n",
              "404     tqwt_entropy_log_dec_12                 0.006982\n",
              "58           mean_MFCC_2nd_coef                 0.006231"
            ]
          },
          "metadata": {
            "tags": []
          },
          "execution_count": 108
        }
      ]
    },
    {
      "cell_type": "code",
      "metadata": {
        "id": "VYC3N-xHztMp"
      },
      "source": [
        "important_features = feature_importance['col_name'].tolist()"
      ],
      "execution_count": null,
      "outputs": []
    },
    {
      "cell_type": "code",
      "metadata": {
        "id": "fPsQ56y-ztMq"
      },
      "source": [
        "most_important_features = important_features[:100]"
      ],
      "execution_count": null,
      "outputs": []
    },
    {
      "cell_type": "markdown",
      "metadata": {
        "id": "I1bPv9vBra0p"
      },
      "source": [
        "### GridSearch\n",
        "Gridsearch의 cv는 내장함수이므로 id 중복 없이 cv가 가능하도록 임의조정이 불가능하다. 어쩔 수 없이 id기준으로 중복된 걸 제거한다."
      ]
    },
    {
      "cell_type": "code",
      "metadata": {
        "id": "rD83QLFcz70C"
      },
      "source": [
        "df_mini = df.drop_duplicates(subset=['id'])\n",
        "df_mini = df_mini.drop(columns=['id'])\n",
        "X = df_mini.iloc[:, :-1]\n",
        "y = df_mini.iloc[:, -1]"
      ],
      "execution_count": null,
      "outputs": []
    },
    {
      "cell_type": "code",
      "metadata": {
        "id": "JysWkBrdrcyo"
      },
      "source": [
        "from sklearn.model_selection import GridSearchCV\n",
        "from sklearn.ensemble import RandomForestClassifier"
      ],
      "execution_count": null,
      "outputs": []
    },
    {
      "cell_type": "code",
      "metadata": {
        "id": "U-20DP5KrdQY"
      },
      "source": [
        "model = RandomForestClassifier(random_state=RS)\n",
        "\n",
        "param_grid = {'n_estimators' :[1,5,10,50,100,200],\n",
        "    'max_depth' : [2,3,4,5,6,8,10,12],\n",
        "    'min_samples_leaf' : [2,3,4,5,6,7,8,10],\n",
        "    'min_samples_split' : [2,3,5,6,7,8,9,10]\n",
        "}\n",
        "\n",
        "gs = GridSearchCV(estimator=model,\n",
        "                  param_grid=param_grid,\n",
        "                  scoring='roc_auc',\n",
        "                  cv=10, # 내장함수이므로 id를 중복되지 않게 나눌 길이 없다\n",
        "                  n_jobs=-1)"
      ],
      "execution_count": null,
      "outputs": []
    },
    {
      "cell_type": "code",
      "metadata": {
        "id": "RlN1TFOZsG_-",
        "colab": {
          "base_uri": "https://localhost:8080/"
        },
        "outputId": "9cd3e29b-3dce-496b-f1db-ac1f15ddcfec"
      },
      "source": [
        "gs = gs.fit(X[most_important_features], y)\n",
        "print(gs.best_score_)\n",
        "print(gs.best_params_)"
      ],
      "execution_count": null,
      "outputs": [
        {
          "output_type": "stream",
          "text": [
            "0.8571010860484545\n",
            "{'max_depth': 12, 'min_samples_leaf': 2, 'min_samples_split': 5, 'n_estimators': 200}\n"
          ],
          "name": "stdout"
        }
      ]
    },
    {
      "cell_type": "markdown",
      "metadata": {
        "id": "Jh8glkh2klFG"
      },
      "source": [
        "### Implication to the model"
      ]
    },
    {
      "cell_type": "code",
      "metadata": {
        "ExecuteTime": {
          "end_time": "2020-10-22T11:06:18.701164Z",
          "start_time": "2020-10-22T11:06:18.695720Z"
        },
        "id": "aI25KCx0iKbv"
      },
      "source": [
        "from sklearn.ensemble import RandomForestClassifier\n",
        "# StratifiedKFold guerantees uniform proportion of target values for each fold\n",
        "from sklearn.model_selection import StratifiedKFold\n",
        "\n",
        "RS = 1234\n",
        "# shuffle: random shuffle data, random_state: key of random shuffle\n",
        "kfold = StratifiedKFold(n_splits=10, shuffle=True, random_state=RS)\n",
        "\n",
        "target_col = 'class'\n",
        "unused_cols = ['id']\n",
        "\n",
        "X = df[most_important_features].values\n",
        "y = df[target_col].values\n",
        "\n",
        "ids = df.loc[::3, 'id'].values\n",
        "classes = df.loc[::3, 'class'].values"
      ],
      "execution_count": null,
      "outputs": []
    },
    {
      "cell_type": "code",
      "metadata": {
        "ExecuteTime": {
          "end_time": "2020-10-22T11:08:13.767065Z",
          "start_time": "2020-10-22T11:08:07.606359Z"
        },
        "id": "jmA09E_2iKbv",
        "scrolled": false,
        "colab": {
          "base_uri": "https://localhost:8080/"
        },
        "outputId": "d7e0f581-c720-4ed6-d0e1-cbdf7b1ec8fc"
      },
      "source": [
        "model = RandomForestClassifier(random_state=RS, max_depth=12,\n",
        "                               min_samples_leaf=2, min_samples_split=5,\n",
        "                               n_estimators=200)\n",
        "\n",
        "aucs = []\n",
        "\n",
        "for fold, (train_indice, test_indice) in enumerate(kfold.split(ids, classes)):\n",
        "    train_df = df[df['id'].isin(ids[train_indice])]\n",
        "    test_df = df[df['id'].isin(ids[test_indice])]\n",
        "    \n",
        "    X_train = train_df[most_important_features].values\n",
        "    y_train = train_df[target_col].values\n",
        "    X_test = test_df[most_important_features].values\n",
        "    y_test = test_df[target_col].values\n",
        "    \n",
        "    model.fit(X_train, y_train)\n",
        "    y_pred = model.predict(X_test)\n",
        "    auc = roc_auc_score(y_test, y_pred)\n",
        "    aucs.append(auc)\n",
        "    print(\"[Fold {}] AUC : {}\".format(fold, aucs[fold]))\n",
        "\n",
        "print('Mean AUC : {}'.format(np.mean(aucs)))     "
      ],
      "execution_count": null,
      "outputs": [
        {
          "output_type": "stream",
          "text": [
            "[Fold 0] AUC : 0.6666666666666667\n",
            "[Fold 1] AUC : 0.6854636591478698\n",
            "[Fold 2] AUC : 0.75\n",
            "[Fold 3] AUC : 0.7982456140350878\n",
            "[Fold 4] AUC : 0.6959064327485379\n",
            "[Fold 5] AUC : 0.6038011695906433\n",
            "[Fold 6] AUC : 0.9166666666666667\n",
            "[Fold 7] AUC : 0.7426900584795322\n",
            "[Fold 8] AUC : 0.7910052910052909\n",
            "[Fold 9] AUC : 0.8055555555555556\n",
            "Mean AUC : 0.7456001113895852\n"
          ],
          "name": "stdout"
        }
      ]
    },
    {
      "cell_type": "markdown",
      "metadata": {
        "id": "tP0YQUARiKbw"
      },
      "source": [
        "## KNN(mms: 0.6655)\n",
        "Shap 라이브러리가 KNN을 인식하지 못하므로 SHAP은 생략."
      ]
    },
    {
      "cell_type": "markdown",
      "metadata": {
        "id": "tvs4gS4s803v"
      },
      "source": [
        "### GridSearch\n",
        "Gridsearch의 cv는 내장함수이므로 id 중복 없이 cv가 가능하도록 임의조정이 불가능하다. 어쩔 수 없이 id기준으로 중복된 걸 제거한다."
      ]
    },
    {
      "cell_type": "code",
      "metadata": {
        "id": "0YE_niBI803w"
      },
      "source": [
        "df_mini = df.drop_duplicates(subset=['id'])\n",
        "df_mini = df_mini.drop(columns=['id'])\n",
        "X = df_mini.iloc[:, :-1]\n",
        "y = df_mini.iloc[:, -1]"
      ],
      "execution_count": null,
      "outputs": []
    },
    {
      "cell_type": "code",
      "metadata": {
        "id": "fx3ZdZWN803w"
      },
      "source": [
        "from sklearn.model_selection import GridSearchCV"
      ],
      "execution_count": null,
      "outputs": []
    },
    {
      "cell_type": "code",
      "metadata": {
        "id": "Cvts0NAB803x"
      },
      "source": [
        "model = KNeighborsClassifier()\n",
        "\n",
        "param_grid = {'n_neighbors' :[3, 4, 5, 6, 7],\n",
        "    'leaf_size' : [20, 30, 40, 50],\n",
        "}\n",
        "\n",
        "gs = GridSearchCV(estimator=model,\n",
        "                  param_grid=param_grid,\n",
        "                  scoring='roc_auc',\n",
        "                  cv=10, # 내장함수이므로 id를 중복되지 않게 나눌 길이 없다\n",
        "                  n_jobs=-1)"
      ],
      "execution_count": null,
      "outputs": []
    },
    {
      "cell_type": "code",
      "metadata": {
        "colab": {
          "base_uri": "https://localhost:8080/"
        },
        "id": "pD8rSGFa803x",
        "outputId": "46e7e6db-0e98-4ab3-e747-f627b9f40627"
      },
      "source": [
        "gs = gs.fit(X[most_important_features], y)\n",
        "print(gs.best_score_)\n",
        "print(gs.best_params_)"
      ],
      "execution_count": null,
      "outputs": [
        {
          "output_type": "stream",
          "text": [
            "0.7255847953216374\n",
            "{'leaf_size': 20, 'n_neighbors': 5}\n"
          ],
          "name": "stdout"
        }
      ]
    },
    {
      "cell_type": "markdown",
      "metadata": {
        "id": "Z90fqkx1DxD6"
      },
      "source": [
        "### Implication to the model"
      ]
    },
    {
      "cell_type": "code",
      "metadata": {
        "ExecuteTime": {
          "end_time": "2020-10-22T11:06:18.701164Z",
          "start_time": "2020-10-22T11:06:18.695720Z"
        },
        "id": "Jq2kPOoHDxD7"
      },
      "source": [
        "from sklearn.neighbors import KNeighborsClassifier\n",
        "# StratifiedKFold guerantees uniform proportion of target values for each fold\n",
        "from sklearn.model_selection import StratifiedKFold\n",
        "from sklearn.preprocessing import MinMaxScaler\n",
        "\n",
        "RS = 1234\n",
        "# shuffle: random shuffle data, random_state: key of random shuffle\n",
        "kfold = StratifiedKFold(n_splits=10, shuffle=True, random_state=RS)\n",
        "\n",
        "target_col = 'class'\n",
        "unused_cols = ['id']\n",
        "\n",
        "X = df[[col for col in df.columns if col not in unused_cols + [target_col]]].values\n",
        "y = df[target_col].values\n",
        "\n",
        "ids = df.loc[::3, 'id'].values\n",
        "classes = df.loc[::3, 'class'].values"
      ],
      "execution_count": null,
      "outputs": []
    },
    {
      "cell_type": "code",
      "metadata": {
        "ExecuteTime": {
          "end_time": "2020-10-22T11:08:13.767065Z",
          "start_time": "2020-10-22T11:08:07.606359Z"
        },
        "scrolled": false,
        "colab": {
          "base_uri": "https://localhost:8080/"
        },
        "id": "-FF5WfVVDxD7",
        "outputId": "b4ecb914-e28e-45a3-d251-9a7284ebe751"
      },
      "source": [
        "mms = MinMaxScaler()\n",
        "trs = mms\n",
        "\n",
        "model = KNeighborsClassifier(leaf_size=20, n_neighbors=5)\n",
        "\n",
        "aucs = []\n",
        "\n",
        "for fold, (train_indice, test_indice) in enumerate(kfold.split(ids, classes)):\n",
        "    train_df = df[df['id'].isin(ids[train_indice])]\n",
        "    test_df = df[df['id'].isin(ids[test_indice])]\n",
        "    \n",
        "    X_train = train_df[[col for col in df.columns if col not in unused_cols + [target_col]]].values\n",
        "    y_train = train_df[target_col].values\n",
        "    X_test = test_df[[col for col in df.columns if col not in unused_cols + [target_col]]].values\n",
        "    y_test = test_df[target_col].values\n",
        "\n",
        "    # Use these to apply scaling\n",
        "    X_train_scaled = trs.fit_transform(X_train)\n",
        "    X_test_scaled = trs.transform(X_test)\n",
        "    \n",
        "    model.fit(X_train_scaled, y_train)\n",
        "    y_pred = model.predict(X_test_scaled)\n",
        "    auc = roc_auc_score(y_test, y_pred)\n",
        "    aucs.append(auc)\n",
        "    print(\"[Fold {}] AUC : {}\".format(fold, aucs[fold]))\n",
        "\n",
        "print('Mean AUC : {}'.format(np.mean(aucs)))  "
      ],
      "execution_count": null,
      "outputs": [
        {
          "output_type": "stream",
          "text": [
            "[Fold 0] AUC : 0.605263157894737\n",
            "[Fold 1] AUC : 0.5576441102756893\n",
            "[Fold 2] AUC : 0.7324561403508771\n",
            "[Fold 3] AUC : 0.6198830409356725\n",
            "[Fold 4] AUC : 0.6403508771929824\n",
            "[Fold 5] AUC : 0.6125730994152045\n",
            "[Fold 6] AUC : 0.77046783625731\n",
            "[Fold 7] AUC : 0.6403508771929824\n",
            "[Fold 8] AUC : 0.6600529100529101\n",
            "[Fold 9] AUC : 0.816137566137566\n",
            "Mean AUC : 0.6655179615705931\n"
          ],
          "name": "stdout"
        }
      ]
    },
    {
      "cell_type": "markdown",
      "metadata": {
        "id": "eqBZo_cJiKbw"
      },
      "source": [
        "## svm (mms: 0.7108)"
      ]
    },
    {
      "cell_type": "markdown",
      "metadata": {
        "id": "y5PEerVFECTu"
      },
      "source": [
        "### GridSearch\n",
        "Gridsearch의 cv는 내장함수이므로 id 중복 없이 cv가 가능하도록 임의조정이 불가능하다. 어쩔 수 없이 id기준으로 중복된 걸 제거한다."
      ]
    },
    {
      "cell_type": "code",
      "metadata": {
        "id": "JNnlTmPgECTu"
      },
      "source": [
        "df_mini = df.drop_duplicates(subset=['id'])\n",
        "df_mini = df_mini.drop(columns=['id'])\n",
        "X = df_mini.iloc[:, :-1]\n",
        "y = df_mini.iloc[:, -1]"
      ],
      "execution_count": null,
      "outputs": []
    },
    {
      "cell_type": "code",
      "metadata": {
        "id": "FwYXG5gGECTv"
      },
      "source": [
        "from sklearn.model_selection import GridSearchCV"
      ],
      "execution_count": null,
      "outputs": []
    },
    {
      "cell_type": "code",
      "metadata": {
        "id": "GLSN8cW8ECTv"
      },
      "source": [
        "model = svm.SVC(kernel='rbf', random_state=RS)\n",
        "\n",
        "param_grid = {'gamma':['scale', 'auto', 0.001, 0.01, 0.1, 1, 10, 25, 50, 100],\n",
        "             'break_ties':[True, False]}\n",
        "\n",
        "gs = GridSearchCV(estimator=model,\n",
        "                  param_grid=param_grid,\n",
        "                  scoring='roc_auc',\n",
        "                  cv=10, # 내장함수이므로 id를 중복되지 않게 나눌 길이 없다\n",
        "                  n_jobs=-1)"
      ],
      "execution_count": null,
      "outputs": []
    },
    {
      "cell_type": "code",
      "metadata": {
        "colab": {
          "base_uri": "https://localhost:8080/"
        },
        "id": "BK3CeBk9ECTv",
        "outputId": "5cbbc70a-3e1e-459a-bebd-dfae18a2ce18"
      },
      "source": [
        "gs = gs.fit(X, y)\n",
        "print(gs.best_score_)\n",
        "print(gs.best_params_)"
      ],
      "execution_count": null,
      "outputs": [
        {
          "output_type": "stream",
          "text": [
            "0.6495822890559733\n",
            "{'break_ties': True, 'gamma': 'scale'}\n"
          ],
          "name": "stdout"
        }
      ]
    },
    {
      "cell_type": "markdown",
      "metadata": {
        "id": "BaR5xcCEETWd"
      },
      "source": [
        "### Implication to the model"
      ]
    },
    {
      "cell_type": "code",
      "metadata": {
        "ExecuteTime": {
          "end_time": "2020-12-05T00:34:33.326102Z",
          "start_time": "2020-12-05T00:34:33.323966Z"
        },
        "id": "lk5JcvjMnMkr"
      },
      "source": [
        "# StratifiedKFold guerantees uniform proportion of target values for each fold\n",
        "from sklearn.model_selection import StratifiedKFold\n",
        "\n",
        "RS = 1234\n",
        "# shuffle: random shuffle data, random_state: key of random shuffle\n",
        "kfold = StratifiedKFold(n_splits=10, shuffle=True, random_state=RS)"
      ],
      "execution_count": null,
      "outputs": []
    },
    {
      "cell_type": "code",
      "metadata": {
        "ExecuteTime": {
          "end_time": "2020-12-05T00:34:33.461260Z",
          "start_time": "2020-12-05T00:34:33.459718Z"
        },
        "id": "Yxg9cDm8nMkr"
      },
      "source": [
        "target_col = 'class'\n",
        "unused_cols = ['id']"
      ],
      "execution_count": null,
      "outputs": []
    },
    {
      "cell_type": "code",
      "metadata": {
        "ExecuteTime": {
          "end_time": "2020-12-05T00:34:33.646520Z",
          "start_time": "2020-12-05T00:34:33.641305Z"
        },
        "id": "Q-epWXDbnMkr"
      },
      "source": [
        "X = df[[col for col in df.columns if col not in unused_cols + [target_col]]].values\n",
        "y = df[target_col].values"
      ],
      "execution_count": null,
      "outputs": []
    },
    {
      "cell_type": "code",
      "metadata": {
        "ExecuteTime": {
          "end_time": "2020-12-05T00:34:35.228190Z",
          "start_time": "2020-12-05T00:34:35.226110Z"
        },
        "id": "fGumaGq_nMkr"
      },
      "source": [
        "ids = df.loc[::3, 'id'].values\n",
        "classes = df.loc[::3, 'class'].values"
      ],
      "execution_count": null,
      "outputs": []
    },
    {
      "cell_type": "code",
      "metadata": {
        "colab": {
          "base_uri": "https://localhost:8080/"
        },
        "id": "tiSRqegxnVrj",
        "outputId": "68b08035-340d-4f73-b845-b703869c4f10"
      },
      "source": [
        "# Choose one scaler from below\n",
        "trs = mms\n",
        "# trs = sds\n",
        "\n",
        "model = svm.SVC(kernel='rbf', random_state=RS,\n",
        "                # C=0.01,\n",
        "                gamma='scale', break_ties=True\n",
        "                )\n",
        "\n",
        "aucs = []\n",
        "\n",
        "for fold, (train_indice, test_indice) in enumerate(kfold.split(ids, classes)):\n",
        "    train_df = df[df['id'].isin(ids[train_indice])]\n",
        "    test_df = df[df['id'].isin(ids[test_indice])]\n",
        "    \n",
        "    X_train = train_df[[col for col in df.columns if col not in unused_cols + [target_col]]].values\n",
        "    y_train = train_df[target_col].values\n",
        "    X_test = test_df[[col for col in df.columns if col not in unused_cols + [target_col]]].values\n",
        "    y_test = test_df[target_col].values\n",
        "\n",
        "    # Use these to apply scaling\n",
        "    X_train_scaled = trs.fit_transform(X_train)\n",
        "    X_test_scaled = trs.transform(X_test)\n",
        "    \n",
        "    model.fit(X_train_scaled, y_train)\n",
        "    y_pred = model.predict(X_test_scaled)\n",
        "    auc = roc_auc_score(y_test, y_pred)\n",
        "    aucs.append(auc)\n",
        "    print(\"[Fold {}] AUC : {}\".format(fold, aucs[fold]))\n",
        "\n",
        "print('Mean AUC : {}'.format(np.mean(aucs)))    "
      ],
      "execution_count": null,
      "outputs": [
        {
          "output_type": "stream",
          "text": [
            "[Fold 0] AUC : 0.6015037593984962\n",
            "[Fold 1] AUC : 0.7117794486215538\n",
            "[Fold 2] AUC : 0.6944444444444444\n",
            "[Fold 3] AUC : 0.7426900584795322\n",
            "[Fold 4] AUC : 0.6769005847953216\n",
            "[Fold 5] AUC : 0.6125730994152045\n",
            "[Fold 6] AUC : 0.7792397660818714\n",
            "[Fold 7] AUC : 0.7690058479532164\n",
            "[Fold 8] AUC : 0.7195767195767195\n",
            "[Fold 9] AUC : 0.8002645502645502\n",
            "Mean AUC : 0.7107978279030911\n"
          ],
          "name": "stdout"
        }
      ]
    },
    {
      "cell_type": "markdown",
      "metadata": {
        "id": "HHgoc2MgiKb1"
      },
      "source": [
        "## XGBoost(0.7104)"
      ]
    },
    {
      "cell_type": "markdown",
      "metadata": {
        "id": "wARvL0OR_zxp"
      },
      "source": [
        "### BorutaShap 구축"
      ]
    },
    {
      "cell_type": "code",
      "metadata": {
        "id": "L0rgeHiGyEe8",
        "colab": {
          "base_uri": "https://localhost:8080/"
        },
        "outputId": "8d7f362a-a7b0-470b-eb52-78874d446fdf"
      },
      "source": [
        "!pip install BorutaShap"
      ],
      "execution_count": null,
      "outputs": [
        {
          "output_type": "stream",
          "text": [
            "Requirement already satisfied: BorutaShap in /usr/local/lib/python3.6/dist-packages (1.0.14)\n",
            "Requirement already satisfied: numpy in /usr/local/lib/python3.6/dist-packages (from BorutaShap) (1.18.5)\n",
            "Requirement already satisfied: seaborn in /usr/local/lib/python3.6/dist-packages (from BorutaShap) (0.11.0)\n",
            "Requirement already satisfied: pandas in /usr/local/lib/python3.6/dist-packages (from BorutaShap) (1.1.4)\n",
            "Requirement already satisfied: matplotlib in /usr/local/lib/python3.6/dist-packages (from BorutaShap) (3.2.2)\n",
            "Requirement already satisfied: scikit-learn in /usr/local/lib/python3.6/dist-packages (from BorutaShap) (0.22.2.post1)\n",
            "Requirement already satisfied: scipy in /usr/local/lib/python3.6/dist-packages (from BorutaShap) (1.4.1)\n",
            "Requirement already satisfied: shap>=0.34.0 in /usr/local/lib/python3.6/dist-packages (from BorutaShap) (0.37.0)\n",
            "Requirement already satisfied: tqdm in /usr/local/lib/python3.6/dist-packages (from BorutaShap) (4.41.1)\n",
            "Requirement already satisfied: statsmodels in /usr/local/lib/python3.6/dist-packages (from BorutaShap) (0.10.2)\n",
            "Requirement already satisfied: pytz>=2017.2 in /usr/local/lib/python3.6/dist-packages (from pandas->BorutaShap) (2018.9)\n",
            "Requirement already satisfied: python-dateutil>=2.7.3 in /usr/local/lib/python3.6/dist-packages (from pandas->BorutaShap) (2.8.1)\n",
            "Requirement already satisfied: kiwisolver>=1.0.1 in /usr/local/lib/python3.6/dist-packages (from matplotlib->BorutaShap) (1.3.1)\n",
            "Requirement already satisfied: pyparsing!=2.0.4,!=2.1.2,!=2.1.6,>=2.0.1 in /usr/local/lib/python3.6/dist-packages (from matplotlib->BorutaShap) (2.4.7)\n",
            "Requirement already satisfied: cycler>=0.10 in /usr/local/lib/python3.6/dist-packages (from matplotlib->BorutaShap) (0.10.0)\n",
            "Requirement already satisfied: joblib>=0.11 in /usr/local/lib/python3.6/dist-packages (from scikit-learn->BorutaShap) (0.17.0)\n",
            "Requirement already satisfied: numba in /usr/local/lib/python3.6/dist-packages (from shap>=0.34.0->BorutaShap) (0.48.0)\n",
            "Requirement already satisfied: slicer==0.0.3 in /usr/local/lib/python3.6/dist-packages (from shap>=0.34.0->BorutaShap) (0.0.3)\n",
            "Requirement already satisfied: patsy>=0.4.0 in /usr/local/lib/python3.6/dist-packages (from statsmodels->BorutaShap) (0.5.1)\n",
            "Requirement already satisfied: six>=1.5 in /usr/local/lib/python3.6/dist-packages (from python-dateutil>=2.7.3->pandas->BorutaShap) (1.15.0)\n",
            "Requirement already satisfied: llvmlite<0.32.0,>=0.31.0dev0 in /usr/local/lib/python3.6/dist-packages (from numba->shap>=0.34.0->BorutaShap) (0.31.0)\n",
            "Requirement already satisfied: setuptools in /usr/local/lib/python3.6/dist-packages (from numba->shap>=0.34.0->BorutaShap) (50.3.2)\n"
          ],
          "name": "stdout"
        }
      ]
    },
    {
      "cell_type": "code",
      "metadata": {
        "id": "xmPnlG5syEfP",
        "colab": {
          "base_uri": "https://localhost:8080/"
        },
        "outputId": "d9f5bb60-4ad6-4cbb-dc00-88f60a6752eb"
      },
      "source": [
        "from BorutaShap import BorutaShap\n",
        "from xgboost import XGBClassifier"
      ],
      "execution_count": null,
      "outputs": [
        {
          "output_type": "stream",
          "text": [
            "pandas.util.testing is deprecated. Use the functions in the public API at pandas.testing instead.\n"
          ],
          "name": "stderr"
        }
      ]
    },
    {
      "cell_type": "code",
      "metadata": {
        "id": "3QS-eAu_s6o8"
      },
      "source": [
        "df_mini = df.drop_duplicates(subset=['id'])\n",
        "df_mini = df_mini.drop(columns=['id'])\n",
        "X = df_mini.iloc[:, :-1]\n",
        "y = df_mini.iloc[:, -1]"
      ],
      "execution_count": null,
      "outputs": []
    },
    {
      "cell_type": "code",
      "metadata": {
        "id": "Kd2cknwIyEfi",
        "colab": {
          "base_uri": "https://localhost:8080/"
        },
        "outputId": "55574f85-9f5c-4548-d8e8-7bebfcfe36fb"
      },
      "source": [
        "RS = 1234\n",
        "\n",
        "model = XGBClassifier(random_state=RS)\n",
        "\n",
        "# if classification is False it is a Regression problem\n",
        "Feature_Selector = BorutaShap(model=model,\n",
        "                              importance_measure='shap',\n",
        "                              classification=True)\n",
        "\n",
        "Feature_Selector.fit(X=X, y=y,\n",
        "                     n_trials=100, sample=False,\n",
        "                     train_or_test = 'test', normalize=True,\n",
        "                     verbose=True)"
      ],
      "execution_count": null,
      "outputs": [
        {
          "output_type": "stream",
          "text": [
            "100%|██████████| 100/100 [00:52<00:00,  1.91it/s]"
          ],
          "name": "stderr"
        },
        {
          "output_type": "stream",
          "text": [
            "4 attributes confirmed important: ['tqwt_kurtosisValue_dec_15', 'std_delta_delta_log_energy', 'tqwt_TKEO_std_dec_13', 'std_8th_delta']\n",
            "749 attributes confirmed unimportant: ['ppq5Jitter', 'std_11th_delta_delta', 'app_LT_TKEO_mean_7_coef', 'ddpJitter', 'tqwt_kurtosisValue_dec_8', 'tqwt_kurtosisValue_dec_22', 'tqwt_kurtosisValue_dec_27', 'GNE_NSR_TKEO', 'app_det_TKEO_mean_8_coef', 'Ed_7_coef', 'tqwt_maxValue_dec_30', 'det_LT_entropy_log_3_coef', 'mean_5th_delta_delta', 'gender', 'det_entropy_shannon_1_coef', 'tqwt_TKEO_mean_dec_2', 'tqwt_maxValue_dec_24', 'det_LT_TKEO_std_6_coef', 'det_entropy_log_3_coef', 'app_LT_entropy_shannon_2_coef', 'det_entropy_shannon_7_coef', 'tqwt_stdValue_dec_1', 'mean_MFCC_9th_coef', 'std_MFCC_0th_coef', 'meanNoiseToHarmHarmonicity', 'tqwt_entropy_shannon_dec_6', 'tqwt_entropy_shannon_dec_28', 'det_LT_entropy_log_7_coef', 'det_entropy_log_10_coef', 'tqwt_kurtosisValue_dec_32', 'tqwt_entropy_shannon_dec_17', 'tqwt_entropy_shannon_dec_11', 'tqwt_TKEO_mean_dec_30', 'tqwt_medianValue_dec_9', 'app_TKEO_std_10_coef', 'app_LT_TKEO_mean_4_coef', 'tqwt_entropy_shannon_dec_10', 'tqwt_TKEO_mean_dec_4', 'tqwt_maxValue_dec_13', 'tqwt_maxValue_dec_15', 'det_entropy_shannon_5_coef', 'b4', 'det_entropy_shannon_3_coef', 'det_TKEO_std_1_coef', 'tqwt_meanValue_dec_13', 'tqwt_skewnessValue_dec_3', 'Ed2_1_coef', 'tqwt_TKEO_mean_dec_15', 'mean_delta_delta_log_energy', 'tqwt_minValue_dec_22', 'tqwt_entropy_shannon_dec_9', 'tqwt_skewnessValue_dec_4', 'tqwt_entropy_log_dec_24', 'app_det_TKEO_mean_9_coef', 'det_LT_TKEO_std_1_coef', 'tqwt_kurtosisValue_dec_24', 'det_LT_entropy_log_2_coef', 'tqwt_entropy_shannon_dec_8', 'tqwt_entropy_shannon_dec_1', 'tqwt_maxValue_dec_16', 'tqwt_maxValue_dec_19', 'tqwt_maxValue_dec_35', 'tqwt_TKEO_mean_dec_7', 'tqwt_medianValue_dec_2', 'std_4th_delta_delta', 'det_LT_entropy_shannon_2_coef', 'tqwt_maxValue_dec_10', 'app_LT_entropy_log_6_coef', 'tqwt_entropy_log_dec_16', 'tqwt_maxValue_dec_21', 'tqwt_skewnessValue_dec_12', 'tqwt_stdValue_dec_26', 'tqwt_meanValue_dec_32', 'tqwt_stdValue_dec_24', 'tqwt_TKEO_std_dec_7', 'Ed2_3_coef', 'tqwt_energy_dec_19', 'tqwt_energy_dec_17', 'tqwt_energy_dec_8', 'tqwt_minValue_dec_25', 'std_6th_delta_delta', 'tqwt_entropy_shannon_dec_33', 'tqwt_TKEO_mean_dec_13', 'tqwt_kurtosisValue_dec_2', 'locAbsJitter', 'tqwt_maxValue_dec_26', 'app_entropy_shannon_7_coef', 'tqwt_entropy_log_dec_32', 'det_LT_entropy_shannon_4_coef', 'tqwt_energy_dec_34', 'tqwt_entropy_log_dec_5', 'det_LT_TKEO_std_7_coef', 'det_LT_entropy_shannon_7_coef', 'app_LT_entropy_shannon_7_coef', 'apq5Shimmer', 'tqwt_energy_dec_31', 'mean_0th_delta', 'tqwt_medianValue_dec_13', 'tqwt_skewnessValue_dec_18', 'tqwt_kurtosisValue_dec_21', 'tqwt_maxValue_dec_1', 'app_LT_entropy_shannon_4_coef', 'tqwt_medianValue_dec_17', 'mean_MFCC_1st_coef', 'tqwt_TKEO_std_dec_28', 'tqwt_skewnessValue_dec_7', 'tqwt_entropy_shannon_dec_18', 'tqwt_TKEO_mean_dec_26', 'tqwt_energy_dec_16', 'app_entropy_shannon_3_coef', 'tqwt_minValue_dec_15', 'mean_7th_delta_delta', 'Ed2_2_coef', 'locPctJitter', 'tqwt_kurtosisValue_dec_9', 'tqwt_entropy_shannon_dec_15', 'det_entropy_shannon_6_coef', 'std_3rd_delta', 'std_12th_delta', 'app_entropy_shannon_5_coef', 'tqwt_TKEO_std_dec_19', 'tqwt_TKEO_std_dec_12', 'VFER_NSR_TKEO', 'tqwt_skewnessValue_dec_2', 'tqwt_stdValue_dec_16', 'tqwt_meanValue_dec_4', 'VFER_entropy', 'det_LT_TKEO_mean_1_coef', 'app_LT_entropy_log_8_coef', 'tqwt_entropy_log_dec_17', 'meanHarmToNoiseHarmonicity', 'det_LT_TKEO_std_10_coef', 'det_TKEO_std_3_coef', 'mean_Log_energy', 'tqwt_entropy_log_dec_18', 'tqwt_meanValue_dec_7', 'tqwt_meanValue_dec_34', 'app_TKEO_std_3_coef', 'std_6th_delta', 'tqwt_skewnessValue_dec_14', 'app_det_TKEO_mean_2_coef', 'tqwt_entropy_log_dec_6', 'stdDevPeriodPulses', 'std_2nd_delta_delta', 'tqwt_entropy_log_dec_14', 'tqwt_stdValue_dec_33', 'Ed2_7_coef', 'tqwt_kurtosisValue_dec_19', 'RPDE', 'std_MFCC_8th_coef', 'tqwt_minValue_dec_20', 'tqwt_kurtosisValue_dec_18', 'mean_9th_delta_delta', 'std_MFCC_7th_coef', 'tqwt_stdValue_dec_35', 'mean_6th_delta_delta', 'GQ_std_cycle_open', 'locShimmer', 'tqwt_entropy_shannon_dec_35', 'mean_MFCC_7th_coef', 'tqwt_energy_dec_10', 'std_9th_delta_delta', 'tqwt_TKEO_std_dec_16', 'det_TKEO_mean_9_coef', 'tqwt_skewnessValue_dec_32', 'std_1st_delta', 'tqwt_stdValue_dec_31', 'tqwt_stdValue_dec_8', 'tqwt_minValue_dec_8', 'DFA', 'app_entropy_shannon_9_coef', 'IMF_NSR_SEO', 'app_entropy_log_4_coef', 'mean_4th_delta', 'tqwt_entropy_log_dec_2', 'std_Log_energy', 'det_entropy_log_1_coef', 'tqwt_stdValue_dec_14', 'tqwt_meanValue_dec_22', 'det_LT_entropy_shannon_10_coef', 'tqwt_entropy_log_dec_20', 'tqwt_maxValue_dec_18', 'det_TKEO_mean_3_coef', 'tqwt_energy_dec_20', 'tqwt_medianValue_dec_16', 'tqwt_skewnessValue_dec_34', 'tqwt_kurtosisValue_dec_14', 'det_entropy_log_2_coef', 'tqwt_minValue_dec_29', 'tqwt_meanValue_dec_21', 'tqwt_entropy_shannon_dec_19', 'app_LT_TKEO_std_3_coef', 'det_LT_entropy_shannon_8_coef', 'tqwt_stdValue_dec_30', 'tqwt_minValue_dec_32', 'app_LT_TKEO_std_6_coef', 'tqwt_TKEO_std_dec_3', 'mean_4th_delta_delta', 'tqwt_stdValue_dec_29', 'tqwt_energy_dec_35', 'tqwt_stdValue_dec_32', 'mean_12th_delta', 'tqwt_TKEO_std_dec_8', 'app_entropy_log_3_coef', 'tqwt_stdValue_dec_18', 'tqwt_meanValue_dec_19', 'tqwt_kurtosisValue_dec_17', 'det_LT_TKEO_std_5_coef', 'tqwt_meanValue_dec_33', 'mean_12th_delta_delta', 'det_LT_TKEO_mean_2_coef', 'tqwt_maxValue_dec_8', 'std_MFCC_5th_coef', 'det_entropy_log_7_coef', 'tqwt_TKEO_mean_dec_28', 'tqwt_skewnessValue_dec_35', 'PPE', 'tqwt_TKEO_std_dec_17', 'tqwt_TKEO_mean_dec_10', 'app_entropy_log_7_coef', 'tqwt_meanValue_dec_35', 'std_0th_delta', 'tqwt_energy_dec_22', 'Ed_1_coef', 'tqwt_entropy_log_dec_15', 'mean_MFCC_8th_coef', 'app_TKEO_std_8_coef', 'tqwt_energy_dec_4', 'tqwt_energy_dec_13', 'std_MFCC_2nd_coef', 'app_entropy_log_5_coef', 'tqwt_entropy_log_dec_33', 'det_LT_TKEO_mean_10_coef', 'tqwt_TKEO_mean_dec_1', 'tqwt_skewnessValue_dec_28', 'det_TKEO_std_5_coef', 'mean_7th_delta', 'maxIntensity', 'tqwt_meanValue_dec_20', 'VFER_SNR_TKEO', 'mean_2nd_delta', 'tqwt_minValue_dec_36', 'tqwt_TKEO_std_dec_25', 'mean_MFCC_2nd_coef', 'std_MFCC_4th_coef', 'tqwt_TKEO_std_dec_6', 'tqwt_kurtosisValue_dec_33', 'tqwt_TKEO_std_dec_10', 'tqwt_TKEO_std_dec_5', 'VFER_NSR_SEO', 'tqwt_TKEO_std_dec_23', 'tqwt_entropy_shannon_dec_16', 'tqwt_meanValue_dec_28', 'tqwt_stdValue_dec_2', 'f2', 'tqwt_maxValue_dec_4', 'tqwt_maxValue_dec_6', 'det_LT_TKEO_mean_3_coef', 'tqwt_entropy_log_dec_26', 'tqwt_TKEO_mean_dec_33', 'tqwt_kurtosisValue_dec_1', 'tqwt_TKEO_std_dec_30', 'tqwt_entropy_shannon_dec_24', 'tqwt_minValue_dec_28', 'tqwt_stdValue_dec_22', 'tqwt_medianValue_dec_8', 'std_7th_delta', 'det_TKEO_mean_8_coef', 'tqwt_maxValue_dec_14', 'tqwt_skewnessValue_dec_20', 'tqwt_meanValue_dec_24', 'det_LT_entropy_log_4_coef', 'mean_9th_delta', 'tqwt_TKEO_mean_dec_14', 'tqwt_medianValue_dec_26', 'std_3rd_delta_delta', 'tqwt_minValue_dec_7', 'tqwt_maxValue_dec_22', 'tqwt_medianValue_dec_24', 'app_entropy_log_6_coef', 'b3', 'Ed2_5_coef', 'tqwt_energy_dec_28', 'tqwt_meanValue_dec_2', 'app_entropy_shannon_1_coef', 'tqwt_meanValue_dec_31', 'app_TKEO_std_1_coef', 'tqwt_maxValue_dec_17', 'app_LT_entropy_log_9_coef', 'app_LT_entropy_log_1_coef', 'det_LT_TKEO_std_2_coef', 'det_LT_TKEO_mean_8_coef', 'Ea', 'mean_1st_delta_delta', 'det_LT_entropy_log_1_coef', 'mean_2nd_delta_delta', 'tqwt_entropy_shannon_dec_14', 'tqwt_kurtosisValue_dec_13', 'tqwt_entropy_log_dec_30', 'Ed2_10_coef', 'tqwt_energy_dec_33', 'tqwt_meanValue_dec_17', 'app_entropy_shannon_4_coef', 'det_LT_TKEO_mean_9_coef', 'det_TKEO_mean_6_coef', 'tqwt_medianValue_dec_15', 'IMF_SNR_SEO', 'app_LT_entropy_shannon_1_coef', 'app_TKEO_std_4_coef', 'tqwt_medianValue_dec_6', 'tqwt_medianValue_dec_31', 'GNE_SNR_SEO', 'tqwt_maxValue_dec_28', 'tqwt_meanValue_dec_10', 'tqwt_entropy_log_dec_1', 'std_5th_delta_delta', 'tqwt_entropy_shannon_dec_22', 'tqwt_energy_dec_29', 'tqwt_minValue_dec_5', 'tqwt_minValue_dec_16', 'app_LT_TKEO_std_10_coef', 'app_entropy_log_9_coef', 'app_LT_TKEO_std_8_coef', 'rapJitter', 'tqwt_kurtosisValue_dec_6', 'Ed_3_coef', 'tqwt_skewnessValue_dec_31', 'mean_1st_delta', 'tqwt_skewnessValue_dec_25', 'tqwt_stdValue_dec_25', 'tqwt_kurtosisValue_dec_10', 'tqwt_TKEO_mean_dec_22', 'mean_MFCC_10th_coef', 'tqwt_entropy_shannon_dec_26', 'app_det_TKEO_mean_7_coef', 'Ed_6_coef', 'meanIntensity', 'std_5th_delta', 'app_LT_TKEO_mean_6_coef', 'tqwt_minValue_dec_2', 'tqwt_TKEO_mean_dec_32', 'det_LT_TKEO_mean_6_coef', 'mean_3rd_delta', 'tqwt_kurtosisValue_dec_31', 'f3', 'tqwt_maxValue_dec_11', 'std_10th_delta_delta', 'tqwt_energy_dec_15', 'tqwt_energy_dec_21', 'mean_MFCC_11th_coef', 'tqwt_energy_dec_30', 'tqwt_energy_dec_25', 'app_det_TKEO_mean_1_coef', 'app_LT_TKEO_std_4_coef', 'tqwt_meanValue_dec_29', 'tqwt_skewnessValue_dec_29', 'mean_10th_delta_delta', 'tqwt_meanValue_dec_11', 'det_entropy_log_4_coef', 'tqwt_stdValue_dec_4', 'tqwt_kurtosisValue_dec_3', 'det_LT_TKEO_mean_4_coef', 'GNE_std', 'tqwt_maxValue_dec_33', 'std_MFCC_12th_coef', 'std_12th_delta_delta', 'tqwt_TKEO_std_dec_21', 'det_LT_entropy_log_10_coef', 'tqwt_energy_dec_23', 'tqwt_maxValue_dec_29', 'tqwt_TKEO_mean_dec_35', 'det_LT_entropy_shannon_3_coef', 'b2', 'tqwt_medianValue_dec_27', 'det_LT_entropy_shannon_5_coef', 'det_TKEO_std_8_coef', 'tqwt_medianValue_dec_20', 'tqwt_skewnessValue_dec_36', 'tqwt_minValue_dec_14', 'tqwt_TKEO_std_dec_20', 'numPeriodsPulses', 'tqwt_entropy_log_dec_23', 'tqwt_skewnessValue_dec_19', 'GQ_std_cycle_closed', 'tqwt_skewnessValue_dec_21', 'mean_MFCC_0th_coef', 'tqwt_TKEO_mean_dec_3', 'tqwt_entropy_log_dec_12', 'mean_5th_delta', 'tqwt_TKEO_mean_dec_24', 'tqwt_TKEO_std_dec_22', 'app_LT_TKEO_mean_9_coef', 'app_LT_TKEO_mean_8_coef', 'det_entropy_shannon_2_coef', 'tqwt_TKEO_mean_dec_21', 'tqwt_medianValue_dec_32', 'tqwt_entropy_shannon_dec_23', 'mean_8th_delta', 'tqwt_meanValue_dec_23', 'Ed_9_coef', 'tqwt_maxValue_dec_34', 'app_LT_entropy_shannon_10_coef', 'tqwt_energy_dec_11', 'tqwt_entropy_shannon_dec_21', 'tqwt_skewnessValue_dec_23', 'tqwt_meanValue_dec_14', 'tqwt_energy_dec_2', 'tqwt_TKEO_mean_dec_8', 'mean_6th_delta', 'app_det_TKEO_mean_5_coef', 'tqwt_medianValue_dec_28', 'tqwt_stdValue_dec_20', 'tqwt_maxValue_dec_27', 'tqwt_minValue_dec_11', 'tqwt_skewnessValue_dec_15', 'mean_delta_delta_0th', 'tqwt_skewnessValue_dec_22', 'tqwt_medianValue_dec_21', 'std_MFCC_1st_coef', 'tqwt_TKEO_mean_dec_25', 'tqwt_kurtosisValue_dec_25', 'tqwt_stdValue_dec_19', 'tqwt_entropy_log_dec_21', 'tqwt_kurtosisValue_dec_12', 'VFER_std', 'tqwt_entropy_log_dec_25', 'app_det_TKEO_mean_10_coef', 'tqwt_TKEO_mean_dec_18', 'tqwt_TKEO_mean_dec_36', 'tqwt_entropy_log_dec_19', 'tqwt_maxValue_dec_3', 'Ed_2_coef', 'tqwt_medianValue_dec_7', 'GNE_NSR_SEO', 'det_entropy_shannon_10_coef', 'det_TKEO_std_6_coef', 'det_TKEO_mean_1_coef', 'std_2nd_delta', 'tqwt_TKEO_std_dec_35', 'Ed2_4_coef', 'tqwt_entropy_shannon_dec_20', 'tqwt_skewnessValue_dec_13', 'tqwt_entropy_log_dec_3', 'det_entropy_shannon_4_coef', 'tqwt_minValue_dec_18', 'tqwt_skewnessValue_dec_6', 'det_TKEO_mean_7_coef', 'tqwt_entropy_log_dec_31', 'tqwt_minValue_dec_10', 'tqwt_minValue_dec_9', 'tqwt_medianValue_dec_12', 'app_LT_entropy_log_7_coef', 'Ed_8_coef', 'mean_MFCC_12th_coef', 'tqwt_stdValue_dec_15', 'tqwt_TKEO_std_dec_1', 'tqwt_TKEO_std_dec_34', 'tqwt_maxValue_dec_2', 'numPulses', 'meanPeriodPulses', 'det_LT_TKEO_std_3_coef', 'GNE_SNR_TKEO', 'app_LT_entropy_shannon_8_coef', 'tqwt_entropy_log_dec_9', 'tqwt_entropy_shannon_dec_5', 'tqwt_stdValue_dec_17', 'VFER_mean', 'tqwt_energy_dec_32', 'tqwt_entropy_log_dec_22', 'tqwt_minValue_dec_12', 'std_MFCC_6th_coef', 'tqwt_minValue_dec_31', 'det_LT_TKEO_mean_5_coef', 'std_MFCC_9th_coef', 'det_TKEO_std_10_coef', 'tqwt_skewnessValue_dec_26', 'tqwt_TKEO_std_dec_15', 'app_TKEO_std_5_coef', 'tqwt_entropy_shannon_dec_32', 'tqwt_TKEO_std_dec_18', 'app_TKEO_std_2_coef', 'tqwt_entropy_shannon_dec_29', 'tqwt_TKEO_mean_dec_34', 'tqwt_stdValue_dec_21', 'tqwt_minValue_dec_4', 'tqwt_medianValue_dec_22', 'tqwt_entropy_shannon_dec_4', 'tqwt_minValue_dec_33', 'app_LT_entropy_log_4_coef', 'app_LT_entropy_log_10_coef', 'app_LT_TKEO_std_7_coef', 'tqwt_minValue_dec_19', 'f1', 'tqwt_minValue_dec_17', 'app_entropy_shannon_8_coef', 'ddaShimmer', 'tqwt_energy_dec_14', 'tqwt_entropy_log_dec_8', 'det_LT_TKEO_std_4_coef', 'tqwt_TKEO_mean_dec_17', 'tqwt_meanValue_dec_15', 'tqwt_TKEO_mean_dec_27', 'tqwt_kurtosisValue_dec_30', 'tqwt_skewnessValue_dec_8', 'std_10th_delta', 'det_entropy_shannon_8_coef', 'Ed_10_coef', 'tqwt_energy_dec_26', 'tqwt_medianValue_dec_1', 'tqwt_meanValue_dec_3', 'tqwt_energy_dec_3', 'app_entropy_shannon_2_coef', 'tqwt_skewnessValue_dec_17', 'tqwt_skewnessValue_dec_27', 'tqwt_kurtosisValue_dec_11', 'tqwt_TKEO_std_dec_11', 'tqwt_minValue_dec_27', 'tqwt_entropy_shannon_dec_13', 'app_LT_entropy_shannon_3_coef', 'tqwt_kurtosisValue_dec_4', 'tqwt_meanValue_dec_9', 'tqwt_entropy_shannon_dec_3', 'tqwt_stdValue_dec_9', 'app_det_TKEO_mean_3_coef', 'VFER_SNR_SEO', 'tqwt_entropy_log_dec_29', 'det_entropy_shannon_9_coef', 'tqwt_entropy_shannon_dec_25', 'std_1st_delta_delta', 'tqwt_maxValue_dec_23', 'tqwt_TKEO_std_dec_29', 'tqwt_TKEO_mean_dec_20', 'tqwt_skewnessValue_dec_16', 'det_entropy_log_8_coef', 'tqwt_TKEO_mean_dec_23', 'tqwt_TKEO_std_dec_33', 'tqwt_entropy_shannon_dec_31', 'std_9th_delta', 'det_TKEO_std_7_coef', 'mean_MFCC_4th_coef', 'tqwt_TKEO_std_dec_24', 'tqwt_maxValue_dec_25', 'tqwt_kurtosisValue_dec_35', 'app_LT_TKEO_std_1_coef', 'tqwt_medianValue_dec_3', 'det_TKEO_mean_2_coef', 'tqwt_minValue_dec_26', 'tqwt_TKEO_std_dec_4', 'mean_11th_delta_delta', 'Ed2_9_coef', 'Ed_4_coef', 'tqwt_energy_dec_36', 'GNE_mean', 'tqwt_stdValue_dec_27', 'tqwt_entropy_log_dec_11', 'tqwt_maxValue_dec_31', 'det_entropy_log_6_coef', 'app_entropy_log_10_coef', 'tqwt_maxValue_dec_36', 'tqwt_minValue_dec_6', 'tqwt_energy_dec_6', 'std_MFCC_10th_coef', 'tqwt_medianValue_dec_19', 'app_entropy_shannon_10_coef', 'tqwt_medianValue_dec_36', 'tqwt_TKEO_mean_dec_12', 'tqwt_maxValue_dec_7', 'tqwt_stdValue_dec_13', 'tqwt_TKEO_std_dec_27', 'b1', 'tqwt_TKEO_std_dec_26', 'tqwt_meanValue_dec_6', 'tqwt_stdValue_dec_12', 'tqwt_entropy_shannon_dec_2', 'app_TKEO_std_6_coef', 'tqwt_kurtosisValue_dec_29', 'tqwt_minValue_dec_1', 'std_delta_delta_0th', 'mean_delta_log_energy', 'tqwt_kurtosisValue_dec_5', 'det_LT_entropy_shannon_6_coef', 'tqwt_maxValue_dec_32', 'det_LT_entropy_log_8_coef', 'app_LT_TKEO_mean_5_coef', 'tqwt_TKEO_mean_dec_9', 'Ea2', 'tqwt_entropy_log_dec_36', 'tqwt_TKEO_mean_dec_11', 'tqwt_stdValue_dec_10', 'mean_11th_delta', 'app_LT_entropy_shannon_5_coef', 'tqwt_stdValue_dec_34', 'det_TKEO_std_2_coef', 'tqwt_energy_dec_1', 'tqwt_entropy_log_dec_27', 'tqwt_meanValue_dec_5', 'tqwt_TKEO_std_dec_14', 'app_entropy_log_2_coef', 'app_entropy_shannon_6_coef', 'tqwt_energy_dec_27', 'tqwt_entropy_shannon_dec_7', 'Ed_5_coef', 'tqwt_stdValue_dec_7', 'app_LT_entropy_log_3_coef', 'app_LT_TKEO_mean_3_coef', 'app_TKEO_std_9_coef', 'app_LT_entropy_shannon_6_coef', 'tqwt_stdValue_dec_5', 'std_4th_delta', 'det_entropy_log_9_coef', 'tqwt_entropy_log_dec_10', 'tqwt_stdValue_dec_28', 'IMF_NSR_TKEO', 'tqwt_minValue_dec_24', 'tqwt_minValue_dec_35', 'tqwt_maxValue_dec_5', 'tqwt_medianValue_dec_11', 'tqwt_skewnessValue_dec_1', 'tqwt_kurtosisValue_dec_34', 'tqwt_stdValue_dec_23', 'det_entropy_log_5_coef', 'det_LT_entropy_shannon_1_coef', 'tqwt_TKEO_mean_dec_19', 'tqwt_skewnessValue_dec_9', 'det_LT_entropy_log_9_coef', 'mean_MFCC_3rd_coef', 'tqwt_stdValue_dec_11', 'mean_8th_delta_delta', 'det_LT_TKEO_mean_7_coef', 'app_LT_TKEO_mean_1_coef', 'tqwt_TKEO_std_dec_32', 'meanAutoCorrHarmonicity', 'tqwt_medianValue_dec_18', 'tqwt_energy_dec_7', 'tqwt_meanValue_dec_36', 'apq11Shimmer', 'tqwt_medianValue_dec_30', 'Ed2_6_coef', 'tqwt_TKEO_mean_dec_31', 'det_TKEO_mean_5_coef', 'tqwt_meanValue_dec_16', 'tqwt_TKEO_mean_dec_29', 'tqwt_medianValue_dec_25', 'tqwt_entropy_shannon_dec_36', 'det_LT_TKEO_std_8_coef', 'tqwt_energy_dec_18', 'tqwt_minValue_dec_23', 'det_LT_entropy_log_6_coef', 'tqwt_skewnessValue_dec_30', 'std_8th_delta_delta', 'tqwt_entropy_log_dec_35', 'app_LT_TKEO_std_2_coef', 'tqwt_minValue_dec_21', 'Ed2_8_coef', 'app_LT_TKEO_std_5_coef', 'app_LT_TKEO_std_9_coef', 'tqwt_meanValue_dec_27', 'tqwt_medianValue_dec_23', 'app_det_TKEO_mean_6_coef', 'tqwt_maxValue_dec_9', 'tqwt_entropy_log_dec_7', 'mean_10th_delta', 'tqwt_kurtosisValue_dec_20', 'tqwt_minValue_dec_3', 'tqwt_TKEO_mean_dec_16', 'mean_MFCC_5th_coef', 'tqwt_stdValue_dec_3', 'tqwt_medianValue_dec_14', 'tqwt_medianValue_dec_5', 'locDbShimmer', 'app_entropy_log_8_coef', 'det_TKEO_mean_10_coef', 'tqwt_energy_dec_5', 'tqwt_medianValue_dec_4', 'app_LT_entropy_shannon_9_coef', 'tqwt_entropy_shannon_dec_30', 'mean_MFCC_6th_coef', 'tqwt_entropy_shannon_dec_12', 'det_TKEO_mean_4_coef', 'tqwt_meanValue_dec_18', 'tqwt_medianValue_dec_10', 'tqwt_skewnessValue_dec_10', 'std_MFCC_3rd_coef', 'det_LT_entropy_shannon_9_coef', 'tqwt_TKEO_std_dec_9', 'tqwt_meanValue_dec_1', 'tqwt_energy_dec_24', 'tqwt_medianValue_dec_33', 'tqwt_minValue_dec_13', 'app_LT_TKEO_mean_2_coef', 'tqwt_stdValue_dec_36', 'tqwt_minValue_dec_34', 'tqwt_entropy_log_dec_34', 'minIntensity', 'IMF_NSR_entropy', 'tqwt_stdValue_dec_6', 'tqwt_entropy_log_dec_28', 'mean_3rd_delta_delta', 'std_delta_log_energy', 'tqwt_meanValue_dec_12', 'det_TKEO_std_9_coef', 'tqwt_maxValue_dec_12', 'app_TKEO_std_7_coef', 'tqwt_TKEO_mean_dec_6', 'tqwt_energy_dec_9', 'tqwt_skewnessValue_dec_5', 'tqwt_TKEO_std_dec_31', 'apq3Shimmer', 'tqwt_TKEO_std_dec_36', 'tqwt_meanValue_dec_26', 'tqwt_medianValue_dec_34', 'tqwt_kurtosisValue_dec_7', 'app_LT_entropy_log_2_coef', 'tqwt_entropy_shannon_dec_34', 'tqwt_minValue_dec_30', 'IMF_SNR_TKEO', 'tqwt_TKEO_std_dec_2', 'tqwt_meanValue_dec_25', 'tqwt_energy_dec_12', 'GQ_prc5_95', 'tqwt_kurtosisValue_dec_16', 'tqwt_entropy_log_dec_4', 'tqwt_medianValue_dec_35', 'tqwt_kurtosisValue_dec_26', 'det_TKEO_std_4_coef', 'IMF_SNR_entropy', 'tqwt_TKEO_mean_dec_5', 'tqwt_kurtosisValue_dec_23', 'tqwt_maxValue_dec_20', 'tqwt_kurtosisValue_dec_36', 'std_7th_delta_delta', 'tqwt_meanValue_dec_30', 'tqwt_skewnessValue_dec_11', 'tqwt_skewnessValue_dec_33', 'tqwt_entropy_shannon_dec_27', 'det_LT_TKEO_std_9_coef', 'app_det_TKEO_mean_4_coef', 'tqwt_kurtosisValue_dec_28', 'tqwt_entropy_log_dec_13', 'tqwt_medianValue_dec_29', 'app_entropy_log_1_coef', 'det_LT_entropy_log_5_coef', 'app_LT_entropy_log_5_coef', 'app_LT_TKEO_mean_10_coef', 'tqwt_skewnessValue_dec_24', 'std_11th_delta', 'tqwt_meanValue_dec_8', 'f4', 'std_MFCC_11th_coef']\n",
            "0 tentative attributes remains: []\n"
          ],
          "name": "stdout"
        },
        {
          "output_type": "stream",
          "text": [
            "\n"
          ],
          "name": "stderr"
        }
      ]
    },
    {
      "cell_type": "code",
      "metadata": {
        "id": "NHQ-vt-fww7-"
      },
      "source": [
        "most_important_features = ['tqwt_kurtosisValue_dec_15', 'std_delta_delta_log_energy', 'tqwt_TKEO_std_dec_13', 'std_8th_delta']"
      ],
      "execution_count": null,
      "outputs": []
    },
    {
      "cell_type": "markdown",
      "metadata": {
        "id": "nbTJZDimEpUk"
      },
      "source": [
        "### GridSearch\n",
        "Gridsearch의 cv는 내장함수이므로 id 중복 없이 cv가 가능하도록 임의조정이 불가능하다. 어쩔 수 없이 id기준으로 중복된 걸 제거한다."
      ]
    },
    {
      "cell_type": "code",
      "metadata": {
        "id": "7btvmD2cEpUk"
      },
      "source": [
        "df_mini = df.drop_duplicates(subset=['id'])\n",
        "df_mini = df_mini.drop(columns=['id'])\n",
        "X = df_mini.iloc[:, :-1]\n",
        "y = df_mini.iloc[:, -1]"
      ],
      "execution_count": null,
      "outputs": []
    },
    {
      "cell_type": "code",
      "metadata": {
        "id": "LJFJgYE1EpUk"
      },
      "source": [
        "from sklearn.model_selection import GridSearchCV"
      ],
      "execution_count": null,
      "outputs": []
    },
    {
      "cell_type": "code",
      "metadata": {
        "id": "zvaP1pYmEpUk"
      },
      "source": [
        "model = XGBRFClassifier(random_state=RS)\n",
        "\n",
        "param_grid = {'n_estimators' : [1,10,20,50,100,200],\n",
        "                  'learning_rate' : [0.01,0.02,0.03,0.05,0.1,0.15,0.2],\n",
        "                  'max_depth' : [2,3,4,5,6,7,8]}\n",
        "\n",
        "gs = GridSearchCV(estimator=model,\n",
        "                  param_grid=param_grid,\n",
        "                  scoring='roc_auc',\n",
        "                  cv=10, # 내장함수이므로 id를 중복되지 않게 나눌 길이 없다\n",
        "                  n_jobs=-1)"
      ],
      "execution_count": null,
      "outputs": []
    },
    {
      "cell_type": "code",
      "metadata": {
        "colab": {
          "base_uri": "https://localhost:8080/"
        },
        "id": "92qiLUUWEpUk",
        "outputId": "68d6e698-c0db-486b-d1a0-650f2ead963c"
      },
      "source": [
        "gs = gs.fit(X[most_important_features], y)\n",
        "print(gs.best_score_)\n",
        "print(gs.best_params_)"
      ],
      "execution_count": null,
      "outputs": [
        {
          "output_type": "stream",
          "text": [
            "0.8342731829573935\n",
            "{'learning_rate': 0.01, 'max_depth': 6, 'n_estimators': 100}\n"
          ],
          "name": "stdout"
        }
      ]
    },
    {
      "cell_type": "markdown",
      "metadata": {
        "id": "Sbpnx92UxKFs"
      },
      "source": [
        "### Implication to the model"
      ]
    },
    {
      "cell_type": "code",
      "metadata": {
        "ExecuteTime": {
          "end_time": "2020-12-05T00:34:33.326102Z",
          "start_time": "2020-12-05T00:34:33.323966Z"
        },
        "id": "ZHSPXcfbxKFt"
      },
      "source": [
        "# StratifiedKFold guerantees uniform proportion of target values for each fold\n",
        "from sklearn.model_selection import StratifiedKFold\n",
        "\n",
        "RS = 1234\n",
        "# shuffle: random shuffle data, random_state: key of random shuffle\n",
        "kfold = StratifiedKFold(n_splits=10, shuffle=True, random_state=RS)"
      ],
      "execution_count": null,
      "outputs": []
    },
    {
      "cell_type": "code",
      "metadata": {
        "ExecuteTime": {
          "end_time": "2020-12-05T00:34:33.461260Z",
          "start_time": "2020-12-05T00:34:33.459718Z"
        },
        "id": "V7EtWlzvxKFt"
      },
      "source": [
        "target_col = 'class'\n",
        "unused_cols = ['id']"
      ],
      "execution_count": null,
      "outputs": []
    },
    {
      "cell_type": "code",
      "metadata": {
        "ExecuteTime": {
          "end_time": "2020-12-05T00:34:33.646520Z",
          "start_time": "2020-12-05T00:34:33.641305Z"
        },
        "id": "QJzdqdBFxKFt"
      },
      "source": [
        "X = df[most_important_features].values\n",
        "y = df[target_col].values"
      ],
      "execution_count": null,
      "outputs": []
    },
    {
      "cell_type": "code",
      "metadata": {
        "ExecuteTime": {
          "end_time": "2020-12-05T00:34:35.228190Z",
          "start_time": "2020-12-05T00:34:35.226110Z"
        },
        "id": "kA_1uLs-xKFt"
      },
      "source": [
        "ids = df.loc[::3, 'id'].values\n",
        "classes = df.loc[::3, 'class'].values"
      ],
      "execution_count": null,
      "outputs": []
    },
    {
      "cell_type": "code",
      "metadata": {
        "colab": {
          "base_uri": "https://localhost:8080/"
        },
        "id": "UrrXezTsxKFt",
        "outputId": "dd44cdd6-0d93-4837-8f89-99da4f5b8f3d"
      },
      "source": [
        "model = XGBRFClassifier(random_state=RS, learning_rate=0.01,\n",
        "                        max_depth=6, n_estimators=100)\n",
        "\n",
        "aucs = []\n",
        "\n",
        "for fold, (train_indice, test_indice) in enumerate(kfold.split(ids, classes)):\n",
        "    train_df = df[df['id'].isin(ids[train_indice])]\n",
        "    test_df = df[df['id'].isin(ids[test_indice])]\n",
        "    \n",
        "    X_train = train_df[most_important_features].values\n",
        "    y_train = train_df[target_col].values\n",
        "    X_test = test_df[most_important_features].values\n",
        "    y_test = test_df[target_col].values\n",
        "    \n",
        "    model.fit(X_train, y_train)\n",
        "    y_pred = model.predict(X_test)\n",
        "    auc = roc_auc_score(y_test, y_pred)\n",
        "    aucs.append(auc)\n",
        "    print(\"[Fold {}] AUC : {}\".format(fold, aucs[fold]))\n",
        "\n",
        "print('Mean AUC : {}'.format(np.mean(aucs)))    "
      ],
      "execution_count": null,
      "outputs": [
        {
          "output_type": "stream",
          "text": [
            "[Fold 0] AUC : 0.6190476190476191\n",
            "[Fold 1] AUC : 0.6140350877192983\n",
            "[Fold 2] AUC : 0.7134502923976608\n",
            "[Fold 3] AUC : 0.7339181286549707\n",
            "[Fold 4] AUC : 0.6593567251461988\n",
            "[Fold 5] AUC : 0.5935672514619883\n",
            "[Fold 6] AUC : 0.9078947368421053\n",
            "[Fold 7] AUC : 0.7251461988304094\n",
            "[Fold 8] AUC : 0.7579365079365078\n",
            "[Fold 9] AUC : 0.7433862433862434\n",
            "Mean AUC : 0.7067738791423002\n"
          ],
          "name": "stdout"
        }
      ]
    }
  ]
}